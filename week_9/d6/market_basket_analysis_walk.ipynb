{
 "cells": [
  {
   "cell_type": "code",
   "execution_count": 2,
   "outputs": [],
   "source": [
    "# https://pythondata.com/market-basket-analysis-with-python-and-pandas/"
   ],
   "metadata": {
    "collapsed": false,
    "pycharm": {
     "name": "#%%\n"
    }
   }
  },
  {
   "cell_type": "code",
   "execution_count": 3,
   "outputs": [],
   "source": [
    "import pandas as pd\n",
    "from mlxtend.frequent_patterns import apriori\n",
    "from mlxtend.frequent_patterns import association_rules"
   ],
   "metadata": {
    "collapsed": false,
    "pycharm": {
     "name": "#%%\n"
    }
   }
  },
  {
   "cell_type": "code",
   "execution_count": 4,
   "outputs": [],
   "source": [
    "df = pd.read_excel('data/Online Retail.xlsx')\n",
    "df.dropna(axis=0, subset=['InvoiceNo'], inplace=True)\n",
    "df['InvoiceNo'] = df['InvoiceNo'].astype('str')"
   ],
   "metadata": {
    "collapsed": false,
    "pycharm": {
     "name": "#%%\n"
    }
   }
  },
  {
   "cell_type": "code",
   "execution_count": 6,
   "outputs": [
    {
     "data": {
      "text/plain": "    InvoiceNo StockCode                             lower  \\\n141   C536379         D                          discount   \n154   C536383    35004C   set of 3 coloured  flying ducks   \n235   C536391     22556    plasters in tin circus parade    \n236   C536391     21984  pack of 12 pink paisley tissues    \n237   C536391     21983  pack of 12 blue paisley tissues    \n\n                          Description  Quantity         InvoiceDate  \\\n141                          Discount        -1 2010-12-01 09:41:00   \n154   SET OF 3 COLOURED  FLYING DUCKS        -1 2010-12-01 09:49:00   \n235    PLASTERS IN TIN CIRCUS PARADE        -12 2010-12-01 10:24:00   \n236  PACK OF 12 PINK PAISLEY TISSUES        -24 2010-12-01 10:24:00   \n237  PACK OF 12 BLUE PAISLEY TISSUES        -24 2010-12-01 10:24:00   \n\n     UnitPrice  CustomerID         Country  \n141      27.50     14527.0  United Kingdom  \n154       4.65     15311.0  United Kingdom  \n235       1.65     17548.0  United Kingdom  \n236       0.29     17548.0  United Kingdom  \n237       0.29     17548.0  United Kingdom  ",
      "text/html": "<div>\n<style scoped>\n    .dataframe tbody tr th:only-of-type {\n        vertical-align: middle;\n    }\n\n    .dataframe tbody tr th {\n        vertical-align: top;\n    }\n\n    .dataframe thead th {\n        text-align: right;\n    }\n</style>\n<table border=\"1\" class=\"dataframe\">\n  <thead>\n    <tr style=\"text-align: right;\">\n      <th></th>\n      <th>InvoiceNo</th>\n      <th>StockCode</th>\n      <th>lower</th>\n      <th>Description</th>\n      <th>Quantity</th>\n      <th>InvoiceDate</th>\n      <th>UnitPrice</th>\n      <th>CustomerID</th>\n      <th>Country</th>\n    </tr>\n  </thead>\n  <tbody>\n    <tr>\n      <th>141</th>\n      <td>C536379</td>\n      <td>D</td>\n      <td>discount</td>\n      <td>Discount</td>\n      <td>-1</td>\n      <td>2010-12-01 09:41:00</td>\n      <td>27.50</td>\n      <td>14527.0</td>\n      <td>United Kingdom</td>\n    </tr>\n    <tr>\n      <th>154</th>\n      <td>C536383</td>\n      <td>35004C</td>\n      <td>set of 3 coloured  flying ducks</td>\n      <td>SET OF 3 COLOURED  FLYING DUCKS</td>\n      <td>-1</td>\n      <td>2010-12-01 09:49:00</td>\n      <td>4.65</td>\n      <td>15311.0</td>\n      <td>United Kingdom</td>\n    </tr>\n    <tr>\n      <th>235</th>\n      <td>C536391</td>\n      <td>22556</td>\n      <td>plasters in tin circus parade</td>\n      <td>PLASTERS IN TIN CIRCUS PARADE</td>\n      <td>-12</td>\n      <td>2010-12-01 10:24:00</td>\n      <td>1.65</td>\n      <td>17548.0</td>\n      <td>United Kingdom</td>\n    </tr>\n    <tr>\n      <th>236</th>\n      <td>C536391</td>\n      <td>21984</td>\n      <td>pack of 12 pink paisley tissues</td>\n      <td>PACK OF 12 PINK PAISLEY TISSUES</td>\n      <td>-24</td>\n      <td>2010-12-01 10:24:00</td>\n      <td>0.29</td>\n      <td>17548.0</td>\n      <td>United Kingdom</td>\n    </tr>\n    <tr>\n      <th>237</th>\n      <td>C536391</td>\n      <td>21983</td>\n      <td>pack of 12 blue paisley tissues</td>\n      <td>PACK OF 12 BLUE PAISLEY TISSUES</td>\n      <td>-24</td>\n      <td>2010-12-01 10:24:00</td>\n      <td>0.29</td>\n      <td>17548.0</td>\n      <td>United Kingdom</td>\n    </tr>\n  </tbody>\n</table>\n</div>"
     },
     "execution_count": 6,
     "metadata": {},
     "output_type": "execute_result"
    }
   ],
   "source": [
    "df[df.InvoiceNo.str.contains('C', na=False)].head()"
   ],
   "metadata": {
    "collapsed": false,
    "pycharm": {
     "name": "#%%\n"
    }
   }
  },
  {
   "cell_type": "code",
   "execution_count": 7,
   "outputs": [],
   "source": [
    "df = df[~df['InvoiceNo'].str.contains('C')]"
   ],
   "metadata": {
    "collapsed": false,
    "pycharm": {
     "name": "#%%\n"
    }
   }
  },
  {
   "cell_type": "code",
   "execution_count": 8,
   "outputs": [],
   "source": [
    "market_basket = df[df['Country'] ==\"United Kingdom\"].groupby(\n",
    "    ['InvoiceNo', 'Description'])['Quantity']"
   ],
   "metadata": {
    "collapsed": false,
    "pycharm": {
     "name": "#%%\n"
    }
   }
  },
  {
   "cell_type": "code",
   "execution_count": 9,
   "outputs": [],
   "source": [
    "market_basket = market_basket.sum().unstack().reset_index().fillna(0).set_index('InvoiceNo')"
   ],
   "metadata": {
    "collapsed": false,
    "pycharm": {
     "name": "#%%\n"
    }
   }
  },
  {
   "cell_type": "code",
   "execution_count": 12,
   "outputs": [
    {
     "data": {
      "text/plain": "Description  20713   4 PURPLE FLOCK DINNER CANDLES  \\\nInvoiceNo                                            \n536365         0.0                             0.0   \n536366         0.0                             0.0   \n536367         0.0                             0.0   \n536368         0.0                             0.0   \n536369         0.0                             0.0   \n536371         0.0                             0.0   \n536372         0.0                             0.0   \n536373         0.0                             0.0   \n536374         0.0                             0.0   \n536375         0.0                             0.0   \n536376         0.0                             0.0   \n536377         0.0                             0.0   \n536378         0.0                             0.0   \n536380         0.0                             0.0   \n536381         0.0                             0.0   \n536382         0.0                             0.0   \n536384         0.0                             0.0   \n536385         0.0                             0.0   \n536386         0.0                             0.0   \n536387         0.0                             0.0   \n\nDescription   50'S CHRISTMAS GIFT BAG LARGE   DOLLY GIRL BEAKER  \\\nInvoiceNo                                                         \n536365                                  0.0                 0.0   \n536366                                  0.0                 0.0   \n536367                                  0.0                 0.0   \n536368                                  0.0                 0.0   \n536369                                  0.0                 0.0   \n536371                                  0.0                 0.0   \n536372                                  0.0                 0.0   \n536373                                  0.0                 0.0   \n536374                                  0.0                 0.0   \n536375                                  0.0                 0.0   \n536376                                  0.0                 0.0   \n536377                                  0.0                 0.0   \n536378                                  0.0                 0.0   \n536380                                  0.0                 0.0   \n536381                                  0.0                 0.0   \n536382                                  0.0                 0.0   \n536384                                  0.0                 0.0   \n536385                                  0.0                 0.0   \n536386                                  0.0                 0.0   \n536387                                  0.0                 0.0   \n\nDescription   I LOVE LONDON MINI BACKPACK   NINE DRAWER OFFICE TIDY  \\\nInvoiceNo                                                             \n536365                                0.0                       0.0   \n536366                                0.0                       0.0   \n536367                                0.0                       0.0   \n536368                                0.0                       0.0   \n536369                                0.0                       0.0   \n536371                                0.0                       0.0   \n536372                                0.0                       0.0   \n536373                                0.0                       0.0   \n536374                                0.0                       0.0   \n536375                                0.0                       0.0   \n536376                                0.0                       0.0   \n536377                                0.0                       0.0   \n536378                                0.0                       0.0   \n536380                                0.0                       0.0   \n536381                                0.0                       0.0   \n536382                                0.0                       0.0   \n536384                                0.0                       0.0   \n536385                                0.0                       0.0   \n536386                                0.0                       0.0   \n536387                                0.0                       0.0   \n\nDescription   OVAL WALL MIRROR DIAMANTE    RED SPOT GIFT BAG LARGE  \\\nInvoiceNo                                                            \n536365                               0.0                       0.0   \n536366                               0.0                       0.0   \n536367                               0.0                       0.0   \n536368                               0.0                       0.0   \n536369                               0.0                       0.0   \n536371                               0.0                       0.0   \n536372                               0.0                       0.0   \n536373                               0.0                       0.0   \n536374                               0.0                       0.0   \n536375                               0.0                       0.0   \n536376                               0.0                       0.0   \n536377                               0.0                       0.0   \n536378                               0.0                       0.0   \n536380                               0.0                       0.0   \n536381                               0.0                       0.0   \n536382                               0.0                       0.0   \n536384                               0.0                       0.0   \n536385                               0.0                       0.0   \n536386                               0.0                       0.0   \n536387                               0.0                       0.0   \n\nDescription   SET 2 TEA TOWELS I LOVE LONDON    SPACEBOY BABY GIFT SET  ...  \\\nInvoiceNo                                                               ...   \n536365                                    0.0                      0.0  ...   \n536366                                    0.0                      0.0  ...   \n536367                                    0.0                      0.0  ...   \n536368                                    0.0                      0.0  ...   \n536369                                    0.0                      0.0  ...   \n536371                                    0.0                      0.0  ...   \n536372                                    0.0                      0.0  ...   \n536373                                    0.0                      0.0  ...   \n536374                                    0.0                      0.0  ...   \n536375                                    0.0                      0.0  ...   \n536376                                    0.0                      0.0  ...   \n536377                                    0.0                      0.0  ...   \n536378                                    0.0                      0.0  ...   \n536380                                    0.0                      0.0  ...   \n536381                                    0.0                      0.0  ...   \n536382                                    0.0                      0.0  ...   \n536384                                    0.0                      0.0  ...   \n536385                                    0.0                      0.0  ...   \n536386                                    0.0                      0.0  ...   \n536387                                    0.0                      0.0  ...   \n\nDescription  wrongly coded 20713  wrongly coded 23343  wrongly coded-23343  \\\nInvoiceNo                                                                    \n536365                       0.0                  0.0                  0.0   \n536366                       0.0                  0.0                  0.0   \n536367                       0.0                  0.0                  0.0   \n536368                       0.0                  0.0                  0.0   \n536369                       0.0                  0.0                  0.0   \n536371                       0.0                  0.0                  0.0   \n536372                       0.0                  0.0                  0.0   \n536373                       0.0                  0.0                  0.0   \n536374                       0.0                  0.0                  0.0   \n536375                       0.0                  0.0                  0.0   \n536376                       0.0                  0.0                  0.0   \n536377                       0.0                  0.0                  0.0   \n536378                       0.0                  0.0                  0.0   \n536380                       0.0                  0.0                  0.0   \n536381                       0.0                  0.0                  0.0   \n536382                       0.0                  0.0                  0.0   \n536384                       0.0                  0.0                  0.0   \n536385                       0.0                  0.0                  0.0   \n536386                       0.0                  0.0                  0.0   \n536387                       0.0                  0.0                  0.0   \n\nDescription  wrongly marked  wrongly marked 23343  \\\nInvoiceNo                                           \n536365                  0.0                   0.0   \n536366                  0.0                   0.0   \n536367                  0.0                   0.0   \n536368                  0.0                   0.0   \n536369                  0.0                   0.0   \n536371                  0.0                   0.0   \n536372                  0.0                   0.0   \n536373                  0.0                   0.0   \n536374                  0.0                   0.0   \n536375                  0.0                   0.0   \n536376                  0.0                   0.0   \n536377                  0.0                   0.0   \n536378                  0.0                   0.0   \n536380                  0.0                   0.0   \n536381                  0.0                   0.0   \n536382                  0.0                   0.0   \n536384                  0.0                   0.0   \n536385                  0.0                   0.0   \n536386                  0.0                   0.0   \n536387                  0.0                   0.0   \n\nDescription  wrongly marked carton 22804  wrongly marked. 23343 in box  \\\nInvoiceNo                                                                \n536365                               0.0                           0.0   \n536366                               0.0                           0.0   \n536367                               0.0                           0.0   \n536368                               0.0                           0.0   \n536369                               0.0                           0.0   \n536371                               0.0                           0.0   \n536372                               0.0                           0.0   \n536373                               0.0                           0.0   \n536374                               0.0                           0.0   \n536375                               0.0                           0.0   \n536376                               0.0                           0.0   \n536377                               0.0                           0.0   \n536378                               0.0                           0.0   \n536380                               0.0                           0.0   \n536381                               0.0                           0.0   \n536382                               0.0                           0.0   \n536384                               0.0                           0.0   \n536385                               0.0                           0.0   \n536386                               0.0                           0.0   \n536387                               0.0                           0.0   \n\nDescription  wrongly sold (22719) barcode  wrongly sold as sets  \\\nInvoiceNo                                                         \n536365                                0.0                   0.0   \n536366                                0.0                   0.0   \n536367                                0.0                   0.0   \n536368                                0.0                   0.0   \n536369                                0.0                   0.0   \n536371                                0.0                   0.0   \n536372                                0.0                   0.0   \n536373                                0.0                   0.0   \n536374                                0.0                   0.0   \n536375                                0.0                   0.0   \n536376                                0.0                   0.0   \n536377                                0.0                   0.0   \n536378                                0.0                   0.0   \n536380                                0.0                   0.0   \n536381                                0.0                   0.0   \n536382                                0.0                   0.0   \n536384                                0.0                   0.0   \n536385                                0.0                   0.0   \n536386                                0.0                   0.0   \n536387                                0.0                   0.0   \n\nDescription  wrongly sold sets  \nInvoiceNo                       \n536365                     0.0  \n536366                     0.0  \n536367                     0.0  \n536368                     0.0  \n536369                     0.0  \n536371                     0.0  \n536372                     0.0  \n536373                     0.0  \n536374                     0.0  \n536375                     0.0  \n536376                     0.0  \n536377                     0.0  \n536378                     0.0  \n536380                     0.0  \n536381                     0.0  \n536382                     0.0  \n536384                     0.0  \n536385                     0.0  \n536386                     0.0  \n536387                     0.0  \n\n[20 rows x 4188 columns]",
      "text/html": "<div>\n<style scoped>\n    .dataframe tbody tr th:only-of-type {\n        vertical-align: middle;\n    }\n\n    .dataframe tbody tr th {\n        vertical-align: top;\n    }\n\n    .dataframe thead th {\n        text-align: right;\n    }\n</style>\n<table border=\"1\" class=\"dataframe\">\n  <thead>\n    <tr style=\"text-align: right;\">\n      <th>Description</th>\n      <th>20713</th>\n      <th>4 PURPLE FLOCK DINNER CANDLES</th>\n      <th>50'S CHRISTMAS GIFT BAG LARGE</th>\n      <th>DOLLY GIRL BEAKER</th>\n      <th>I LOVE LONDON MINI BACKPACK</th>\n      <th>NINE DRAWER OFFICE TIDY</th>\n      <th>OVAL WALL MIRROR DIAMANTE</th>\n      <th>RED SPOT GIFT BAG LARGE</th>\n      <th>SET 2 TEA TOWELS I LOVE LONDON</th>\n      <th>SPACEBOY BABY GIFT SET</th>\n      <th>...</th>\n      <th>wrongly coded 20713</th>\n      <th>wrongly coded 23343</th>\n      <th>wrongly coded-23343</th>\n      <th>wrongly marked</th>\n      <th>wrongly marked 23343</th>\n      <th>wrongly marked carton 22804</th>\n      <th>wrongly marked. 23343 in box</th>\n      <th>wrongly sold (22719) barcode</th>\n      <th>wrongly sold as sets</th>\n      <th>wrongly sold sets</th>\n    </tr>\n    <tr>\n      <th>InvoiceNo</th>\n      <th></th>\n      <th></th>\n      <th></th>\n      <th></th>\n      <th></th>\n      <th></th>\n      <th></th>\n      <th></th>\n      <th></th>\n      <th></th>\n      <th></th>\n      <th></th>\n      <th></th>\n      <th></th>\n      <th></th>\n      <th></th>\n      <th></th>\n      <th></th>\n      <th></th>\n      <th></th>\n      <th></th>\n    </tr>\n  </thead>\n  <tbody>\n    <tr>\n      <th>536365</th>\n      <td>0.0</td>\n      <td>0.0</td>\n      <td>0.0</td>\n      <td>0.0</td>\n      <td>0.0</td>\n      <td>0.0</td>\n      <td>0.0</td>\n      <td>0.0</td>\n      <td>0.0</td>\n      <td>0.0</td>\n      <td>...</td>\n      <td>0.0</td>\n      <td>0.0</td>\n      <td>0.0</td>\n      <td>0.0</td>\n      <td>0.0</td>\n      <td>0.0</td>\n      <td>0.0</td>\n      <td>0.0</td>\n      <td>0.0</td>\n      <td>0.0</td>\n    </tr>\n    <tr>\n      <th>536366</th>\n      <td>0.0</td>\n      <td>0.0</td>\n      <td>0.0</td>\n      <td>0.0</td>\n      <td>0.0</td>\n      <td>0.0</td>\n      <td>0.0</td>\n      <td>0.0</td>\n      <td>0.0</td>\n      <td>0.0</td>\n      <td>...</td>\n      <td>0.0</td>\n      <td>0.0</td>\n      <td>0.0</td>\n      <td>0.0</td>\n      <td>0.0</td>\n      <td>0.0</td>\n      <td>0.0</td>\n      <td>0.0</td>\n      <td>0.0</td>\n      <td>0.0</td>\n    </tr>\n    <tr>\n      <th>536367</th>\n      <td>0.0</td>\n      <td>0.0</td>\n      <td>0.0</td>\n      <td>0.0</td>\n      <td>0.0</td>\n      <td>0.0</td>\n      <td>0.0</td>\n      <td>0.0</td>\n      <td>0.0</td>\n      <td>0.0</td>\n      <td>...</td>\n      <td>0.0</td>\n      <td>0.0</td>\n      <td>0.0</td>\n      <td>0.0</td>\n      <td>0.0</td>\n      <td>0.0</td>\n      <td>0.0</td>\n      <td>0.0</td>\n      <td>0.0</td>\n      <td>0.0</td>\n    </tr>\n    <tr>\n      <th>536368</th>\n      <td>0.0</td>\n      <td>0.0</td>\n      <td>0.0</td>\n      <td>0.0</td>\n      <td>0.0</td>\n      <td>0.0</td>\n      <td>0.0</td>\n      <td>0.0</td>\n      <td>0.0</td>\n      <td>0.0</td>\n      <td>...</td>\n      <td>0.0</td>\n      <td>0.0</td>\n      <td>0.0</td>\n      <td>0.0</td>\n      <td>0.0</td>\n      <td>0.0</td>\n      <td>0.0</td>\n      <td>0.0</td>\n      <td>0.0</td>\n      <td>0.0</td>\n    </tr>\n    <tr>\n      <th>536369</th>\n      <td>0.0</td>\n      <td>0.0</td>\n      <td>0.0</td>\n      <td>0.0</td>\n      <td>0.0</td>\n      <td>0.0</td>\n      <td>0.0</td>\n      <td>0.0</td>\n      <td>0.0</td>\n      <td>0.0</td>\n      <td>...</td>\n      <td>0.0</td>\n      <td>0.0</td>\n      <td>0.0</td>\n      <td>0.0</td>\n      <td>0.0</td>\n      <td>0.0</td>\n      <td>0.0</td>\n      <td>0.0</td>\n      <td>0.0</td>\n      <td>0.0</td>\n    </tr>\n    <tr>\n      <th>536371</th>\n      <td>0.0</td>\n      <td>0.0</td>\n      <td>0.0</td>\n      <td>0.0</td>\n      <td>0.0</td>\n      <td>0.0</td>\n      <td>0.0</td>\n      <td>0.0</td>\n      <td>0.0</td>\n      <td>0.0</td>\n      <td>...</td>\n      <td>0.0</td>\n      <td>0.0</td>\n      <td>0.0</td>\n      <td>0.0</td>\n      <td>0.0</td>\n      <td>0.0</td>\n      <td>0.0</td>\n      <td>0.0</td>\n      <td>0.0</td>\n      <td>0.0</td>\n    </tr>\n    <tr>\n      <th>536372</th>\n      <td>0.0</td>\n      <td>0.0</td>\n      <td>0.0</td>\n      <td>0.0</td>\n      <td>0.0</td>\n      <td>0.0</td>\n      <td>0.0</td>\n      <td>0.0</td>\n      <td>0.0</td>\n      <td>0.0</td>\n      <td>...</td>\n      <td>0.0</td>\n      <td>0.0</td>\n      <td>0.0</td>\n      <td>0.0</td>\n      <td>0.0</td>\n      <td>0.0</td>\n      <td>0.0</td>\n      <td>0.0</td>\n      <td>0.0</td>\n      <td>0.0</td>\n    </tr>\n    <tr>\n      <th>536373</th>\n      <td>0.0</td>\n      <td>0.0</td>\n      <td>0.0</td>\n      <td>0.0</td>\n      <td>0.0</td>\n      <td>0.0</td>\n      <td>0.0</td>\n      <td>0.0</td>\n      <td>0.0</td>\n      <td>0.0</td>\n      <td>...</td>\n      <td>0.0</td>\n      <td>0.0</td>\n      <td>0.0</td>\n      <td>0.0</td>\n      <td>0.0</td>\n      <td>0.0</td>\n      <td>0.0</td>\n      <td>0.0</td>\n      <td>0.0</td>\n      <td>0.0</td>\n    </tr>\n    <tr>\n      <th>536374</th>\n      <td>0.0</td>\n      <td>0.0</td>\n      <td>0.0</td>\n      <td>0.0</td>\n      <td>0.0</td>\n      <td>0.0</td>\n      <td>0.0</td>\n      <td>0.0</td>\n      <td>0.0</td>\n      <td>0.0</td>\n      <td>...</td>\n      <td>0.0</td>\n      <td>0.0</td>\n      <td>0.0</td>\n      <td>0.0</td>\n      <td>0.0</td>\n      <td>0.0</td>\n      <td>0.0</td>\n      <td>0.0</td>\n      <td>0.0</td>\n      <td>0.0</td>\n    </tr>\n    <tr>\n      <th>536375</th>\n      <td>0.0</td>\n      <td>0.0</td>\n      <td>0.0</td>\n      <td>0.0</td>\n      <td>0.0</td>\n      <td>0.0</td>\n      <td>0.0</td>\n      <td>0.0</td>\n      <td>0.0</td>\n      <td>0.0</td>\n      <td>...</td>\n      <td>0.0</td>\n      <td>0.0</td>\n      <td>0.0</td>\n      <td>0.0</td>\n      <td>0.0</td>\n      <td>0.0</td>\n      <td>0.0</td>\n      <td>0.0</td>\n      <td>0.0</td>\n      <td>0.0</td>\n    </tr>\n    <tr>\n      <th>536376</th>\n      <td>0.0</td>\n      <td>0.0</td>\n      <td>0.0</td>\n      <td>0.0</td>\n      <td>0.0</td>\n      <td>0.0</td>\n      <td>0.0</td>\n      <td>0.0</td>\n      <td>0.0</td>\n      <td>0.0</td>\n      <td>...</td>\n      <td>0.0</td>\n      <td>0.0</td>\n      <td>0.0</td>\n      <td>0.0</td>\n      <td>0.0</td>\n      <td>0.0</td>\n      <td>0.0</td>\n      <td>0.0</td>\n      <td>0.0</td>\n      <td>0.0</td>\n    </tr>\n    <tr>\n      <th>536377</th>\n      <td>0.0</td>\n      <td>0.0</td>\n      <td>0.0</td>\n      <td>0.0</td>\n      <td>0.0</td>\n      <td>0.0</td>\n      <td>0.0</td>\n      <td>0.0</td>\n      <td>0.0</td>\n      <td>0.0</td>\n      <td>...</td>\n      <td>0.0</td>\n      <td>0.0</td>\n      <td>0.0</td>\n      <td>0.0</td>\n      <td>0.0</td>\n      <td>0.0</td>\n      <td>0.0</td>\n      <td>0.0</td>\n      <td>0.0</td>\n      <td>0.0</td>\n    </tr>\n    <tr>\n      <th>536378</th>\n      <td>0.0</td>\n      <td>0.0</td>\n      <td>0.0</td>\n      <td>0.0</td>\n      <td>0.0</td>\n      <td>0.0</td>\n      <td>0.0</td>\n      <td>0.0</td>\n      <td>0.0</td>\n      <td>0.0</td>\n      <td>...</td>\n      <td>0.0</td>\n      <td>0.0</td>\n      <td>0.0</td>\n      <td>0.0</td>\n      <td>0.0</td>\n      <td>0.0</td>\n      <td>0.0</td>\n      <td>0.0</td>\n      <td>0.0</td>\n      <td>0.0</td>\n    </tr>\n    <tr>\n      <th>536380</th>\n      <td>0.0</td>\n      <td>0.0</td>\n      <td>0.0</td>\n      <td>0.0</td>\n      <td>0.0</td>\n      <td>0.0</td>\n      <td>0.0</td>\n      <td>0.0</td>\n      <td>0.0</td>\n      <td>0.0</td>\n      <td>...</td>\n      <td>0.0</td>\n      <td>0.0</td>\n      <td>0.0</td>\n      <td>0.0</td>\n      <td>0.0</td>\n      <td>0.0</td>\n      <td>0.0</td>\n      <td>0.0</td>\n      <td>0.0</td>\n      <td>0.0</td>\n    </tr>\n    <tr>\n      <th>536381</th>\n      <td>0.0</td>\n      <td>0.0</td>\n      <td>0.0</td>\n      <td>0.0</td>\n      <td>0.0</td>\n      <td>0.0</td>\n      <td>0.0</td>\n      <td>0.0</td>\n      <td>0.0</td>\n      <td>0.0</td>\n      <td>...</td>\n      <td>0.0</td>\n      <td>0.0</td>\n      <td>0.0</td>\n      <td>0.0</td>\n      <td>0.0</td>\n      <td>0.0</td>\n      <td>0.0</td>\n      <td>0.0</td>\n      <td>0.0</td>\n      <td>0.0</td>\n    </tr>\n    <tr>\n      <th>536382</th>\n      <td>0.0</td>\n      <td>0.0</td>\n      <td>0.0</td>\n      <td>0.0</td>\n      <td>0.0</td>\n      <td>0.0</td>\n      <td>0.0</td>\n      <td>0.0</td>\n      <td>0.0</td>\n      <td>0.0</td>\n      <td>...</td>\n      <td>0.0</td>\n      <td>0.0</td>\n      <td>0.0</td>\n      <td>0.0</td>\n      <td>0.0</td>\n      <td>0.0</td>\n      <td>0.0</td>\n      <td>0.0</td>\n      <td>0.0</td>\n      <td>0.0</td>\n    </tr>\n    <tr>\n      <th>536384</th>\n      <td>0.0</td>\n      <td>0.0</td>\n      <td>0.0</td>\n      <td>0.0</td>\n      <td>0.0</td>\n      <td>0.0</td>\n      <td>0.0</td>\n      <td>0.0</td>\n      <td>0.0</td>\n      <td>0.0</td>\n      <td>...</td>\n      <td>0.0</td>\n      <td>0.0</td>\n      <td>0.0</td>\n      <td>0.0</td>\n      <td>0.0</td>\n      <td>0.0</td>\n      <td>0.0</td>\n      <td>0.0</td>\n      <td>0.0</td>\n      <td>0.0</td>\n    </tr>\n    <tr>\n      <th>536385</th>\n      <td>0.0</td>\n      <td>0.0</td>\n      <td>0.0</td>\n      <td>0.0</td>\n      <td>0.0</td>\n      <td>0.0</td>\n      <td>0.0</td>\n      <td>0.0</td>\n      <td>0.0</td>\n      <td>0.0</td>\n      <td>...</td>\n      <td>0.0</td>\n      <td>0.0</td>\n      <td>0.0</td>\n      <td>0.0</td>\n      <td>0.0</td>\n      <td>0.0</td>\n      <td>0.0</td>\n      <td>0.0</td>\n      <td>0.0</td>\n      <td>0.0</td>\n    </tr>\n    <tr>\n      <th>536386</th>\n      <td>0.0</td>\n      <td>0.0</td>\n      <td>0.0</td>\n      <td>0.0</td>\n      <td>0.0</td>\n      <td>0.0</td>\n      <td>0.0</td>\n      <td>0.0</td>\n      <td>0.0</td>\n      <td>0.0</td>\n      <td>...</td>\n      <td>0.0</td>\n      <td>0.0</td>\n      <td>0.0</td>\n      <td>0.0</td>\n      <td>0.0</td>\n      <td>0.0</td>\n      <td>0.0</td>\n      <td>0.0</td>\n      <td>0.0</td>\n      <td>0.0</td>\n    </tr>\n    <tr>\n      <th>536387</th>\n      <td>0.0</td>\n      <td>0.0</td>\n      <td>0.0</td>\n      <td>0.0</td>\n      <td>0.0</td>\n      <td>0.0</td>\n      <td>0.0</td>\n      <td>0.0</td>\n      <td>0.0</td>\n      <td>0.0</td>\n      <td>...</td>\n      <td>0.0</td>\n      <td>0.0</td>\n      <td>0.0</td>\n      <td>0.0</td>\n      <td>0.0</td>\n      <td>0.0</td>\n      <td>0.0</td>\n      <td>0.0</td>\n      <td>0.0</td>\n      <td>0.0</td>\n    </tr>\n  </tbody>\n</table>\n<p>20 rows × 4188 columns</p>\n</div>"
     },
     "execution_count": 12,
     "metadata": {},
     "output_type": "execute_result"
    }
   ],
   "source": [
    "market_basket.head(20)"
   ],
   "metadata": {
    "collapsed": false,
    "pycharm": {
     "name": "#%%\n"
    }
   }
  },
  {
   "cell_type": "code",
   "execution_count": 13,
   "outputs": [],
   "source": [
    "def encode_data(datapoint):\n",
    "    if datapoint <= 0:\n",
    "        return 0\n",
    "    if datapoint >= 1:\n",
    "        return 1"
   ],
   "metadata": {
    "collapsed": false,
    "pycharm": {
     "name": "#%%\n"
    }
   }
  },
  {
   "cell_type": "code",
   "execution_count": 14,
   "outputs": [],
   "source": [
    "market_basket = market_basket.applymap(encode_data)"
   ],
   "metadata": {
    "collapsed": false,
    "pycharm": {
     "name": "#%%\n"
    }
   }
  },
  {
   "cell_type": "code",
   "execution_count": 15,
   "outputs": [
    {
     "name": "stderr",
     "output_type": "stream",
     "text": [
      "/opt/homebrew/Caskroom/miniforge/base/envs/regular/lib/python3.9/site-packages/mlxtend/frequent_patterns/fpcommon.py:111: DeprecationWarning: DataFrames with non-bool types result in worse computationalperformance and their support might be discontinued in the future.Please use a DataFrame with bool type\n",
      "  warnings.warn(\n"
     ]
    }
   ],
   "source": [
    "itemsets = apriori(market_basket, min_support=0.03, use_colnames=True)"
   ],
   "metadata": {
    "collapsed": false,
    "pycharm": {
     "name": "#%%\n"
    }
   }
  },
  {
   "cell_type": "code",
   "execution_count": 16,
   "outputs": [],
   "source": [
    "rules = association_rules(itemsets, metric=\"lift\", min_threshold=0.5)"
   ],
   "metadata": {
    "collapsed": false,
    "pycharm": {
     "name": "#%%\n"
    }
   }
  },
  {
   "cell_type": "code",
   "execution_count": 17,
   "outputs": [
    {
     "data": {
      "text/plain": "                            antecedents                          consequents  \\\n0           (ALARM CLOCK BAKELIKE RED )         (ALARM CLOCK BAKELIKE GREEN)   \n1          (ALARM CLOCK BAKELIKE GREEN)          (ALARM CLOCK BAKELIKE RED )   \n2      (PINK REGENCY TEACUP AND SAUCER)    (GREEN REGENCY TEACUP AND SAUCER)   \n3     (GREEN REGENCY TEACUP AND SAUCER)     (PINK REGENCY TEACUP AND SAUCER)   \n4    (ROSES REGENCY TEACUP AND SAUCER )    (GREEN REGENCY TEACUP AND SAUCER)   \n5     (GREEN REGENCY TEACUP AND SAUCER)   (ROSES REGENCY TEACUP AND SAUCER )   \n6      (JUMBO  BAG BAROQUE BLACK WHITE)            (JUMBO BAG RED RETROSPOT)   \n7             (JUMBO BAG RED RETROSPOT)     (JUMBO  BAG BAROQUE BLACK WHITE)   \n8             (JUMBO BAG PINK POLKADOT)            (JUMBO BAG RED RETROSPOT)   \n9             (JUMBO BAG RED RETROSPOT)            (JUMBO BAG PINK POLKADOT)   \n10  (JUMBO SHOPPER VINTAGE RED PAISLEY)            (JUMBO BAG RED RETROSPOT)   \n11            (JUMBO BAG RED RETROSPOT)  (JUMBO SHOPPER VINTAGE RED PAISLEY)   \n12             (JUMBO STORAGE BAG SUKI)            (JUMBO BAG RED RETROSPOT)   \n13            (JUMBO BAG RED RETROSPOT)             (JUMBO STORAGE BAG SUKI)   \n14            (LUNCH BAG  BLACK SKULL.)            (LUNCH BAG RED RETROSPOT)   \n15            (LUNCH BAG RED RETROSPOT)            (LUNCH BAG  BLACK SKULL.)   \n\n    antecedent support  consequent support   support  confidence       lift  \\\n0             0.049818            0.046925  0.030159    0.605376  12.900874   \n1             0.046925            0.049818  0.030159    0.642694  12.900874   \n2             0.037658            0.050032  0.030909    0.820768  16.404818   \n3             0.050032            0.037658  0.030909    0.617773  16.404818   \n4             0.051264            0.050032  0.037551    0.732497  14.640537   \n5             0.050032            0.051264  0.037551    0.750535  14.640537   \n6             0.048747            0.103814  0.030534    0.626374   6.033613   \n7             0.103814            0.048747  0.030534    0.294118   6.033613   \n8             0.062085            0.103814  0.042051    0.677308   6.524245   \n9             0.103814            0.062085  0.042051    0.405057   6.524245   \n10            0.060692            0.103814  0.035194    0.579876   5.585724   \n11            0.103814            0.060692  0.035194    0.339009   5.585724   \n12            0.060531            0.103814  0.037390    0.617699   5.950055   \n13            0.103814            0.060531  0.037390    0.360165   5.950055   \n14            0.065138            0.074566  0.032516    0.499178   6.694431   \n15            0.074566            0.065138  0.032516    0.436063   6.694431   \n\n    leverage  conviction  \n0   0.027821    2.415149  \n1   0.027821    2.659296  \n2   0.029024    5.300218  \n3   0.029024    2.517724  \n4   0.034986    3.551247  \n5   0.034986    3.803087  \n6   0.025473    2.398615  \n7   0.025473    1.347609  \n8   0.035605    2.777218  \n9   0.035605    1.576478  \n10  0.028893    2.133149  \n11  0.028893    1.421061  \n12  0.031106    2.344190  \n13  0.031106    1.468299  \n14  0.027658    1.847829  \n15  0.027658    1.657742  ",
      "text/html": "<div>\n<style scoped>\n    .dataframe tbody tr th:only-of-type {\n        vertical-align: middle;\n    }\n\n    .dataframe tbody tr th {\n        vertical-align: top;\n    }\n\n    .dataframe thead th {\n        text-align: right;\n    }\n</style>\n<table border=\"1\" class=\"dataframe\">\n  <thead>\n    <tr style=\"text-align: right;\">\n      <th></th>\n      <th>antecedents</th>\n      <th>consequents</th>\n      <th>antecedent support</th>\n      <th>consequent support</th>\n      <th>support</th>\n      <th>confidence</th>\n      <th>lift</th>\n      <th>leverage</th>\n      <th>conviction</th>\n    </tr>\n  </thead>\n  <tbody>\n    <tr>\n      <th>0</th>\n      <td>(ALARM CLOCK BAKELIKE RED )</td>\n      <td>(ALARM CLOCK BAKELIKE GREEN)</td>\n      <td>0.049818</td>\n      <td>0.046925</td>\n      <td>0.030159</td>\n      <td>0.605376</td>\n      <td>12.900874</td>\n      <td>0.027821</td>\n      <td>2.415149</td>\n    </tr>\n    <tr>\n      <th>1</th>\n      <td>(ALARM CLOCK BAKELIKE GREEN)</td>\n      <td>(ALARM CLOCK BAKELIKE RED )</td>\n      <td>0.046925</td>\n      <td>0.049818</td>\n      <td>0.030159</td>\n      <td>0.642694</td>\n      <td>12.900874</td>\n      <td>0.027821</td>\n      <td>2.659296</td>\n    </tr>\n    <tr>\n      <th>2</th>\n      <td>(PINK REGENCY TEACUP AND SAUCER)</td>\n      <td>(GREEN REGENCY TEACUP AND SAUCER)</td>\n      <td>0.037658</td>\n      <td>0.050032</td>\n      <td>0.030909</td>\n      <td>0.820768</td>\n      <td>16.404818</td>\n      <td>0.029024</td>\n      <td>5.300218</td>\n    </tr>\n    <tr>\n      <th>3</th>\n      <td>(GREEN REGENCY TEACUP AND SAUCER)</td>\n      <td>(PINK REGENCY TEACUP AND SAUCER)</td>\n      <td>0.050032</td>\n      <td>0.037658</td>\n      <td>0.030909</td>\n      <td>0.617773</td>\n      <td>16.404818</td>\n      <td>0.029024</td>\n      <td>2.517724</td>\n    </tr>\n    <tr>\n      <th>4</th>\n      <td>(ROSES REGENCY TEACUP AND SAUCER )</td>\n      <td>(GREEN REGENCY TEACUP AND SAUCER)</td>\n      <td>0.051264</td>\n      <td>0.050032</td>\n      <td>0.037551</td>\n      <td>0.732497</td>\n      <td>14.640537</td>\n      <td>0.034986</td>\n      <td>3.551247</td>\n    </tr>\n    <tr>\n      <th>5</th>\n      <td>(GREEN REGENCY TEACUP AND SAUCER)</td>\n      <td>(ROSES REGENCY TEACUP AND SAUCER )</td>\n      <td>0.050032</td>\n      <td>0.051264</td>\n      <td>0.037551</td>\n      <td>0.750535</td>\n      <td>14.640537</td>\n      <td>0.034986</td>\n      <td>3.803087</td>\n    </tr>\n    <tr>\n      <th>6</th>\n      <td>(JUMBO  BAG BAROQUE BLACK WHITE)</td>\n      <td>(JUMBO BAG RED RETROSPOT)</td>\n      <td>0.048747</td>\n      <td>0.103814</td>\n      <td>0.030534</td>\n      <td>0.626374</td>\n      <td>6.033613</td>\n      <td>0.025473</td>\n      <td>2.398615</td>\n    </tr>\n    <tr>\n      <th>7</th>\n      <td>(JUMBO BAG RED RETROSPOT)</td>\n      <td>(JUMBO  BAG BAROQUE BLACK WHITE)</td>\n      <td>0.103814</td>\n      <td>0.048747</td>\n      <td>0.030534</td>\n      <td>0.294118</td>\n      <td>6.033613</td>\n      <td>0.025473</td>\n      <td>1.347609</td>\n    </tr>\n    <tr>\n      <th>8</th>\n      <td>(JUMBO BAG PINK POLKADOT)</td>\n      <td>(JUMBO BAG RED RETROSPOT)</td>\n      <td>0.062085</td>\n      <td>0.103814</td>\n      <td>0.042051</td>\n      <td>0.677308</td>\n      <td>6.524245</td>\n      <td>0.035605</td>\n      <td>2.777218</td>\n    </tr>\n    <tr>\n      <th>9</th>\n      <td>(JUMBO BAG RED RETROSPOT)</td>\n      <td>(JUMBO BAG PINK POLKADOT)</td>\n      <td>0.103814</td>\n      <td>0.062085</td>\n      <td>0.042051</td>\n      <td>0.405057</td>\n      <td>6.524245</td>\n      <td>0.035605</td>\n      <td>1.576478</td>\n    </tr>\n    <tr>\n      <th>10</th>\n      <td>(JUMBO SHOPPER VINTAGE RED PAISLEY)</td>\n      <td>(JUMBO BAG RED RETROSPOT)</td>\n      <td>0.060692</td>\n      <td>0.103814</td>\n      <td>0.035194</td>\n      <td>0.579876</td>\n      <td>5.585724</td>\n      <td>0.028893</td>\n      <td>2.133149</td>\n    </tr>\n    <tr>\n      <th>11</th>\n      <td>(JUMBO BAG RED RETROSPOT)</td>\n      <td>(JUMBO SHOPPER VINTAGE RED PAISLEY)</td>\n      <td>0.103814</td>\n      <td>0.060692</td>\n      <td>0.035194</td>\n      <td>0.339009</td>\n      <td>5.585724</td>\n      <td>0.028893</td>\n      <td>1.421061</td>\n    </tr>\n    <tr>\n      <th>12</th>\n      <td>(JUMBO STORAGE BAG SUKI)</td>\n      <td>(JUMBO BAG RED RETROSPOT)</td>\n      <td>0.060531</td>\n      <td>0.103814</td>\n      <td>0.037390</td>\n      <td>0.617699</td>\n      <td>5.950055</td>\n      <td>0.031106</td>\n      <td>2.344190</td>\n    </tr>\n    <tr>\n      <th>13</th>\n      <td>(JUMBO BAG RED RETROSPOT)</td>\n      <td>(JUMBO STORAGE BAG SUKI)</td>\n      <td>0.103814</td>\n      <td>0.060531</td>\n      <td>0.037390</td>\n      <td>0.360165</td>\n      <td>5.950055</td>\n      <td>0.031106</td>\n      <td>1.468299</td>\n    </tr>\n    <tr>\n      <th>14</th>\n      <td>(LUNCH BAG  BLACK SKULL.)</td>\n      <td>(LUNCH BAG RED RETROSPOT)</td>\n      <td>0.065138</td>\n      <td>0.074566</td>\n      <td>0.032516</td>\n      <td>0.499178</td>\n      <td>6.694431</td>\n      <td>0.027658</td>\n      <td>1.847829</td>\n    </tr>\n    <tr>\n      <th>15</th>\n      <td>(LUNCH BAG RED RETROSPOT)</td>\n      <td>(LUNCH BAG  BLACK SKULL.)</td>\n      <td>0.074566</td>\n      <td>0.065138</td>\n      <td>0.032516</td>\n      <td>0.436063</td>\n      <td>6.694431</td>\n      <td>0.027658</td>\n      <td>1.657742</td>\n    </tr>\n  </tbody>\n</table>\n</div>"
     },
     "execution_count": 17,
     "metadata": {},
     "output_type": "execute_result"
    }
   ],
   "source": [
    "rules"
   ],
   "metadata": {
    "collapsed": false,
    "pycharm": {
     "name": "#%%\n"
    }
   }
  },
  {
   "cell_type": "code",
   "execution_count": null,
   "outputs": [],
   "source": [
    "market_basket = market_basket.sum().unstack().reset_index().fillna(0).set_index('InvoiceNo')\n",
    "# ISSUE\n",
    "# https://pythondata.com/market-basket-analysis-with-python-and-pandas/"
   ],
   "metadata": {
    "collapsed": false,
    "pycharm": {
     "name": "#%%\n",
     "is_executing": true
    }
   }
  },
  {
   "cell_type": "markdown",
   "source": [
    "### resolving issue through udf"
   ],
   "metadata": {
    "collapsed": false,
    "pycharm": {
     "name": "#%% md\n"
    }
   }
  },
  {
   "cell_type": "code",
   "execution_count": 19,
   "outputs": [],
   "source": [
    "from itertools import combinations, groupby\n",
    "from collections import Counter"
   ],
   "metadata": {
    "collapsed": false,
    "pycharm": {
     "name": "#%%\n"
    }
   }
  },
  {
   "cell_type": "code",
   "execution_count": 20,
   "outputs": [],
   "source": [
    "df_manual = df[df['Country'] ==\"United Kingdom\"]"
   ],
   "metadata": {
    "collapsed": false,
    "pycharm": {
     "name": "#%%\n"
    }
   }
  },
  {
   "cell_type": "code",
   "execution_count": 21,
   "outputs": [],
   "source": [
    "orders = df_manual.set_index('InvoiceNo')['StockCode']"
   ],
   "metadata": {
    "collapsed": false,
    "pycharm": {
     "name": "#%%\n"
    }
   }
  },
  {
   "cell_type": "code",
   "execution_count": 22,
   "outputs": [],
   "source": [
    "statistics = orders.value_counts().to_frame(\"frequency\")\n",
    "statistics['support']  = statistics / len(set(orders.index)) * 100"
   ],
   "metadata": {
    "collapsed": false,
    "pycharm": {
     "name": "#%%\n"
    }
   }
  },
  {
   "cell_type": "code",
   "execution_count": 23,
   "outputs": [],
   "source": [
    "min_support=0.03 # same value we used above.\n",
    "items_above_support = statistics[statistics['support'] >= min_support].index\n",
    "orders_above_support = orders[orders.isin(items_above_support)]"
   ],
   "metadata": {
    "collapsed": false,
    "pycharm": {
     "name": "#%%\n"
    }
   }
  },
  {
   "cell_type": "code",
   "execution_count": 24,
   "outputs": [],
   "source": [
    "order_counts = orders.index.value_counts()\n",
    "orders_over_two_index = order_counts[order_counts>=2].index\n",
    "orders_over_two = orders[orders.index.isin(orders_over_two_index)]"
   ],
   "metadata": {
    "collapsed": false,
    "pycharm": {
     "name": "#%%\n"
    }
   }
  },
  {
   "cell_type": "code",
   "execution_count": 25,
   "outputs": [],
   "source": [
    "statistics = orders_over_two.value_counts().to_frame(\"frequency\")\n",
    "statistics['support']  = statistics / len(set(orders_over_two.index)) * 100"
   ],
   "metadata": {
    "collapsed": false,
    "pycharm": {
     "name": "#%%\n"
    }
   }
  },
  {
   "cell_type": "code",
   "execution_count": 26,
   "outputs": [],
   "source": [
    "def itemset_generator(orders):\n",
    "    orders = orders.reset_index().values\n",
    "    for order_id, order_object in groupby(orders, lambda x: x[0]):\n",
    "        item_list = [item[1] for item in order_object]\n",
    "        for item_pair in combinations(item_list, 2):\n",
    "            yield item_pair\n",
    "itemsets_gen = itemset_generator(orders_over_two)\n",
    "itemsets  = pd.Series(Counter(itemsets_gen)).to_frame(\"frequencyAC\")\n",
    "itemsets['supportAC'] = itemsets['frequencyAC'] / len(orders_over_two_index) * 100\n",
    "itemsets = itemsets[itemsets['supportAC'] >= min_support]"
   ],
   "metadata": {
    "collapsed": false,
    "pycharm": {
     "name": "#%%\n"
    }
   }
  },
  {
   "cell_type": "code",
   "execution_count": 27,
   "outputs": [],
   "source": [
    "# Create table of association rules and compute relevant metrics\n",
    "itemsets = itemsets.reset_index().rename(columns={'level_0': 'antecedents', 'level_1': 'consequents'})\n",
    "itemsets = (itemsets\n",
    "            .merge(statistics.rename(columns={'freq': 'freqA', 'support': 'antecedent support'}), left_on='antecedents', right_index=True)\n",
    "            .merge(statistics.rename(columns={'freq': 'freqC', 'support': 'consequents support'}), left_on='consequents', right_index=True))\n",
    "\n",
    "itemsets['confidenceAtoC'] = itemsets['supportAC'] / itemsets['antecedent support']\n",
    "itemsets['confidenceCtoA'] = itemsets['supportAC'] / itemsets['consequents support']\n",
    "itemsets['lift'] = itemsets['supportAC'] / (itemsets['antecedent support'] * itemsets['consequents support'])\n",
    "itemsets=itemsets[['antecedents', 'consequents','antecedent support', 'consequents support', 'confidenceAtoC','lift']]"
   ],
   "metadata": {
    "collapsed": false,
    "pycharm": {
     "name": "#%%\n"
    }
   }
  },
  {
   "cell_type": "code",
   "execution_count": 28,
   "outputs": [],
   "source": [
    "rules = itemsets\n",
    "rules_over_50 = rules[(rules.confidenceAtoC >0.50)]\n",
    "rules_over_50.set_index('antecedents',inplace=True)\n",
    "rules_over_50.reset_index(inplace=True)\n",
    "rules_over_50=rules_over_50.sort_values('lift', ascending=False)"
   ],
   "metadata": {
    "collapsed": false,
    "pycharm": {
     "name": "#%%\n"
    }
   }
  },
  {
   "cell_type": "code",
   "execution_count": 29,
   "outputs": [
    {
     "data": {
      "text/plain": "     antecedents consequents  antecedent support  consequents support  \\\n1841      48173c      85099f            0.042296             0.060423   \n1881      90082D      90082B            0.036254             0.072508   \n1888       20698       20697            0.054381             0.078550   \n1281      90129D      90129E            0.042296             0.084592   \n1880      37444C      72051S            0.054381             0.084592   \n...          ...         ...                 ...                  ...   \n1152      35915C      85123A            0.356495            13.021148   \n1135      85039A      85123A            0.966767            13.021148   \n1145       85093      85123A            0.513595            13.021148   \n1151       84638      85123A            0.199396            13.021148   \n1146       22104      85123A            0.356495            13.021148   \n\n      confidenceAtoC       lift  \n1841        0.714286  11.821429  \n1881        0.833333  11.493056  \n1888        0.888889  11.316239  \n1281        0.857143  10.132653  \n1880        0.666667   7.880952  \n...              ...        ...  \n1152        0.525424   0.040352  \n1135        0.518750   0.039839  \n1145        0.517647   0.039754  \n1151        0.515152   0.039563  \n1146        0.508475   0.039050  \n\n[1889 rows x 6 columns]",
      "text/html": "<div>\n<style scoped>\n    .dataframe tbody tr th:only-of-type {\n        vertical-align: middle;\n    }\n\n    .dataframe tbody tr th {\n        vertical-align: top;\n    }\n\n    .dataframe thead th {\n        text-align: right;\n    }\n</style>\n<table border=\"1\" class=\"dataframe\">\n  <thead>\n    <tr style=\"text-align: right;\">\n      <th></th>\n      <th>antecedents</th>\n      <th>consequents</th>\n      <th>antecedent support</th>\n      <th>consequents support</th>\n      <th>confidenceAtoC</th>\n      <th>lift</th>\n    </tr>\n  </thead>\n  <tbody>\n    <tr>\n      <th>1841</th>\n      <td>48173c</td>\n      <td>85099f</td>\n      <td>0.042296</td>\n      <td>0.060423</td>\n      <td>0.714286</td>\n      <td>11.821429</td>\n    </tr>\n    <tr>\n      <th>1881</th>\n      <td>90082D</td>\n      <td>90082B</td>\n      <td>0.036254</td>\n      <td>0.072508</td>\n      <td>0.833333</td>\n      <td>11.493056</td>\n    </tr>\n    <tr>\n      <th>1888</th>\n      <td>20698</td>\n      <td>20697</td>\n      <td>0.054381</td>\n      <td>0.078550</td>\n      <td>0.888889</td>\n      <td>11.316239</td>\n    </tr>\n    <tr>\n      <th>1281</th>\n      <td>90129D</td>\n      <td>90129E</td>\n      <td>0.042296</td>\n      <td>0.084592</td>\n      <td>0.857143</td>\n      <td>10.132653</td>\n    </tr>\n    <tr>\n      <th>1880</th>\n      <td>37444C</td>\n      <td>72051S</td>\n      <td>0.054381</td>\n      <td>0.084592</td>\n      <td>0.666667</td>\n      <td>7.880952</td>\n    </tr>\n    <tr>\n      <th>...</th>\n      <td>...</td>\n      <td>...</td>\n      <td>...</td>\n      <td>...</td>\n      <td>...</td>\n      <td>...</td>\n    </tr>\n    <tr>\n      <th>1152</th>\n      <td>35915C</td>\n      <td>85123A</td>\n      <td>0.356495</td>\n      <td>13.021148</td>\n      <td>0.525424</td>\n      <td>0.040352</td>\n    </tr>\n    <tr>\n      <th>1135</th>\n      <td>85039A</td>\n      <td>85123A</td>\n      <td>0.966767</td>\n      <td>13.021148</td>\n      <td>0.518750</td>\n      <td>0.039839</td>\n    </tr>\n    <tr>\n      <th>1145</th>\n      <td>85093</td>\n      <td>85123A</td>\n      <td>0.513595</td>\n      <td>13.021148</td>\n      <td>0.517647</td>\n      <td>0.039754</td>\n    </tr>\n    <tr>\n      <th>1151</th>\n      <td>84638</td>\n      <td>85123A</td>\n      <td>0.199396</td>\n      <td>13.021148</td>\n      <td>0.515152</td>\n      <td>0.039563</td>\n    </tr>\n    <tr>\n      <th>1146</th>\n      <td>22104</td>\n      <td>85123A</td>\n      <td>0.356495</td>\n      <td>13.021148</td>\n      <td>0.508475</td>\n      <td>0.039050</td>\n    </tr>\n  </tbody>\n</table>\n<p>1889 rows × 6 columns</p>\n</div>"
     },
     "execution_count": 29,
     "metadata": {},
     "output_type": "execute_result"
    }
   ],
   "source": [
    "rules_over_50"
   ],
   "metadata": {
    "collapsed": false,
    "pycharm": {
     "name": "#%%\n"
    }
   }
  },
  {
   "cell_type": "code",
   "execution_count": null,
   "outputs": [],
   "source": [],
   "metadata": {
    "collapsed": false,
    "pycharm": {
     "name": "#%%\n"
    }
   }
  }
 ],
 "metadata": {
  "kernelspec": {
   "display_name": "Python 3",
   "language": "python",
   "name": "python3"
  },
  "language_info": {
   "codemirror_mode": {
    "name": "ipython",
    "version": 2
   },
   "file_extension": ".py",
   "mimetype": "text/x-python",
   "name": "python",
   "nbconvert_exporter": "python",
   "pygments_lexer": "ipython2",
   "version": "2.7.6"
  }
 },
 "nbformat": 4,
 "nbformat_minor": 0
}