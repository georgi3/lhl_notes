{
 "cells": [
  {
   "cell_type": "code",
   "execution_count": 84,
   "outputs": [],
   "source": [
    "# https://heartbeat.comet.ml/using-a-keras-long-shortterm-memory-lstm-model-to-predict-stock-prices-a08c9f69aa74\n",
    "# https://colab.research.google.com/drive/1JWoPYyrIEkf_R34lKbvLyVSvfFN_jcY5?usp=sharing#scrollTo=vtq5tneLUFW3"
   ],
   "metadata": {
    "collapsed": false,
    "pycharm": {
     "name": "#%%\n"
    }
   }
  },
  {
   "cell_type": "code",
   "execution_count": 9,
   "outputs": [],
   "source": [
    "import numpy as np\n",
    "import pandas as pd\n",
    "import matplotlib.pyplot as plt\n",
    "from sklearn.preprocessing import  MinMaxScaler\n",
    "from keras.models import Sequential\n",
    "from keras.layers import Dense, LSTM, Dropout"
   ],
   "metadata": {
    "collapsed": false,
    "pycharm": {
     "name": "#%%\n"
    }
   }
  },
  {
   "cell_type": "code",
   "execution_count": 35,
   "outputs": [],
   "source": [
    "fname = 'data/NSE-TATAGLOBAL.csv'\n",
    "ftest = 'data/tatatest.csv'"
   ],
   "metadata": {
    "collapsed": false,
    "pycharm": {
     "name": "#%%\n"
    }
   }
  },
  {
   "cell_type": "code",
   "execution_count": 50,
   "outputs": [],
   "source": [
    "df = pd.read_csv(fname)\n",
    "df_test = pd.read_csv(ftest)\n",
    "training_df = df.iloc[:, 1:2].values"
   ],
   "metadata": {
    "collapsed": false,
    "pycharm": {
     "name": "#%%\n"
    }
   }
  },
  {
   "cell_type": "code",
   "execution_count": 51,
   "outputs": [
    {
     "data": {
      "text/plain": "array([[234.05],\n       [234.55],\n       [240.  ],\n       ...,\n       [121.8 ],\n       [120.3 ],\n       [122.1 ]])"
     },
     "execution_count": 51,
     "metadata": {},
     "output_type": "execute_result"
    }
   ],
   "source": [
    "training_df"
   ],
   "metadata": {
    "collapsed": false,
    "pycharm": {
     "name": "#%%\n"
    }
   }
  },
  {
   "cell_type": "code",
   "execution_count": 52,
   "outputs": [],
   "source": [
    "scaler = MinMaxScaler(feature_range=(0, 1))"
   ],
   "metadata": {
    "collapsed": false,
    "pycharm": {
     "name": "#%%\n"
    }
   }
  },
  {
   "cell_type": "code",
   "execution_count": 53,
   "outputs": [],
   "source": [
    "df_tr = scaler.fit_transform(training_df)"
   ],
   "metadata": {
    "collapsed": false,
    "pycharm": {
     "name": "#%%\n"
    }
   }
  },
  {
   "cell_type": "code",
   "execution_count": 54,
   "outputs": [],
   "source": [
    "X_train, y_train = list(), list()\n",
    "for i in range(60, 2035):\n",
    "    X_train.append(df_tr[i-60:i, 0])\n",
    "    y_train.append(df_tr[i, 0])\n",
    "X_train, y_train = np.array(X_train), np.array(y_train)"
   ],
   "metadata": {
    "collapsed": false,
    "pycharm": {
     "name": "#%%\n"
    }
   }
  },
  {
   "cell_type": "code",
   "execution_count": 55,
   "outputs": [],
   "source": [
    "X_train, y_train = np.array(X_train), np.array(y_train)"
   ],
   "metadata": {
    "collapsed": false,
    "pycharm": {
     "name": "#%%\n"
    }
   }
  },
  {
   "cell_type": "code",
   "execution_count": 56,
   "outputs": [],
   "source": [
    "X_train = np.reshape(X_train, (X_train.shape[0], X_train.shape[1], 1))"
   ],
   "metadata": {
    "collapsed": false,
    "pycharm": {
     "name": "#%%\n"
    }
   }
  },
  {
   "cell_type": "code",
   "execution_count": 57,
   "outputs": [
    {
     "data": {
      "text/plain": "(1975, 60, 1)"
     },
     "execution_count": 57,
     "metadata": {},
     "output_type": "execute_result"
    }
   ],
   "source": [
    "X_train.shape"
   ],
   "metadata": {
    "collapsed": false,
    "pycharm": {
     "name": "#%%\n"
    }
   }
  },
  {
   "cell_type": "code",
   "execution_count": 61,
   "outputs": [],
   "source": [
    "model = Sequential()\n",
    "model.add(LSTM(units=50, return_sequences=True, input_shape=(X_train.shape[1], 1)))\n",
    "model.add(Dropout(0.2))\n",
    "model.add(LSTM(units=50, return_sequences=True))\n",
    "model.add(Dropout(0.2))\n",
    "model.add(LSTM(units=50, return_sequences=True))\n",
    "model.add(Dropout(0.2))\n",
    "model.add(LSTM(units=50))\n",
    "model.add(Dropout(0.2))\n",
    "model.add(Dense(units=1))\n",
    "model.compile(optimizer='adam', loss='mean_squared_error')"
   ],
   "metadata": {
    "collapsed": false,
    "pycharm": {
     "name": "#%%\n"
    }
   }
  },
  {
   "cell_type": "code",
   "execution_count": 62,
   "outputs": [
    {
     "name": "stdout",
     "output_type": "stream",
     "text": [
      "Model: \"sequential_14\"\n",
      "_________________________________________________________________\n",
      " Layer (type)                Output Shape              Param #   \n",
      "=================================================================\n",
      " lstm_48 (LSTM)              (None, 60, 50)            10400     \n",
      "                                                                 \n",
      " dropout_37 (Dropout)        (None, 60, 50)            0         \n",
      "                                                                 \n",
      " lstm_49 (LSTM)              (None, 60, 50)            20200     \n",
      "                                                                 \n",
      " dropout_38 (Dropout)        (None, 60, 50)            0         \n",
      "                                                                 \n",
      " lstm_50 (LSTM)              (None, 60, 50)            20200     \n",
      "                                                                 \n",
      " dropout_39 (Dropout)        (None, 60, 50)            0         \n",
      "                                                                 \n",
      " lstm_51 (LSTM)              (None, 50)                20200     \n",
      "                                                                 \n",
      " dropout_40 (Dropout)        (None, 50)                0         \n",
      "                                                                 \n",
      " dense_1 (Dense)             (None, 1)                 51        \n",
      "                                                                 \n",
      "=================================================================\n",
      "Total params: 71,051\n",
      "Trainable params: 71,051\n",
      "Non-trainable params: 0\n",
      "_________________________________________________________________\n"
     ]
    }
   ],
   "source": [
    "model.summary()"
   ],
   "metadata": {
    "collapsed": false,
    "pycharm": {
     "name": "#%%\n"
    }
   }
  },
  {
   "cell_type": "code",
   "execution_count": 66,
   "outputs": [
    {
     "name": "stderr",
     "output_type": "stream",
     "text": [
      "2022-05-31 17:12:31.775178: W tensorflow/core/platform/profile_utils/cpu_utils.cc:128] Failed to get CPU frequency: 0 Hz\n"
     ]
    },
    {
     "name": "stdout",
     "output_type": "stream",
     "text": [
      "Epoch 1/100\n",
      "62/62 [==============================] - 5s 42ms/step - loss: 0.0080\n",
      "Epoch 2/100\n",
      "62/62 [==============================] - 3s 45ms/step - loss: 0.0031\n",
      "Epoch 3/100\n",
      "62/62 [==============================] - 3s 49ms/step - loss: 0.0033\n",
      "Epoch 4/100\n",
      "62/62 [==============================] - 3s 49ms/step - loss: 0.0028\n",
      "Epoch 5/100\n",
      "62/62 [==============================] - 3s 48ms/step - loss: 0.0024\n",
      "Epoch 6/100\n",
      "62/62 [==============================] - 3s 49ms/step - loss: 0.0021\n",
      "Epoch 7/100\n",
      "62/62 [==============================] - 3s 49ms/step - loss: 0.0021\n",
      "Epoch 8/100\n",
      "62/62 [==============================] - 3s 49ms/step - loss: 0.0021\n",
      "Epoch 9/100\n",
      "62/62 [==============================] - 3s 48ms/step - loss: 0.0017\n",
      "Epoch 10/100\n",
      "62/62 [==============================] - 3s 49ms/step - loss: 0.0018\n",
      "Epoch 11/100\n",
      "62/62 [==============================] - 3s 48ms/step - loss: 0.0018\n",
      "Epoch 12/100\n",
      "62/62 [==============================] - 3s 51ms/step - loss: 0.0016\n",
      "Epoch 13/100\n",
      "62/62 [==============================] - 3s 49ms/step - loss: 0.0019\n",
      "Epoch 14/100\n",
      "62/62 [==============================] - 3s 49ms/step - loss: 0.0017\n",
      "Epoch 15/100\n",
      "62/62 [==============================] - 3s 48ms/step - loss: 0.0016\n",
      "Epoch 16/100\n",
      "62/62 [==============================] - 3s 49ms/step - loss: 0.0015\n",
      "Epoch 17/100\n",
      "62/62 [==============================] - 3s 48ms/step - loss: 0.0014\n",
      "Epoch 18/100\n",
      "62/62 [==============================] - 3s 49ms/step - loss: 0.0015\n",
      "Epoch 19/100\n",
      "62/62 [==============================] - 3s 48ms/step - loss: 0.0013\n",
      "Epoch 20/100\n",
      "62/62 [==============================] - 3s 50ms/step - loss: 0.0013\n",
      "Epoch 21/100\n",
      "62/62 [==============================] - 3s 48ms/step - loss: 0.0016\n",
      "Epoch 22/100\n",
      "62/62 [==============================] - 3s 49ms/step - loss: 0.0013\n",
      "Epoch 23/100\n",
      "62/62 [==============================] - 3s 48ms/step - loss: 0.0015\n",
      "Epoch 24/100\n",
      "62/62 [==============================] - 3s 49ms/step - loss: 0.0011\n",
      "Epoch 25/100\n",
      "62/62 [==============================] - 3s 48ms/step - loss: 0.0012\n",
      "Epoch 26/100\n",
      "62/62 [==============================] - 3s 49ms/step - loss: 0.0011\n",
      "Epoch 27/100\n",
      "62/62 [==============================] - 3s 48ms/step - loss: 0.0012\n",
      "Epoch 28/100\n",
      "62/62 [==============================] - 3s 49ms/step - loss: 0.0012\n",
      "Epoch 29/100\n",
      "62/62 [==============================] - 3s 48ms/step - loss: 0.0012\n",
      "Epoch 30/100\n",
      "62/62 [==============================] - 3s 49ms/step - loss: 0.0013\n",
      "Epoch 31/100\n",
      "62/62 [==============================] - 3s 48ms/step - loss: 0.0011\n",
      "Epoch 32/100\n",
      "62/62 [==============================] - 3s 49ms/step - loss: 0.0010\n",
      "Epoch 33/100\n",
      "62/62 [==============================] - 3s 48ms/step - loss: 0.0010\n",
      "Epoch 34/100\n",
      "62/62 [==============================] - 3s 49ms/step - loss: 9.5616e-04\n",
      "Epoch 35/100\n",
      "62/62 [==============================] - 3s 48ms/step - loss: 9.9862e-04\n",
      "Epoch 36/100\n",
      "62/62 [==============================] - 3s 49ms/step - loss: 0.0013\n",
      "Epoch 37/100\n",
      "62/62 [==============================] - 3s 48ms/step - loss: 9.5968e-04\n",
      "Epoch 38/100\n",
      "62/62 [==============================] - 3s 49ms/step - loss: 8.8188e-04\n",
      "Epoch 39/100\n",
      "62/62 [==============================] - 3s 48ms/step - loss: 9.5582e-04\n",
      "Epoch 40/100\n",
      "62/62 [==============================] - 3s 49ms/step - loss: 0.0010\n",
      "Epoch 41/100\n",
      "62/62 [==============================] - 3s 48ms/step - loss: 9.9150e-04\n",
      "Epoch 42/100\n",
      "62/62 [==============================] - 3s 49ms/step - loss: 8.4153e-04\n",
      "Epoch 43/100\n",
      "62/62 [==============================] - 3s 48ms/step - loss: 8.3334e-04\n",
      "Epoch 44/100\n",
      "62/62 [==============================] - 3s 49ms/step - loss: 8.7402e-04\n",
      "Epoch 45/100\n",
      "62/62 [==============================] - 3s 48ms/step - loss: 8.0647e-04\n",
      "Epoch 46/100\n",
      "62/62 [==============================] - 3s 51ms/step - loss: 0.0010\n",
      "Epoch 47/100\n",
      "62/62 [==============================] - 3s 48ms/step - loss: 8.1265e-04\n",
      "Epoch 48/100\n",
      "62/62 [==============================] - 3s 51ms/step - loss: 7.0555e-04\n",
      "Epoch 49/100\n",
      "62/62 [==============================] - 3s 48ms/step - loss: 8.0001e-04\n",
      "Epoch 50/100\n",
      "62/62 [==============================] - 3s 49ms/step - loss: 7.8053e-04\n",
      "Epoch 51/100\n",
      "62/62 [==============================] - 3s 48ms/step - loss: 8.0413e-04\n",
      "Epoch 52/100\n",
      "62/62 [==============================] - 3s 49ms/step - loss: 7.5184e-04\n",
      "Epoch 53/100\n",
      "62/62 [==============================] - 3s 48ms/step - loss: 7.2208e-04\n",
      "Epoch 54/100\n",
      "62/62 [==============================] - 3s 49ms/step - loss: 7.9140e-04\n",
      "Epoch 55/100\n",
      "62/62 [==============================] - 3s 48ms/step - loss: 8.3985e-04\n",
      "Epoch 56/100\n",
      "62/62 [==============================] - 3s 49ms/step - loss: 7.3030e-04\n",
      "Epoch 57/100\n",
      "62/62 [==============================] - 3s 48ms/step - loss: 6.8730e-04\n",
      "Epoch 58/100\n",
      "62/62 [==============================] - 3s 49ms/step - loss: 7.8965e-04\n",
      "Epoch 59/100\n",
      "62/62 [==============================] - 3s 48ms/step - loss: 6.7722e-04\n",
      "Epoch 60/100\n",
      "62/62 [==============================] - 3s 49ms/step - loss: 7.1720e-04\n",
      "Epoch 61/100\n",
      "62/62 [==============================] - 3s 48ms/step - loss: 7.7954e-04\n",
      "Epoch 62/100\n",
      "62/62 [==============================] - 3s 49ms/step - loss: 8.0160e-04\n",
      "Epoch 63/100\n",
      "62/62 [==============================] - 3s 48ms/step - loss: 8.3233e-04\n",
      "Epoch 64/100\n",
      "62/62 [==============================] - 3s 50ms/step - loss: 8.9657e-04\n",
      "Epoch 65/100\n",
      "62/62 [==============================] - 3s 48ms/step - loss: 8.7823e-04\n",
      "Epoch 66/100\n",
      "62/62 [==============================] - 3s 49ms/step - loss: 6.7395e-04\n",
      "Epoch 67/100\n",
      "62/62 [==============================] - 3s 48ms/step - loss: 6.7256e-04\n",
      "Epoch 68/100\n",
      "62/62 [==============================] - 3s 49ms/step - loss: 6.8676e-04\n",
      "Epoch 69/100\n",
      "62/62 [==============================] - 3s 48ms/step - loss: 6.6960e-04\n",
      "Epoch 70/100\n",
      "62/62 [==============================] - 3s 49ms/step - loss: 6.3649e-04\n",
      "Epoch 71/100\n",
      "62/62 [==============================] - 3s 48ms/step - loss: 7.7911e-04\n",
      "Epoch 72/100\n",
      "62/62 [==============================] - 3s 49ms/step - loss: 7.2888e-04\n",
      "Epoch 73/100\n",
      "62/62 [==============================] - 3s 48ms/step - loss: 6.5447e-04\n",
      "Epoch 74/100\n",
      "62/62 [==============================] - 3s 49ms/step - loss: 7.2901e-04\n",
      "Epoch 75/100\n",
      "62/62 [==============================] - 3s 48ms/step - loss: 6.2969e-04\n",
      "Epoch 76/100\n",
      "62/62 [==============================] - 3s 50ms/step - loss: 7.9519e-04\n",
      "Epoch 77/100\n",
      "62/62 [==============================] - 3s 48ms/step - loss: 7.0960e-04\n",
      "Epoch 78/100\n",
      "62/62 [==============================] - 3s 50ms/step - loss: 5.8448e-04\n",
      "Epoch 79/100\n",
      "62/62 [==============================] - 3s 48ms/step - loss: 6.8449e-04\n",
      "Epoch 80/100\n",
      "62/62 [==============================] - 3s 49ms/step - loss: 6.3440e-04\n",
      "Epoch 81/100\n",
      "62/62 [==============================] - 3s 48ms/step - loss: 6.1274e-04\n",
      "Epoch 82/100\n",
      "62/62 [==============================] - 3s 50ms/step - loss: 6.6502e-04\n",
      "Epoch 83/100\n",
      "62/62 [==============================] - 3s 48ms/step - loss: 6.2232e-04\n",
      "Epoch 84/100\n",
      "62/62 [==============================] - 3s 49ms/step - loss: 7.5456e-04\n",
      "Epoch 85/100\n",
      "62/62 [==============================] - 3s 49ms/step - loss: 5.7184e-04\n",
      "Epoch 86/100\n",
      "62/62 [==============================] - 3s 49ms/step - loss: 5.7064e-04\n",
      "Epoch 87/100\n",
      "62/62 [==============================] - 3s 49ms/step - loss: 6.1608e-04\n",
      "Epoch 88/100\n",
      "62/62 [==============================] - 3s 49ms/step - loss: 6.2700e-04\n",
      "Epoch 89/100\n",
      "62/62 [==============================] - 3s 49ms/step - loss: 6.5279e-04\n",
      "Epoch 90/100\n",
      "62/62 [==============================] - 3s 50ms/step - loss: 6.4477e-04\n",
      "Epoch 91/100\n",
      "62/62 [==============================] - 3s 49ms/step - loss: 6.9586e-04\n",
      "Epoch 92/100\n",
      "62/62 [==============================] - 3s 49ms/step - loss: 6.9952e-04\n",
      "Epoch 93/100\n",
      "62/62 [==============================] - 3s 49ms/step - loss: 6.0885e-04\n",
      "Epoch 94/100\n",
      "62/62 [==============================] - 3s 49ms/step - loss: 6.1079e-04\n",
      "Epoch 95/100\n",
      "62/62 [==============================] - 3s 49ms/step - loss: 7.2107e-04\n",
      "Epoch 96/100\n",
      "62/62 [==============================] - 3s 49ms/step - loss: 6.5514e-04\n",
      "Epoch 97/100\n",
      "62/62 [==============================] - 3s 49ms/step - loss: 6.4920e-04\n",
      "Epoch 98/100\n",
      "62/62 [==============================] - 3s 49ms/step - loss: 6.5782e-04\n",
      "Epoch 99/100\n",
      "62/62 [==============================] - 3s 49ms/step - loss: 6.2981e-04\n",
      "Epoch 100/100\n",
      "62/62 [==============================] - 3s 49ms/step - loss: 5.9015e-04\n"
     ]
    },
    {
     "data": {
      "text/plain": "<keras.callbacks.History at 0x16ac1a520>"
     },
     "execution_count": 66,
     "metadata": {},
     "output_type": "execute_result"
    }
   ],
   "source": [
    "model.fit(X_train, y_train, epochs=100, batch_size=32)"
   ],
   "metadata": {
    "collapsed": false,
    "pycharm": {
     "name": "#%%\n"
    }
   }
  },
  {
   "cell_type": "code",
   "execution_count": 68,
   "outputs": [],
   "source": [
    "real_stock_price = df_test.iloc[:, 1:2].values"
   ],
   "metadata": {
    "collapsed": false,
    "pycharm": {
     "name": "#%%\n"
    }
   }
  },
  {
   "cell_type": "code",
   "execution_count": 69,
   "outputs": [
    {
     "data": {
      "text/plain": "array([[220.1 ],\n       [221.1 ],\n       [229.45],\n       [230.3 ],\n       [237.7 ],\n       [237.1 ],\n       [229.7 ],\n       [226.25],\n       [215.  ],\n       [215.  ],\n       [215.5 ],\n       [208.  ],\n       [217.  ],\n       [223.5 ],\n       [230.  ],\n       [234.55]])"
     },
     "execution_count": 69,
     "metadata": {},
     "output_type": "execute_result"
    }
   ],
   "source": [
    "real_stock_price"
   ],
   "metadata": {
    "collapsed": false,
    "pycharm": {
     "name": "#%%\n"
    }
   }
  },
  {
   "cell_type": "code",
   "execution_count": 71,
   "outputs": [],
   "source": [
    "dataset_total = pd.concat((df['Open'], df_test['Open']), axis = 0)\n",
    "inputs = dataset_total[len(dataset_total) - len(df_test) - 60:].values\n",
    "inputs = inputs.reshape(-1,1)\n",
    "inputs = scaler.transform(inputs)"
   ],
   "metadata": {
    "collapsed": false,
    "pycharm": {
     "name": "#%%\n"
    }
   }
  },
  {
   "cell_type": "code",
   "execution_count": 73,
   "outputs": [],
   "source": [
    "X_test = []\n",
    "for i in range(60, 76):\n",
    "    X_test.append(inputs[i-60:i, 0])\n",
    "X_test = np.array(X_test)\n",
    "X_test = np.reshape(X_test, (X_test.shape[0], X_test.shape[1], 1))"
   ],
   "metadata": {
    "collapsed": false,
    "pycharm": {
     "name": "#%%\n"
    }
   }
  },
  {
   "cell_type": "code",
   "execution_count": 74,
   "outputs": [],
   "source": [
    "predicted_stock_price = model.predict(X_test)"
   ],
   "metadata": {
    "collapsed": false,
    "pycharm": {
     "name": "#%%\n"
    }
   }
  },
  {
   "cell_type": "code",
   "execution_count": 76,
   "outputs": [],
   "source": [
    "predicted_stock_price = scaler.inverse_transform(predicted_stock_price)"
   ],
   "metadata": {
    "collapsed": false,
    "pycharm": {
     "name": "#%%\n"
    }
   }
  },
  {
   "cell_type": "code",
   "execution_count": 77,
   "outputs": [
    {
     "data": {
      "text/plain": "<Figure size 432x288 with 1 Axes>",
      "image/png": "[encoded data removed]"
     },
     "metadata": {},
     "output_type": "display_data"
    }
   ],
   "source": [
    "plt.plot(real_stock_price, color = 'black', label = 'TATA Stock Price')\n",
    "plt.plot(predicted_stock_price, color = 'green', label = 'Predicted TATA Stock Price')\n",
    "plt.title('TATA Stock Price Prediction')\n",
    "plt.xlabel('Time')\n",
    "plt.ylabel('TATA Stock Price')\n",
    "plt.legend()\n",
    "plt.show()"
   ],
   "metadata": {
    "collapsed": false,
    "pycharm": {
     "name": "#%%\n"
    }
   }
  },
  {
   "cell_type": "code",
   "execution_count": 82,
   "outputs": [
    {
     "data": {
      "text/plain": "(210.0, 240.0)"
     },
     "execution_count": 82,
     "metadata": {},
     "output_type": "execute_result"
    },
    {
     "data": {
      "text/plain": "<Figure size 432x288 with 1 Axes>",
      "image/png": "[encoded data removed]"
     },
     "metadata": {},
     "output_type": "display_data"
    }
   ],
   "source": [
    "plt.scatter(x=real_stock_price, y=predicted_stock_price)\n",
    "plt.ylim(210, 240)"
   ],
   "metadata": {
    "collapsed": false,
    "pycharm": {
     "name": "#%%\n"
    }
   }
  },
  {
   "cell_type": "code",
   "execution_count": null,
   "outputs": [],
   "source": [],
   "metadata": {
    "collapsed": false,
    "pycharm": {
     "name": "#%%\n"
    }
   }
  },
  {
   "cell_type": "code",
   "execution_count": null,
   "outputs": [],
   "source": [],
   "metadata": {
    "collapsed": false,
    "pycharm": {
     "name": "#%%\n"
    }
   }
  },
  {
   "cell_type": "code",
   "execution_count": 67,
   "outputs": [
    {
     "ename": "TypeError",
     "evalue": "'int' object is not iterable",
     "output_type": "error",
     "traceback": [
      "\u001B[0;31m---------------------------------------------------------------------------\u001B[0m",
      "\u001B[0;31mTypeError\u001B[0m                                 Traceback (most recent call last)",
      "Input \u001B[0;32mIn [67]\u001B[0m, in \u001B[0;36m<cell line: 2>\u001B[0;34m()\u001B[0m\n\u001B[1;32m      1\u001B[0m \u001B[38;5;28;01mimport\u001B[39;00m \u001B[38;5;21;01mvisualkeras\u001B[39;00m\n\u001B[0;32m----> 2\u001B[0m \u001B[43mvisualkeras\u001B[49m\u001B[38;5;241;43m.\u001B[39;49m\u001B[43mlayered_view\u001B[49m\u001B[43m(\u001B[49m\u001B[43mmodel\u001B[49m\u001B[38;5;241;43m=\u001B[39;49m\u001B[43mmodel\u001B[49m\u001B[43m,\u001B[49m\u001B[43m \u001B[49m\u001B[43mlegend\u001B[49m\u001B[38;5;241;43m=\u001B[39;49m\u001B[38;5;28;43;01mTrue\u001B[39;49;00m\u001B[43m)\u001B[49m\n",
      "File \u001B[0;32m/opt/homebrew/Caskroom/miniforge/base/envs/regular/lib/python3.9/site-packages/visualkeras/layered.py:100\u001B[0m, in \u001B[0;36mlayered_view\u001B[0;34m(model, to_file, min_z, min_xy, max_z, max_xy, scale_z, scale_xy, type_ignore, index_ignore, color_map, one_dim_orientation, background_fill, draw_volume, padding, spacing, draw_funnel, shade_step, legend, font, font_color)\u001B[0m\n\u001B[1;32m     98\u001B[0m     x \u001B[38;5;241m=\u001B[39m \u001B[38;5;28mmin\u001B[39m(\u001B[38;5;28mmax\u001B[39m(shape[\u001B[38;5;241m1\u001B[39m] \u001B[38;5;241m*\u001B[39m scale_xy, x), max_xy)\n\u001B[1;32m     99\u001B[0m     y \u001B[38;5;241m=\u001B[39m \u001B[38;5;28mmin\u001B[39m(\u001B[38;5;28mmax\u001B[39m(shape[\u001B[38;5;241m2\u001B[39m] \u001B[38;5;241m*\u001B[39m scale_xy, y), max_xy)\n\u001B[0;32m--> 100\u001B[0m     z \u001B[38;5;241m=\u001B[39m \u001B[38;5;28mmin\u001B[39m(\u001B[38;5;28;43mmax\u001B[39;49m\u001B[43m(\u001B[49m\u001B[43mz\u001B[49m\u001B[43m)\u001B[49m, max_z)\n\u001B[1;32m    101\u001B[0m \u001B[38;5;28;01melif\u001B[39;00m \u001B[38;5;28mlen\u001B[39m(shape) \u001B[38;5;241m==\u001B[39m \u001B[38;5;241m2\u001B[39m:\n\u001B[1;32m    102\u001B[0m     \u001B[38;5;28;01mif\u001B[39;00m one_dim_orientation \u001B[38;5;241m==\u001B[39m \u001B[38;5;124m'\u001B[39m\u001B[38;5;124mx\u001B[39m\u001B[38;5;124m'\u001B[39m:\n",
      "\u001B[0;31mTypeError\u001B[0m: 'int' object is not iterable"
     ]
    }
   ],
   "source": [
    "import visualkeras\n",
    "visualkeras.layered_view(model=model, legend=True)"
   ],
   "metadata": {
    "collapsed": false,
    "pycharm": {
     "name": "#%%\n"
    }
   }
  },
  {
   "cell_type": "code",
   "execution_count": null,
   "outputs": [],
   "source": [],
   "metadata": {
    "collapsed": false,
    "pycharm": {
     "name": "#%%\n"
    }
   }
  }
 ],
 "metadata": {
  "kernelspec": {
   "display_name": "Python 3",
   "language": "python",
   "name": "python3"
  },
  "language_info": {
   "codemirror_mode": {
    "name": "ipython",
    "version": 2
   },
   "file_extension": ".py",
   "mimetype": "text/x-python",
   "name": "python",
   "nbconvert_exporter": "python",
   "pygments_lexer": "ipython2",
   "version": "2.7.6"
  }
 },
 "nbformat": 4,
 "nbformat_minor": 0
}