{
 "cells": [
  {
   "cell_type": "markdown",
   "metadata": {
    "pycharm": {
     "name": "#%% md\n"
    }
   },
   "source": [
    "# Data Visualization Tutorial\n",
    "\n",
    "Notebook from [Eric Elmoznino](https://github.com/EricElmoznino/lighthouse_visualization_tutorial).\n",
    "\n",
    "In this tutorial, we will visualize a dataset using both the `matplotlib` and the `seaborn` libraries.\n",
    "\n",
    "---\n",
    "## The dataset"
   ]
  },
  {
   "cell_type": "code",
   "execution_count": 1,
   "metadata": {
    "pycharm": {
     "name": "#%%\n"
    }
   },
   "outputs": [
    {
     "data": {
      "text/plain": "   total_bill   tip     sex smoker  day    time  size\n0       16.99  1.01  Female     No  Sun  Dinner     2\n1       10.34  1.66    Male     No  Sun  Dinner     3\n2       21.01  3.50    Male     No  Sun  Dinner     3\n3       23.68  3.31    Male     No  Sun  Dinner     2\n4       24.59  3.61  Female     No  Sun  Dinner     4",
      "text/html": "<div>\n<style scoped>\n    .dataframe tbody tr th:only-of-type {\n        vertical-align: middle;\n    }\n\n    .dataframe tbody tr th {\n        vertical-align: top;\n    }\n\n    .dataframe thead th {\n        text-align: right;\n    }\n</style>\n<table border=\"1\" class=\"dataframe\">\n  <thead>\n    <tr style=\"text-align: right;\">\n      <th></th>\n      <th>total_bill</th>\n      <th>tip</th>\n      <th>sex</th>\n      <th>smoker</th>\n      <th>day</th>\n      <th>time</th>\n      <th>size</th>\n    </tr>\n  </thead>\n  <tbody>\n    <tr>\n      <th>0</th>\n      <td>16.99</td>\n      <td>1.01</td>\n      <td>Female</td>\n      <td>No</td>\n      <td>Sun</td>\n      <td>Dinner</td>\n      <td>2</td>\n    </tr>\n    <tr>\n      <th>1</th>\n      <td>10.34</td>\n      <td>1.66</td>\n      <td>Male</td>\n      <td>No</td>\n      <td>Sun</td>\n      <td>Dinner</td>\n      <td>3</td>\n    </tr>\n    <tr>\n      <th>2</th>\n      <td>21.01</td>\n      <td>3.50</td>\n      <td>Male</td>\n      <td>No</td>\n      <td>Sun</td>\n      <td>Dinner</td>\n      <td>3</td>\n    </tr>\n    <tr>\n      <th>3</th>\n      <td>23.68</td>\n      <td>3.31</td>\n      <td>Male</td>\n      <td>No</td>\n      <td>Sun</td>\n      <td>Dinner</td>\n      <td>2</td>\n    </tr>\n    <tr>\n      <th>4</th>\n      <td>24.59</td>\n      <td>3.61</td>\n      <td>Female</td>\n      <td>No</td>\n      <td>Sun</td>\n      <td>Dinner</td>\n      <td>4</td>\n    </tr>\n  </tbody>\n</table>\n</div>"
     },
     "execution_count": 1,
     "metadata": {},
     "output_type": "execute_result"
    }
   ],
   "source": [
    "import seaborn as sns\n",
    "\n",
    "df = sns.load_dataset(\"tips\")\n",
    "df.head(5)"
   ]
  },
  {
   "cell_type": "markdown",
   "metadata": {
    "pycharm": {
     "name": "#%% md\n"
    }
   },
   "source": [
    "---\n",
    "## Matplotlib\n",
    "This is the visualization library you will use when you want to quickly make a simple plot, or when you want very\n",
    "fine-grained control over every aspect of the plot.\n",
    "\n",
    "- Matplotlib = lower-level\n",
    "- Seaborn = higher-level\n",
    "\n",
    "> **Note:** We will only be using the \"stateless\" API (object-oriented), as opposed \"stateful\" API (which is used in the compass exercises). Tomorrow you will cover stateless. I think that the stateless API is the one you should try to be more comfortable with as it is a) more intuitive to use and b) provides more functionality."
   ]
  },
  {
   "cell_type": "code",
   "execution_count": null,
   "metadata": {
    "pycharm": {
     "name": "#%%\n"
    }
   },
   "outputs": [],
   "source": [
    "import matplotlib.pyplot as plt"
   ]
  },
  {
   "cell_type": "markdown",
   "metadata": {
    "pycharm": {
     "name": "#%% md\n"
    }
   },
   "source": [
    "### Basic API\n",
    "The general workflow consists of:\n",
    "- Using `plt.subplots()` to create a Figure and any number of Axes (graphs) you want (Figure=canvas, Axes=graphs).\n",
    "- Using the `ax.` plotting methods to generate the visualizations.\n",
    "- Using the `ax.` customization methods to fine-tune your plots.\n",
    "- Displaying or saving the plot."
   ]
  },
  {
   "cell_type": "code",
   "execution_count": null,
   "metadata": {
    "pycharm": {
     "name": "#%%\n"
    }
   },
   "outputs": [],
   "source": [
    "#stateless API\n",
    "# Create Figure and Axes objects with which to do your plotting\n",
    "fig, ax = plt.subplots()\n",
    "\n",
    "# Get numpy arrays for the data you want to plot\n",
    "total_bill = df['total_bill'].values\n",
    "tip = df['tip'].values\n",
    "\n",
    "# Plot the data using one of Matplotlib's plotting functions\n",
    "ax.scatter(total_bill, tip)\n",
    "\n",
    "# Customize other aspects of the plot\n",
    "ax.set_title('Tip amounts as a function of total bill')\n",
    "ax.set_xlabel('Total Bill (USD)')\n",
    "ax.set_ylabel('Tip (USD)')\n",
    "\n",
    "# Display the plot\n",
    "plt.show()"
   ]
  },
  {
   "cell_type": "code",
   "execution_count": null,
   "metadata": {
    "scrolled": true,
    "pycharm": {
     "name": "#%%\n"
    }
   },
   "outputs": [],
   "source": [
    "#stateful API\n",
    "# Don't define Figure and Axes objects. Instead, the \"state\" of plt is remembered.\n",
    "# Figures and Axes are remembered, but it is difficult to access specific ones.\n",
    "\n",
    "# Plot the data using one of Matplotlib's plotting functions\n",
    "plt.scatter(total_bill, tip)\n",
    "\n",
    "# Customize other aspects of the plot\n",
    "plt.title('Tip amounts as a function of total bill')\n",
    "plt.xlabel('Total Bill (USD)')\n",
    "plt.ylabel('Tip (USD)')\n",
    "\n",
    "# Display the plot\n",
    "plt.show()"
   ]
  },
  {
   "cell_type": "markdown",
   "metadata": {
    "pycharm": {
     "name": "#%% md\n"
    }
   },
   "source": [
    "### Multiple plots on the same Axes object (graph)"
   ]
  },
  {
   "cell_type": "code",
   "execution_count": null,
   "metadata": {
    "pycharm": {
     "name": "#%%\n"
    }
   },
   "outputs": [],
   "source": [
    "# Create the figure and get an Axes object with which to do your plotting\n",
    "fig, ax = plt.subplots(figsize=(10, 8))    # You can manually set the figure size (width and height in inches)\n",
    "\n",
    "# Get numpy arrays for the data you want to plot\n",
    "df_female = df[df['sex'] == 'Female']\n",
    "df_male = df[df['sex'] == 'Male']\n",
    "total_bill_female = df_female['total_bill'].values\n",
    "tip_female = df_female['tip'].values\n",
    "total_bill_male = df_male['total_bill'].values\n",
    "tip_male = df_male['tip'].values\n",
    "\n",
    "# To put multiple plots in the same graph, just call\n",
    "# multiple plotting functions. You can also pass in\n",
    "# a label which will be used if you display a legend\n",
    "ax.scatter(total_bill_female, tip_female, label='Female', color='red')\n",
    "ax.scatter(total_bill_male, tip_male, label='Male', color='blue')\n",
    "\n",
    "# Customize other aspects of the plot\n",
    "ax.set_title('Tip amounts as a function of total bill')\n",
    "ax.set_xlabel('Total Bill (USD)')\n",
    "ax.set_ylabel('Tip (USD)')\n",
    "\n",
    "# Display the legend\n",
    "ax.legend()\n",
    "#ax.legend(loc='lower right')\n",
    "\n",
    "# Display the plot\n",
    "plt.show()"
   ]
  },
  {
   "cell_type": "markdown",
   "metadata": {
    "pycharm": {
     "name": "#%% md\n"
    }
   },
   "source": [
    "### Multiple plots on different Axes objects (graph)"
   ]
  },
  {
   "cell_type": "code",
   "execution_count": null,
   "metadata": {
    "pycharm": {
     "name": "#%%\n"
    }
   },
   "outputs": [],
   "source": [
    "# Create 2 graphs, arranged in a 1row X 2column. \"axes\" will be an array of Axes objects.\n",
    "# Note: if our grid were 2D (i.e. more than 1 row and column), then \"axes\" would be a 2d array of Axes objects.\n",
    "fig, axes = plt.subplots(1, 2, figsize=(14, 5))\n",
    "\n",
    "# Make a scatterplot on the first graph\n",
    "axes[0].scatter(total_bill, tip)\n",
    "\n",
    "# Customize the first graph\n",
    "axes[0].set_title('Tip amounts as a function of total bill')\n",
    "axes[0].set_xlabel('Total Bill (USD)')\n",
    "axes[0].set_ylabel('Tip (USD)')\n",
    "\n",
    "# Make a histogram on the second graph\n",
    "axes[1].hist(tip)\n",
    "\n",
    "# Customize the second graph\n",
    "axes[1].set_title('Distribution of tip amounts')\n",
    "axes[1].set_xlabel('Tip (USD)')\n",
    "axes[1].set_xlim(left=0)\n",
    "\n",
    "# Display the plot\n",
    "plt.show()"
   ]
  },
  {
   "cell_type": "markdown",
   "metadata": {
    "pycharm": {
     "name": "#%% md\n"
    }
   },
   "source": [
    "---\n",
    "## Seaborn\n",
    "This is likely the visualization library that you will use the most when trying\n",
    "to present your data at a more professional level, or when attempting to visualize\n",
    "more complex relationships easily. The advantages of Seaborn over Matplotlib are:\n",
    "- It is designed to work well with Pandas, and this will be the format of most of your datasets.\n",
    "- It handles a lot of the plotting logic for you. Fewer lines of code than using Matplotlib alone.\n",
    "- It supports many kinds of plots natively and has a simple API to customize them.\n",
    "- When necessary, you can still use Matplotlib to fine-tune your figures on top of Seaborn ones, since Seaborn is just using Matplotlib under the hood.\n",
    "\n",
    "For a quick introduction to many different seaborn plots using simple\n",
    "examples, visit this [tutorial](https://seaborn.pydata.org/introduction.html)\n",
    "on their website."
   ]
  },
  {
   "cell_type": "code",
   "execution_count": null,
   "metadata": {
    "pycharm": {
     "name": "#%%\n"
    }
   },
   "outputs": [],
   "source": [
    "# There are multiple themes that will apply to your whole plots \n",
    "# https://www.codecademy.com/articles/seaborn-design-i#:~:text=Seaborn%20has%20five%20built%2Din,better%20suit%20your%20presentation%20needs.\n",
    "sns.set_style(\"darkgrid\")"
   ]
  },
  {
   "cell_type": "code",
   "execution_count": null,
   "metadata": {
    "pycharm": {
     "name": "#%%\n"
    }
   },
   "outputs": [],
   "source": [
    "df.head(5)"
   ]
  },
  {
   "cell_type": "markdown",
   "metadata": {
    "pycharm": {
     "name": "#%% md\n"
    }
   },
   "source": [
    "### Basic API\n",
    "Most Seaborn plotting functions take in:\n",
    "- A `data` argument, which is your Pandas dataframe\n",
    "- One or more column names from your dataframe which dictate which parts are used for plotting"
   ]
  },
  {
   "cell_type": "code",
   "execution_count": null,
   "metadata": {
    "pycharm": {
     "name": "#%%\n"
    }
   },
   "outputs": [],
   "source": [
    "sns.scatterplot(x='total_bill', y='tip', data=df) #x and y are the column names from df\n",
    "\n",
    "plt.show()"
   ]
  },
  {
   "cell_type": "markdown",
   "metadata": {
    "pycharm": {
     "name": "#%% md\n"
    }
   },
   "source": [
    "### Multiple plots in one figure\n",
    "Most of the time, plotting functions take in an optional `hue` parameter\n",
    "which corresponds to a column name that will be used to split the data.\n",
    "The colours and legend will be created automatically.\n",
    "There are often many other parameters too, depending on the plot type,\n",
    "for which you can simply pass in column names that will dictate plot attributes.\n",
    "This flexibility to work with a single dataframe and use various columns\n",
    "to customize different properties of the resulting graph is one of the\n",
    "things that makes Seaborn so powerful and easy to use."
   ]
  },
  {
   "cell_type": "code",
   "execution_count": null,
   "metadata": {
    "pycharm": {
     "name": "#%%\n"
    }
   },
   "outputs": [],
   "source": [
    "sns.scatterplot(x='total_bill', y='tip', hue='sex', data=df)\n",
    "#sns.scatterplot(x='total_bill', y='tip', hue='size', data=df)\n",
    "\n",
    "plt.show()"
   ]
  },
  {
   "cell_type": "code",
   "execution_count": null,
   "metadata": {
    "pycharm": {
     "name": "#%%\n"
    }
   },
   "outputs": [],
   "source": [
    "sns.scatterplot(x='total_bill', y='tip', hue='sex', style='time', data=df)\n",
    "\n",
    "plt.show()"
   ]
  },
  {
   "cell_type": "code",
   "execution_count": null,
   "metadata": {
    "pycharm": {
     "name": "#%%\n"
    }
   },
   "outputs": [],
   "source": [
    "sns.scatterplot(x='total_bill', y='tip', hue='sex', style='time', size='size', data=df)\n",
    "\n",
    "plt.show()"
   ]
  },
  {
   "cell_type": "markdown",
   "metadata": {
    "pycharm": {
     "name": "#%% md\n"
    }
   },
   "source": [
    "### There are many more complex plot types"
   ]
  },
  {
   "cell_type": "markdown",
   "metadata": {
    "pycharm": {
     "name": "#%% md\n"
    }
   },
   "source": [
    "Some plot types will even automatically compute things for you and display them\n",
    "(such as error bars)."
   ]
  },
  {
   "cell_type": "code",
   "execution_count": null,
   "metadata": {
    "pycharm": {
     "name": "#%%\n"
    }
   },
   "outputs": [],
   "source": [
    "sns.barplot(x='day', y='total_bill', color='steelblue', data=df) #displays averages (and error bars) by default\n",
    "\n",
    "plt.show()"
   ]
  },
  {
   "cell_type": "code",
   "execution_count": null,
   "metadata": {
    "pycharm": {
     "name": "#%%\n"
    }
   },
   "outputs": [],
   "source": [
    "sns.violinplot(x='day', y='total_bill', hue='sex', data=df)\n",
    "\n",
    "plt.show()"
   ]
  },
  {
   "cell_type": "markdown",
   "metadata": {
    "pycharm": {
     "name": "#%% md\n"
    }
   },
   "source": [
    "### Integration with Matplotlib\n",
    "Seaborn plots can be customized further using Matplotlib. Any seaborn plotting function:\n",
    "- Returns a Matplotlib \"Axes\" object, which you can use just like any ordinary Matplotlib object.\n",
    "- Can optionally take a Matplotlib \"Axes\" object as input, if you want to apply a Seaborn plot to an existing figure."
   ]
  },
  {
   "cell_type": "code",
   "execution_count": null,
   "metadata": {
    "pycharm": {
     "name": "#%%\n"
    }
   },
   "outputs": [],
   "source": [
    "ax = sns.scatterplot(x='total_bill', y='tip', data=df)\n",
    "\n",
    "# Change the default axis labels\n",
    "ax.set_xlabel('Total Bill (USD)')\n",
    "ax.set_ylabel('Tip (USD)')\n",
    "\n",
    "# Manually set the range of an axis\n",
    "ax.set_ylim(bottom=0)\n",
    "\n",
    "plt.show()"
   ]
  },
  {
   "cell_type": "code",
   "execution_count": null,
   "metadata": {
    "pycharm": {
     "name": "#%%\n"
    }
   },
   "outputs": [],
   "source": [
    "fig, axes = plt.subplots(1, 2, figsize=(15, 5))\n",
    "\n",
    "sns.scatterplot(x='total_bill', y='tip', data=df, ax=axes[0])\n",
    "sns.violinplot(x='day', y='tip', hue='sex', data=df, ax=axes[1])\n",
    "\n",
    "#plt.savefig('filename.jpg') #must come before plt.show()\n",
    "plt.show()"
   ]
  },
  {
   "cell_type": "markdown",
   "metadata": {
    "pycharm": {
     "name": "#%% md\n"
    }
   },
   "source": [
    "### Seaborn examples\n",
    "Check out Seaborn's example plotting gallery [here](https://seaborn.pydata.org/examples/index.html) for inspiration on the different types of graphs possible with Seaborn."
   ]
  }
 ],
 "metadata": {
  "kernelspec": {
   "display_name": "Python 3 (ipykernel)",
   "language": "python",
   "name": "python3"
  },
  "language_info": {
   "codemirror_mode": {
    "name": "ipython",
    "version": 3
   },
   "file_extension": ".py",
   "mimetype": "text/x-python",
   "name": "python",
   "nbconvert_exporter": "python",
   "pygments_lexer": "ipython3",
   "version": "3.9.7"
  }
 },
 "nbformat": 4,
 "nbformat_minor": 4
}