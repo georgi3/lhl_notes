{
 "cells": [
  {
   "cell_type": "markdown",
   "metadata": {
    "pycharm": {
     "name": "#%% md\n"
    }
   },
   "source": [
    "# Libraries"
   ]
  },
  {
   "cell_type": "code",
   "execution_count": 117,
   "metadata": {
    "pycharm": {
     "name": "#%%\n"
    }
   },
   "outputs": [],
   "source": [
    "import re"
   ]
  },
  {
   "cell_type": "markdown",
   "metadata": {
    "pycharm": {
     "name": "#%% md\n"
    }
   },
   "source": [
    "# Load article\n",
    "\n",
    "Download the text from [**here**](https://drive.google.com/file/d/1PEUMaDaPye5pxlA-SZTsnZ4k7WSzdLLe/view?usp=sharing) and load it into python using the following code snippet."
   ]
  },
  {
   "cell_type": "code",
   "execution_count": 182,
   "metadata": {
    "pycharm": {
     "name": "#%%\n"
    }
   },
   "outputs": [],
   "source": [
    "# Load lines into list\n",
    "filename = 'Article.txt'\n",
    "with open(filename, encoding='utf-8') as f:\n",
    "    txt = f.readlines()"
   ]
  },
  {
   "cell_type": "markdown",
   "metadata": {
    "pycharm": {
     "name": "#%% md\n"
    }
   },
   "source": [
    "# Tasks"
   ]
  },
  {
   "cell_type": "markdown",
   "metadata": {
    "pycharm": {
     "name": "#%% md\n"
    }
   },
   "source": [
    "### Print the first 20 lines of article"
   ]
  },
  {
   "cell_type": "code",
   "execution_count": 183,
   "metadata": {
    "pycharm": {
     "name": "#%%\n"
    }
   },
   "outputs": [],
   "source": [
    "def gen(text):\n",
    "    for line in text:\n",
    "        yield line"
   ]
  },
  {
   "cell_type": "code",
   "execution_count": 184,
   "outputs": [
    {
     "name": "stdout",
     "output_type": "stream",
     "text": [
      "How To Start When You’ve Procrastinated On Your Goals For Too Long\n",
      "\n",
      "\n",
      "\n",
      "As you are reading this, you probably have a goal on your own, that you’ve pushed, postponed, procrastinated on, and other words that start with P, for days, weeks, months, or even years.\n",
      "\n",
      "\n",
      "\n",
      "Not only that, but you’ve reached the point where even the thought of the goal, brings the feeling of having butterflies in your stomach. Demon butterflies.\n",
      "\n",
      "\n",
      "\n",
      "Hopefully, today is the day you will break the chain as well.\n",
      "\n",
      "\n",
      "\n",
      "Let me help you with that.\n",
      "\n",
      "\n",
      "\n",
      "First, the explanation.\n",
      "\n",
      "In the beginning, when we set the goal, we feel usually motivated, for about a day. As each additional day passes, the resistance starts to grow.\n",
      "\n",
      "\n",
      "\n",
      "As more time passes by, we feel more overwhelmed, especially if we have attempted to start several times, and failed. It stacks up, but in a wrong direction.\n",
      "\n",
      "\n",
      "\n",
      "The biggest problem in this scenario is that we think of the sheer size of the goal, or to be more accurate, the list of the activities we need to do, and how much time it will take us to do them all.\n",
      "\n",
      "\n",
      "\n",
      "We think about the big picture.\n",
      "\n",
      "\n",
      "\n",
      "There is nothing wrong with the big picture, on the contrary, we need it, but in the beginning, when it’s the planning phase.\n",
      "\n"
     ]
    },
    {
     "data": {
      "text/plain": "['How To Start When You’ve Procrastinated On Your Goals For Too Long\\n',\n '\\n',\n 'As you are reading this, you probably have a goal on your own, that you’ve pushed, postponed, procrastinated on, and other words that start with P, for days, weeks, months, or even years.\\n',\n '\\n',\n 'Not only that, but you’ve reached the point where even the thought of the goal, brings the feeling of having butterflies in your stomach. Demon butterflies.\\n',\n '\\n',\n 'Hopefully, today is the day you will break the chain as well.\\n',\n '\\n',\n 'Let me help you with that.\\n',\n '\\n',\n 'First, the explanation.\\n',\n 'In the beginning, when we set the goal, we feel usually motivated, for about a day. As each additional day passes, the resistance starts to grow.\\n',\n '\\n',\n 'As more time passes by, we feel more overwhelmed, especially if we have attempted to start several times, and failed. It stacks up, but in a wrong direction.\\n',\n '\\n',\n 'The biggest problem in this scenario is that we think of the sheer size of the goal, or to be more accurate, the list of the activities we need to do, and how much time it will take us to do them all.\\n',\n '\\n',\n 'We think about the big picture.\\n',\n '\\n',\n 'There is nothing wrong with the big picture, on the contrary, we need it, but in the beginning, when it’s the planning phase.\\n']"
     },
     "execution_count": 184,
     "metadata": {},
     "output_type": "execute_result"
    }
   ],
   "source": [
    "lines = gen(txt)\n",
    "for _ in range(20):\n",
    "    print(next(lines))\n",
    "\n",
    "txt[:20]"
   ],
   "metadata": {
    "collapsed": false,
    "pycharm": {
     "name": "#%%\n"
    }
   }
  },
  {
   "cell_type": "markdown",
   "metadata": {
    "pycharm": {
     "name": "#%% md\n"
    }
   },
   "source": [
    "## Print out every line from the file that..."
   ]
  },
  {
   "cell_type": "markdown",
   "metadata": {
    "pycharm": {
     "name": "#%% md\n"
    }
   },
   "source": [
    "... that has 'q'"
   ]
  },
  {
   "cell_type": "code",
   "execution_count": 207,
   "outputs": [],
   "source": [
    "def search(reg_ex, text=txt):\n",
    "    for line in text:\n",
    "        matches = re.findall(reg_ex, line)\n",
    "        if matches:\n",
    "            print(matches)\n",
    "def search(reg_ex, text=txt):\n",
    "    return [re.findall(reg_ex, line) for line in text if re.findall(reg_ex, line)]"
   ],
   "metadata": {
    "collapsed": false,
    "pycharm": {
     "name": "#%%\n"
    }
   }
  },
  {
   "cell_type": "code",
   "execution_count": 208,
   "metadata": {
    "pycharm": {
     "name": "#%%\n"
    }
   },
   "outputs": [
    {
     "data": {
      "text/plain": "[['q', 'q']]"
     },
     "execution_count": 208,
     "metadata": {},
     "output_type": "execute_result"
    }
   ],
   "source": [
    "regex = r'q'\n",
    "search(regex)"
   ]
  },
  {
   "cell_type": "code",
   "execution_count": 194,
   "outputs": [
    {
     "data": {
      "text/plain": "1"
     },
     "execution_count": 194,
     "metadata": {},
     "output_type": "execute_result"
    }
   ],
   "source": [
    "l = [1, 2, 3, 4, 5]\n",
    "iterator = iter(l)\n",
    "next(iterator)"
   ],
   "metadata": {
    "collapsed": false,
    "pycharm": {
     "name": "#%%\n"
    }
   }
  },
  {
   "cell_type": "markdown",
   "metadata": {
    "pycharm": {
     "name": "#%% md\n"
    }
   },
   "source": [
    "... that starts with 'H'"
   ]
  },
  {
   "cell_type": "code",
   "execution_count": 123,
   "metadata": {
    "pycharm": {
     "name": "#%%\n"
    }
   },
   "outputs": [
    {
     "name": "stdout",
     "output_type": "stream",
     "text": [
      "['H']\n",
      "['H']\n"
     ]
    }
   ],
   "source": [
    "regex = r'^H'\n",
    "search(regex)"
   ]
  },
  {
   "cell_type": "markdown",
   "metadata": {
    "pycharm": {
     "name": "#%% md\n"
    }
   },
   "source": [
    "... that has 'wh'"
   ]
  },
  {
   "cell_type": "code",
   "execution_count": 124,
   "metadata": {
    "pycharm": {
     "name": "#%%\n"
    }
   },
   "outputs": [
    {
     "name": "stdout",
     "output_type": "stream",
     "text": [
      "['wh']\n",
      "['wh']\n",
      "['wh']\n",
      "['wh']\n",
      "['wh']\n",
      "['wh', 'wh', 'wh']\n",
      "['wh']\n",
      "['wh']\n",
      "['wh']\n",
      "['wh']\n",
      "['wh', 'wh']\n",
      "['wh']\n",
      "['wh']\n",
      "['wh']\n",
      "['wh']\n"
     ]
    }
   ],
   "source": [
    "regex = r'(wh)'\n",
    "search(regex)"
   ]
  },
  {
   "cell_type": "markdown",
   "metadata": {
    "pycharm": {
     "name": "#%% md\n"
    }
   },
   "source": [
    "... that has an 'q' or a 'Q'"
   ]
  },
  {
   "cell_type": "code",
   "execution_count": 125,
   "metadata": {
    "pycharm": {
     "name": "#%%\n"
    }
   },
   "outputs": [
    {
     "name": "stdout",
     "output_type": "stream",
     "text": [
      "['q', 'q']\n",
      "['Q', 'Q']\n"
     ]
    }
   ],
   "source": [
    "regex = r'(q|Q)'\n",
    "search(regex)"
   ]
  },
  {
   "cell_type": "markdown",
   "metadata": {
    "pycharm": {
     "name": "#%% md\n"
    }
   },
   "source": [
    "... that has a '*' in it"
   ]
  },
  {
   "cell_type": "code",
   "execution_count": 126,
   "metadata": {
    "pycharm": {
     "name": "#%%\n"
    }
   },
   "outputs": [
    {
     "name": "stdout",
     "output_type": "stream",
     "text": [
      "['*', '*', '*', '*', '*', '*', '*', '*', '*', '*', '*', '*', '*', '*', '*', '*', '*', '*', '*', '*', '*', '*', '*', '*', '*', '*', '*', '*', '*', '*', '*']\n",
      "['*']\n"
     ]
    }
   ],
   "source": [
    "regex = r'\\*'\n",
    "search(regex)"
   ]
  },
  {
   "cell_type": "markdown",
   "metadata": {
    "pycharm": {
     "name": "#%% md\n"
    }
   },
   "source": [
    "... that has a '*' (star) in it"
   ]
  },
  {
   "cell_type": "markdown",
   "metadata": {
    "pycharm": {
     "name": "#%% md\n"
    }
   },
   "source": [
    "... that starts with an 'T' or an 't'"
   ]
  },
  {
   "cell_type": "code",
   "execution_count": 127,
   "metadata": {
    "pycharm": {
     "name": "#%%\n"
    }
   },
   "outputs": [
    {
     "name": "stdout",
     "output_type": "stream",
     "text": [
      "['t', 't', 't', 't']\n",
      "['t', 't', 't', 't', 't', 't', 't', 't', 't', 't', 't', 't', 't']\n",
      "['t', 't', 't', 't', 't', 't', 't', 't', 't', 't', 't', 't', 't', 't', 't', 't']\n",
      "['t', 't', 't']\n",
      "['t', 't', 't', 't']\n",
      "['t', 't', 't']\n",
      "['t', 't', 't', 't', 't', 't', 't', 't', 't', 't', 't', 't']\n",
      "['t', 't', 't', 't', 't', 't', 't', 't', 't', 't', 't', 't']\n",
      "['T', 't', 't', 't', 't', 't', 't', 't', 't', 't', 't', 't', 't', 't', 't', 't', 't', 't', 't', 't', 't']\n",
      "['t', 't', 't', 't']\n",
      "['T', 't', 't', 't', 't', 't', 't', 't', 't', 't', 't', 't']\n",
      "['t', 't', 't', 't', 't']\n",
      "['T', 't', 't', 't', 't', 't', 't', 't']\n",
      "['T', 't', 't', 't', 't', 't', 't', 't', 't', 't', 't', 't', 't', 't', 't', 't']\n",
      "['t', 't', 't', 't', 't', 't', 't']\n",
      "['t', 't', 't', 't', 't', 't', 't']\n",
      "['t', 't', 't', 't', 't', 't', 't', 't', 't', 't', 't', 't', 't', 't']\n",
      "['t', 't']\n",
      "['t', 't', 't', 't', 't', 't', 't', 't', 't', 't']\n",
      "['T', 't', 't']\n",
      "['t', 't', 't', 't', 't', 't', 't', 't', 't', 't', 't', 't', 't', 't', 't', 't', 't']\n",
      "['t', 't', 't', 't', 't', 't']\n",
      "['t', 't']\n",
      "['T', 't', 't', 't', 't']\n",
      "['t', 't', 't', 't', 't', 't', 't', 't', 't', 't', 't', 't', 't', 't']\n",
      "['t', 't', 't']\n",
      "['t', 't', 't', 't', 't', 't', 't', 't', 't', 't', 't', 't', 't']\n",
      "['t', 't', 't', 't', 't', 't', 't', 't', 't', 't', 't', 't', 't', 't']\n",
      "['t', 't']\n",
      "['t', 't', 't', 't', 't', 't', 't']\n",
      "['t', 't', 't', 't', 't', 't', 't', 't', 't', 't', 't', 't', 't', 't', 't', 't', 't', 't', 't', 't', 't', 't', 't', 't', 't', 't', 't']\n",
      "['T', 't', 't', 't', 't', 't', 't']\n",
      "['T', 't', 't', 't', 't', 't', 't']\n",
      "['t', 't', 't', 't', 't']\n",
      "['t', 't', 't', 't', 't', 't', 't', 't']\n",
      "['t', 't', 't', 't', 't', 't', 't', 't']\n",
      "['t', 't', 't']\n",
      "['t', 't', 't', 't', 't']\n",
      "['T', 't', 't', 't', 't', 't', 't', 't', 't', 't', 't', 't', 't']\n",
      "['T', 't', 't', 't', 't', 't', 't']\n",
      "['t', 't', 't', 't', 't', 't', 't', 't', 't']\n",
      "['t']\n",
      "['T', 't', 't', 't', 't', 't', 't', 't', 't', 't', 't', 't', 't', 't', 't']\n",
      "['t', 't', 't', 't', 't', 't', 't']\n",
      "['t', 't', 't', 't', 't', 't', 't', 't', 't', 't', 't', 't', 't']\n",
      "['t', 't', 't', 't', 't', 't']\n",
      "['t', 't', 't', 't']\n",
      "['t', 't', 't', 't', 't', 't', 't', 't', 't', 't', 't']\n",
      "['t', 't', 't', 't', 't', 't', 't', 't', 't', 't', 't', 't', 't', 't']\n",
      "['t', 't']\n",
      "['t', 't', 't', 't', 't', 't', 't', 't', 't', 't']\n"
     ]
    }
   ],
   "source": [
    "regex = r'(^T|t)'\n",
    "search(regex)"
   ]
  },
  {
   "cell_type": "markdown",
   "metadata": {
    "pycharm": {
     "name": "#%% md\n"
    }
   },
   "source": [
    "... that starts with number"
   ]
  },
  {
   "cell_type": "code",
   "execution_count": 128,
   "metadata": {
    "pycharm": {
     "name": "#%%\n"
    }
   },
   "outputs": [
    {
     "name": "stdout",
     "output_type": "stream",
     "text": [
      "['1']\n",
      "['2']\n",
      "['3']\n",
      "['4']\n",
      "['5']\n"
     ]
    }
   ],
   "source": [
    "regex = r'(^\\d)'\n",
    "search(regex)"
   ]
  },
  {
   "cell_type": "markdown",
   "metadata": {
    "pycharm": {
     "name": "#%% md\n"
    }
   },
   "source": [
    "... that has both 'a' and 'e' in it"
   ]
  },
  {
   "cell_type": "code",
   "execution_count": 129,
   "metadata": {
    "pycharm": {
     "name": "#%%\n"
    }
   },
   "outputs": [
    {
     "name": "stdout",
     "output_type": "stream",
     "text": [
      "['ea', 'ea']\n",
      "['ea']\n",
      "['ea']\n",
      "['ea']\n",
      "['ea']\n",
      "['ea']\n",
      "['ea']\n",
      "['ea']\n",
      "['ea']\n",
      "['ea']\n",
      "['ea']\n",
      "['ea']\n",
      "['ea', 'ea']\n",
      "['ea']\n",
      "['ea']\n",
      "['ea']\n",
      "['ea']\n",
      "['ea', 'ea', 'ea']\n",
      "['ea']\n",
      "['ea', 'ea']\n",
      "['ea', 'ea']\n",
      "['ea']\n",
      "['ea', 'ea']\n",
      "['ea']\n"
     ]
    }
   ],
   "source": [
    "regex = r'(ea)'\n",
    "search(regex)"
   ]
  },
  {
   "cell_type": "markdown",
   "metadata": {
    "pycharm": {
     "name": "#%% md\n"
    }
   },
   "source": [
    "... that has both 'i' and 'o' in it"
   ]
  },
  {
   "cell_type": "code",
   "execution_count": 130,
   "metadata": {
    "pycharm": {
     "name": "#%%\n"
    }
   },
   "outputs": [
    {
     "name": "stdout",
     "output_type": "stream",
     "text": [
      "[('oi', '', 'oi')]\n",
      "[('io', 'io', '')]\n",
      "[('io', 'io', '')]\n",
      "[('io', 'io', '')]\n",
      "[('io', 'io', '')]\n",
      "[('io', 'io', '')]\n",
      "[('io', 'io', '')]\n",
      "[('io', 'io', ''), ('io', 'io', ''), ('oi', '', 'oi')]\n",
      "[('io', 'io', ''), ('io', 'io', '')]\n",
      "[('io', 'io', ''), ('io', 'io', ''), ('io', 'io', '')]\n",
      "[('io', 'io', ''), ('oi', '', 'oi')]\n",
      "[('io', 'io', ''), ('io', 'io', '')]\n",
      "[('io', 'io', '')]\n",
      "[('io', 'io', '')]\n",
      "[('io', 'io', '')]\n",
      "[('io', 'io', '')]\n",
      "[('io', 'io', '')]\n",
      "[('oi', '', 'oi')]\n",
      "[('io', 'io', '')]\n"
     ]
    }
   ],
   "source": [
    "regex = r'((io)|(oi))'\n",
    "search(regex)"
   ]
  },
  {
   "cell_type": "markdown",
   "metadata": {
    "pycharm": {
     "name": "#%% md\n"
    }
   },
   "source": [
    "... that has an 'a' and somewhere later an 'e'"
   ]
  },
  {
   "cell_type": "code",
   "execution_count": 131,
   "metadata": {
    "pycharm": {
     "name": "#%%\n"
    }
   },
   "outputs": [
    {
     "name": "stdout",
     "output_type": "stream",
     "text": [
      "['ache']\n",
      "['asse', 'ance']\n",
      "['asse', 'atte', 'aile']\n",
      "['arte']\n",
      "['alre']\n",
      "['appe', 'ause']\n",
      "['a de']\n",
      "['aste']\n",
      "['atte']\n",
      "['ause']\n",
      "['ause']\n"
     ]
    }
   ],
   "source": [
    "regex = r'a..e'\n",
    "search(regex)"
   ]
  },
  {
   "cell_type": "markdown",
   "metadata": {
    "pycharm": {
     "name": "#%% md\n"
    }
   },
   "source": [
    "... that does not have an 'i'"
   ]
  },
  {
   "cell_type": "code",
   "execution_count": 132,
   "metadata": {
    "pycharm": {
     "name": "#%%\n"
    }
   },
   "outputs": [
    {
     "name": "stdout",
     "output_type": "stream",
     "text": [
      "['H', 'o', 'w', ' ', 'T', 'o', ' ', 'S', 't', 'a', 'r', 't', ' ', 'W', 'h', 'e', 'n', ' ', 'Y', 'o', 'u', '’', 'v', 'e', ' ', 'P', 'r', 'o', 'c', 'r', 'a', 's', 't', 'n', 'a', 't', 'e', 'd', ' ', 'O', 'n', ' ', 'Y', 'o', 'u', 'r', ' ', 'G', 'o', 'a', 'l', 's', ' ', 'F', 'o', 'r', ' ', 'T', 'o', 'o', ' ', 'L', 'o', 'n', 'g', '\\n']\n",
      "['\\n']\n",
      "['A', 's', ' ', 'y', 'o', 'u', ' ', 'a', 'r', 'e', ' ', 'r', 'e', 'a', 'd', 'n', 'g', ' ', 't', 'h', 's', ',', ' ', 'y', 'o', 'u', ' ', 'p', 'r', 'o', 'b', 'a', 'b', 'l', 'y', ' ', 'h', 'a', 'v', 'e', ' ', 'a', ' ', 'g', 'o', 'a', 'l', ' ', 'o', 'n', ' ', 'y', 'o', 'u', 'r', ' ', 'o', 'w', 'n', ',', ' ', 't', 'h', 'a', 't', ' ', 'y', 'o', 'u', '’', 'v', 'e', ' ', 'p', 'u', 's', 'h', 'e', 'd', ',', ' ', 'p', 'o', 's', 't', 'p', 'o', 'n', 'e', 'd', ',', ' ', 'p', 'r', 'o', 'c', 'r', 'a', 's', 't', 'n', 'a', 't', 'e', 'd', ' ', 'o', 'n', ',', ' ', 'a', 'n', 'd', ' ', 'o', 't', 'h', 'e', 'r', ' ', 'w', 'o', 'r', 'd', 's', ' ', 't', 'h', 'a', 't', ' ', 's', 't', 'a', 'r', 't', ' ', 'w', 't', 'h', ' ', 'P', ',', ' ', 'f', 'o', 'r', ' ', 'd', 'a', 'y', 's', ',', ' ', 'w', 'e', 'e', 'k', 's', ',', ' ', 'm', 'o', 'n', 't', 'h', 's', ',', ' ', 'o', 'r', ' ', 'e', 'v', 'e', 'n', ' ', 'y', 'e', 'a', 'r', 's', '.', '\\n']\n",
      "['\\n']\n",
      "['N', 'o', 't', ' ', 'o', 'n', 'l', 'y', ' ', 't', 'h', 'a', 't', ',', ' ', 'b', 'u', 't', ' ', 'y', 'o', 'u', '’', 'v', 'e', ' ', 'r', 'e', 'a', 'c', 'h', 'e', 'd', ' ', 't', 'h', 'e', ' ', 'p', 'o', 'n', 't', ' ', 'w', 'h', 'e', 'r', 'e', ' ', 'e', 'v', 'e', 'n', ' ', 't', 'h', 'e', ' ', 't', 'h', 'o', 'u', 'g', 'h', 't', ' ', 'o', 'f', ' ', 't', 'h', 'e', ' ', 'g', 'o', 'a', 'l', ',', ' ', 'b', 'r', 'n', 'g', 's', ' ', 't', 'h', 'e', ' ', 'f', 'e', 'e', 'l', 'n', 'g', ' ', 'o', 'f', ' ', 'h', 'a', 'v', 'n', 'g', ' ', 'b', 'u', 't', 't', 'e', 'r', 'f', 'l', 'e', 's', ' ', 'n', ' ', 'y', 'o', 'u', 'r', ' ', 's', 't', 'o', 'm', 'a', 'c', 'h', '.', ' ', 'D', 'e', 'm', 'o', 'n', ' ', 'b', 'u', 't', 't', 'e', 'r', 'f', 'l', 'e', 's', '.', '\\n']\n",
      "['\\n']\n",
      "['H', 'o', 'p', 'e', 'f', 'u', 'l', 'l', 'y', ',', ' ', 't', 'o', 'd', 'a', 'y', ' ', 's', ' ', 't', 'h', 'e', ' ', 'd', 'a', 'y', ' ', 'y', 'o', 'u', ' ', 'w', 'l', 'l', ' ', 'b', 'r', 'e', 'a', 'k', ' ', 't', 'h', 'e', ' ', 'c', 'h', 'a', 'n', ' ', 'a', 's', ' ', 'w', 'e', 'l', 'l', '.', '\\n']\n",
      "['\\n']\n",
      "['L', 'e', 't', ' ', 'm', 'e', ' ', 'h', 'e', 'l', 'p', ' ', 'y', 'o', 'u', ' ', 'w', 't', 'h', ' ', 't', 'h', 'a', 't', '.', '\\n']\n",
      "['\\n']\n",
      "['F', 'r', 's', 't', ',', ' ', 't', 'h', 'e', ' ', 'e', 'x', 'p', 'l', 'a', 'n', 'a', 't', 'o', 'n', '.', '\\n']\n",
      "['I', 'n', ' ', 't', 'h', 'e', ' ', 'b', 'e', 'g', 'n', 'n', 'n', 'g', ',', ' ', 'w', 'h', 'e', 'n', ' ', 'w', 'e', ' ', 's', 'e', 't', ' ', 't', 'h', 'e', ' ', 'g', 'o', 'a', 'l', ',', ' ', 'w', 'e', ' ', 'f', 'e', 'e', 'l', ' ', 'u', 's', 'u', 'a', 'l', 'l', 'y', ' ', 'm', 'o', 't', 'v', 'a', 't', 'e', 'd', ',', ' ', 'f', 'o', 'r', ' ', 'a', 'b', 'o', 'u', 't', ' ', 'a', ' ', 'd', 'a', 'y', '.', ' ', 'A', 's', ' ', 'e', 'a', 'c', 'h', ' ', 'a', 'd', 'd', 't', 'o', 'n', 'a', 'l', ' ', 'd', 'a', 'y', ' ', 'p', 'a', 's', 's', 'e', 's', ',', ' ', 't', 'h', 'e', ' ', 'r', 'e', 's', 's', 't', 'a', 'n', 'c', 'e', ' ', 's', 't', 'a', 'r', 't', 's', ' ', 't', 'o', ' ', 'g', 'r', 'o', 'w', '.', '\\n']\n",
      "['\\n']\n",
      "['A', 's', ' ', 'm', 'o', 'r', 'e', ' ', 't', 'm', 'e', ' ', 'p', 'a', 's', 's', 'e', 's', ' ', 'b', 'y', ',', ' ', 'w', 'e', ' ', 'f', 'e', 'e', 'l', ' ', 'm', 'o', 'r', 'e', ' ', 'o', 'v', 'e', 'r', 'w', 'h', 'e', 'l', 'm', 'e', 'd', ',', ' ', 'e', 's', 'p', 'e', 'c', 'a', 'l', 'l', 'y', ' ', 'f', ' ', 'w', 'e', ' ', 'h', 'a', 'v', 'e', ' ', 'a', 't', 't', 'e', 'm', 'p', 't', 'e', 'd', ' ', 't', 'o', ' ', 's', 't', 'a', 'r', 't', ' ', 's', 'e', 'v', 'e', 'r', 'a', 'l', ' ', 't', 'm', 'e', 's', ',', ' ', 'a', 'n', 'd', ' ', 'f', 'a', 'l', 'e', 'd', '.', ' ', 'I', 't', ' ', 's', 't', 'a', 'c', 'k', 's', ' ', 'u', 'p', ',', ' ', 'b', 'u', 't', ' ', 'n', ' ', 'a', ' ', 'w', 'r', 'o', 'n', 'g', ' ', 'd', 'r', 'e', 'c', 't', 'o', 'n', '.', '\\n']\n",
      "['\\n']\n",
      "['T', 'h', 'e', ' ', 'b', 'g', 'g', 'e', 's', 't', ' ', 'p', 'r', 'o', 'b', 'l', 'e', 'm', ' ', 'n', ' ', 't', 'h', 's', ' ', 's', 'c', 'e', 'n', 'a', 'r', 'o', ' ', 's', ' ', 't', 'h', 'a', 't', ' ', 'w', 'e', ' ', 't', 'h', 'n', 'k', ' ', 'o', 'f', ' ', 't', 'h', 'e', ' ', 's', 'h', 'e', 'e', 'r', ' ', 's', 'z', 'e', ' ', 'o', 'f', ' ', 't', 'h', 'e', ' ', 'g', 'o', 'a', 'l', ',', ' ', 'o', 'r', ' ', 't', 'o', ' ', 'b', 'e', ' ', 'm', 'o', 'r', 'e', ' ', 'a', 'c', 'c', 'u', 'r', 'a', 't', 'e', ',', ' ', 't', 'h', 'e', ' ', 'l', 's', 't', ' ', 'o', 'f', ' ', 't', 'h', 'e', ' ', 'a', 'c', 't', 'v', 't', 'e', 's', ' ', 'w', 'e', ' ', 'n', 'e', 'e', 'd', ' ', 't', 'o', ' ', 'd', 'o', ',', ' ', 'a', 'n', 'd', ' ', 'h', 'o', 'w', ' ', 'm', 'u', 'c', 'h', ' ', 't', 'm', 'e', ' ', 't', ' ', 'w', 'l', 'l', ' ', 't', 'a', 'k', 'e', ' ', 'u', 's', ' ', 't', 'o', ' ', 'd', 'o', ' ', 't', 'h', 'e', 'm', ' ', 'a', 'l', 'l', '.', '\\n']\n",
      "['\\n']\n",
      "['W', 'e', ' ', 't', 'h', 'n', 'k', ' ', 'a', 'b', 'o', 'u', 't', ' ', 't', 'h', 'e', ' ', 'b', 'g', ' ', 'p', 'c', 't', 'u', 'r', 'e', '.', '\\n']\n",
      "['\\n']\n",
      "['T', 'h', 'e', 'r', 'e', ' ', 's', ' ', 'n', 'o', 't', 'h', 'n', 'g', ' ', 'w', 'r', 'o', 'n', 'g', ' ', 'w', 't', 'h', ' ', 't', 'h', 'e', ' ', 'b', 'g', ' ', 'p', 'c', 't', 'u', 'r', 'e', ',', ' ', 'o', 'n', ' ', 't', 'h', 'e', ' ', 'c', 'o', 'n', 't', 'r', 'a', 'r', 'y', ',', ' ', 'w', 'e', ' ', 'n', 'e', 'e', 'd', ' ', 't', ',', ' ', 'b', 'u', 't', ' ', 'n', ' ', 't', 'h', 'e', ' ', 'b', 'e', 'g', 'n', 'n', 'n', 'g', ',', ' ', 'w', 'h', 'e', 'n', ' ', 't', '’', 's', ' ', 't', 'h', 'e', ' ', 'p', 'l', 'a', 'n', 'n', 'n', 'g', ' ', 'p', 'h', 'a', 's', 'e', '.', '\\n']\n",
      "['\\n']\n",
      "['I', 'm', 'm', 'e', 'd', 'a', 't', 'e', 'l', 'y', ' ', 'o', 'n', 'c', 'e', ' ', 't', 'h', 'e', ' ', 'p', 'l', 'a', 'n', ' ', 's', ' ', 'f', 'n', 's', 'h', 'e', 'd', ',', ' ', 'y', 'o', 'u', ' ', 's', 'h', 'o', 'u', 'l', 'd', ' ', 'l', 'e', 'a', 'v', 'e', ' ', 't', 'h', 'e', ' ', 'b', 'g', ' ', 'p', 'c', 't', 'u', 'r', 'e', ' ', 'a', 's', 'd', 'e', ' ', 'a', 'n', 'd', ' ', 'f', 'o', 'c', 'u', 's', ' ', 'o', 'n', ' ', 't', 'h', 'e', ' ', 's', 'm', 'a', 'l', 'l', ' ', 'o', 'n', 'e', '.', '\\n']\n",
      "['\\n']\n",
      "['T', 'o', ' ', 'b', 'e', ' ', 's', 'p', 'e', 'c', 'f', 'c', ',', ' ', 'j', 'u', 's', 't', ' ', 'o', 'n', 'e', ' ', 'd', 'a', 'y', ' ', 'a', 'h', 'e', 'a', 'd', ' ', 'o', 'f', ' ', 'y', 'o', 'u', '.', ' ', 'O', 'r', ',', ' ', 'a', 's', ' ', 'I', ' ', 'l', 'k', 'e', ' ', 't', 'o', ' ', 'c', 'a', 'l', 'l', ' ', 't', ' ', '“', 'A', ' ', '2', '4', ' ', 'H', 'o', 'u', 'r', ' ', 'L', 'f', 'e', '”', '(', 'b', 'a', 's', 'c', 'a', 'l', 'l', 'y', ' ', 'w', 'h', 'a', 't', ' ', 's', 'm', 'a', 'r', 't', 'e', 'r', ' ', 'p', 'e', 'o', 'p', 'l', 'e', ' ', 'b', 'e', 'f', 'o', 'r', 'e', ' ', 'm', 'e', ' ', 's', 'a', 'd', ' ', 'b', 'u', 't', ' ', 'r', 'e', 'p', 'h', 'r', 'a', 's', 'e', 'd', ' ', 'w', 't', 'h', ' ', 'a', ' ', 'c', 'o', 'o', 'l', 'e', 'r', ' ', 'n', 'a', 'm', 'e', ',', ' ', 'f', 'a', 'n', 'c', 'y', ',', ' ', 'I', ' ', 'k', 'n', 'o', 'w', ')', '.', '\\n']\n",
      "['\\n']\n",
      "['T', 'h', 'a', 't', '’', 's', ' ', 'w', 'h', 'a', 't', ' ', 'y', 'o', 'u', ' ', 's', 'h', 'o', 'u', 'l', 'd', ' ', 'd', 'o', '.', ' ', 'D', 'o', 'n', '’', 't', ' ', 't', 'h', 'n', 'k', ' ', 'a', 'b', 'o', 'u', 't', ' ', 't', 'h', 'e', ' ', 's', 'c', 'e', 'n', 'c', 'e', ' ', 'o', 'r', ' ', 't', 'h', 'a', 't', ' ', 'y', 'o', 'u', ' ', 'n', 'e', 'e', 'd', ' ', '6', '6', ' ', 'd', 'a', 'y', 's', ' ', 't', 'o', ' ', 'e', 's', 't', 'a', 'b', 'l', 's', 'h', ' ', 'a', ' ', 'h', 'a', 'b', 't', ',', ' ', 't', ' ', 'w', 'l', 'l', ' ', 'j', 'u', 's', 't', ' ', 'o', 'v', 'e', 'r', 'w', 'h', 'e', 'l', 'm', ' ', 'y', 'o', 'u', ' ', 'a', 'd', 'd', 't', 'o', 'n', 'a', 'l', 'l', 'y', ',', ' ', 'w', 'h', 'c', 'h', ' ', 'y', 'o', 'u', ' ', 'd', 'o', 'n', '’', 't', ' ', 'n', 'e', 'e', 'd', '.', '\\n']\n",
      "['\\n']\n",
      "['N', 'e', 'x', 't', ',', ' ', 't', 'o', ' ', 't', 'h', 'e', ' ', '“', 'O', 'N', 'E', ' ', 'D', 'A', 'Y', '”', ' ', 'p', 'r', 'n', 'c', 'p', 'l', 'e', ',', ' ', 't', 'h', 'e', ' ', 'o', 'n', 'l', 'y', ' ', 'o', 't', 'h', 'e', 'r', ' ', 'o', 'n', 'e', ' ', 'y', 'o', 'u', ' ', 'n', 'e', 'e', 'd', ' ', 's', ' ', 't', 'h', 'e', ' ', 'c', 'o', 'n', 's', 's', 't', 'e', 'n', 'c', 'y', '.', '\\n']\n",
      "['\\n']\n",
      "['I', 'f', ' ', 'n', 'e', 'c', 'e', 's', 's', 'a', 'r', 'y', ',', ' ', 's', 'a', 'c', 'r', 'f', 'c', 'e', ' ', 't', 'h', 'e', ' ', 'q', 'u', 'a', 'l', 't', 'y', ',', ' ', 'a', 'n', 'd', ' ', 't', 'h', 'e', ' ', 'q', 'u', 'a', 'n', 't', 't', 'y', ',', ' ', 'f', 'o', 'r', ' ', 't', 'h', 'e', ' ', 's', 'a', 'k', 'e', ' ', 'o', 'f', ' ', 'c', 'o', 'n', 's', 's', 't', 'e', 'n', 'c', 'y', '.', '\\n']\n",
      "['L', 'e', 't', '’', 's', ' ', 'g', 'e', 't', ' ', 'd', 'o', 'w', 'n', ' ', 't', 'o', ' ', 'c', 'o', 'n', 'c', 'r', 'e', 't', 'e', ' ', 's', 't', 'e', 'p', 's', ' ', 'y', 'o', 'u', ' ', 'c', 'a', 'n', ' ', 't', 'a', 'k', 'e', ' ', 'a', ' ', 'r', 'g', 'h', 't', ' ', 't', 'h', 's', ' ', 'm', 'o', 'm', 'e', 'n', 't', ' ', 't', 'o', ' ', 't', 'a', 'k', 'e', ' ', 'a', 'c', 't', 'o', 'n', ' ', 'a', 'n', 'd', ' ', 's', 't', 'a', 'r', 't', ' ', 'w', 'o', 'r', 'k', 'n', 'g', ' ', 'o', 'n', ' ', 'y', 'o', 'u', 'r', ' ', 'g', 'o', 'a', 'l', '.', '\\n']\n",
      "['\\n']\n",
      "['1', '.', ' ', 'E', 'x', 't', 'r', 'a', 'c', 't', ' ', 'T', 'h', 'e', ' ', 'L', 'e', 's', 's', 'o', 'n', 's', '\\n']\n",
      "['*', '*', '*', '*', '*', '*', '*', '*', '*', '*', '*', '*', '*', '*', '*', '*', '*', '*', '*', '*', '*', '*', '*', '*', '*', '*', '*', '*', '*', '*', '*', '\\n']\n",
      "['L', 'o', 'o', 'k', ' ', 'b', 'a', 'c', 'k', ' ', 'a', 't', ' ', 't', 'h', 'e', ' ', 'p', 'r', 'e', 'v', 'o', 'u', 's', ' ', 'p', 'e', 'r', 'o', 'd', ',', ' ', 'a', 'n', 'd', ' ', 't', 'r', 'y', ' ', 't', 'o', ' ', 'p', 'n', 'p', 'o', 'n', 't', ' ', 't', 'h', 'e', ' ', 'm', 'a', 'n', ' ', 'r', 'e', 'a', 's', 'o', 'n', 's', ' ', 'o', 'n', ' ', 'w', 'h', 'y', ' ', 'y', 'o', 'u', ' ', 'p', 'r', 'o', 'c', 'r', 'a', 's', 't', 'n', 'a', 't', 'e', 'd', ' ', '(', 'b', 'e', ' ', 'h', 'o', 'n', 'e', 's', 't', ' ', 'w', 't', 'h', ' ', 'y', 'o', 'u', 'r', 's', 'e', 'l', 'f', ')', '.', '\\n']\n",
      "['\\n']\n",
      "['T', 'h', 'e', 's', 'e', ' ', 'r', 'e', 'a', 's', 'o', 'n', 's', ' ', 'a', 'r', 'e', ' ', 'u', 's', 'u', 'a', 'l', 'l', 'y', ' ', 'n', 't', 'e', 'r', 'n', 'a', 'l', ' ', 'a', 'n', 'd', ' ', 'e', 'x', 't', 'e', 'r', 'n', 'a', 'l', '.', '\\n']\n",
      "['\\n']\n",
      "['W', 'h', 'a', 't', ' ', 'I', ' ', 'm', 'e', 'a', 'n', ' ', 'b', 'y', ' ', 't', 'h', 's', ' ', 's', ',', ' ', 't', 'h', 'e', ' ', 'e', 'x', 'c', 'u', 's', 'e', 's', ' ', 'y', 'o', 'u', ' ', 'g', 'v', 'e', ' ', 'y', 'o', 'u', 'r', 's', 'e', 'l', 'f', ' ', '(', 't', '’', 's', ' ', 'h', 'a', 'r', 'd', ',', ' ', 'y', 'o', 'u', ' ', 'd', 'o', 'n', '’', 't', ' ', 'k', 'n', 'o', 'w', ' ', 'h', 'o', 'w', ' ', 't', 'o', ' ', 'd', 'o', ' ', 't', ',', ' ', 'e', 't', 'c', ')', ',', ' ', 'a', 'n', 'd', ' ', 't', 'h', 'e', ' ', 'd', 's', 't', 'r', 'a', 'c', 't', 'o', 'n', 's', ' ', 'n', ' ', 'y', 'o', 'u', 'r', ' ', 'e', 'n', 'v', 'r', 'o', 'n', 'm', 'e', 'n', 't', ' ', '(', 't', 'h', 'e', ' ', 'n', 't', 'e', 'r', 'n', 'e', 't', ',', ' ', 't', 'e', 'l', 'e', 'v', 's', 'o', 'n', ',', ' ', 'p', 'e', 'o', 'p', 'l', 'e', ',', ' ', 'f', 'o', 'o', 'd', ',', ' ', 'a', 'n', 'd', ' ', 'o', 't', 'h', 'e', 'r', ')', '.', '\\n']\n",
      "['\\n']\n",
      "['Y', 'o', 'u', ' ', 'p', 'r', 'o', 'b', 'a', 'b', 'l', 'y', ' ', 'k', 'n', 'o', 'w', ' ', 't', 'h', 'e', 'm', ' ', 'a', 'l', 'r', 'e', 'a', 'd', 'y', ',', ' ', 'b', 'u', 't', ' ', 't', '’', 's', ' ', 'g', 'o', 'o', 'd', ' ', 't', 'o', ' ', 'w', 'r', 't', 'e', ' ', 't', 'h', 'e', 'm', ' ', 'd', 'o', 'w', 'n', ',', ' ', 'a', 'n', 'd', ' ', 'r', 'e', 'm', 'n', 'd', ' ', 'y', 'o', 'u', 'r', 's', 'e', 'l', 'f', '.', '\\n']\n",
      "['\\n']\n",
      "['2', '.', ' ', 'S', 't', 'o', 'p', ' ', 'B', 'e', 'a', 't', 'n', 'g', ' ', 'O', 'n', ' ', 'Y', 'o', 'u', 'r', 's', 'e', 'l', 'f', '\\n']\n",
      "['T', 'h', 's', ' ', 's', ' ', 'm', 'o', 'r', 'e', ' ', 't', 'h', 'e', 'o', 'r', 'e', 't', 'c', 'a', 'l', ',', ' ', 'f', 'l', 'u', 'f', 'f', 'y', ' ', 'a', 'd', 'v', 'c', 'e', ',', ' ', 'b', 'u', 't', ' ', 's', 't', 'l', 'l', ',', ' ', 'm', 'a', 'k', 'e', 's', ' ', 's', 'e', 'n', 's', 'e', '.', '\\n']\n",
      "['\\n']\n",
      "['S', 't', 'o', 'p', ' ', 'd', 'r', 'a', 'g', 'g', 'n', 'g', ' ', 't', 'h', 'e', ' ', 'l', 'u', 'g', 'g', 'a', 'g', 'e', ' ', 'o', 'f', ' ', 'y', 'o', 'u', 'r', ' ', 'p', 'a', 's', 't', ' ', '(', 'n', ')', 'a', 'c', 't', 'o', 'n', 's', '.', ' ', 'T', 'h', 'a', 't', '’', 's', ' ', 't', 'h', 'e', ' ', 't', 'h', 'n', 'g', ' ', 'w', 't', 'h', ' ', 'u', 's', ' ', 'p', 'e', 'o', 'p', 'l', 'e', ';', ' ', 'w', 'e', ' ', 'l', 'k', 'e', ' ', 't', 'o', ' ', 'b', 'e', 'a', 't', ' ', 'o', 'u', 'r', 's', 'e', 'l', 'v', 'e', 's', ',', ' ', 'w', 'h', 'c', 'h', ' ', 'a', 'd', 'd', 't', 'o', 'n', 'a', 'l', 'l', 'y', ' ', 'p', 'r', 'e', 'v', 'e', 'n', 't', 's', ' ', 'u', 's', ' ', 'f', 'r', 'o', 'm', ' ', 't', 'a', 'k', 'n', 'g', ' ', 'a', 'c', 't', 'o', 'n', 's', '.', '\\n']\n",
      "['\\n']\n",
      "['S', 'o', ',', ' ', 'd', 'r', 'o', 'p', ' ', 't', ',', ' ', 'a', 'n', 'd', ' ', 'f', 'o', 'c', 'u', 's', ' ', 'o', 'n', ' ', 'u', 's', 'n', 'g', ' ', 't', 'h', 'e', ' ', 'l', 'e', 's', 's', 'o', 'n', 's', ' ', 'f', 'r', 'o', 'm', ' ', 'm', 'y', ' ', 'p', 'r', 'e', 'v', 'o', 'u', 's', ' ', 'p', 'o', 'n', 't', '.', '\\n']\n",
      "['\\n']\n",
      "['R', 'e', 'm', 'e', 'm', 'b', 'e', 'r', ',', ' ', 't', 'h', 'n', 'k', ' ', 'j', 'u', 's', 't', ' ', '2', '4', ' ', 'h', 'o', 'u', 'r', 's', ' ', 'a', 'h', 'e', 'a', 'd', ' ', '(', 'o', 'r', ' ', '1', '8', '/', '1', '6', ' ', 'd', 'e', 'p', 'e', 'n', 'd', 'n', 'g', ' ', 'o', 'n', ' ', 'h', 'o', 'w', ' ', 'm', 'u', 'c', 'h', ' ', 'y', 'o', 'u', ' ', 's', 'l', 'e', 'e', 'p', ')', ' ', 'n', 'o', 'w', ' ', 'w', 'h', 'e', 'n', ' ', 'I', ' ', 't', 'h', 'n', 'k', ' ', 'a', 'b', 'o', 'u', 't', ' ', 't', ',', ' ', 't', 'h', 'e', ' ', '“', '2', '4', '-', 'h', 'o', 'u', 'r', ' ', 'l', 'f', 'e', '”', ' ', 's', ' ', 's', 't', 'a', 'r', 't', 'n', 'g', ' ', 't', 'o', ' ', 'l', 'o', 's', 'e', ' ', 't', 's', ' ', 'm', 'e', 'a', 'n', 'n', 'g', ',', ' ', 'b', 'u', 't', ' ', 't', ' ', 's', 'o', 'u', 'n', 'd', 's', ' ', 'c', 'o', 'o', 'l', 'e', 'r', ' ', 't', 'h', 'a', 'n', ' ', '“', '1', '6', ' ', 'H', 'o', 'u', 'r', ' ', 'L', 'f', 'e', '.', '”', ')', '\\n']\n",
      "['\\n']\n",
      "['A', 'n', 'y', 'w', 'a', 'y', 's', '.', ' ', 'T', 'h', 'e', ' ', 'm', 'o', 'm', 'e', 'n', 't', ' ', 'y', 'o', 'u', ' ', 'f', 'o', 'r', 'g', 'v', 'e', ' ', 'y', 'o', 'u', 'r', 's', 'e', 'l', 'f', ',', ' ', 'y', 'o', 'u', ' ', 'w', 'l', 'l', ' ', 'f', 'e', 'e', 'l', ' ', 'r', 'e', 'l', 'e', 'v', 'e', 'd', ',', ' ', 'a', 'n', 'd', ' ', 's', 'l', 'o', 'w', 'l', 'y', ' ', 's', 't', 'a', 'r', 't', ' ', 't', 'o', ' ', 'r', 'e', 'g', 'a', 'n', ' ', 't', 'h', 'a', 't', ' ', 'o', 'r', 'g', 'n', 'a', 'l', ' ', 'm', 'o', 't', 'v', 'a', 't', 'o', 'n', ',', ' ', 'o', 'r', ' ', 'm', 'o', 't', 'v', 'a', 't', 'o', 'n', ' ', '2', '.', '0', ' ', 'w', 'h', 'a', 't', 'e', 'v', 'e', 'r', ' ', 'y', 'o', 'u', ' ', 'w', 'a', 'n', 't', ' ', 't', 'o', ' ', 'c', 'a', 'l', 'l', ' ', 't', '.', '\\n']\n",
      "['\\n']\n",
      "['3', '.', ' ', 'R', 'e', '-', 'e', 'v', 'a', 'l', 'u', 'a', 't', 'e', ' ', 'Y', 'o', 'u', 'r', ' ', 'D', 'r', 'e', 'c', 't', 'o', 'n', '\\n']\n",
      "['N', 'o', 'w', ' ', 't', 'h', 'a', 't', ' ', 't', 'h', 'e', ' ', 'p', 'a', 's', 't', ' ', 's', ' ', 'b', 'e', 'h', 'n', 'd', ' ', 'y', 'o', 'u', ',', ' ', 'y', 'o', 'u', ' ', 's', 'h', 'o', 'u', 'l', 'd', ' ', 'l', 'o', 'o', 'k', ' ', 'f', 'o', 'r', 'w', 'a', 'r', 'd', ' ', 'a', 'n', 'd', ' ', 'g', 'e', 't', ' ', 'c', 'l', 'a', 'r', 't', 'y', ' ', 'o', 'n', ' ', 'y', 'o', 'u', 'r', ' ', 'd', 'r', 'e', 'c', 't', 'o', 'n', '.', '\\n']\n",
      "['\\n']\n",
      "['E', 'v', 'e', 'n', ' ', 'f', ' ', 'y', 'o', 'u', ' ', 's', 't', 'l', 'l', ' ', 'w', 'a', 'n', 't', ' ', 't', 'o', ' ', 'p', 'u', 'r', 's', 'u', 'e', ' ', 't', 'h', 'e', ' ', 's', 'a', 'm', 'e', ' ', 'g', 'o', 'a', 'l', ',', ' ', 'k', 'n', 'o', 'w', ' ', 't', 'h', 'a', 't', ' ', 't', ' ', 'o', 'f', 't', 'e', 'n', ' ', 'h', 'a', 'p', 'p', 'e', 'n', 's', ' ', 't', 'h', 'a', 't', ' ', 'w', 'e', ' ', 'd', 'o', 'n', '’', 't', ' ', 's', 't', 'o', 'p', ' ', 'a', 'n', 'd', ' ', 't', 'h', 'n', 'k', ' ', 'w', 'h', 'e', 't', 'h', 'e', 'r', ' ', 'o', 'r', ' ', 'n', 'o', 't', ' ', 'w', 'h', 'a', 't', ' ', 'w', 'e', ' ', 'a', 'r', 'e', ' ', 't', 'r', 'y', 'n', 'g', ' ', 't', 'o', ' ', 'a', 'c', 'h', 'e', 'v', 'e', ',', ' ', 'a', 'c', 't', 'u', 'a', 'l', 'l', 'y', ' ', 's', 't', 'l', 'l', ' ', 'm', 'a', 'k', 'e', 's', ' ', 's', 'e', 'n', 's', 'e', ' ', 'f', 'o', 'r', ' ', 'u', 's', ' ', '(', 's', 'm', 'l', 'a', 'r', ' ', 't', 'o', ' ', 'b', 'e', 'n', 'g', ' ', 'n', ' ', 'a', 'n', ' ', 'u', 'n', 'h', 'e', 'a', 'l', 't', 'h', 'y', ' ', 'r', 'e', 'l', 'a', 't', 'o', 'n', 's', 'h', 'p', ' ', 'j', 'u', 's', 't', ' ', 'b', 'e', 'c', 'a', 'u', 's', 'e', ' ', 'y', 'o', 'u', '’', 'v', 'e', ' ', 'n', 'v', 'e', 's', 't', 'e', 'd', ' ', 't', 'o', 'o', ' ', 'm', 'u', 'c', 'h', ' ', 't', 'm', 'e', ')', '.', '\\n']\n",
      "['\\n']\n",
      "['T', 'h', 's', ' ', 's', ' ', 'y', 'o', 'u', 'r', ' ', 'o', 'n', 'e', ' ', 's', 'h', 'o', 't', ',', ' ', 'e', 't', 'h', 'e', 'r', ' ', 'd', 'r', 'o', 'p', ' ', 't', 'h', 'e', ' ', 'g', 'o', 'a', 'l', ' ', 'a', 'l', 't', 'o', 'g', 'e', 't', 'h', 'e', 'r', ' ', 'o', 'r', ' ', 'l', 'e', 'a', 'v', 'e', ' ', 'a', 'l', 'l', ' ', 't', 'h', 'e', ' ', 'e', 'x', 'c', 'u', 's', 'e', 's', ' ', 'b', 'e', 'h', 'n', 'd', '.', '\\n']\n",
      "['\\n']\n",
      "['T', 'h', 'n', 'k', ' ', 'a', 'b', 'o', 'u', 't', ' ', 'y', 'o', 'u', 'r', ' ', 'b', 'g', 'g', 'e', 's', 't', ' ', 'g', 'o', 'a', 'l', ',', ' ', 'a', 'n', 'd', ' ', 's', 'e', 'e', ' ', 'f', ' ', 'y', 'o', 'u', ' ', 's', 't', 'l', 'l', ' ', 'w', 'a', 'n', 't', ' ', 't', 'o', ' ', 'p', 'u', 'r', 's', 'u', 'e', ' ', 't', '.', '\\n']\n",
      "['\\n']\n",
      "['I', 'f', ' ', 'y', 'o', 'u', ' ', 'd', 'o', ',', ' ', 'w', 'r', 't', 'e', ' ', 't', ' ', 'n', ' ', 'o', 'n', 'e', ' ', 's', 'e', 'n', 't', 'e', 'n', 'c', 'e', ',', ' ', 'a', 'n', 'd', ' ', 'p', 'u', 't', ' ', 'a', ' ', 'd', 'e', 'a', 'd', 'l', 'n', 'e', ' ', 'o', 'n', ' ', 't', '.', '\\n']\n",
      "['\\n']\n",
      "['I', 'f', ' ', 'n', 'o', 't', ',', ' ', 's', 'c', 'r', 'a', 't', 'c', 'h', ' ', 't', '.', ' ', 'A', 'n', 'd', ' ', 't', 'h', 'n', 'k', ' ', 'o', 'f', ' ', 'a', 'n', 'o', 't', 'h', 'e', 'r', ' ', 'b', 'g', ' ', 'g', 'o', 'a', 'l', ' ', 'y', 'o', 'u', ' ', 'w', 'a', 'n', 't', ' ', 't', 'o', ' ', 'f', 'o', 'c', 'u', 's', ' ', 'n', ' ', 't', 'h', 'e', ' ', 'u', 'p', 'c', 'o', 'm', 'n', 'g', ' ', 'y', 'e', 'a', 'r', '.', '\\n']\n",
      "['\\n']\n",
      "['J', 'u', 's', 't', ' ', 'o', 'n', 'e', ' ', 'g', 'o', 'a', 'l', ',', ' ', 'n', 'o', 't', ' ', 'f', 'v', 'e', ' ', 'o', 'r', ' ', 't', 'e', 'n', '.', ' ', 'L', 'e', 't', '’', 's', ' ', 'n', 'o', 't', ' ', 'c', 'o', 'p', 'y', '-', 'p', 'a', 's', 't', 'e', ' ', 'n', 'e', 'w', ' ', 'y', 'e', 'a', 'r', 's', ' ', 'r', 'e', 's', 'o', 'l', 'u', 't', 'o', 'n', 's', ',', ' ', 'y', 'e', 'a', 'r', ' ', 'n', '-', 'y', 'e', 'a', 'r', ' ', 'o', 'u', 't', '.', '\\n']\n",
      "['\\n']\n",
      "['O', 'n', 'c', 'e', ' ', 'y', 'o', 'u', ' ', 'h', 'a', 'v', 'e', ' ', 't', ',', ' ', 'y', 'o', 'u', ' ', 'n', 'e', 'e', 'd', ' ', 'a', ' ', 's', 't', 'r', 'a', 't', 'e', 'g', 'y', '.', '\\n']\n",
      "['\\n']\n",
      "['4', '.', ' ', 'M', 'a', 'k', 'e', ' ', 'A', ' ', 'N', 'e', 'w', ' ', 'P', 'l', 'a', 'n', '\\n']\n",
      "['I', 'n', ' ', 't', 'h', 'o', 's', 'e', ' ', '1', '6', ' ', 'h', 'o', 'u', 'r', 's', ',', ' ', 'y', 'o', 'u', 'r', ' ', 's', 'o', 'l', 'e', ' ', 'f', 'o', 'c', 'u', 's', ' ', '(', 'w', 'h', 'e', 'n', ' ', 't', ' ', 'c', 'o', 'm', 'e', 's', ' ', 't', 'o', ' ', 'y', 'o', 'u', 'r', ' ', 'g', 'o', 'a', 'l', ')', ',', ' ', 's', 'h', 'o', 'u', 'l', 'd', ' ', 'b', 'e', 'o', 'n', 'l', 'y', ' ', 't', 'w', 'o', ' ', 't', 'h', 'n', 'g', 's', ':', '\\n']\n",
      "['\\n']\n",
      "['T', 'h', 'n', 'g', 's', ' ', 'y', 'o', 'u', ' ', 'h', 'a', 'v', 'e', ' ', 't', 'o', ' ', 'D', 'O', ' ', 't', 'o', ' ', 'a', 'c', 'h', 'e', 'v', 'e', ' ', 'y', 'o', 'u', 'r', ' ', 'g', 'o', 'a', 'l', ' ', '(', 'w', 'h', 'a', 't', ' ', 'a', 'r', 'e', ' ', 'y', 'o', 'u', 'r', ' ', 'm', 'o', 's', 't', ' ', 'm', 'p', 'o', 'r', 't', 'a', 'n', 't', ' ', 'a', 'c', 't', 'v', 't', 'e', 's', ' ', 't', 'h', 'a', 't', ' ', 'w', 'l', 'l', ' ', 'b', 'r', 'n', 'g', ' ', 'm', 'o', 's', 't', ' ', 'r', 'e', 's', 'u', 'l', 't', 's', '?', ')', '\\n']\n",
      "['T', 'h', 'n', 'g', 's', ' ', 'y', 'o', 'u', ' ', 'h', 'a', 'v', 'e', ' ', 't', 'o', ' ', 'L', 'E', 'A', 'R', 'N', ' ', 't', 'o', ' ', 'e', 'x', 'e', 'c', 'u', 't', 'e', ' ', 't', 'h', 'e', ' ', 'p', 'r', 'e', 'v', 'o', 'u', 's', 'l', 'y', ' ', 'd', 'e', 'f', 'n', 'e', 'd', ' ', 'a', 'c', 't', 'v', 't', 'e', 's', '\\n']\n",
      "['W', 'h', 'e', 'n', ' ', 'y', 'o', 'u', ' ', 'd', 'e', 't', 'e', 'r', 'm', 'n', 'e', ' ', 't', 'h', 'e', 's', 'e', ' ', 't', 'w', 'o', ' ', 'p', 'o', 'n', 't', 's', ',', ' ', 'p', 'u', 't', ' ', 't', 'h', 'e', 'm', ' ', 'n', ' ', 't', 'h', 'e', ' ', 't', 'm', 'e', 'l', 'n', 'e', ',', ' ', 'a', 'n', 'd', ' ', 't', 'h', 'e', 'n', '…', '\\n']\n",
      "['\\n']\n",
      "['5', '.', ' ', '…', ' ', 'A', 'c', 't', '\\n']\n",
      "['T', 'o', ' ', 'm', 'a', 'k', 'e', ' ', 's', 'u', 'r', 'e', ' ', 't', 'h', 'a', 't', ' ', 'h', 's', 't', 'o', 'r', 'y', ' ', 'd', 'o', 'e', 's', 'n', '’', 't', ' ', 'r', 'e', 'p', 'e', 'a', 't', ' ', 't', 's', 'e', 'l', 'f', ',', ' ', 'c', 'h', 'o', 'o', 's', 'e', ' ', 'j', 'u', 's', 't', ' ', 'o', 'n', 'e', ' ', 't', 'h', 'n', 'g', ' ', 'y', 'o', 'u', ' ', 'w', 'l', 'l', ' ', 'd', 'o', ' ', 't', 'o', 'd', 'a', 'y', ' ', 'n', 'o', ' ', 'm', 'a', 't', 't', 'e', 'r', ' ', 'h', 'o', 'w', ' ', 'm', 'n', 'o', 'r', ' ', 't', 'h', 'e', ' ', 'a', 'c', 't', 'v', 't', 'y', ' ', 's', '.', '\\n']\n",
      "['\\n']\n",
      "['L', 'k', 'e', ' ', 's', 'l', 'a', 'p', 'p', 'n', 'g', ' ', 'a', ' ', 'm', 'u', 'f', 'f', 'n', ' ', 'o', 'u', 't', ' ', 'o', 'f', ' ', 'y', 'o', 'u', 'r', ' ', 'h', 'a', 'n', 'd', ' ', '(', 'f', ' ', 'y', 'o', 'u', ' ', 'w', 'a', 'n', 't', ' ', 't', 'o', ' ', 'l', 'o', 's', 'e', ' ', 'w', 'e', 'g', 'h', 't', ')', ',', ' ', 'o', 'r', ' ', 'l', 'e', 'a', 'r', 'n', 'n', 'g', ' ', 'f', 'v', 'e', ' ', 'n', 'e', 'w', ' ', 'w', 'o', 'r', 'd', 's', ' ', 'n', ' ', 'S', 'p', 'a', 'n', 's', 'h', ' ', 'a', ' ', 'c', 'o', 'u', 'p', 'l', 'e', ' ', 'o', 'f', ' ', 'r', 'a', 'n', 'd', 'o', 'm', ' ', 'e', 'x', 'a', 'm', 'p', 'l', 'e', 's', ' ', 'h', 'e', 'r', 'e', ',', ' ', 'b', 'u', 't', ' ', 'y', 'o', 'u', ' ', 'g', 'e', 't', ' ', 'w', 'h', 'a', 't', ' ', 'I', ' ', 'm', 'e', 'a', 'n', '.', '\\n']\n",
      "['\\n']\n",
      "['I', ' ', 'w', 'r', 'o', 't', 'e', ' ', 't', 'h', 's', ' ', 'd', 'o', 'w', 'n', ' ', 'e', 'a', 'r', 'l', 'e', 'r', ',', ' ', 'b', 'u', 't', ' ', 'I', ' ', 'w', 'l', 'l', ' ', 'r', 'e', 'p', 'e', 'a', 't', ' ', 't', ' ', 'b', 'e', 'c', 'a', 'u', 's', 'e', ' ', 't', '’', 's', ' ', 'p', 'r', 'o', 'b', 'a', 'b', 'l', 'y', ' ', 't', 'h', 'e', ' ', 'm', 'o', 's', 't', ' ', 'm', 'p', 'o', 'r', 't', 'a', 'n', 't', ' ', 't', 'h', 'n', 'g', ' ', 'y', 'o', 'u', ' ', 'c', 'a', 'n', ' ', 'r', 'e', 'm', 'e', 'm', 'b', 'e', 'r', ' ', 'f', 'r', 'o', 'm', ' ', 't', 'h', 's', ' ', 'a', 'r', 't', 'c', 'l', 'e', '.', '\\n']\n",
      "['\\n']\n",
      "['I', 'f', ' ', 'n', 'e', 'c', 'e', 's', 's', 'a', 'r', 'y', ',', ' ', 's', 'a', 'c', 'r', 'f', 'c', 'e', ' ', 't', 'h', 'e', ' ', 'Q', 'u', 'a', 'l', 't', 'y', ',', ' ', 'a', 'n', 'd', ' ', 't', 'h', 'e', ' ', 'Q', 'u', 'a', 'n', 't', 't', 'y', ',', ' ', 'f', 'o', 'r', ' ', 't', 'h', 'e', ' ', 's', 'a', 'k', 'e', ' ', 'o', 'f', ' ', 'C', 'O', 'N', 'S', 'I', 'S', 'T', 'E', 'N', 'C', 'Y', '.', '\\n']\n",
      "['F', 'n', 'a', 'l', ' ', 'W', 'o', 'r', 'd', 's', '\\n']\n",
      "['E', 'v', 'e', 'n', ' ', 't', 'h', 'o', 'u', 'g', 'h', ' ', 't', '’', 's', ' ', 's', 'm', 'p', 'l', 'e', ',', ' ', 't', '’', 's', ' ', 'n', 'o', 't', ' ', 'e', 'a', 's', 'y', ' ', '*', '.', '\\n']\n",
      "['\\n']\n",
      "['B', 'u', 't', ',', ' ', 'y', 'o', 'u', ' ', 'o', 'n', 'l', 'y', ' ', 'n', 'e', 'e', 'd', ' ', 't', 'o', ' ', 't', 'a', 'k', 'e', ' ', 'o', 'n', 'e', ' ', 's', 'm', 'a', 'l', 'l', ' ', 's', 't', 'e', 'p', ',', ' ', 'w', 't', 'h', 'o', 'u', 't', ' ', 't', 'h', 'n', 'k', 'n', 'g', ' ', 't', 'o', 'o', ' ', 'f', 'a', 'r', ' ', 'a', 'h', 'e', 'a', 'd', ',', ' ', 'a', 'n', 'd', ' ', 'b', 'e', 'f', 'o', 'r', 'e', ' ', 'y', 'o', 'u', ' ', 'k', 'n', 'o', 'w', ' ', 't', ',', ' ', 'y', 'o', 'u', ' ', 'w', 'l', 'l', ' ', 'r', 'e', 'a', 'c', 'h', ' ', 'y', 'o', 'u', 'r', ' ', 'd', 'e', 's', 't', 'n', 'a', 't', 'o', 'n', '.', '\\n']\n",
      "['\\n']\n",
      "['J', 'u', 's', 't', ' ', 'l', 'k', 'e', ' ', 'I', ' ', 'd', 'd', ' ', 'w', 't', 'h', ' ', 't', 'h', 's', ' ', 'a', 'r', 't', 'c', 'l', 'e', '.', ' ', 'O', 'n', 'e', ' ', 'w', 'o', 'r', 'd', ' ', 'a', 't', ' ', 't', 'h', 'e', ' ', 't', 'm', 'e', ',', ' ', 'o', 'n', 'e', ' ', 'b', 'a', 'd', ' ', 'j', 'o', 'k', 'e', ' ', 'a', 't', ' ', 't', 'h', 'e', ' ', 't', 'm', 'e', ',', ' ', 'a', 'n', 'd', ' ', 'b', 'e', 'f', 'o', 'r', 'e', ' ', 'y', 'o', 'u', ' ', 'k', 'n', 'o', 'w', ' ', 't', ',', ' ', 'I', ' ', 'f', 'n', 's', 'h', 'e', 'd', ' ', 'w', 'r', 't', 'n', 'g', ' ', 't', ',', ' ', 'a', 'n', 'd', ' ', 'y', 'o', 'u', ' ', 'f', 'n', 's', 'h', 'e', 'd', ' ', 'r', 'e', 'a', 'd', 'n', 'g', ' ', 't', '.', '\\n']\n",
      "['\\n']\n",
      "['N', 'o', 'w', ',', ' ', 'g', 'o', ' ', 'g', 'e', 't', ' ', 't', ' ', 'I', ' ', 'b', 'e', 'l', 'e', 'v', 'e', ' ', 'n', ' ', 'y', 'o', 'u', '!', '\\n']\n",
      "['J', 'u', 's', 't', ' ', 'r', 'e', 'm', 'e', 'm', 'b', 'e', 'r', ' ', 'e', 'v', 'e', 'r', 'y', ' ', 'o', 'n', 'c', 'e', ' ', 'n', ' ', 'a', ' ', 'w', 'h', 'l', 'e', ' ', 't', 'o', ' ', 'm', 'a', 'k', 'e', ' ', 'a', ' ', 'p', 'a', 'u', 's', 'e', ',', ' ', 'a', 'n', 'd', ' ', 'e', 'v', 'a', 'l', 'u', 'a', 't', 'e', ' ', 'y', 'o', 'u', 'r', ' ', 'p', 'a', 't', 'h', ' ', 'a', 'n', 'd', ' ', 'p', 'l', 'a', 'n', ',', ' ', 'j', 'u', 's', 't', ' ', 't', 'o', ' ', 'm', 'a', 'k', 'e', ' ', 's', 'u', 'r', 'e', ' ', 'y', 'o', 'u', ' ', 'a', 'r', 'e', ' ', 's', 't', 'l', 'l', ' ', 'o', 'n', ' ', 't', 'h', 'e', ' ', 'r', 'g', 'h', 't', ' ', 't', 'r', 'a', 'c', 'k', '.']\n"
     ]
    }
   ],
   "source": [
    "regex = r'[^i]'\n",
    "search(regex)"
   ]
  },
  {
   "cell_type": "markdown",
   "metadata": {
    "pycharm": {
     "name": "#%% md\n"
    }
   },
   "source": [
    "... that does not have an 'i' nor 'z'"
   ]
  },
  {
   "cell_type": "code",
   "execution_count": 133,
   "metadata": {
    "pycharm": {
     "name": "#%%\n"
    }
   },
   "outputs": [
    {
     "name": "stdout",
     "output_type": "stream",
     "text": [
      "['H', 'o', 'w', ' ', 'T', 'o', ' ', 'S', 't', 'a', 'r', 't', ' ', 'W', 'h', 'e', 'n', ' ', 'Y', 'o', 'u', '’', 'v', 'e', ' ', 'P', 'r', 'o', 'c', 'r', 'a', 's', 't', 'n', 'a', 't', 'e', 'd', ' ', 'O', 'n', ' ', 'Y', 'o', 'u', 'r', ' ', 'G', 'o', 'a', 'l', 's', ' ', 'F', 'o', 'r', ' ', 'T', 'o', 'o', ' ', 'L', 'o', 'n', 'g', '\\n']\n",
      "['\\n']\n",
      "['A', 's', ' ', 'y', 'o', 'u', ' ', 'a', 'r', 'e', ' ', 'r', 'e', 'a', 'd', 'n', 'g', ' ', 't', 'h', 's', ',', ' ', 'y', 'o', 'u', ' ', 'p', 'r', 'o', 'b', 'a', 'b', 'l', 'y', ' ', 'h', 'a', 'v', 'e', ' ', 'a', ' ', 'g', 'o', 'a', 'l', ' ', 'o', 'n', ' ', 'y', 'o', 'u', 'r', ' ', 'o', 'w', 'n', ',', ' ', 't', 'h', 'a', 't', ' ', 'y', 'o', 'u', '’', 'v', 'e', ' ', 'p', 'u', 's', 'h', 'e', 'd', ',', ' ', 'p', 'o', 's', 't', 'p', 'o', 'n', 'e', 'd', ',', ' ', 'p', 'r', 'o', 'c', 'r', 'a', 's', 't', 'n', 'a', 't', 'e', 'd', ' ', 'o', 'n', ',', ' ', 'a', 'n', 'd', ' ', 'o', 't', 'h', 'e', 'r', ' ', 'w', 'o', 'r', 'd', 's', ' ', 't', 'h', 'a', 't', ' ', 's', 't', 'a', 'r', 't', ' ', 'w', 't', 'h', ' ', 'P', ',', ' ', 'f', 'o', 'r', ' ', 'd', 'a', 'y', 's', ',', ' ', 'w', 'e', 'e', 'k', 's', ',', ' ', 'm', 'o', 'n', 't', 'h', 's', ',', ' ', 'o', 'r', ' ', 'e', 'v', 'e', 'n', ' ', 'y', 'e', 'a', 'r', 's', '.', '\\n']\n",
      "['\\n']\n",
      "['N', 'o', 't', ' ', 'o', 'n', 'l', 'y', ' ', 't', 'h', 'a', 't', ',', ' ', 'b', 'u', 't', ' ', 'y', 'o', 'u', '’', 'v', 'e', ' ', 'r', 'e', 'a', 'c', 'h', 'e', 'd', ' ', 't', 'h', 'e', ' ', 'p', 'o', 'n', 't', ' ', 'w', 'h', 'e', 'r', 'e', ' ', 'e', 'v', 'e', 'n', ' ', 't', 'h', 'e', ' ', 't', 'h', 'o', 'u', 'g', 'h', 't', ' ', 'o', 'f', ' ', 't', 'h', 'e', ' ', 'g', 'o', 'a', 'l', ',', ' ', 'b', 'r', 'n', 'g', 's', ' ', 't', 'h', 'e', ' ', 'f', 'e', 'e', 'l', 'n', 'g', ' ', 'o', 'f', ' ', 'h', 'a', 'v', 'n', 'g', ' ', 'b', 'u', 't', 't', 'e', 'r', 'f', 'l', 'e', 's', ' ', 'n', ' ', 'y', 'o', 'u', 'r', ' ', 's', 't', 'o', 'm', 'a', 'c', 'h', '.', ' ', 'D', 'e', 'm', 'o', 'n', ' ', 'b', 'u', 't', 't', 'e', 'r', 'f', 'l', 'e', 's', '.', '\\n']\n",
      "['\\n']\n",
      "['H', 'o', 'p', 'e', 'f', 'u', 'l', 'l', 'y', ',', ' ', 't', 'o', 'd', 'a', 'y', ' ', 's', ' ', 't', 'h', 'e', ' ', 'd', 'a', 'y', ' ', 'y', 'o', 'u', ' ', 'w', 'l', 'l', ' ', 'b', 'r', 'e', 'a', 'k', ' ', 't', 'h', 'e', ' ', 'c', 'h', 'a', 'n', ' ', 'a', 's', ' ', 'w', 'e', 'l', 'l', '.', '\\n']\n",
      "['\\n']\n",
      "['L', 'e', 't', ' ', 'm', 'e', ' ', 'h', 'e', 'l', 'p', ' ', 'y', 'o', 'u', ' ', 'w', 't', 'h', ' ', 't', 'h', 'a', 't', '.', '\\n']\n",
      "['\\n']\n",
      "['F', 'r', 's', 't', ',', ' ', 't', 'h', 'e', ' ', 'e', 'x', 'p', 'l', 'a', 'n', 'a', 't', 'o', 'n', '.', '\\n']\n",
      "['I', 'n', ' ', 't', 'h', 'e', ' ', 'b', 'e', 'g', 'n', 'n', 'n', 'g', ',', ' ', 'w', 'h', 'e', 'n', ' ', 'w', 'e', ' ', 's', 'e', 't', ' ', 't', 'h', 'e', ' ', 'g', 'o', 'a', 'l', ',', ' ', 'w', 'e', ' ', 'f', 'e', 'e', 'l', ' ', 'u', 's', 'u', 'a', 'l', 'l', 'y', ' ', 'm', 'o', 't', 'v', 'a', 't', 'e', 'd', ',', ' ', 'f', 'o', 'r', ' ', 'a', 'b', 'o', 'u', 't', ' ', 'a', ' ', 'd', 'a', 'y', '.', ' ', 'A', 's', ' ', 'e', 'a', 'c', 'h', ' ', 'a', 'd', 'd', 't', 'o', 'n', 'a', 'l', ' ', 'd', 'a', 'y', ' ', 'p', 'a', 's', 's', 'e', 's', ',', ' ', 't', 'h', 'e', ' ', 'r', 'e', 's', 's', 't', 'a', 'n', 'c', 'e', ' ', 's', 't', 'a', 'r', 't', 's', ' ', 't', 'o', ' ', 'g', 'r', 'o', 'w', '.', '\\n']\n",
      "['\\n']\n",
      "['A', 's', ' ', 'm', 'o', 'r', 'e', ' ', 't', 'm', 'e', ' ', 'p', 'a', 's', 's', 'e', 's', ' ', 'b', 'y', ',', ' ', 'w', 'e', ' ', 'f', 'e', 'e', 'l', ' ', 'm', 'o', 'r', 'e', ' ', 'o', 'v', 'e', 'r', 'w', 'h', 'e', 'l', 'm', 'e', 'd', ',', ' ', 'e', 's', 'p', 'e', 'c', 'a', 'l', 'l', 'y', ' ', 'f', ' ', 'w', 'e', ' ', 'h', 'a', 'v', 'e', ' ', 'a', 't', 't', 'e', 'm', 'p', 't', 'e', 'd', ' ', 't', 'o', ' ', 's', 't', 'a', 'r', 't', ' ', 's', 'e', 'v', 'e', 'r', 'a', 'l', ' ', 't', 'm', 'e', 's', ',', ' ', 'a', 'n', 'd', ' ', 'f', 'a', 'l', 'e', 'd', '.', ' ', 'I', 't', ' ', 's', 't', 'a', 'c', 'k', 's', ' ', 'u', 'p', ',', ' ', 'b', 'u', 't', ' ', 'n', ' ', 'a', ' ', 'w', 'r', 'o', 'n', 'g', ' ', 'd', 'r', 'e', 'c', 't', 'o', 'n', '.', '\\n']\n",
      "['\\n']\n",
      "['T', 'h', 'e', ' ', 'b', 'g', 'g', 'e', 's', 't', ' ', 'p', 'r', 'o', 'b', 'l', 'e', 'm', ' ', 'n', ' ', 't', 'h', 's', ' ', 's', 'c', 'e', 'n', 'a', 'r', 'o', ' ', 's', ' ', 't', 'h', 'a', 't', ' ', 'w', 'e', ' ', 't', 'h', 'n', 'k', ' ', 'o', 'f', ' ', 't', 'h', 'e', ' ', 's', 'h', 'e', 'e', 'r', ' ', 's', 'e', ' ', 'o', 'f', ' ', 't', 'h', 'e', ' ', 'g', 'o', 'a', 'l', ',', ' ', 'o', 'r', ' ', 't', 'o', ' ', 'b', 'e', ' ', 'm', 'o', 'r', 'e', ' ', 'a', 'c', 'c', 'u', 'r', 'a', 't', 'e', ',', ' ', 't', 'h', 'e', ' ', 'l', 's', 't', ' ', 'o', 'f', ' ', 't', 'h', 'e', ' ', 'a', 'c', 't', 'v', 't', 'e', 's', ' ', 'w', 'e', ' ', 'n', 'e', 'e', 'd', ' ', 't', 'o', ' ', 'd', 'o', ',', ' ', 'a', 'n', 'd', ' ', 'h', 'o', 'w', ' ', 'm', 'u', 'c', 'h', ' ', 't', 'm', 'e', ' ', 't', ' ', 'w', 'l', 'l', ' ', 't', 'a', 'k', 'e', ' ', 'u', 's', ' ', 't', 'o', ' ', 'd', 'o', ' ', 't', 'h', 'e', 'm', ' ', 'a', 'l', 'l', '.', '\\n']\n",
      "['\\n']\n",
      "['W', 'e', ' ', 't', 'h', 'n', 'k', ' ', 'a', 'b', 'o', 'u', 't', ' ', 't', 'h', 'e', ' ', 'b', 'g', ' ', 'p', 'c', 't', 'u', 'r', 'e', '.', '\\n']\n",
      "['\\n']\n",
      "['T', 'h', 'e', 'r', 'e', ' ', 's', ' ', 'n', 'o', 't', 'h', 'n', 'g', ' ', 'w', 'r', 'o', 'n', 'g', ' ', 'w', 't', 'h', ' ', 't', 'h', 'e', ' ', 'b', 'g', ' ', 'p', 'c', 't', 'u', 'r', 'e', ',', ' ', 'o', 'n', ' ', 't', 'h', 'e', ' ', 'c', 'o', 'n', 't', 'r', 'a', 'r', 'y', ',', ' ', 'w', 'e', ' ', 'n', 'e', 'e', 'd', ' ', 't', ',', ' ', 'b', 'u', 't', ' ', 'n', ' ', 't', 'h', 'e', ' ', 'b', 'e', 'g', 'n', 'n', 'n', 'g', ',', ' ', 'w', 'h', 'e', 'n', ' ', 't', '’', 's', ' ', 't', 'h', 'e', ' ', 'p', 'l', 'a', 'n', 'n', 'n', 'g', ' ', 'p', 'h', 'a', 's', 'e', '.', '\\n']\n",
      "['\\n']\n",
      "['I', 'm', 'm', 'e', 'd', 'a', 't', 'e', 'l', 'y', ' ', 'o', 'n', 'c', 'e', ' ', 't', 'h', 'e', ' ', 'p', 'l', 'a', 'n', ' ', 's', ' ', 'f', 'n', 's', 'h', 'e', 'd', ',', ' ', 'y', 'o', 'u', ' ', 's', 'h', 'o', 'u', 'l', 'd', ' ', 'l', 'e', 'a', 'v', 'e', ' ', 't', 'h', 'e', ' ', 'b', 'g', ' ', 'p', 'c', 't', 'u', 'r', 'e', ' ', 'a', 's', 'd', 'e', ' ', 'a', 'n', 'd', ' ', 'f', 'o', 'c', 'u', 's', ' ', 'o', 'n', ' ', 't', 'h', 'e', ' ', 's', 'm', 'a', 'l', 'l', ' ', 'o', 'n', 'e', '.', '\\n']\n",
      "['\\n']\n",
      "['T', 'o', ' ', 'b', 'e', ' ', 's', 'p', 'e', 'c', 'f', 'c', ',', ' ', 'j', 'u', 's', 't', ' ', 'o', 'n', 'e', ' ', 'd', 'a', 'y', ' ', 'a', 'h', 'e', 'a', 'd', ' ', 'o', 'f', ' ', 'y', 'o', 'u', '.', ' ', 'O', 'r', ',', ' ', 'a', 's', ' ', 'I', ' ', 'l', 'k', 'e', ' ', 't', 'o', ' ', 'c', 'a', 'l', 'l', ' ', 't', ' ', '“', 'A', ' ', '2', '4', ' ', 'H', 'o', 'u', 'r', ' ', 'L', 'f', 'e', '”', '(', 'b', 'a', 's', 'c', 'a', 'l', 'l', 'y', ' ', 'w', 'h', 'a', 't', ' ', 's', 'm', 'a', 'r', 't', 'e', 'r', ' ', 'p', 'e', 'o', 'p', 'l', 'e', ' ', 'b', 'e', 'f', 'o', 'r', 'e', ' ', 'm', 'e', ' ', 's', 'a', 'd', ' ', 'b', 'u', 't', ' ', 'r', 'e', 'p', 'h', 'r', 'a', 's', 'e', 'd', ' ', 'w', 't', 'h', ' ', 'a', ' ', 'c', 'o', 'o', 'l', 'e', 'r', ' ', 'n', 'a', 'm', 'e', ',', ' ', 'f', 'a', 'n', 'c', 'y', ',', ' ', 'I', ' ', 'k', 'n', 'o', 'w', ')', '.', '\\n']\n",
      "['\\n']\n",
      "['T', 'h', 'a', 't', '’', 's', ' ', 'w', 'h', 'a', 't', ' ', 'y', 'o', 'u', ' ', 's', 'h', 'o', 'u', 'l', 'd', ' ', 'd', 'o', '.', ' ', 'D', 'o', 'n', '’', 't', ' ', 't', 'h', 'n', 'k', ' ', 'a', 'b', 'o', 'u', 't', ' ', 't', 'h', 'e', ' ', 's', 'c', 'e', 'n', 'c', 'e', ' ', 'o', 'r', ' ', 't', 'h', 'a', 't', ' ', 'y', 'o', 'u', ' ', 'n', 'e', 'e', 'd', ' ', '6', '6', ' ', 'd', 'a', 'y', 's', ' ', 't', 'o', ' ', 'e', 's', 't', 'a', 'b', 'l', 's', 'h', ' ', 'a', ' ', 'h', 'a', 'b', 't', ',', ' ', 't', ' ', 'w', 'l', 'l', ' ', 'j', 'u', 's', 't', ' ', 'o', 'v', 'e', 'r', 'w', 'h', 'e', 'l', 'm', ' ', 'y', 'o', 'u', ' ', 'a', 'd', 'd', 't', 'o', 'n', 'a', 'l', 'l', 'y', ',', ' ', 'w', 'h', 'c', 'h', ' ', 'y', 'o', 'u', ' ', 'd', 'o', 'n', '’', 't', ' ', 'n', 'e', 'e', 'd', '.', '\\n']\n",
      "['\\n']\n",
      "['N', 'e', 'x', 't', ',', ' ', 't', 'o', ' ', 't', 'h', 'e', ' ', '“', 'O', 'N', 'E', ' ', 'D', 'A', 'Y', '”', ' ', 'p', 'r', 'n', 'c', 'p', 'l', 'e', ',', ' ', 't', 'h', 'e', ' ', 'o', 'n', 'l', 'y', ' ', 'o', 't', 'h', 'e', 'r', ' ', 'o', 'n', 'e', ' ', 'y', 'o', 'u', ' ', 'n', 'e', 'e', 'd', ' ', 's', ' ', 't', 'h', 'e', ' ', 'c', 'o', 'n', 's', 's', 't', 'e', 'n', 'c', 'y', '.', '\\n']\n",
      "['\\n']\n",
      "['I', 'f', ' ', 'n', 'e', 'c', 'e', 's', 's', 'a', 'r', 'y', ',', ' ', 's', 'a', 'c', 'r', 'f', 'c', 'e', ' ', 't', 'h', 'e', ' ', 'q', 'u', 'a', 'l', 't', 'y', ',', ' ', 'a', 'n', 'd', ' ', 't', 'h', 'e', ' ', 'q', 'u', 'a', 'n', 't', 't', 'y', ',', ' ', 'f', 'o', 'r', ' ', 't', 'h', 'e', ' ', 's', 'a', 'k', 'e', ' ', 'o', 'f', ' ', 'c', 'o', 'n', 's', 's', 't', 'e', 'n', 'c', 'y', '.', '\\n']\n",
      "['L', 'e', 't', '’', 's', ' ', 'g', 'e', 't', ' ', 'd', 'o', 'w', 'n', ' ', 't', 'o', ' ', 'c', 'o', 'n', 'c', 'r', 'e', 't', 'e', ' ', 's', 't', 'e', 'p', 's', ' ', 'y', 'o', 'u', ' ', 'c', 'a', 'n', ' ', 't', 'a', 'k', 'e', ' ', 'a', ' ', 'r', 'g', 'h', 't', ' ', 't', 'h', 's', ' ', 'm', 'o', 'm', 'e', 'n', 't', ' ', 't', 'o', ' ', 't', 'a', 'k', 'e', ' ', 'a', 'c', 't', 'o', 'n', ' ', 'a', 'n', 'd', ' ', 's', 't', 'a', 'r', 't', ' ', 'w', 'o', 'r', 'k', 'n', 'g', ' ', 'o', 'n', ' ', 'y', 'o', 'u', 'r', ' ', 'g', 'o', 'a', 'l', '.', '\\n']\n",
      "['\\n']\n",
      "['1', '.', ' ', 'E', 'x', 't', 'r', 'a', 'c', 't', ' ', 'T', 'h', 'e', ' ', 'L', 'e', 's', 's', 'o', 'n', 's', '\\n']\n",
      "['*', '*', '*', '*', '*', '*', '*', '*', '*', '*', '*', '*', '*', '*', '*', '*', '*', '*', '*', '*', '*', '*', '*', '*', '*', '*', '*', '*', '*', '*', '*', '\\n']\n",
      "['L', 'o', 'o', 'k', ' ', 'b', 'a', 'c', 'k', ' ', 'a', 't', ' ', 't', 'h', 'e', ' ', 'p', 'r', 'e', 'v', 'o', 'u', 's', ' ', 'p', 'e', 'r', 'o', 'd', ',', ' ', 'a', 'n', 'd', ' ', 't', 'r', 'y', ' ', 't', 'o', ' ', 'p', 'n', 'p', 'o', 'n', 't', ' ', 't', 'h', 'e', ' ', 'm', 'a', 'n', ' ', 'r', 'e', 'a', 's', 'o', 'n', 's', ' ', 'o', 'n', ' ', 'w', 'h', 'y', ' ', 'y', 'o', 'u', ' ', 'p', 'r', 'o', 'c', 'r', 'a', 's', 't', 'n', 'a', 't', 'e', 'd', ' ', '(', 'b', 'e', ' ', 'h', 'o', 'n', 'e', 's', 't', ' ', 'w', 't', 'h', ' ', 'y', 'o', 'u', 'r', 's', 'e', 'l', 'f', ')', '.', '\\n']\n",
      "['\\n']\n",
      "['T', 'h', 'e', 's', 'e', ' ', 'r', 'e', 'a', 's', 'o', 'n', 's', ' ', 'a', 'r', 'e', ' ', 'u', 's', 'u', 'a', 'l', 'l', 'y', ' ', 'n', 't', 'e', 'r', 'n', 'a', 'l', ' ', 'a', 'n', 'd', ' ', 'e', 'x', 't', 'e', 'r', 'n', 'a', 'l', '.', '\\n']\n",
      "['\\n']\n",
      "['W', 'h', 'a', 't', ' ', 'I', ' ', 'm', 'e', 'a', 'n', ' ', 'b', 'y', ' ', 't', 'h', 's', ' ', 's', ',', ' ', 't', 'h', 'e', ' ', 'e', 'x', 'c', 'u', 's', 'e', 's', ' ', 'y', 'o', 'u', ' ', 'g', 'v', 'e', ' ', 'y', 'o', 'u', 'r', 's', 'e', 'l', 'f', ' ', '(', 't', '’', 's', ' ', 'h', 'a', 'r', 'd', ',', ' ', 'y', 'o', 'u', ' ', 'd', 'o', 'n', '’', 't', ' ', 'k', 'n', 'o', 'w', ' ', 'h', 'o', 'w', ' ', 't', 'o', ' ', 'd', 'o', ' ', 't', ',', ' ', 'e', 't', 'c', ')', ',', ' ', 'a', 'n', 'd', ' ', 't', 'h', 'e', ' ', 'd', 's', 't', 'r', 'a', 'c', 't', 'o', 'n', 's', ' ', 'n', ' ', 'y', 'o', 'u', 'r', ' ', 'e', 'n', 'v', 'r', 'o', 'n', 'm', 'e', 'n', 't', ' ', '(', 't', 'h', 'e', ' ', 'n', 't', 'e', 'r', 'n', 'e', 't', ',', ' ', 't', 'e', 'l', 'e', 'v', 's', 'o', 'n', ',', ' ', 'p', 'e', 'o', 'p', 'l', 'e', ',', ' ', 'f', 'o', 'o', 'd', ',', ' ', 'a', 'n', 'd', ' ', 'o', 't', 'h', 'e', 'r', ')', '.', '\\n']\n",
      "['\\n']\n",
      "['Y', 'o', 'u', ' ', 'p', 'r', 'o', 'b', 'a', 'b', 'l', 'y', ' ', 'k', 'n', 'o', 'w', ' ', 't', 'h', 'e', 'm', ' ', 'a', 'l', 'r', 'e', 'a', 'd', 'y', ',', ' ', 'b', 'u', 't', ' ', 't', '’', 's', ' ', 'g', 'o', 'o', 'd', ' ', 't', 'o', ' ', 'w', 'r', 't', 'e', ' ', 't', 'h', 'e', 'm', ' ', 'd', 'o', 'w', 'n', ',', ' ', 'a', 'n', 'd', ' ', 'r', 'e', 'm', 'n', 'd', ' ', 'y', 'o', 'u', 'r', 's', 'e', 'l', 'f', '.', '\\n']\n",
      "['\\n']\n",
      "['2', '.', ' ', 'S', 't', 'o', 'p', ' ', 'B', 'e', 'a', 't', 'n', 'g', ' ', 'O', 'n', ' ', 'Y', 'o', 'u', 'r', 's', 'e', 'l', 'f', '\\n']\n",
      "['T', 'h', 's', ' ', 's', ' ', 'm', 'o', 'r', 'e', ' ', 't', 'h', 'e', 'o', 'r', 'e', 't', 'c', 'a', 'l', ',', ' ', 'f', 'l', 'u', 'f', 'f', 'y', ' ', 'a', 'd', 'v', 'c', 'e', ',', ' ', 'b', 'u', 't', ' ', 's', 't', 'l', 'l', ',', ' ', 'm', 'a', 'k', 'e', 's', ' ', 's', 'e', 'n', 's', 'e', '.', '\\n']\n",
      "['\\n']\n",
      "['S', 't', 'o', 'p', ' ', 'd', 'r', 'a', 'g', 'g', 'n', 'g', ' ', 't', 'h', 'e', ' ', 'l', 'u', 'g', 'g', 'a', 'g', 'e', ' ', 'o', 'f', ' ', 'y', 'o', 'u', 'r', ' ', 'p', 'a', 's', 't', ' ', '(', 'n', ')', 'a', 'c', 't', 'o', 'n', 's', '.', ' ', 'T', 'h', 'a', 't', '’', 's', ' ', 't', 'h', 'e', ' ', 't', 'h', 'n', 'g', ' ', 'w', 't', 'h', ' ', 'u', 's', ' ', 'p', 'e', 'o', 'p', 'l', 'e', ';', ' ', 'w', 'e', ' ', 'l', 'k', 'e', ' ', 't', 'o', ' ', 'b', 'e', 'a', 't', ' ', 'o', 'u', 'r', 's', 'e', 'l', 'v', 'e', 's', ',', ' ', 'w', 'h', 'c', 'h', ' ', 'a', 'd', 'd', 't', 'o', 'n', 'a', 'l', 'l', 'y', ' ', 'p', 'r', 'e', 'v', 'e', 'n', 't', 's', ' ', 'u', 's', ' ', 'f', 'r', 'o', 'm', ' ', 't', 'a', 'k', 'n', 'g', ' ', 'a', 'c', 't', 'o', 'n', 's', '.', '\\n']\n",
      "['\\n']\n",
      "['S', 'o', ',', ' ', 'd', 'r', 'o', 'p', ' ', 't', ',', ' ', 'a', 'n', 'd', ' ', 'f', 'o', 'c', 'u', 's', ' ', 'o', 'n', ' ', 'u', 's', 'n', 'g', ' ', 't', 'h', 'e', ' ', 'l', 'e', 's', 's', 'o', 'n', 's', ' ', 'f', 'r', 'o', 'm', ' ', 'm', 'y', ' ', 'p', 'r', 'e', 'v', 'o', 'u', 's', ' ', 'p', 'o', 'n', 't', '.', '\\n']\n",
      "['\\n']\n",
      "['R', 'e', 'm', 'e', 'm', 'b', 'e', 'r', ',', ' ', 't', 'h', 'n', 'k', ' ', 'j', 'u', 's', 't', ' ', '2', '4', ' ', 'h', 'o', 'u', 'r', 's', ' ', 'a', 'h', 'e', 'a', 'd', ' ', '(', 'o', 'r', ' ', '1', '8', '/', '1', '6', ' ', 'd', 'e', 'p', 'e', 'n', 'd', 'n', 'g', ' ', 'o', 'n', ' ', 'h', 'o', 'w', ' ', 'm', 'u', 'c', 'h', ' ', 'y', 'o', 'u', ' ', 's', 'l', 'e', 'e', 'p', ')', ' ', 'n', 'o', 'w', ' ', 'w', 'h', 'e', 'n', ' ', 'I', ' ', 't', 'h', 'n', 'k', ' ', 'a', 'b', 'o', 'u', 't', ' ', 't', ',', ' ', 't', 'h', 'e', ' ', '“', '2', '4', '-', 'h', 'o', 'u', 'r', ' ', 'l', 'f', 'e', '”', ' ', 's', ' ', 's', 't', 'a', 'r', 't', 'n', 'g', ' ', 't', 'o', ' ', 'l', 'o', 's', 'e', ' ', 't', 's', ' ', 'm', 'e', 'a', 'n', 'n', 'g', ',', ' ', 'b', 'u', 't', ' ', 't', ' ', 's', 'o', 'u', 'n', 'd', 's', ' ', 'c', 'o', 'o', 'l', 'e', 'r', ' ', 't', 'h', 'a', 'n', ' ', '“', '1', '6', ' ', 'H', 'o', 'u', 'r', ' ', 'L', 'f', 'e', '.', '”', ')', '\\n']\n",
      "['\\n']\n",
      "['A', 'n', 'y', 'w', 'a', 'y', 's', '.', ' ', 'T', 'h', 'e', ' ', 'm', 'o', 'm', 'e', 'n', 't', ' ', 'y', 'o', 'u', ' ', 'f', 'o', 'r', 'g', 'v', 'e', ' ', 'y', 'o', 'u', 'r', 's', 'e', 'l', 'f', ',', ' ', 'y', 'o', 'u', ' ', 'w', 'l', 'l', ' ', 'f', 'e', 'e', 'l', ' ', 'r', 'e', 'l', 'e', 'v', 'e', 'd', ',', ' ', 'a', 'n', 'd', ' ', 's', 'l', 'o', 'w', 'l', 'y', ' ', 's', 't', 'a', 'r', 't', ' ', 't', 'o', ' ', 'r', 'e', 'g', 'a', 'n', ' ', 't', 'h', 'a', 't', ' ', 'o', 'r', 'g', 'n', 'a', 'l', ' ', 'm', 'o', 't', 'v', 'a', 't', 'o', 'n', ',', ' ', 'o', 'r', ' ', 'm', 'o', 't', 'v', 'a', 't', 'o', 'n', ' ', '2', '.', '0', ' ', 'w', 'h', 'a', 't', 'e', 'v', 'e', 'r', ' ', 'y', 'o', 'u', ' ', 'w', 'a', 'n', 't', ' ', 't', 'o', ' ', 'c', 'a', 'l', 'l', ' ', 't', '.', '\\n']\n",
      "['\\n']\n",
      "['3', '.', ' ', 'R', 'e', '-', 'e', 'v', 'a', 'l', 'u', 'a', 't', 'e', ' ', 'Y', 'o', 'u', 'r', ' ', 'D', 'r', 'e', 'c', 't', 'o', 'n', '\\n']\n",
      "['N', 'o', 'w', ' ', 't', 'h', 'a', 't', ' ', 't', 'h', 'e', ' ', 'p', 'a', 's', 't', ' ', 's', ' ', 'b', 'e', 'h', 'n', 'd', ' ', 'y', 'o', 'u', ',', ' ', 'y', 'o', 'u', ' ', 's', 'h', 'o', 'u', 'l', 'd', ' ', 'l', 'o', 'o', 'k', ' ', 'f', 'o', 'r', 'w', 'a', 'r', 'd', ' ', 'a', 'n', 'd', ' ', 'g', 'e', 't', ' ', 'c', 'l', 'a', 'r', 't', 'y', ' ', 'o', 'n', ' ', 'y', 'o', 'u', 'r', ' ', 'd', 'r', 'e', 'c', 't', 'o', 'n', '.', '\\n']\n",
      "['\\n']\n",
      "['E', 'v', 'e', 'n', ' ', 'f', ' ', 'y', 'o', 'u', ' ', 's', 't', 'l', 'l', ' ', 'w', 'a', 'n', 't', ' ', 't', 'o', ' ', 'p', 'u', 'r', 's', 'u', 'e', ' ', 't', 'h', 'e', ' ', 's', 'a', 'm', 'e', ' ', 'g', 'o', 'a', 'l', ',', ' ', 'k', 'n', 'o', 'w', ' ', 't', 'h', 'a', 't', ' ', 't', ' ', 'o', 'f', 't', 'e', 'n', ' ', 'h', 'a', 'p', 'p', 'e', 'n', 's', ' ', 't', 'h', 'a', 't', ' ', 'w', 'e', ' ', 'd', 'o', 'n', '’', 't', ' ', 's', 't', 'o', 'p', ' ', 'a', 'n', 'd', ' ', 't', 'h', 'n', 'k', ' ', 'w', 'h', 'e', 't', 'h', 'e', 'r', ' ', 'o', 'r', ' ', 'n', 'o', 't', ' ', 'w', 'h', 'a', 't', ' ', 'w', 'e', ' ', 'a', 'r', 'e', ' ', 't', 'r', 'y', 'n', 'g', ' ', 't', 'o', ' ', 'a', 'c', 'h', 'e', 'v', 'e', ',', ' ', 'a', 'c', 't', 'u', 'a', 'l', 'l', 'y', ' ', 's', 't', 'l', 'l', ' ', 'm', 'a', 'k', 'e', 's', ' ', 's', 'e', 'n', 's', 'e', ' ', 'f', 'o', 'r', ' ', 'u', 's', ' ', '(', 's', 'm', 'l', 'a', 'r', ' ', 't', 'o', ' ', 'b', 'e', 'n', 'g', ' ', 'n', ' ', 'a', 'n', ' ', 'u', 'n', 'h', 'e', 'a', 'l', 't', 'h', 'y', ' ', 'r', 'e', 'l', 'a', 't', 'o', 'n', 's', 'h', 'p', ' ', 'j', 'u', 's', 't', ' ', 'b', 'e', 'c', 'a', 'u', 's', 'e', ' ', 'y', 'o', 'u', '’', 'v', 'e', ' ', 'n', 'v', 'e', 's', 't', 'e', 'd', ' ', 't', 'o', 'o', ' ', 'm', 'u', 'c', 'h', ' ', 't', 'm', 'e', ')', '.', '\\n']\n",
      "['\\n']\n",
      "['T', 'h', 's', ' ', 's', ' ', 'y', 'o', 'u', 'r', ' ', 'o', 'n', 'e', ' ', 's', 'h', 'o', 't', ',', ' ', 'e', 't', 'h', 'e', 'r', ' ', 'd', 'r', 'o', 'p', ' ', 't', 'h', 'e', ' ', 'g', 'o', 'a', 'l', ' ', 'a', 'l', 't', 'o', 'g', 'e', 't', 'h', 'e', 'r', ' ', 'o', 'r', ' ', 'l', 'e', 'a', 'v', 'e', ' ', 'a', 'l', 'l', ' ', 't', 'h', 'e', ' ', 'e', 'x', 'c', 'u', 's', 'e', 's', ' ', 'b', 'e', 'h', 'n', 'd', '.', '\\n']\n",
      "['\\n']\n",
      "['T', 'h', 'n', 'k', ' ', 'a', 'b', 'o', 'u', 't', ' ', 'y', 'o', 'u', 'r', ' ', 'b', 'g', 'g', 'e', 's', 't', ' ', 'g', 'o', 'a', 'l', ',', ' ', 'a', 'n', 'd', ' ', 's', 'e', 'e', ' ', 'f', ' ', 'y', 'o', 'u', ' ', 's', 't', 'l', 'l', ' ', 'w', 'a', 'n', 't', ' ', 't', 'o', ' ', 'p', 'u', 'r', 's', 'u', 'e', ' ', 't', '.', '\\n']\n",
      "['\\n']\n",
      "['I', 'f', ' ', 'y', 'o', 'u', ' ', 'd', 'o', ',', ' ', 'w', 'r', 't', 'e', ' ', 't', ' ', 'n', ' ', 'o', 'n', 'e', ' ', 's', 'e', 'n', 't', 'e', 'n', 'c', 'e', ',', ' ', 'a', 'n', 'd', ' ', 'p', 'u', 't', ' ', 'a', ' ', 'd', 'e', 'a', 'd', 'l', 'n', 'e', ' ', 'o', 'n', ' ', 't', '.', '\\n']\n",
      "['\\n']\n",
      "['I', 'f', ' ', 'n', 'o', 't', ',', ' ', 's', 'c', 'r', 'a', 't', 'c', 'h', ' ', 't', '.', ' ', 'A', 'n', 'd', ' ', 't', 'h', 'n', 'k', ' ', 'o', 'f', ' ', 'a', 'n', 'o', 't', 'h', 'e', 'r', ' ', 'b', 'g', ' ', 'g', 'o', 'a', 'l', ' ', 'y', 'o', 'u', ' ', 'w', 'a', 'n', 't', ' ', 't', 'o', ' ', 'f', 'o', 'c', 'u', 's', ' ', 'n', ' ', 't', 'h', 'e', ' ', 'u', 'p', 'c', 'o', 'm', 'n', 'g', ' ', 'y', 'e', 'a', 'r', '.', '\\n']\n",
      "['\\n']\n",
      "['J', 'u', 's', 't', ' ', 'o', 'n', 'e', ' ', 'g', 'o', 'a', 'l', ',', ' ', 'n', 'o', 't', ' ', 'f', 'v', 'e', ' ', 'o', 'r', ' ', 't', 'e', 'n', '.', ' ', 'L', 'e', 't', '’', 's', ' ', 'n', 'o', 't', ' ', 'c', 'o', 'p', 'y', '-', 'p', 'a', 's', 't', 'e', ' ', 'n', 'e', 'w', ' ', 'y', 'e', 'a', 'r', 's', ' ', 'r', 'e', 's', 'o', 'l', 'u', 't', 'o', 'n', 's', ',', ' ', 'y', 'e', 'a', 'r', ' ', 'n', '-', 'y', 'e', 'a', 'r', ' ', 'o', 'u', 't', '.', '\\n']\n",
      "['\\n']\n",
      "['O', 'n', 'c', 'e', ' ', 'y', 'o', 'u', ' ', 'h', 'a', 'v', 'e', ' ', 't', ',', ' ', 'y', 'o', 'u', ' ', 'n', 'e', 'e', 'd', ' ', 'a', ' ', 's', 't', 'r', 'a', 't', 'e', 'g', 'y', '.', '\\n']\n",
      "['\\n']\n",
      "['4', '.', ' ', 'M', 'a', 'k', 'e', ' ', 'A', ' ', 'N', 'e', 'w', ' ', 'P', 'l', 'a', 'n', '\\n']\n",
      "['I', 'n', ' ', 't', 'h', 'o', 's', 'e', ' ', '1', '6', ' ', 'h', 'o', 'u', 'r', 's', ',', ' ', 'y', 'o', 'u', 'r', ' ', 's', 'o', 'l', 'e', ' ', 'f', 'o', 'c', 'u', 's', ' ', '(', 'w', 'h', 'e', 'n', ' ', 't', ' ', 'c', 'o', 'm', 'e', 's', ' ', 't', 'o', ' ', 'y', 'o', 'u', 'r', ' ', 'g', 'o', 'a', 'l', ')', ',', ' ', 's', 'h', 'o', 'u', 'l', 'd', ' ', 'b', 'e', 'o', 'n', 'l', 'y', ' ', 't', 'w', 'o', ' ', 't', 'h', 'n', 'g', 's', ':', '\\n']\n",
      "['\\n']\n",
      "['T', 'h', 'n', 'g', 's', ' ', 'y', 'o', 'u', ' ', 'h', 'a', 'v', 'e', ' ', 't', 'o', ' ', 'D', 'O', ' ', 't', 'o', ' ', 'a', 'c', 'h', 'e', 'v', 'e', ' ', 'y', 'o', 'u', 'r', ' ', 'g', 'o', 'a', 'l', ' ', '(', 'w', 'h', 'a', 't', ' ', 'a', 'r', 'e', ' ', 'y', 'o', 'u', 'r', ' ', 'm', 'o', 's', 't', ' ', 'm', 'p', 'o', 'r', 't', 'a', 'n', 't', ' ', 'a', 'c', 't', 'v', 't', 'e', 's', ' ', 't', 'h', 'a', 't', ' ', 'w', 'l', 'l', ' ', 'b', 'r', 'n', 'g', ' ', 'm', 'o', 's', 't', ' ', 'r', 'e', 's', 'u', 'l', 't', 's', '?', ')', '\\n']\n",
      "['T', 'h', 'n', 'g', 's', ' ', 'y', 'o', 'u', ' ', 'h', 'a', 'v', 'e', ' ', 't', 'o', ' ', 'L', 'E', 'A', 'R', 'N', ' ', 't', 'o', ' ', 'e', 'x', 'e', 'c', 'u', 't', 'e', ' ', 't', 'h', 'e', ' ', 'p', 'r', 'e', 'v', 'o', 'u', 's', 'l', 'y', ' ', 'd', 'e', 'f', 'n', 'e', 'd', ' ', 'a', 'c', 't', 'v', 't', 'e', 's', '\\n']\n",
      "['W', 'h', 'e', 'n', ' ', 'y', 'o', 'u', ' ', 'd', 'e', 't', 'e', 'r', 'm', 'n', 'e', ' ', 't', 'h', 'e', 's', 'e', ' ', 't', 'w', 'o', ' ', 'p', 'o', 'n', 't', 's', ',', ' ', 'p', 'u', 't', ' ', 't', 'h', 'e', 'm', ' ', 'n', ' ', 't', 'h', 'e', ' ', 't', 'm', 'e', 'l', 'n', 'e', ',', ' ', 'a', 'n', 'd', ' ', 't', 'h', 'e', 'n', '…', '\\n']\n",
      "['\\n']\n",
      "['5', '.', ' ', '…', ' ', 'A', 'c', 't', '\\n']\n",
      "['T', 'o', ' ', 'm', 'a', 'k', 'e', ' ', 's', 'u', 'r', 'e', ' ', 't', 'h', 'a', 't', ' ', 'h', 's', 't', 'o', 'r', 'y', ' ', 'd', 'o', 'e', 's', 'n', '’', 't', ' ', 'r', 'e', 'p', 'e', 'a', 't', ' ', 't', 's', 'e', 'l', 'f', ',', ' ', 'c', 'h', 'o', 'o', 's', 'e', ' ', 'j', 'u', 's', 't', ' ', 'o', 'n', 'e', ' ', 't', 'h', 'n', 'g', ' ', 'y', 'o', 'u', ' ', 'w', 'l', 'l', ' ', 'd', 'o', ' ', 't', 'o', 'd', 'a', 'y', ' ', 'n', 'o', ' ', 'm', 'a', 't', 't', 'e', 'r', ' ', 'h', 'o', 'w', ' ', 'm', 'n', 'o', 'r', ' ', 't', 'h', 'e', ' ', 'a', 'c', 't', 'v', 't', 'y', ' ', 's', '.', '\\n']\n",
      "['\\n']\n",
      "['L', 'k', 'e', ' ', 's', 'l', 'a', 'p', 'p', 'n', 'g', ' ', 'a', ' ', 'm', 'u', 'f', 'f', 'n', ' ', 'o', 'u', 't', ' ', 'o', 'f', ' ', 'y', 'o', 'u', 'r', ' ', 'h', 'a', 'n', 'd', ' ', '(', 'f', ' ', 'y', 'o', 'u', ' ', 'w', 'a', 'n', 't', ' ', 't', 'o', ' ', 'l', 'o', 's', 'e', ' ', 'w', 'e', 'g', 'h', 't', ')', ',', ' ', 'o', 'r', ' ', 'l', 'e', 'a', 'r', 'n', 'n', 'g', ' ', 'f', 'v', 'e', ' ', 'n', 'e', 'w', ' ', 'w', 'o', 'r', 'd', 's', ' ', 'n', ' ', 'S', 'p', 'a', 'n', 's', 'h', ' ', 'a', ' ', 'c', 'o', 'u', 'p', 'l', 'e', ' ', 'o', 'f', ' ', 'r', 'a', 'n', 'd', 'o', 'm', ' ', 'e', 'x', 'a', 'm', 'p', 'l', 'e', 's', ' ', 'h', 'e', 'r', 'e', ',', ' ', 'b', 'u', 't', ' ', 'y', 'o', 'u', ' ', 'g', 'e', 't', ' ', 'w', 'h', 'a', 't', ' ', 'I', ' ', 'm', 'e', 'a', 'n', '.', '\\n']\n",
      "['\\n']\n",
      "['I', ' ', 'w', 'r', 'o', 't', 'e', ' ', 't', 'h', 's', ' ', 'd', 'o', 'w', 'n', ' ', 'e', 'a', 'r', 'l', 'e', 'r', ',', ' ', 'b', 'u', 't', ' ', 'I', ' ', 'w', 'l', 'l', ' ', 'r', 'e', 'p', 'e', 'a', 't', ' ', 't', ' ', 'b', 'e', 'c', 'a', 'u', 's', 'e', ' ', 't', '’', 's', ' ', 'p', 'r', 'o', 'b', 'a', 'b', 'l', 'y', ' ', 't', 'h', 'e', ' ', 'm', 'o', 's', 't', ' ', 'm', 'p', 'o', 'r', 't', 'a', 'n', 't', ' ', 't', 'h', 'n', 'g', ' ', 'y', 'o', 'u', ' ', 'c', 'a', 'n', ' ', 'r', 'e', 'm', 'e', 'm', 'b', 'e', 'r', ' ', 'f', 'r', 'o', 'm', ' ', 't', 'h', 's', ' ', 'a', 'r', 't', 'c', 'l', 'e', '.', '\\n']\n",
      "['\\n']\n",
      "['I', 'f', ' ', 'n', 'e', 'c', 'e', 's', 's', 'a', 'r', 'y', ',', ' ', 's', 'a', 'c', 'r', 'f', 'c', 'e', ' ', 't', 'h', 'e', ' ', 'Q', 'u', 'a', 'l', 't', 'y', ',', ' ', 'a', 'n', 'd', ' ', 't', 'h', 'e', ' ', 'Q', 'u', 'a', 'n', 't', 't', 'y', ',', ' ', 'f', 'o', 'r', ' ', 't', 'h', 'e', ' ', 's', 'a', 'k', 'e', ' ', 'o', 'f', ' ', 'C', 'O', 'N', 'S', 'I', 'S', 'T', 'E', 'N', 'C', 'Y', '.', '\\n']\n",
      "['F', 'n', 'a', 'l', ' ', 'W', 'o', 'r', 'd', 's', '\\n']\n",
      "['E', 'v', 'e', 'n', ' ', 't', 'h', 'o', 'u', 'g', 'h', ' ', 't', '’', 's', ' ', 's', 'm', 'p', 'l', 'e', ',', ' ', 't', '’', 's', ' ', 'n', 'o', 't', ' ', 'e', 'a', 's', 'y', ' ', '*', '.', '\\n']\n",
      "['\\n']\n",
      "['B', 'u', 't', ',', ' ', 'y', 'o', 'u', ' ', 'o', 'n', 'l', 'y', ' ', 'n', 'e', 'e', 'd', ' ', 't', 'o', ' ', 't', 'a', 'k', 'e', ' ', 'o', 'n', 'e', ' ', 's', 'm', 'a', 'l', 'l', ' ', 's', 't', 'e', 'p', ',', ' ', 'w', 't', 'h', 'o', 'u', 't', ' ', 't', 'h', 'n', 'k', 'n', 'g', ' ', 't', 'o', 'o', ' ', 'f', 'a', 'r', ' ', 'a', 'h', 'e', 'a', 'd', ',', ' ', 'a', 'n', 'd', ' ', 'b', 'e', 'f', 'o', 'r', 'e', ' ', 'y', 'o', 'u', ' ', 'k', 'n', 'o', 'w', ' ', 't', ',', ' ', 'y', 'o', 'u', ' ', 'w', 'l', 'l', ' ', 'r', 'e', 'a', 'c', 'h', ' ', 'y', 'o', 'u', 'r', ' ', 'd', 'e', 's', 't', 'n', 'a', 't', 'o', 'n', '.', '\\n']\n",
      "['\\n']\n",
      "['J', 'u', 's', 't', ' ', 'l', 'k', 'e', ' ', 'I', ' ', 'd', 'd', ' ', 'w', 't', 'h', ' ', 't', 'h', 's', ' ', 'a', 'r', 't', 'c', 'l', 'e', '.', ' ', 'O', 'n', 'e', ' ', 'w', 'o', 'r', 'd', ' ', 'a', 't', ' ', 't', 'h', 'e', ' ', 't', 'm', 'e', ',', ' ', 'o', 'n', 'e', ' ', 'b', 'a', 'd', ' ', 'j', 'o', 'k', 'e', ' ', 'a', 't', ' ', 't', 'h', 'e', ' ', 't', 'm', 'e', ',', ' ', 'a', 'n', 'd', ' ', 'b', 'e', 'f', 'o', 'r', 'e', ' ', 'y', 'o', 'u', ' ', 'k', 'n', 'o', 'w', ' ', 't', ',', ' ', 'I', ' ', 'f', 'n', 's', 'h', 'e', 'd', ' ', 'w', 'r', 't', 'n', 'g', ' ', 't', ',', ' ', 'a', 'n', 'd', ' ', 'y', 'o', 'u', ' ', 'f', 'n', 's', 'h', 'e', 'd', ' ', 'r', 'e', 'a', 'd', 'n', 'g', ' ', 't', '.', '\\n']\n",
      "['\\n']\n",
      "['N', 'o', 'w', ',', ' ', 'g', 'o', ' ', 'g', 'e', 't', ' ', 't', ' ', 'I', ' ', 'b', 'e', 'l', 'e', 'v', 'e', ' ', 'n', ' ', 'y', 'o', 'u', '!', '\\n']\n",
      "['J', 'u', 's', 't', ' ', 'r', 'e', 'm', 'e', 'm', 'b', 'e', 'r', ' ', 'e', 'v', 'e', 'r', 'y', ' ', 'o', 'n', 'c', 'e', ' ', 'n', ' ', 'a', ' ', 'w', 'h', 'l', 'e', ' ', 't', 'o', ' ', 'm', 'a', 'k', 'e', ' ', 'a', ' ', 'p', 'a', 'u', 's', 'e', ',', ' ', 'a', 'n', 'd', ' ', 'e', 'v', 'a', 'l', 'u', 'a', 't', 'e', ' ', 'y', 'o', 'u', 'r', ' ', 'p', 'a', 't', 'h', ' ', 'a', 'n', 'd', ' ', 'p', 'l', 'a', 'n', ',', ' ', 'j', 'u', 's', 't', ' ', 't', 'o', ' ', 'm', 'a', 'k', 'e', ' ', 's', 'u', 'r', 'e', ' ', 'y', 'o', 'u', ' ', 'a', 'r', 'e', ' ', 's', 't', 'l', 'l', ' ', 'o', 'n', ' ', 't', 'h', 'e', ' ', 'r', 'g', 'h', 't', ' ', 't', 'r', 'a', 'c', 'k', '.']\n"
     ]
    }
   ],
   "source": [
    "regex = r'[^i|z]'\n",
    "search(regex)"
   ]
  },
  {
   "cell_type": "markdown",
   "metadata": {
    "pycharm": {
     "name": "#%% md\n"
    }
   },
   "source": [
    "... that has an 'x' but not 'y'"
   ]
  },
  {
   "cell_type": "code",
   "execution_count": 134,
   "metadata": {
    "pycharm": {
     "name": "#%%\n"
    }
   },
   "outputs": [
    {
     "name": "stdout",
     "output_type": "stream",
     "text": [
      "['ex']\n",
      "['ex']\n",
      "['Ex']\n",
      "['ex']\n",
      "['ex']\n",
      "['ex']\n",
      "['ex']\n",
      "['ex']\n"
     ]
    }
   ],
   "source": [
    "regex = r'[^y]x'\n",
    "search(regex)"
   ]
  },
  {
   "cell_type": "markdown",
   "metadata": {
    "pycharm": {
     "name": "#%% md\n"
    }
   },
   "source": [
    "... that has at least 2 consecutive vowels (a, e, i, o, u) like in the word \"bear\""
   ]
  },
  {
   "cell_type": "code",
   "execution_count": 135,
   "metadata": {
    "pycharm": {
     "name": "#%%\n"
    }
   },
   "outputs": [],
   "source": [
    "regex = f'[aeiou]{2}'\n",
    "search(regex)"
   ]
  },
  {
   "cell_type": "markdown",
   "metadata": {
    "pycharm": {
     "name": "#%% md\n"
    }
   },
   "source": [
    "... that has at least 3 vowels"
   ]
  },
  {
   "cell_type": "code",
   "execution_count": 136,
   "metadata": {
    "pycharm": {
     "name": "#%%\n"
    }
   },
   "outputs": [],
   "source": [
    "#"
   ]
  },
  {
   "cell_type": "markdown",
   "metadata": {
    "pycharm": {
     "name": "#%% md\n"
    }
   },
   "source": [
    "... that has at least 30 characters"
   ]
  },
  {
   "cell_type": "code",
   "execution_count": 137,
   "metadata": {
    "pycharm": {
     "name": "#%%\n"
    }
   },
   "outputs": [
    {
     "name": "stdout",
     "output_type": "stream",
     "text": [
      "['How To Start When You’ve Procr', 'astinated On Your Goals For To']\n",
      "['As you are reading this, you p', 'robably have a goal on your ow', 'n, that you’ve pushed, postpon', 'ed, procrastinated on, and oth', 'er words that start with P, fo', 'r days, weeks, months, or even']\n",
      "['Not only that, but you’ve reac', 'hed the point where even the t', 'hought of the goal, brings the', ' feeling of having butterflies', ' in your stomach. Demon butter']\n",
      "['Hopefully, today is the day yo', 'u will break the chain as well']\n",
      "['In the beginning, when we set ', 'the goal, we feel usually moti', 'vated, for about a day. As eac', 'h additional day passes, the r']\n",
      "['As more time passes by, we fee', 'l more overwhelmed, especially', ' if we have attempted to start', ' several times, and failed. It', ' stacks up, but in a wrong dir']\n",
      "['The biggest problem in this sc', 'enario is that we think of the', ' sheer size of the goal, or to', ' be more accurate, the list of', ' the activities we need to do,', ' and how much time it will tak']\n",
      "['We think about the big picture']\n",
      "['There is nothing wrong with th', 'e big picture, on the contrary', ', we need it, but in the begin', 'ning, when it’s the planning p']\n",
      "['Immediately once the plan is f', 'inished, you should leave the ', 'big picture aside and focus on']\n",
      "['To be specific, just one day a', 'head of you. Or, as I like to ', 'call it “A 24 Hour Life”(basic', 'ally what smarter people befor', 'e me said but rephrased with a']\n",
      "['That’s what you should do. Don', '’t think about the science or ', 'that you need 66 days to estab', 'lish a habit, it will just ove', 'rwhelm you additionally, which']\n",
      "['Next, to the “ONE DAY” princip', 'le, the only other one you nee']\n",
      "['If necessary, sacrifice the qu', 'ality, and the quantity, for t']\n",
      "['Let’s get down to concrete ste', 'ps you can take a right this m', 'oment to take action and start']\n",
      "['******************************']\n",
      "['Look back at the previous peri', 'od, and try to pinpoint the ma', 'in reasons on why you procrast', 'inated (be honest with yoursel']\n",
      "['These reasons are usually inte']\n",
      "['What I mean by this is, the ex', 'cuses you give yourself (it’s ', 'hard, you don’t know how to do', ' it, etc), and the distraction', 's in your environment (the int', 'ernet, television, people, foo']\n",
      "['You probably know them already', ', but it’s good to write them ']\n",
      "['This is more theoretical, fluf', 'fy advice, but still, makes se']\n",
      "['Stop dragging the luggage of y', 'our past (in)actions. That’s t', 'he thing with us people; we li', 'ke to beat ourselves, which ad', 'ditionally prevents us from ta']\n",
      "['So, drop it, and focus on usin', 'g the lessons from my previous']\n",
      "['Remember, think just 24 hours ', 'ahead (or 18/16 depending on h', 'ow much you sleep) now when I ', 'think about it, the “24-hour l', 'ife” is starting to lose its m', 'eaning, but it sounds cooler t']\n",
      "['Anyways. The moment you forgiv', 'e yourself, you will feel reli', 'eved, and slowly start to rega', 'in that original motivation, o', 'r motivation 2.0 whatever you ']\n",
      "['Now that the past is behind yo', 'u, you should look forward and', ' get clarity on your direction']\n",
      "['Even if you still want to purs', 'ue the same goal, know that it', ' often happens that we don’t s', 'top and think whether or not w', 'hat we are trying to achieve, ', 'actually still makes sense for', ' us (similar to being in an un', 'healthy relationship just beca', 'use you’ve invested too much t']\n",
      "['This is your one shot, either ', 'drop the goal altogether or le']\n",
      "['Think about your biggest goal,', ' and see if you still want to ']\n",
      "['If you do, write it in one sen', 'tence, and put a deadline on i']\n",
      "['If not, scratch it. And think ', 'of another big goal you want t']\n",
      "['Just one goal, not five or ten', '. Let’s not copy-paste new yea', 'rs resolutions, year in-year o']\n",
      "['Once you have it, you need a s']\n",
      "['In those 16 hours, your sole f', 'ocus (when it comes to your go', 'al), should beonly two things:']\n",
      "['Things you have to DO to achie', 've your goal (what are your mo', 'st important activities that w']\n",
      "['Things you have to LEARN to ex', 'ecute the previously defined a']\n",
      "['When you determine these two p', 'oints, put them in the timelin']\n",
      "['To make sure that history does', 'n’t repeat itself, choose just', ' one thing you will do today n', 'o matter how minor the activit']\n",
      "['Like slapping a muffin out of ', 'your hand (if you want to lose', ' weight), or learning five new', ' words in Spanish a couple of ', 'random examples here, but you ']\n",
      "['I wrote this down earlier, but', ' I will repeat it because it’s', ' probably the most important t', 'hing you can remember from thi']\n",
      "['If necessary, sacrifice the Qu', 'ality, and the Quantity, for t']\n",
      "['Even though it’s simple, it’s ']\n",
      "['But, you only need to take one', ' small step, without thinking ', 'too far ahead, and before you ', 'know it, you will reach your d']\n",
      "['Just like I did with this arti', 'cle. One word at the time, one', ' bad joke at the time, and bef', 'ore you know it, I finished wr', 'iting it, and you finished rea']\n",
      "['Now, go get it I believe in yo']\n",
      "['Just remember every once in a ', 'while to make a pause, and eva', 'luate your path and plan, just', ' to make sure you are still on']\n"
     ]
    }
   ],
   "source": [
    "regex = r'.'*30\n",
    "search(regex)"
   ]
  },
  {
   "cell_type": "markdown",
   "metadata": {
    "pycharm": {
     "name": "#%% md\n"
    }
   },
   "source": [
    "... has the same word appear twice in the same line"
   ]
  },
  {
   "cell_type": "code",
   "execution_count": 138,
   "metadata": {
    "pycharm": {
     "name": "#%%\n"
    }
   },
   "outputs": [
    {
     "name": "stdout",
     "output_type": "stream",
     "text": [
      "['How To Start When You’ve Procr', 'astinated On Your Goals For To']\n",
      "['As you are reading this, you p', 'robably have a goal on your ow', 'n, that you’ve pushed, postpon', 'ed, procrastinated on, and oth', 'er words that start with P, fo', 'r days, weeks, months, or even']\n",
      "['Not only that, but you’ve reac', 'hed the point where even the t', 'hought of the goal, brings the', ' feeling of having butterflies', ' in your stomach. Demon butter']\n",
      "['Hopefully, today is the day yo', 'u will break the chain as well']\n",
      "['In the beginning, when we set ', 'the goal, we feel usually moti', 'vated, for about a day. As eac', 'h additional day passes, the r']\n",
      "['As more time passes by, we fee', 'l more overwhelmed, especially', ' if we have attempted to start', ' several times, and failed. It', ' stacks up, but in a wrong dir']\n",
      "['The biggest problem in this sc', 'enario is that we think of the', ' sheer size of the goal, or to', ' be more accurate, the list of', ' the activities we need to do,', ' and how much time it will tak']\n",
      "['We think about the big picture']\n",
      "['There is nothing wrong with th', 'e big picture, on the contrary', ', we need it, but in the begin', 'ning, when it’s the planning p']\n",
      "['Immediately once the plan is f', 'inished, you should leave the ', 'big picture aside and focus on']\n",
      "['To be specific, just one day a', 'head of you. Or, as I like to ', 'call it “A 24 Hour Life”(basic', 'ally what smarter people befor', 'e me said but rephrased with a']\n",
      "['That’s what you should do. Don', '’t think about the science or ', 'that you need 66 days to estab', 'lish a habit, it will just ove', 'rwhelm you additionally, which']\n",
      "['Next, to the “ONE DAY” princip', 'le, the only other one you nee']\n",
      "['If necessary, sacrifice the qu', 'ality, and the quantity, for t']\n",
      "['Let’s get down to concrete ste', 'ps you can take a right this m', 'oment to take action and start']\n",
      "['******************************']\n",
      "['Look back at the previous peri', 'od, and try to pinpoint the ma', 'in reasons on why you procrast', 'inated (be honest with yoursel']\n",
      "['These reasons are usually inte']\n",
      "['What I mean by this is, the ex', 'cuses you give yourself (it’s ', 'hard, you don’t know how to do', ' it, etc), and the distraction', 's in your environment (the int', 'ernet, television, people, foo']\n",
      "['You probably know them already', ', but it’s good to write them ']\n",
      "['This is more theoretical, fluf', 'fy advice, but still, makes se']\n",
      "['Stop dragging the luggage of y', 'our past (in)actions. That’s t', 'he thing with us people; we li', 'ke to beat ourselves, which ad', 'ditionally prevents us from ta']\n",
      "['So, drop it, and focus on usin', 'g the lessons from my previous']\n",
      "['Remember, think just 24 hours ', 'ahead (or 18/16 depending on h', 'ow much you sleep) now when I ', 'think about it, the “24-hour l', 'ife” is starting to lose its m', 'eaning, but it sounds cooler t']\n",
      "['Anyways. The moment you forgiv', 'e yourself, you will feel reli', 'eved, and slowly start to rega', 'in that original motivation, o', 'r motivation 2.0 whatever you ']\n",
      "['Now that the past is behind yo', 'u, you should look forward and', ' get clarity on your direction']\n",
      "['Even if you still want to purs', 'ue the same goal, know that it', ' often happens that we don’t s', 'top and think whether or not w', 'hat we are trying to achieve, ', 'actually still makes sense for', ' us (similar to being in an un', 'healthy relationship just beca', 'use you’ve invested too much t']\n",
      "['This is your one shot, either ', 'drop the goal altogether or le']\n",
      "['Think about your biggest goal,', ' and see if you still want to ']\n",
      "['If you do, write it in one sen', 'tence, and put a deadline on i']\n",
      "['If not, scratch it. And think ', 'of another big goal you want t']\n",
      "['Just one goal, not five or ten', '. Let’s not copy-paste new yea', 'rs resolutions, year in-year o']\n",
      "['Once you have it, you need a s']\n",
      "['In those 16 hours, your sole f', 'ocus (when it comes to your go', 'al), should beonly two things:']\n",
      "['Things you have to DO to achie', 've your goal (what are your mo', 'st important activities that w']\n",
      "['Things you have to LEARN to ex', 'ecute the previously defined a']\n",
      "['When you determine these two p', 'oints, put them in the timelin']\n",
      "['To make sure that history does', 'n’t repeat itself, choose just', ' one thing you will do today n', 'o matter how minor the activit']\n",
      "['Like slapping a muffin out of ', 'your hand (if you want to lose', ' weight), or learning five new', ' words in Spanish a couple of ', 'random examples here, but you ']\n",
      "['I wrote this down earlier, but', ' I will repeat it because it’s', ' probably the most important t', 'hing you can remember from thi']\n",
      "['If necessary, sacrifice the Qu', 'ality, and the Quantity, for t']\n",
      "['Even though it’s simple, it’s ']\n",
      "['But, you only need to take one', ' small step, without thinking ', 'too far ahead, and before you ', 'know it, you will reach your d']\n",
      "['Just like I did with this arti', 'cle. One word at the time, one', ' bad joke at the time, and bef', 'ore you know it, I finished wr', 'iting it, and you finished rea']\n",
      "['Now, go get it I believe in yo']\n",
      "['Just remember every once in a ', 'while to make a pause, and eva', 'luate your path and plan, just', ' to make sure you are still on']\n"
     ]
    }
   ],
   "source": [
    "# regex = r'(\\w+ ) \\1'\n",
    "search(regex)"
   ]
  },
  {
   "cell_type": "markdown",
   "metadata": {
    "pycharm": {
     "name": "#%% md\n"
    }
   },
   "source": [
    "## Print all the words"
   ]
  },
  {
   "cell_type": "markdown",
   "metadata": {
    "pycharm": {
     "name": "#%% md\n"
    }
   },
   "source": [
    "Words with either 'Bar' or 'Baz' in them"
   ]
  },
  {
   "cell_type": "code",
   "execution_count": 144,
   "metadata": {
    "pycharm": {
     "name": "#%%\n"
    }
   },
   "outputs": [],
   "source": [
    "regex = r'(Bar|Baz)'\n",
    "search(regex)"
   ]
  },
  {
   "cell_type": "markdown",
   "metadata": {
    "pycharm": {
     "name": "#%% md\n"
    }
   },
   "source": [
    "Words with either 'Whe' or 'The' in them"
   ]
  },
  {
   "cell_type": "code",
   "execution_count": 146,
   "metadata": {
    "pycharm": {
     "name": "#%%\n"
    }
   },
   "outputs": [
    {
     "name": "stdout",
     "output_type": "stream",
     "text": [
      "['Whe']\n",
      "['The']\n",
      "['The']\n",
      "['The']\n",
      "['The']\n",
      "['The']\n",
      "['Whe']\n"
     ]
    }
   ],
   "source": [
    "regex = r'(Whe|The)'\n",
    "search(regex)"
   ]
  },
  {
   "cell_type": "markdown",
   "metadata": {
    "pycharm": {
     "name": "#%% md\n"
    }
   },
   "source": [
    "Words containing a double character (e.g. 'oo')"
   ]
  },
  {
   "cell_type": "code",
   "execution_count": 148,
   "metadata": {
    "pycharm": {
     "name": "#%%\n"
    }
   },
   "outputs": [
    {
     "name": "stdout",
     "output_type": "stream",
     "text": [
      "['cool']\n",
      "['Look']\n",
      "['food']\n",
      "['good']\n",
      "['cool']\n",
      "['look']\n",
      "['hoos']\n"
     ]
    }
   ],
   "source": [
    "regex = r'[A-Z|a-z]oo[A-Z|a-z]'\n",
    "search(regex)"
   ]
  },
  {
   "cell_type": "markdown",
   "metadata": {
    "pycharm": {
     "name": "#%% md\n"
    }
   },
   "source": [
    "## Cleanup string codes so they contain only numbers\n",
    "* Remove slash and spaces"
   ]
  },
  {
   "cell_type": "code",
   "execution_count": 158,
   "metadata": {
    "pycharm": {
     "name": "#%%\n"
    }
   },
   "outputs": [
    {
     "name": "stdout",
     "output_type": "stream",
     "text": [
      "['2373', '8293']\n",
      "['8292342', '8263']\n",
      "['12', '903820']\n",
      "['8203184', '02342']\n"
     ]
    }
   ],
   "source": [
    "codes = ['2373/ 8293', \n",
    "         ' 8292342 / 8263', \n",
    "         '12/903820 ',\n",
    "         '8203184 / 02342 ']\n",
    "regex = r'\\d+'\n",
    "search(regex, codes)"
   ]
  },
  {
   "cell_type": "markdown",
   "metadata": {
    "pycharm": {
     "name": "#%% md\n"
    }
   },
   "source": [
    "## Switch order of the numbers in string\n",
    "* Preserve slash /\n",
    "* Remove spaces"
   ]
  },
  {
   "cell_type": "code",
   "execution_count": 164,
   "outputs": [
    {
     "name": "stdout",
     "output_type": "stream",
     "text": [
      "['2373', '/', '8293']\n",
      "['8292342', '/', '8263']\n",
      "['12', '/', '903820']\n",
      "['8203184', '/', '02342']\n"
     ]
    }
   ],
   "source": [
    "codes = ['2373/ 8293', \n",
    "         ' 8292342 / 8263', \n",
    "         '12/903820 ',\n",
    "         '8203184 / 02342 ']\n",
    "\n",
    "regex = r'(\\d+|/)'\n",
    "search(regex, codes)"
   ],
   "metadata": {
    "collapsed": false,
    "pycharm": {
     "name": "#%%\n"
    }
   }
  }
 ],
 "metadata": {
  "kernelspec": {
   "display_name": "Python 3 (ipykernel)",
   "language": "python",
   "name": "python3"
  },
  "language_info": {
   "codemirror_mode": {
    "name": "ipython",
    "version": 3
   },
   "file_extension": ".py",
   "mimetype": "text/x-python",
   "name": "python",
   "nbconvert_exporter": "python",
   "pygments_lexer": "ipython3",
   "version": "3.9.7"
  }
 },
 "nbformat": 4,
 "nbformat_minor": 4
}