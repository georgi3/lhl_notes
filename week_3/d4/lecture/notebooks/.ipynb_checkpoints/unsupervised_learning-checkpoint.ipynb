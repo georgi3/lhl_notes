{
 "cells": [
  {
   "cell_type": "markdown",
   "metadata": {},
   "source": [
    "# What is  Machine Learning?\n",
    "1. ML is a technique where a certain computer program accepts inputs and predicts a target variable. \n",
    "2. The way this is achieved is by training the algorithm on a sample of dataset\n",
    "3. There is cost/penalty function which is monitored as it is moving through the data points.\n",
    "4. The algorithm tries to reduce the cost/penalty function as much as possible.\n",
    "5. By doing so the algorithm gets closer to predicting correct values\n",
    "\n",
    "*notebook adapted from [Zain Hasan](https://drive.google.com/drive/folders/1s3irmcInqppiKI18rXIY-pnFRbSwd7jq)*\n"
   ]
  },
  {
   "cell_type": "markdown",
   "metadata": {},
   "source": [
    "## Training a supervised model\n",
    "\n",
    "- inputs & target variable\n",
    "- from the inputs can we find a function to predict a new target\n",
    "\n",
    "![training a supervised model](../images/MLTrainingPhase.JPG)"
   ]
  },
  {
   "cell_type": "markdown",
   "metadata": {},
   "source": [
    "## Training and Testing Sets\n",
    "\n",
    "partition our samples in to training and testing sets\n",
    "- training data: data the model will be trained on\n",
    "- testing data: data that will test the model that the training process will **never** see\n",
    "\n",
    "![training and testing sets](../images/MLTrainingPhase2.JPG)\n"
   ]
  },
  {
   "cell_type": "markdown",
   "metadata": {
    "jp-MarkdownHeadingCollapsed": true,
    "tags": []
   },
   "source": [
    "## Regression and Classification\n",
    "\n",
    "- Regression: continuous target variable\n",
    "- Classifiation: discrete target variable\n",
    "\n",
    "![RVC](../images/regressClass.jpg)"
   ]
  },
  {
   "cell_type": "markdown",
   "metadata": {},
   "source": [
    "# Other Types of Learning in Machine Learning"
   ]
  },
  {
   "cell_type": "markdown",
   "metadata": {},
   "source": [
    "\n",
    "![ml types](../images/MLtypes.jpg)"
   ]
  },
  {
   "cell_type": "markdown",
   "metadata": {},
   "source": [
    "# Unsupervised Learning \n",
    "* The art of drawing inferences from data which does not have <b>labels (target,Y)</b>. \n",
    "* We are not trying to predict a label, we are trying to group data together on some similar attributes. ie. **Clustering**"
   ]
  },
  {
   "cell_type": "markdown",
   "metadata": {},
   "source": [
    "## Supervised vs Unsupervised Learning\n",
    "\n",
    "<img src=\"../images/SupervisedUnsupervised.png\" width='700' alt=\"supervised vs unsupervised learning\">"
   ]
  },
  {
   "cell_type": "markdown",
   "metadata": {},
   "source": [
    "# Applications in Industry of Unsupervised Learning/Clustering\n",
    "\n",
    "Having the ability to identify patterns from data and from these patterns make **actionable insights**\n"
   ]
  },
  {
   "cell_type": "markdown",
   "metadata": {},
   "source": [
    "\n",
    "![](../images/5.PNG)"
   ]
  }
 ],
 "metadata": {
  "anaconda-cloud": {},
  "celltoolbar": "Raw Cell Format",
  "kernelspec": {
   "display_name": "Python 3 (ipykernel)",
   "language": "python",
   "name": "python3"
  },
  "language_info": {
   "codemirror_mode": {
    "name": "ipython",
    "version": 3
   },
   "file_extension": ".py",
   "mimetype": "text/x-python",
   "name": "python",
   "nbconvert_exporter": "python",
   "pygments_lexer": "ipython3",
   "version": "3.10.2"
  },
  "widgets": {
   "state": {},
   "version": "1.1.2"
  }
 },
 "nbformat": 4,
 "nbformat_minor": 4
}
