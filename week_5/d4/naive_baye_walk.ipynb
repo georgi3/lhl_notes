{
 "cells": [
  {
   "cell_type": "markdown",
   "source": [
    "## Naive Bayes Classifier from Scratch\n",
    "* link https://chrisalbon.com/code/machine_learning/naive_bayes/naive_bayes_classifier_from_scratch/"
   ],
   "metadata": {
    "collapsed": false,
    "pycharm": {
     "name": "#%% md\n"
    }
   }
  },
  {
   "cell_type": "code",
   "execution_count": 1,
   "outputs": [],
   "source": [
    "import pandas as pd\n",
    "import numpy as np"
   ],
   "metadata": {
    "collapsed": false,
    "pycharm": {
     "name": "#%%\n"
    }
   }
  },
  {
   "cell_type": "code",
   "execution_count": 3,
   "outputs": [],
   "source": [
    "data = pd.DataFrame()\n",
    "\n",
    "# Create our target variable\n",
    "data['Gender'] = ['male','male','male','male','female','female','female','female']\n",
    "\n",
    "# Create our feature variables\n",
    "data['Height'] = [6,5.92,5.58,5.92,5,5.5,5.42,5.75]\n",
    "data['Weight'] = [180,190,170,165,100,150,130,150]\n",
    "data['Foot_Size'] = [12,11,12,10,6,8,7,9]"
   ],
   "metadata": {
    "collapsed": false,
    "pycharm": {
     "name": "#%%\n"
    }
   }
  },
  {
   "cell_type": "code",
   "execution_count": 4,
   "outputs": [
    {
     "data": {
      "text/plain": "   Gender  Height  Weight  Foot_Size\n0    male    6.00     180         12\n1    male    5.92     190         11\n2    male    5.58     170         12\n3    male    5.92     165         10\n4  female    5.00     100          6\n5  female    5.50     150          8\n6  female    5.42     130          7\n7  female    5.75     150          9",
      "text/html": "<div>\n<style scoped>\n    .dataframe tbody tr th:only-of-type {\n        vertical-align: middle;\n    }\n\n    .dataframe tbody tr th {\n        vertical-align: top;\n    }\n\n    .dataframe thead th {\n        text-align: right;\n    }\n</style>\n<table border=\"1\" class=\"dataframe\">\n  <thead>\n    <tr style=\"text-align: right;\">\n      <th></th>\n      <th>Gender</th>\n      <th>Height</th>\n      <th>Weight</th>\n      <th>Foot_Size</th>\n    </tr>\n  </thead>\n  <tbody>\n    <tr>\n      <th>0</th>\n      <td>male</td>\n      <td>6.00</td>\n      <td>180</td>\n      <td>12</td>\n    </tr>\n    <tr>\n      <th>1</th>\n      <td>male</td>\n      <td>5.92</td>\n      <td>190</td>\n      <td>11</td>\n    </tr>\n    <tr>\n      <th>2</th>\n      <td>male</td>\n      <td>5.58</td>\n      <td>170</td>\n      <td>12</td>\n    </tr>\n    <tr>\n      <th>3</th>\n      <td>male</td>\n      <td>5.92</td>\n      <td>165</td>\n      <td>10</td>\n    </tr>\n    <tr>\n      <th>4</th>\n      <td>female</td>\n      <td>5.00</td>\n      <td>100</td>\n      <td>6</td>\n    </tr>\n    <tr>\n      <th>5</th>\n      <td>female</td>\n      <td>5.50</td>\n      <td>150</td>\n      <td>8</td>\n    </tr>\n    <tr>\n      <th>6</th>\n      <td>female</td>\n      <td>5.42</td>\n      <td>130</td>\n      <td>7</td>\n    </tr>\n    <tr>\n      <th>7</th>\n      <td>female</td>\n      <td>5.75</td>\n      <td>150</td>\n      <td>9</td>\n    </tr>\n  </tbody>\n</table>\n</div>"
     },
     "execution_count": 4,
     "metadata": {},
     "output_type": "execute_result"
    }
   ],
   "source": [
    "data"
   ],
   "metadata": {
    "collapsed": false,
    "pycharm": {
     "name": "#%%\n"
    }
   }
  },
  {
   "cell_type": "code",
   "execution_count": 5,
   "outputs": [],
   "source": [
    "# Create an empty dataframe\n",
    "person = pd.DataFrame()\n",
    "\n",
    "# Create some feature values for this single row\n",
    "person['Height'] = [6]\n",
    "person['Weight'] = [130]\n",
    "person['Foot_Size'] = [8]"
   ],
   "metadata": {
    "collapsed": false,
    "pycharm": {
     "name": "#%%\n"
    }
   }
  },
  {
   "cell_type": "code",
   "execution_count": 6,
   "outputs": [
    {
     "data": {
      "text/plain": "   Height  Weight  Foot_Size\n0       6     130          8",
      "text/html": "<div>\n<style scoped>\n    .dataframe tbody tr th:only-of-type {\n        vertical-align: middle;\n    }\n\n    .dataframe tbody tr th {\n        vertical-align: top;\n    }\n\n    .dataframe thead th {\n        text-align: right;\n    }\n</style>\n<table border=\"1\" class=\"dataframe\">\n  <thead>\n    <tr style=\"text-align: right;\">\n      <th></th>\n      <th>Height</th>\n      <th>Weight</th>\n      <th>Foot_Size</th>\n    </tr>\n  </thead>\n  <tbody>\n    <tr>\n      <th>0</th>\n      <td>6</td>\n      <td>130</td>\n      <td>8</td>\n    </tr>\n  </tbody>\n</table>\n</div>"
     },
     "execution_count": 6,
     "metadata": {},
     "output_type": "execute_result"
    }
   ],
   "source": [
    "person"
   ],
   "metadata": {
    "collapsed": false,
    "pycharm": {
     "name": "#%%\n"
    }
   }
  },
  {
   "cell_type": "code",
   "execution_count": 57,
   "outputs": [],
   "source": [
    "# number of males\n",
    "n_males = data['Gender'][data['Gender'] == 'male'].count()\n",
    "# number of females\n",
    "n_females = data['Gender'][data['Gender'] == 'female'].count()\n",
    "\n",
    "total_ppl = data['Gender'].count()"
   ],
   "metadata": {
    "collapsed": false,
    "pycharm": {
     "name": "#%%\n"
    }
   }
  },
  {
   "cell_type": "code",
   "execution_count": 58,
   "outputs": [],
   "source": [
    "P_male = n_males / total_ppl\n",
    "P_female = n_females / total_ppl"
   ],
   "metadata": {
    "collapsed": false,
    "pycharm": {
     "name": "#%%\n"
    }
   }
  },
  {
   "cell_type": "code",
   "execution_count": 60,
   "outputs": [],
   "source": [
    "# Group the data by gender and calculate the means of each feature\n",
    "data_means = data.groupby('Gender').mean()"
   ],
   "metadata": {
    "collapsed": false,
    "pycharm": {
     "name": "#%%\n"
    }
   }
  },
  {
   "cell_type": "code",
   "execution_count": 61,
   "outputs": [
    {
     "data": {
      "text/plain": "        Height  Weight  Foot_Size\nGender                           \nfemale  5.4175  132.50       7.50\nmale    5.8550  176.25      11.25",
      "text/html": "<div>\n<style scoped>\n    .dataframe tbody tr th:only-of-type {\n        vertical-align: middle;\n    }\n\n    .dataframe tbody tr th {\n        vertical-align: top;\n    }\n\n    .dataframe thead th {\n        text-align: right;\n    }\n</style>\n<table border=\"1\" class=\"dataframe\">\n  <thead>\n    <tr style=\"text-align: right;\">\n      <th></th>\n      <th>Height</th>\n      <th>Weight</th>\n      <th>Foot_Size</th>\n    </tr>\n    <tr>\n      <th>Gender</th>\n      <th></th>\n      <th></th>\n      <th></th>\n    </tr>\n  </thead>\n  <tbody>\n    <tr>\n      <th>female</th>\n      <td>5.4175</td>\n      <td>132.50</td>\n      <td>7.50</td>\n    </tr>\n    <tr>\n      <th>male</th>\n      <td>5.8550</td>\n      <td>176.25</td>\n      <td>11.25</td>\n    </tr>\n  </tbody>\n</table>\n</div>"
     },
     "execution_count": 61,
     "metadata": {},
     "output_type": "execute_result"
    }
   ],
   "source": [
    "data_means"
   ],
   "metadata": {
    "collapsed": false,
    "pycharm": {
     "name": "#%%\n"
    }
   }
  },
  {
   "cell_type": "code",
   "execution_count": 62,
   "outputs": [
    {
     "data": {
      "text/plain": "          Height      Weight  Foot_Size\nGender                                 \nfemale  0.097225  558.333333   1.666667\nmale    0.035033  122.916667   0.916667",
      "text/html": "<div>\n<style scoped>\n    .dataframe tbody tr th:only-of-type {\n        vertical-align: middle;\n    }\n\n    .dataframe tbody tr th {\n        vertical-align: top;\n    }\n\n    .dataframe thead th {\n        text-align: right;\n    }\n</style>\n<table border=\"1\" class=\"dataframe\">\n  <thead>\n    <tr style=\"text-align: right;\">\n      <th></th>\n      <th>Height</th>\n      <th>Weight</th>\n      <th>Foot_Size</th>\n    </tr>\n    <tr>\n      <th>Gender</th>\n      <th></th>\n      <th></th>\n      <th></th>\n    </tr>\n  </thead>\n  <tbody>\n    <tr>\n      <th>female</th>\n      <td>0.097225</td>\n      <td>558.333333</td>\n      <td>1.666667</td>\n    </tr>\n    <tr>\n      <th>male</th>\n      <td>0.035033</td>\n      <td>122.916667</td>\n      <td>0.916667</td>\n    </tr>\n  </tbody>\n</table>\n</div>"
     },
     "execution_count": 62,
     "metadata": {},
     "output_type": "execute_result"
    }
   ],
   "source": [
    "# Group the data by gender and calculate the variance of each feature\n",
    "data_variance = data.groupby('Gender').var()\n",
    "data_variance"
   ],
   "metadata": {
    "collapsed": false,
    "pycharm": {
     "name": "#%%\n"
    }
   }
  },
  {
   "cell_type": "code",
   "execution_count": 63,
   "outputs": [],
   "source": [
    "# Creating a variable out of each cell in both of the tables above.\n",
    "\n",
    "# Means for males\n",
    "male_height_mean = data_means['Height'][data_variance.index == 'male'].values[0]\n",
    "male_weight_mean = data_means['Weight'][data_variance.index == 'male'].values[0]\n",
    "male_footsize_mean = data_means['Foot_Size'][data_variance.index == 'male'].values[0]\n",
    "\n",
    "# Variance for male\n",
    "male_height_variance = data_variance['Height'][data_variance.index == 'male'].values[0]\n",
    "male_weight_variance = data_variance['Weight'][data_variance.index == 'male'].values[0]\n",
    "male_footsize_variance = data_variance['Foot_Size'][data_variance.index == 'male'].values[0]\n",
    "\n",
    "# Means for female\n",
    "female_height_mean = data_means['Height'][data_variance.index == 'female'].values[0]\n",
    "female_weight_mean = data_means['Weight'][data_variance.index == 'female'].values[0]\n",
    "female_footsize_mean = data_means['Foot_Size'][data_variance.index == 'female'].values[0]\n",
    "\n",
    "# Variance for female\n",
    "female_height_variance = data_variance['Height'][data_variance.index == 'female'].values[0]\n",
    "female_weight_variance = data_variance['Weight'][data_variance.index == 'female'].values[0]\n",
    "female_footsize_variance = data_variance['Foot_Size'][data_variance.index == 'female'].values[0]"
   ],
   "metadata": {
    "collapsed": false,
    "pycharm": {
     "name": "#%%\n"
    }
   }
  },
  {
   "cell_type": "code",
   "execution_count": 71,
   "outputs": [],
   "source": [
    "def p_x_given_y(x, mean_y, variance_y):\n",
    "    # Input the arguments into a probability density function\n",
    "    p = (1 / (np.sqrt(2 * np.pi * variance_y))) * np.exp((-(x-mean_y)**2) / (2*variance_y))\n",
    "    return p"
   ],
   "metadata": {
    "collapsed": false,
    "pycharm": {
     "name": "#%%\n"
    }
   }
  },
  {
   "cell_type": "code",
   "execution_count": 72,
   "outputs": [
    {
     "data": {
      "text/plain": "6.197071843878078e-09"
     },
     "execution_count": 72,
     "metadata": {},
     "output_type": "execute_result"
    }
   ],
   "source": [
    "# Numerator of the posterior if the unclassified observation is a male\n",
    "P_male * \\\n",
    "p_x_given_y(person['Height'][0], male_height_mean, male_height_variance) * \\\n",
    "p_x_given_y(person['Weight'][0], male_weight_mean, male_weight_variance) * \\\n",
    "p_x_given_y(person['Foot_Size'][0], male_footsize_mean, male_footsize_variance)"
   ],
   "metadata": {
    "collapsed": false,
    "pycharm": {
     "name": "#%%\n"
    }
   }
  },
  {
   "cell_type": "code",
   "execution_count": 73,
   "outputs": [
    {
     "data": {
      "text/plain": "0.0005377909183630018"
     },
     "execution_count": 73,
     "metadata": {},
     "output_type": "execute_result"
    }
   ],
   "source": [
    "# Numerator of the posterior if the unclassified observation is a female\n",
    "P_female * \\\n",
    "p_x_given_y(person['Height'][0], female_height_mean, female_height_variance) * \\\n",
    "p_x_given_y(person['Weight'][0], female_weight_mean, female_weight_variance) * \\\n",
    "p_x_given_y(person['Foot_Size'][0], female_footsize_mean, female_footsize_variance)"
   ],
   "metadata": {
    "collapsed": false,
    "pycharm": {
     "name": "#%%\n"
    }
   }
  },
  {
   "cell_type": "code",
   "execution_count": null,
   "outputs": [],
   "source": [],
   "metadata": {
    "collapsed": false,
    "pycharm": {
     "name": "#%%\n"
    }
   }
  }
 ],
 "metadata": {
  "kernelspec": {
   "display_name": "Python 3",
   "language": "python",
   "name": "python3"
  },
  "language_info": {
   "codemirror_mode": {
    "name": "ipython",
    "version": 2
   },
   "file_extension": ".py",
   "mimetype": "text/x-python",
   "name": "python",
   "nbconvert_exporter": "python",
   "pygments_lexer": "ipython2",
   "version": "2.7.6"
  }
 },
 "nbformat": 4,
 "nbformat_minor": 0
}