{
 "cells": [
  {
   "cell_type": "code",
   "execution_count": 1,
   "outputs": [],
   "source": [
    "import numpy as np\n",
    "import pandas as pd\n",
    "import seaborn as sns\n",
    "import matplotlib.pyplot as plt\n",
    "%matplotlib inline"
   ],
   "metadata": {
    "collapsed": false,
    "pycharm": {
     "name": "#%%\n"
    }
   }
  },
  {
   "cell_type": "code",
   "execution_count": 2,
   "outputs": [
    {
     "data": {
      "text/plain": "   Unnamed: 0                 Date                  Day  High Temp (°F)  \\\n0           0  2016-04-01 00:00:00  2016-04-01 00:00:00            78.1   \n1           1  2016-04-02 00:00:00  2016-04-02 00:00:00            55.0   \n2           2  2016-04-03 00:00:00  2016-04-03 00:00:00            39.9   \n3           3  2016-04-04 00:00:00  2016-04-04 00:00:00            44.1   \n4           4  2016-04-05 00:00:00  2016-04-05 00:00:00            42.1   \n\n   Low Temp (°F) Precipitation  Brooklyn Bridge  Manhattan Bridge  \\\n0           66.0          0.01           1704.0              3126   \n1           48.9          0.15            827.0              1646   \n2           34.0          0.09            526.0              1232   \n3           33.1      0.47 (S)            521.0              1067   \n4           26.1             0           1416.0              2617   \n\n   Williamsburg Bridge  Queensboro Bridge  Total  \n0               4115.0             2552.0  11497  \n1               2565.0             1884.0   6922  \n2               1695.0             1306.0   4759  \n3               1440.0             1307.0   4335  \n4               3081.0             2357.0   9471  ",
      "text/html": "<div>\n<style scoped>\n    .dataframe tbody tr th:only-of-type {\n        vertical-align: middle;\n    }\n\n    .dataframe tbody tr th {\n        vertical-align: top;\n    }\n\n    .dataframe thead th {\n        text-align: right;\n    }\n</style>\n<table border=\"1\" class=\"dataframe\">\n  <thead>\n    <tr style=\"text-align: right;\">\n      <th></th>\n      <th>Unnamed: 0</th>\n      <th>Date</th>\n      <th>Day</th>\n      <th>High Temp (°F)</th>\n      <th>Low Temp (°F)</th>\n      <th>Precipitation</th>\n      <th>Brooklyn Bridge</th>\n      <th>Manhattan Bridge</th>\n      <th>Williamsburg Bridge</th>\n      <th>Queensboro Bridge</th>\n      <th>Total</th>\n    </tr>\n  </thead>\n  <tbody>\n    <tr>\n      <th>0</th>\n      <td>0</td>\n      <td>2016-04-01 00:00:00</td>\n      <td>2016-04-01 00:00:00</td>\n      <td>78.1</td>\n      <td>66.0</td>\n      <td>0.01</td>\n      <td>1704.0</td>\n      <td>3126</td>\n      <td>4115.0</td>\n      <td>2552.0</td>\n      <td>11497</td>\n    </tr>\n    <tr>\n      <th>1</th>\n      <td>1</td>\n      <td>2016-04-02 00:00:00</td>\n      <td>2016-04-02 00:00:00</td>\n      <td>55.0</td>\n      <td>48.9</td>\n      <td>0.15</td>\n      <td>827.0</td>\n      <td>1646</td>\n      <td>2565.0</td>\n      <td>1884.0</td>\n      <td>6922</td>\n    </tr>\n    <tr>\n      <th>2</th>\n      <td>2</td>\n      <td>2016-04-03 00:00:00</td>\n      <td>2016-04-03 00:00:00</td>\n      <td>39.9</td>\n      <td>34.0</td>\n      <td>0.09</td>\n      <td>526.0</td>\n      <td>1232</td>\n      <td>1695.0</td>\n      <td>1306.0</td>\n      <td>4759</td>\n    </tr>\n    <tr>\n      <th>3</th>\n      <td>3</td>\n      <td>2016-04-04 00:00:00</td>\n      <td>2016-04-04 00:00:00</td>\n      <td>44.1</td>\n      <td>33.1</td>\n      <td>0.47 (S)</td>\n      <td>521.0</td>\n      <td>1067</td>\n      <td>1440.0</td>\n      <td>1307.0</td>\n      <td>4335</td>\n    </tr>\n    <tr>\n      <th>4</th>\n      <td>4</td>\n      <td>2016-04-05 00:00:00</td>\n      <td>2016-04-05 00:00:00</td>\n      <td>42.1</td>\n      <td>26.1</td>\n      <td>0</td>\n      <td>1416.0</td>\n      <td>2617</td>\n      <td>3081.0</td>\n      <td>2357.0</td>\n      <td>9471</td>\n    </tr>\n  </tbody>\n</table>\n</div>"
     },
     "execution_count": 2,
     "metadata": {},
     "output_type": "execute_result"
    }
   ],
   "source": [
    "bikes = pd.read_csv(\"nyc-east-river-bicycle-counts.csv\")\n",
    "bikes.head()"
   ],
   "metadata": {
    "collapsed": false,
    "pycharm": {
     "name": "#%%\n"
    }
   }
  },
  {
   "cell_type": "code",
   "execution_count": 3,
   "outputs": [],
   "source": [
    "bikes = bikes.drop(columns=['Unnamed: 0'], axis=1)"
   ],
   "metadata": {
    "collapsed": false,
    "pycharm": {
     "name": "#%%\n"
    }
   }
  },
  {
   "cell_type": "code",
   "execution_count": 4,
   "outputs": [
    {
     "data": {
      "text/plain": "Date                    object\nDay                     object\nHigh Temp (°F)         float64\nLow Temp (°F)          float64\nPrecipitation           object\nBrooklyn Bridge        float64\nManhattan Bridge         int64\nWilliamsburg Bridge    float64\nQueensboro Bridge      float64\nTotal                    int64\ndtype: object"
     },
     "execution_count": 4,
     "metadata": {},
     "output_type": "execute_result"
    }
   ],
   "source": [
    "# checking data types to identify which variables are continuous, categorical and count\n",
    "# note: my dependent variable, \"Total\" is an integer (count)\n",
    "bikes.dtypes"
   ],
   "metadata": {
    "collapsed": false,
    "pycharm": {
     "name": "#%%\n"
    }
   }
  },
  {
   "cell_type": "code",
   "execution_count": 5,
   "outputs": [
    {
     "data": {
      "text/plain": "False"
     },
     "execution_count": 5,
     "metadata": {},
     "output_type": "execute_result"
    }
   ],
   "source": [
    "bikes.isnull().values.any()"
   ],
   "metadata": {
    "collapsed": false,
    "pycharm": {
     "name": "#%%\n"
    }
   }
  },
  {
   "cell_type": "code",
   "execution_count": 6,
   "outputs": [
    {
     "data": {
      "text/plain": "count      210.000000\nmean     14534.500000\nstd       5569.173496\nmin       4335.000000\n25%       9596.000000\n50%      15292.500000\n75%      18315.000000\nmax      23318.000000\nName: Total, dtype: float64"
     },
     "execution_count": 6,
     "metadata": {},
     "output_type": "execute_result"
    }
   ],
   "source": [
    "bikes['Total'].describe()"
   ],
   "metadata": {
    "collapsed": false,
    "pycharm": {
     "name": "#%%\n"
    }
   }
  },
  {
   "cell_type": "code",
   "execution_count": 8,
   "outputs": [
    {
     "name": "stderr",
     "output_type": "stream",
     "text": [
      "/opt/homebrew/Caskroom/miniforge/base/envs/regular/lib/python3.9/site-packages/seaborn/distributions.py:2619: FutureWarning: `distplot` is a deprecated function and will be removed in a future version. Please adapt your code to use either `displot` (a figure-level function with similar flexibility) or `histplot` (an axes-level function for histograms).\n",
      "  warnings.warn(msg, FutureWarning)\n"
     ]
    },
    {
     "name": "stdout",
     "output_type": "stream",
     "text": [
      "Skewness -0.24298139053047868\n",
      "Kurtosis -0.907533921471547\n"
     ]
    },
    {
     "data": {
      "text/plain": "<Figure size 432x288 with 1 Axes>",
      "image/png": "[encoded data removed]"
     },
     "metadata": {
      "needs_background": "light"
     },
     "output_type": "display_data"
    }
   ],
   "source": [
    "# checking the distribution to see if there are any outliers\n",
    "sns.distplot(bikes['Total'])\n",
    "print(f'Skewness {bikes[\"Total\"].skew()}')\n",
    "print(f'Kurtosis {bikes[\"Total\"].kurt()}')"
   ],
   "metadata": {
    "collapsed": false,
    "pycharm": {
     "name": "#%%\n"
    }
   }
  },
  {
   "cell_type": "markdown",
   "source": [
    "The histogram is slightly negatively skewed, but with a skewness of -0.243, the data for total number of bikers is approximately symmetric."
   ],
   "metadata": {
    "collapsed": false,
    "pycharm": {
     "name": "#%% md\n"
    }
   }
  },
  {
   "cell_type": "code",
   "execution_count": 9,
   "outputs": [],
   "source": [
    "# creating a new column for average temperature by adding the highest and\n",
    "#the lowest temperature and dividing it by 2\n",
    "bikes['Average_Temp'] = (bikes['Low Temp (°F)'] + bikes['High Temp (°F)']) / 2"
   ],
   "metadata": {
    "collapsed": false,
    "pycharm": {
     "name": "#%%\n"
    }
   }
  },
  {
   "cell_type": "code",
   "execution_count": 11,
   "outputs": [
    {
     "name": "stderr",
     "output_type": "stream",
     "text": [
      "/opt/homebrew/Caskroom/miniforge/base/envs/regular/lib/python3.9/site-packages/seaborn/_decorators.py:36: FutureWarning: Pass the following variables as keyword args: x, y. From version 0.12, the only valid positional argument will be `data`, and passing other arguments without an explicit keyword will result in an error or misinterpretation.\n",
      "  warnings.warn(\n"
     ]
    },
    {
     "data": {
      "text/plain": "<seaborn.axisgrid.FacetGrid at 0x1619443d0>"
     },
     "execution_count": 11,
     "metadata": {},
     "output_type": "execute_result"
    },
    {
     "data": {
      "text/plain": "<Figure size 360x360 with 1 Axes>",
      "image/png": "[encoded data removed]"
     },
     "metadata": {
      "needs_background": "light"
     },
     "output_type": "display_data"
    }
   ],
   "source": [
    "# plotting average temperature against total number of bikes\n",
    "# linear regression\n",
    "sns.lmplot('Average_Temp', 'Total', data=bikes)"
   ],
   "metadata": {
    "collapsed": false,
    "pycharm": {
     "name": "#%%\n"
    }
   }
  },
  {
   "cell_type": "code",
   "execution_count": 13,
   "outputs": [],
   "source": [
    "# since I am predicting a count value, I should fit a poisson regression.\n",
    "import statsmodels.api as sm"
   ],
   "metadata": {
    "collapsed": false,
    "pycharm": {
     "name": "#%%\n"
    }
   }
  },
  {
   "cell_type": "code",
   "execution_count": 14,
   "outputs": [],
   "source": [
    "X = bikes['Average_Temp']\n",
    "y = bikes['Total']\n",
    "X = sm.add_constant(X)  # add intercept to input variable\n",
    "\n",
    "model = sm.GLM(endog=y, exog=X, family=sm.families.Poisson()).fit()\n",
    "\n",
    "# add poisson fitted values to dataframe\n",
    "bikes['reg_fit'] = model.fittedvalues"
   ],
   "metadata": {
    "collapsed": false,
    "pycharm": {
     "name": "#%%\n"
    }
   }
  },
  {
   "cell_type": "code",
   "execution_count": 17,
   "outputs": [
    {
     "name": "stderr",
     "output_type": "stream",
     "text": [
      "/opt/homebrew/Caskroom/miniforge/base/envs/regular/lib/python3.9/site-packages/seaborn/_decorators.py:36: FutureWarning: Pass the following variables as keyword args: x, y. From version 0.12, the only valid positional argument will be `data`, and passing other arguments without an explicit keyword will result in an error or misinterpretation.\n",
      "  warnings.warn(\n"
     ]
    },
    {
     "data": {
      "text/plain": "[<matplotlib.lines.Line2D at 0x16b44ba90>]"
     },
     "execution_count": 17,
     "metadata": {},
     "output_type": "execute_result"
    },
    {
     "data": {
      "text/plain": "<Figure size 432x288 with 1 Axes>",
      "image/png": "[encoded data removed]"
     },
     "metadata": {
      "needs_background": "light"
     },
     "output_type": "display_data"
    }
   ],
   "source": [
    "# plot & add a regression line\n",
    "sns.regplot(bikes['Average_Temp'], bikes['Total'], fit_reg=False)\n",
    "plt.plot(bikes['Average_Temp'], bikes['reg_fit'])"
   ],
   "metadata": {
    "collapsed": false,
    "pycharm": {
     "name": "#%%\n"
    }
   }
  },
  {
   "cell_type": "code",
   "execution_count": null,
   "outputs": [],
   "source": [],
   "metadata": {
    "collapsed": false,
    "pycharm": {
     "name": "#%%\n"
    }
   }
  }
 ],
 "metadata": {
  "kernelspec": {
   "display_name": "Python 3",
   "language": "python",
   "name": "python3"
  },
  "language_info": {
   "codemirror_mode": {
    "name": "ipython",
    "version": 2
   },
   "file_extension": ".py",
   "mimetype": "text/x-python",
   "name": "python",
   "nbconvert_exporter": "python",
   "pygments_lexer": "ipython2",
   "version": "2.7.6"
  }
 },
 "nbformat": 4,
 "nbformat_minor": 0
}