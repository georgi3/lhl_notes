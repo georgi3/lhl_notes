{
 "cells": [
  {
   "cell_type": "code",
   "execution_count": 1,
   "outputs": [],
   "source": [
    "import pandas as pd\n",
    "import numpy as np\n",
    "from sklearn.feature_selection import VarianceThreshold, f_regression, SelectKBest"
   ],
   "metadata": {
    "collapsed": false,
    "pycharm": {
     "name": "#%%\n"
    }
   }
  },
  {
   "cell_type": "code",
   "execution_count": 55,
   "outputs": [],
   "source": [
    "df = pd.read_csv('df_numeric.csv')\n",
    "y = df.SalePrice\n",
    "df.drop(\"SalePrice\",axis=1, inplace=True)"
   ],
   "metadata": {
    "collapsed": false,
    "pycharm": {
     "name": "#%%\n"
    }
   }
  },
  {
   "cell_type": "code",
   "execution_count": 56,
   "outputs": [],
   "source": [
    "vt = VarianceThreshold(0.1)\n",
    "df_transformed = vt.fit_transform(df)"
   ],
   "metadata": {
    "collapsed": false,
    "pycharm": {
     "name": "#%%\n"
    }
   }
  },
  {
   "cell_type": "code",
   "execution_count": 57,
   "outputs": [
    {
     "data": {
      "text/plain": "array([[   60.,    65.,  8450., ...,     0.,  1710.,    35.],\n       [   20.,    80.,  9600., ...,     0.,  1262.,    48.],\n       [   60.,    68., 11250., ...,     0.,  1786.,    35.],\n       ...,\n       [   70.,    66.,  9042., ...,     0.,  2340.,    63.],\n       [   20.,    68.,  9717., ...,     0.,  1078.,    30.],\n       [   20.,    75.,  9937., ...,     0.,  1256.,    30.]])"
     },
     "execution_count": 57,
     "metadata": {},
     "output_type": "execute_result"
    }
   ],
   "source": [
    "df_transformed"
   ],
   "metadata": {
    "collapsed": false,
    "pycharm": {
     "name": "#%%\n"
    }
   }
  },
  {
   "cell_type": "code",
   "execution_count": 58,
   "outputs": [],
   "source": [
    "# columns we have selected\n",
    "# get_support() is method of VarianceThreshold and stores boolean of each variable in the numpy array.\n",
    "selected_columns = df.columns[vt.get_support()]\n",
    "df_transformed = pd.DataFrame(df_transformed, columns=selected_columns)"
   ],
   "metadata": {
    "collapsed": false,
    "pycharm": {
     "name": "#%%\n"
    }
   }
  },
  {
   "cell_type": "code",
   "execution_count": 59,
   "outputs": [
    {
     "data": {
      "text/plain": "      MSSubClass  LotFrontage  LotArea  LotShape  OverallQual  OverallCond  \\\n0           60.0         65.0   8450.0       4.0          7.0          5.0   \n1           20.0         80.0   9600.0       4.0          6.0          8.0   \n2           60.0         68.0  11250.0       3.0          7.0          5.0   \n3           70.0         60.0   9550.0       3.0          7.0          5.0   \n4           60.0         84.0  14260.0       3.0          8.0          5.0   \n...          ...          ...      ...       ...          ...          ...   \n1453        60.0         62.0   7917.0       4.0          6.0          5.0   \n1454        20.0         85.0  13175.0       4.0          6.0          6.0   \n1455        70.0         66.0   9042.0       4.0          7.0          9.0   \n1456        20.0         68.0   9717.0       4.0          5.0          6.0   \n1457        20.0         75.0   9937.0       4.0          5.0          6.0   \n\n      YearBuilt  YearRemodAdd  MasVnrArea  ExterQual  ...  EnclosedPorch  \\\n0        2003.0        2003.0       196.0        4.0  ...            0.0   \n1        1976.0        1976.0         0.0        3.0  ...            0.0   \n2        2001.0        2002.0       162.0        4.0  ...            0.0   \n3        1915.0        1970.0         0.0        3.0  ...          272.0   \n4        2000.0        2000.0       350.0        4.0  ...            0.0   \n...         ...           ...         ...        ...  ...            ...   \n1453     1999.0        2000.0         0.0        3.0  ...            0.0   \n1454     1978.0        1988.0       119.0        3.0  ...            0.0   \n1455     1941.0        2006.0         0.0        5.0  ...            0.0   \n1456     1950.0        1996.0         0.0        3.0  ...          112.0   \n1457     1965.0        1965.0         0.0        4.0  ...            0.0   \n\n      3SsnPorch  ScreenPorch  PoolArea  MiscVal  MoSold  YrSold  \\\n0           0.0          0.0       0.0      0.0     2.0  2008.0   \n1           0.0          0.0       0.0      0.0     5.0  2007.0   \n2           0.0          0.0       0.0      0.0     9.0  2008.0   \n3           0.0          0.0       0.0      0.0     2.0  2006.0   \n4           0.0          0.0       0.0      0.0    12.0  2008.0   \n...         ...          ...       ...      ...     ...     ...   \n1453        0.0          0.0       0.0      0.0     8.0  2007.0   \n1454        0.0          0.0       0.0      0.0     2.0  2010.0   \n1455        0.0          0.0       0.0   2500.0     5.0  2010.0   \n1456        0.0          0.0       0.0      0.0     4.0  2010.0   \n1457        0.0          0.0       0.0      0.0     6.0  2008.0   \n\n      LotFrontage_missing_ind  1stFlr_2ndFlr_SF  OverallGrade  \n0                         0.0            1710.0          35.0  \n1                         0.0            1262.0          48.0  \n2                         0.0            1786.0          35.0  \n3                         0.0            1717.0          35.0  \n4                         0.0            2198.0          40.0  \n...                       ...               ...           ...  \n1453                      0.0            1647.0          30.0  \n1454                      0.0            2073.0          36.0  \n1455                      0.0            2340.0          63.0  \n1456                      0.0            1078.0          30.0  \n1457                      0.0            1256.0          30.0  \n\n[1458 rows x 50 columns]",
      "text/html": "<div>\n<style scoped>\n    .dataframe tbody tr th:only-of-type {\n        vertical-align: middle;\n    }\n\n    .dataframe tbody tr th {\n        vertical-align: top;\n    }\n\n    .dataframe thead th {\n        text-align: right;\n    }\n</style>\n<table border=\"1\" class=\"dataframe\">\n  <thead>\n    <tr style=\"text-align: right;\">\n      <th></th>\n      <th>MSSubClass</th>\n      <th>LotFrontage</th>\n      <th>LotArea</th>\n      <th>LotShape</th>\n      <th>OverallQual</th>\n      <th>OverallCond</th>\n      <th>YearBuilt</th>\n      <th>YearRemodAdd</th>\n      <th>MasVnrArea</th>\n      <th>ExterQual</th>\n      <th>...</th>\n      <th>EnclosedPorch</th>\n      <th>3SsnPorch</th>\n      <th>ScreenPorch</th>\n      <th>PoolArea</th>\n      <th>MiscVal</th>\n      <th>MoSold</th>\n      <th>YrSold</th>\n      <th>LotFrontage_missing_ind</th>\n      <th>1stFlr_2ndFlr_SF</th>\n      <th>OverallGrade</th>\n    </tr>\n  </thead>\n  <tbody>\n    <tr>\n      <th>0</th>\n      <td>60.0</td>\n      <td>65.0</td>\n      <td>8450.0</td>\n      <td>4.0</td>\n      <td>7.0</td>\n      <td>5.0</td>\n      <td>2003.0</td>\n      <td>2003.0</td>\n      <td>196.0</td>\n      <td>4.0</td>\n      <td>...</td>\n      <td>0.0</td>\n      <td>0.0</td>\n      <td>0.0</td>\n      <td>0.0</td>\n      <td>0.0</td>\n      <td>2.0</td>\n      <td>2008.0</td>\n      <td>0.0</td>\n      <td>1710.0</td>\n      <td>35.0</td>\n    </tr>\n    <tr>\n      <th>1</th>\n      <td>20.0</td>\n      <td>80.0</td>\n      <td>9600.0</td>\n      <td>4.0</td>\n      <td>6.0</td>\n      <td>8.0</td>\n      <td>1976.0</td>\n      <td>1976.0</td>\n      <td>0.0</td>\n      <td>3.0</td>\n      <td>...</td>\n      <td>0.0</td>\n      <td>0.0</td>\n      <td>0.0</td>\n      <td>0.0</td>\n      <td>0.0</td>\n      <td>5.0</td>\n      <td>2007.0</td>\n      <td>0.0</td>\n      <td>1262.0</td>\n      <td>48.0</td>\n    </tr>\n    <tr>\n      <th>2</th>\n      <td>60.0</td>\n      <td>68.0</td>\n      <td>11250.0</td>\n      <td>3.0</td>\n      <td>7.0</td>\n      <td>5.0</td>\n      <td>2001.0</td>\n      <td>2002.0</td>\n      <td>162.0</td>\n      <td>4.0</td>\n      <td>...</td>\n      <td>0.0</td>\n      <td>0.0</td>\n      <td>0.0</td>\n      <td>0.0</td>\n      <td>0.0</td>\n      <td>9.0</td>\n      <td>2008.0</td>\n      <td>0.0</td>\n      <td>1786.0</td>\n      <td>35.0</td>\n    </tr>\n    <tr>\n      <th>3</th>\n      <td>70.0</td>\n      <td>60.0</td>\n      <td>9550.0</td>\n      <td>3.0</td>\n      <td>7.0</td>\n      <td>5.0</td>\n      <td>1915.0</td>\n      <td>1970.0</td>\n      <td>0.0</td>\n      <td>3.0</td>\n      <td>...</td>\n      <td>272.0</td>\n      <td>0.0</td>\n      <td>0.0</td>\n      <td>0.0</td>\n      <td>0.0</td>\n      <td>2.0</td>\n      <td>2006.0</td>\n      <td>0.0</td>\n      <td>1717.0</td>\n      <td>35.0</td>\n    </tr>\n    <tr>\n      <th>4</th>\n      <td>60.0</td>\n      <td>84.0</td>\n      <td>14260.0</td>\n      <td>3.0</td>\n      <td>8.0</td>\n      <td>5.0</td>\n      <td>2000.0</td>\n      <td>2000.0</td>\n      <td>350.0</td>\n      <td>4.0</td>\n      <td>...</td>\n      <td>0.0</td>\n      <td>0.0</td>\n      <td>0.0</td>\n      <td>0.0</td>\n      <td>0.0</td>\n      <td>12.0</td>\n      <td>2008.0</td>\n      <td>0.0</td>\n      <td>2198.0</td>\n      <td>40.0</td>\n    </tr>\n    <tr>\n      <th>...</th>\n      <td>...</td>\n      <td>...</td>\n      <td>...</td>\n      <td>...</td>\n      <td>...</td>\n      <td>...</td>\n      <td>...</td>\n      <td>...</td>\n      <td>...</td>\n      <td>...</td>\n      <td>...</td>\n      <td>...</td>\n      <td>...</td>\n      <td>...</td>\n      <td>...</td>\n      <td>...</td>\n      <td>...</td>\n      <td>...</td>\n      <td>...</td>\n      <td>...</td>\n      <td>...</td>\n    </tr>\n    <tr>\n      <th>1453</th>\n      <td>60.0</td>\n      <td>62.0</td>\n      <td>7917.0</td>\n      <td>4.0</td>\n      <td>6.0</td>\n      <td>5.0</td>\n      <td>1999.0</td>\n      <td>2000.0</td>\n      <td>0.0</td>\n      <td>3.0</td>\n      <td>...</td>\n      <td>0.0</td>\n      <td>0.0</td>\n      <td>0.0</td>\n      <td>0.0</td>\n      <td>0.0</td>\n      <td>8.0</td>\n      <td>2007.0</td>\n      <td>0.0</td>\n      <td>1647.0</td>\n      <td>30.0</td>\n    </tr>\n    <tr>\n      <th>1454</th>\n      <td>20.0</td>\n      <td>85.0</td>\n      <td>13175.0</td>\n      <td>4.0</td>\n      <td>6.0</td>\n      <td>6.0</td>\n      <td>1978.0</td>\n      <td>1988.0</td>\n      <td>119.0</td>\n      <td>3.0</td>\n      <td>...</td>\n      <td>0.0</td>\n      <td>0.0</td>\n      <td>0.0</td>\n      <td>0.0</td>\n      <td>0.0</td>\n      <td>2.0</td>\n      <td>2010.0</td>\n      <td>0.0</td>\n      <td>2073.0</td>\n      <td>36.0</td>\n    </tr>\n    <tr>\n      <th>1455</th>\n      <td>70.0</td>\n      <td>66.0</td>\n      <td>9042.0</td>\n      <td>4.0</td>\n      <td>7.0</td>\n      <td>9.0</td>\n      <td>1941.0</td>\n      <td>2006.0</td>\n      <td>0.0</td>\n      <td>5.0</td>\n      <td>...</td>\n      <td>0.0</td>\n      <td>0.0</td>\n      <td>0.0</td>\n      <td>0.0</td>\n      <td>2500.0</td>\n      <td>5.0</td>\n      <td>2010.0</td>\n      <td>0.0</td>\n      <td>2340.0</td>\n      <td>63.0</td>\n    </tr>\n    <tr>\n      <th>1456</th>\n      <td>20.0</td>\n      <td>68.0</td>\n      <td>9717.0</td>\n      <td>4.0</td>\n      <td>5.0</td>\n      <td>6.0</td>\n      <td>1950.0</td>\n      <td>1996.0</td>\n      <td>0.0</td>\n      <td>3.0</td>\n      <td>...</td>\n      <td>112.0</td>\n      <td>0.0</td>\n      <td>0.0</td>\n      <td>0.0</td>\n      <td>0.0</td>\n      <td>4.0</td>\n      <td>2010.0</td>\n      <td>0.0</td>\n      <td>1078.0</td>\n      <td>30.0</td>\n    </tr>\n    <tr>\n      <th>1457</th>\n      <td>20.0</td>\n      <td>75.0</td>\n      <td>9937.0</td>\n      <td>4.0</td>\n      <td>5.0</td>\n      <td>6.0</td>\n      <td>1965.0</td>\n      <td>1965.0</td>\n      <td>0.0</td>\n      <td>4.0</td>\n      <td>...</td>\n      <td>0.0</td>\n      <td>0.0</td>\n      <td>0.0</td>\n      <td>0.0</td>\n      <td>0.0</td>\n      <td>6.0</td>\n      <td>2008.0</td>\n      <td>0.0</td>\n      <td>1256.0</td>\n      <td>30.0</td>\n    </tr>\n  </tbody>\n</table>\n<p>1458 rows × 50 columns</p>\n</div>"
     },
     "execution_count": 59,
     "metadata": {},
     "output_type": "execute_result"
    }
   ],
   "source": [
    "df_transformed"
   ],
   "metadata": {
    "collapsed": false,
    "pycharm": {
     "name": "#%%\n"
    }
   }
  },
  {
   "cell_type": "code",
   "execution_count": 60,
   "outputs": [],
   "source": [
    "# step 1\n",
    "df_corr = df_transformed.corr().abs()\n",
    "\n",
    "# step 2\n",
    "indices = np.where(df_corr > 0.8)\n",
    "indices = [(df_corr.index[x], df_corr.columns[y]) for x, y in zip(*indices) if x != y and x < y]\n",
    "\n",
    "# step 3\n",
    "for idx in indices: #each pair\n",
    "    try:\n",
    "        df_transformed.drop(idx[1], axis = 1, inplace=True)\n",
    "    except KeyError:\n",
    "        pass"
   ],
   "metadata": {
    "collapsed": false,
    "pycharm": {
     "name": "#%%\n"
    }
   }
  },
  {
   "cell_type": "code",
   "execution_count": 61,
   "outputs": [
    {
     "data": {
      "text/plain": "      MSSubClass  LotFrontage  LotArea  LotShape  OverallQual  OverallCond  \\\n0           60.0         65.0   8450.0       4.0          7.0          5.0   \n1           20.0         80.0   9600.0       4.0          6.0          8.0   \n2           60.0         68.0  11250.0       3.0          7.0          5.0   \n3           70.0         60.0   9550.0       3.0          7.0          5.0   \n4           60.0         84.0  14260.0       3.0          8.0          5.0   \n...          ...          ...      ...       ...          ...          ...   \n1453        60.0         62.0   7917.0       4.0          6.0          5.0   \n1454        20.0         85.0  13175.0       4.0          6.0          6.0   \n1455        70.0         66.0   9042.0       4.0          7.0          9.0   \n1456        20.0         68.0   9717.0       4.0          5.0          6.0   \n1457        20.0         75.0   9937.0       4.0          5.0          6.0   \n\n      YearBuilt  YearRemodAdd  MasVnrArea  ExterQual  ...  OpenPorchSF  \\\n0        2003.0        2003.0       196.0        4.0  ...         61.0   \n1        1976.0        1976.0         0.0        3.0  ...          0.0   \n2        2001.0        2002.0       162.0        4.0  ...         42.0   \n3        1915.0        1970.0         0.0        3.0  ...         35.0   \n4        2000.0        2000.0       350.0        4.0  ...         84.0   \n...         ...           ...         ...        ...  ...          ...   \n1453     1999.0        2000.0         0.0        3.0  ...         40.0   \n1454     1978.0        1988.0       119.0        3.0  ...          0.0   \n1455     1941.0        2006.0         0.0        5.0  ...         60.0   \n1456     1950.0        1996.0         0.0        3.0  ...          0.0   \n1457     1965.0        1965.0         0.0        4.0  ...         68.0   \n\n      EnclosedPorch  3SsnPorch  ScreenPorch  PoolArea  MiscVal  MoSold  \\\n0               0.0        0.0          0.0       0.0      0.0     2.0   \n1               0.0        0.0          0.0       0.0      0.0     5.0   \n2               0.0        0.0          0.0       0.0      0.0     9.0   \n3             272.0        0.0          0.0       0.0      0.0     2.0   \n4               0.0        0.0          0.0       0.0      0.0    12.0   \n...             ...        ...          ...       ...      ...     ...   \n1453            0.0        0.0          0.0       0.0      0.0     8.0   \n1454            0.0        0.0          0.0       0.0      0.0     2.0   \n1455            0.0        0.0          0.0       0.0   2500.0     5.0   \n1456          112.0        0.0          0.0       0.0      0.0     4.0   \n1457            0.0        0.0          0.0       0.0      0.0     6.0   \n\n      YrSold  LotFrontage_missing_ind  OverallGrade  \n0     2008.0                      0.0          35.0  \n1     2007.0                      0.0          48.0  \n2     2008.0                      0.0          35.0  \n3     2006.0                      0.0          35.0  \n4     2008.0                      0.0          40.0  \n...      ...                      ...           ...  \n1453  2007.0                      0.0          30.0  \n1454  2010.0                      0.0          36.0  \n1455  2010.0                      0.0          63.0  \n1456  2010.0                      0.0          30.0  \n1457  2008.0                      0.0          30.0  \n\n[1458 rows x 45 columns]",
      "text/html": "<div>\n<style scoped>\n    .dataframe tbody tr th:only-of-type {\n        vertical-align: middle;\n    }\n\n    .dataframe tbody tr th {\n        vertical-align: top;\n    }\n\n    .dataframe thead th {\n        text-align: right;\n    }\n</style>\n<table border=\"1\" class=\"dataframe\">\n  <thead>\n    <tr style=\"text-align: right;\">\n      <th></th>\n      <th>MSSubClass</th>\n      <th>LotFrontage</th>\n      <th>LotArea</th>\n      <th>LotShape</th>\n      <th>OverallQual</th>\n      <th>OverallCond</th>\n      <th>YearBuilt</th>\n      <th>YearRemodAdd</th>\n      <th>MasVnrArea</th>\n      <th>ExterQual</th>\n      <th>...</th>\n      <th>OpenPorchSF</th>\n      <th>EnclosedPorch</th>\n      <th>3SsnPorch</th>\n      <th>ScreenPorch</th>\n      <th>PoolArea</th>\n      <th>MiscVal</th>\n      <th>MoSold</th>\n      <th>YrSold</th>\n      <th>LotFrontage_missing_ind</th>\n      <th>OverallGrade</th>\n    </tr>\n  </thead>\n  <tbody>\n    <tr>\n      <th>0</th>\n      <td>60.0</td>\n      <td>65.0</td>\n      <td>8450.0</td>\n      <td>4.0</td>\n      <td>7.0</td>\n      <td>5.0</td>\n      <td>2003.0</td>\n      <td>2003.0</td>\n      <td>196.0</td>\n      <td>4.0</td>\n      <td>...</td>\n      <td>61.0</td>\n      <td>0.0</td>\n      <td>0.0</td>\n      <td>0.0</td>\n      <td>0.0</td>\n      <td>0.0</td>\n      <td>2.0</td>\n      <td>2008.0</td>\n      <td>0.0</td>\n      <td>35.0</td>\n    </tr>\n    <tr>\n      <th>1</th>\n      <td>20.0</td>\n      <td>80.0</td>\n      <td>9600.0</td>\n      <td>4.0</td>\n      <td>6.0</td>\n      <td>8.0</td>\n      <td>1976.0</td>\n      <td>1976.0</td>\n      <td>0.0</td>\n      <td>3.0</td>\n      <td>...</td>\n      <td>0.0</td>\n      <td>0.0</td>\n      <td>0.0</td>\n      <td>0.0</td>\n      <td>0.0</td>\n      <td>0.0</td>\n      <td>5.0</td>\n      <td>2007.0</td>\n      <td>0.0</td>\n      <td>48.0</td>\n    </tr>\n    <tr>\n      <th>2</th>\n      <td>60.0</td>\n      <td>68.0</td>\n      <td>11250.0</td>\n      <td>3.0</td>\n      <td>7.0</td>\n      <td>5.0</td>\n      <td>2001.0</td>\n      <td>2002.0</td>\n      <td>162.0</td>\n      <td>4.0</td>\n      <td>...</td>\n      <td>42.0</td>\n      <td>0.0</td>\n      <td>0.0</td>\n      <td>0.0</td>\n      <td>0.0</td>\n      <td>0.0</td>\n      <td>9.0</td>\n      <td>2008.0</td>\n      <td>0.0</td>\n      <td>35.0</td>\n    </tr>\n    <tr>\n      <th>3</th>\n      <td>70.0</td>\n      <td>60.0</td>\n      <td>9550.0</td>\n      <td>3.0</td>\n      <td>7.0</td>\n      <td>5.0</td>\n      <td>1915.0</td>\n      <td>1970.0</td>\n      <td>0.0</td>\n      <td>3.0</td>\n      <td>...</td>\n      <td>35.0</td>\n      <td>272.0</td>\n      <td>0.0</td>\n      <td>0.0</td>\n      <td>0.0</td>\n      <td>0.0</td>\n      <td>2.0</td>\n      <td>2006.0</td>\n      <td>0.0</td>\n      <td>35.0</td>\n    </tr>\n    <tr>\n      <th>4</th>\n      <td>60.0</td>\n      <td>84.0</td>\n      <td>14260.0</td>\n      <td>3.0</td>\n      <td>8.0</td>\n      <td>5.0</td>\n      <td>2000.0</td>\n      <td>2000.0</td>\n      <td>350.0</td>\n      <td>4.0</td>\n      <td>...</td>\n      <td>84.0</td>\n      <td>0.0</td>\n      <td>0.0</td>\n      <td>0.0</td>\n      <td>0.0</td>\n      <td>0.0</td>\n      <td>12.0</td>\n      <td>2008.0</td>\n      <td>0.0</td>\n      <td>40.0</td>\n    </tr>\n    <tr>\n      <th>...</th>\n      <td>...</td>\n      <td>...</td>\n      <td>...</td>\n      <td>...</td>\n      <td>...</td>\n      <td>...</td>\n      <td>...</td>\n      <td>...</td>\n      <td>...</td>\n      <td>...</td>\n      <td>...</td>\n      <td>...</td>\n      <td>...</td>\n      <td>...</td>\n      <td>...</td>\n      <td>...</td>\n      <td>...</td>\n      <td>...</td>\n      <td>...</td>\n      <td>...</td>\n      <td>...</td>\n    </tr>\n    <tr>\n      <th>1453</th>\n      <td>60.0</td>\n      <td>62.0</td>\n      <td>7917.0</td>\n      <td>4.0</td>\n      <td>6.0</td>\n      <td>5.0</td>\n      <td>1999.0</td>\n      <td>2000.0</td>\n      <td>0.0</td>\n      <td>3.0</td>\n      <td>...</td>\n      <td>40.0</td>\n      <td>0.0</td>\n      <td>0.0</td>\n      <td>0.0</td>\n      <td>0.0</td>\n      <td>0.0</td>\n      <td>8.0</td>\n      <td>2007.0</td>\n      <td>0.0</td>\n      <td>30.0</td>\n    </tr>\n    <tr>\n      <th>1454</th>\n      <td>20.0</td>\n      <td>85.0</td>\n      <td>13175.0</td>\n      <td>4.0</td>\n      <td>6.0</td>\n      <td>6.0</td>\n      <td>1978.0</td>\n      <td>1988.0</td>\n      <td>119.0</td>\n      <td>3.0</td>\n      <td>...</td>\n      <td>0.0</td>\n      <td>0.0</td>\n      <td>0.0</td>\n      <td>0.0</td>\n      <td>0.0</td>\n      <td>0.0</td>\n      <td>2.0</td>\n      <td>2010.0</td>\n      <td>0.0</td>\n      <td>36.0</td>\n    </tr>\n    <tr>\n      <th>1455</th>\n      <td>70.0</td>\n      <td>66.0</td>\n      <td>9042.0</td>\n      <td>4.0</td>\n      <td>7.0</td>\n      <td>9.0</td>\n      <td>1941.0</td>\n      <td>2006.0</td>\n      <td>0.0</td>\n      <td>5.0</td>\n      <td>...</td>\n      <td>60.0</td>\n      <td>0.0</td>\n      <td>0.0</td>\n      <td>0.0</td>\n      <td>0.0</td>\n      <td>2500.0</td>\n      <td>5.0</td>\n      <td>2010.0</td>\n      <td>0.0</td>\n      <td>63.0</td>\n    </tr>\n    <tr>\n      <th>1456</th>\n      <td>20.0</td>\n      <td>68.0</td>\n      <td>9717.0</td>\n      <td>4.0</td>\n      <td>5.0</td>\n      <td>6.0</td>\n      <td>1950.0</td>\n      <td>1996.0</td>\n      <td>0.0</td>\n      <td>3.0</td>\n      <td>...</td>\n      <td>0.0</td>\n      <td>112.0</td>\n      <td>0.0</td>\n      <td>0.0</td>\n      <td>0.0</td>\n      <td>0.0</td>\n      <td>4.0</td>\n      <td>2010.0</td>\n      <td>0.0</td>\n      <td>30.0</td>\n    </tr>\n    <tr>\n      <th>1457</th>\n      <td>20.0</td>\n      <td>75.0</td>\n      <td>9937.0</td>\n      <td>4.0</td>\n      <td>5.0</td>\n      <td>6.0</td>\n      <td>1965.0</td>\n      <td>1965.0</td>\n      <td>0.0</td>\n      <td>4.0</td>\n      <td>...</td>\n      <td>68.0</td>\n      <td>0.0</td>\n      <td>0.0</td>\n      <td>0.0</td>\n      <td>0.0</td>\n      <td>0.0</td>\n      <td>6.0</td>\n      <td>2008.0</td>\n      <td>0.0</td>\n      <td>30.0</td>\n    </tr>\n  </tbody>\n</table>\n<p>1458 rows × 45 columns</p>\n</div>"
     },
     "execution_count": 61,
     "metadata": {},
     "output_type": "execute_result"
    }
   ],
   "source": [
    "df_transformed"
   ],
   "metadata": {
    "collapsed": false,
    "pycharm": {
     "name": "#%%\n"
    }
   }
  },
  {
   "cell_type": "code",
   "execution_count": 62,
   "outputs": [],
   "source": [
    "skb = SelectKBest(f_regression, k=10)\n",
    "X = skb.fit_transform(df_transformed, y)"
   ],
   "metadata": {
    "collapsed": false,
    "pycharm": {
     "name": "#%%\n"
    }
   }
  },
  {
   "cell_type": "code",
   "execution_count": 63,
   "outputs": [
    {
     "data": {
      "text/plain": "array([[7.000e+00, 2.003e+03, 4.000e+00, ..., 4.000e+00, 2.000e+00,\n        3.500e+01],\n       [6.000e+00, 1.976e+03, 3.000e+00, ..., 3.000e+00, 2.000e+00,\n        4.800e+01],\n       [7.000e+00, 2.001e+03, 4.000e+00, ..., 4.000e+00, 2.000e+00,\n        3.500e+01],\n       ...,\n       [7.000e+00, 1.941e+03, 5.000e+00, ..., 4.000e+00, 1.000e+00,\n        6.300e+01],\n       [5.000e+00, 1.950e+03, 3.000e+00, ..., 4.000e+00, 1.000e+00,\n        3.000e+01],\n       [5.000e+00, 1.965e+03, 4.000e+00, ..., 3.000e+00, 1.000e+00,\n        3.000e+01]])"
     },
     "execution_count": 63,
     "metadata": {},
     "output_type": "execute_result"
    }
   ],
   "source": [
    "X"
   ],
   "metadata": {
    "collapsed": false,
    "pycharm": {
     "name": "#%%\n"
    }
   }
  },
  {
   "cell_type": "code",
   "execution_count": 64,
   "outputs": [
    {
     "data": {
      "text/plain": "      OverallQual  YearBuilt  ExterQual  BsmtQual  TotalBsmtSF  GrLivArea  \\\n0             7.0     2003.0        4.0       4.0        856.0     1710.0   \n1             6.0     1976.0        3.0       4.0       1262.0     1262.0   \n2             7.0     2001.0        4.0       4.0        920.0     1786.0   \n3             7.0     1915.0        3.0       3.0        756.0     1717.0   \n4             8.0     2000.0        4.0       4.0       1145.0     2198.0   \n...           ...        ...        ...       ...          ...        ...   \n1453          6.0     1999.0        3.0       4.0        953.0     1647.0   \n1454          6.0     1978.0        3.0       4.0       1542.0     2073.0   \n1455          7.0     1941.0        5.0       3.0       1152.0     2340.0   \n1456          5.0     1950.0        3.0       3.0       1078.0     1078.0   \n1457          5.0     1965.0        4.0       3.0       1256.0     1256.0   \n\n      FullBath  KitchenQual  GarageCars  OverallGrade  \n0          2.0          4.0         2.0          35.0  \n1          2.0          3.0         2.0          48.0  \n2          2.0          4.0         2.0          35.0  \n3          1.0          4.0         3.0          35.0  \n4          2.0          4.0         3.0          40.0  \n...        ...          ...         ...           ...  \n1453       2.0          3.0         2.0          30.0  \n1454       2.0          3.0         2.0          36.0  \n1455       2.0          4.0         1.0          63.0  \n1456       1.0          4.0         1.0          30.0  \n1457       1.0          3.0         1.0          30.0  \n\n[1458 rows x 10 columns]",
      "text/html": "<div>\n<style scoped>\n    .dataframe tbody tr th:only-of-type {\n        vertical-align: middle;\n    }\n\n    .dataframe tbody tr th {\n        vertical-align: top;\n    }\n\n    .dataframe thead th {\n        text-align: right;\n    }\n</style>\n<table border=\"1\" class=\"dataframe\">\n  <thead>\n    <tr style=\"text-align: right;\">\n      <th></th>\n      <th>OverallQual</th>\n      <th>YearBuilt</th>\n      <th>ExterQual</th>\n      <th>BsmtQual</th>\n      <th>TotalBsmtSF</th>\n      <th>GrLivArea</th>\n      <th>FullBath</th>\n      <th>KitchenQual</th>\n      <th>GarageCars</th>\n      <th>OverallGrade</th>\n    </tr>\n  </thead>\n  <tbody>\n    <tr>\n      <th>0</th>\n      <td>7.0</td>\n      <td>2003.0</td>\n      <td>4.0</td>\n      <td>4.0</td>\n      <td>856.0</td>\n      <td>1710.0</td>\n      <td>2.0</td>\n      <td>4.0</td>\n      <td>2.0</td>\n      <td>35.0</td>\n    </tr>\n    <tr>\n      <th>1</th>\n      <td>6.0</td>\n      <td>1976.0</td>\n      <td>3.0</td>\n      <td>4.0</td>\n      <td>1262.0</td>\n      <td>1262.0</td>\n      <td>2.0</td>\n      <td>3.0</td>\n      <td>2.0</td>\n      <td>48.0</td>\n    </tr>\n    <tr>\n      <th>2</th>\n      <td>7.0</td>\n      <td>2001.0</td>\n      <td>4.0</td>\n      <td>4.0</td>\n      <td>920.0</td>\n      <td>1786.0</td>\n      <td>2.0</td>\n      <td>4.0</td>\n      <td>2.0</td>\n      <td>35.0</td>\n    </tr>\n    <tr>\n      <th>3</th>\n      <td>7.0</td>\n      <td>1915.0</td>\n      <td>3.0</td>\n      <td>3.0</td>\n      <td>756.0</td>\n      <td>1717.0</td>\n      <td>1.0</td>\n      <td>4.0</td>\n      <td>3.0</td>\n      <td>35.0</td>\n    </tr>\n    <tr>\n      <th>4</th>\n      <td>8.0</td>\n      <td>2000.0</td>\n      <td>4.0</td>\n      <td>4.0</td>\n      <td>1145.0</td>\n      <td>2198.0</td>\n      <td>2.0</td>\n      <td>4.0</td>\n      <td>3.0</td>\n      <td>40.0</td>\n    </tr>\n    <tr>\n      <th>...</th>\n      <td>...</td>\n      <td>...</td>\n      <td>...</td>\n      <td>...</td>\n      <td>...</td>\n      <td>...</td>\n      <td>...</td>\n      <td>...</td>\n      <td>...</td>\n      <td>...</td>\n    </tr>\n    <tr>\n      <th>1453</th>\n      <td>6.0</td>\n      <td>1999.0</td>\n      <td>3.0</td>\n      <td>4.0</td>\n      <td>953.0</td>\n      <td>1647.0</td>\n      <td>2.0</td>\n      <td>3.0</td>\n      <td>2.0</td>\n      <td>30.0</td>\n    </tr>\n    <tr>\n      <th>1454</th>\n      <td>6.0</td>\n      <td>1978.0</td>\n      <td>3.0</td>\n      <td>4.0</td>\n      <td>1542.0</td>\n      <td>2073.0</td>\n      <td>2.0</td>\n      <td>3.0</td>\n      <td>2.0</td>\n      <td>36.0</td>\n    </tr>\n    <tr>\n      <th>1455</th>\n      <td>7.0</td>\n      <td>1941.0</td>\n      <td>5.0</td>\n      <td>3.0</td>\n      <td>1152.0</td>\n      <td>2340.0</td>\n      <td>2.0</td>\n      <td>4.0</td>\n      <td>1.0</td>\n      <td>63.0</td>\n    </tr>\n    <tr>\n      <th>1456</th>\n      <td>5.0</td>\n      <td>1950.0</td>\n      <td>3.0</td>\n      <td>3.0</td>\n      <td>1078.0</td>\n      <td>1078.0</td>\n      <td>1.0</td>\n      <td>4.0</td>\n      <td>1.0</td>\n      <td>30.0</td>\n    </tr>\n    <tr>\n      <th>1457</th>\n      <td>5.0</td>\n      <td>1965.0</td>\n      <td>4.0</td>\n      <td>3.0</td>\n      <td>1256.0</td>\n      <td>1256.0</td>\n      <td>1.0</td>\n      <td>3.0</td>\n      <td>1.0</td>\n      <td>30.0</td>\n    </tr>\n  </tbody>\n</table>\n<p>1458 rows × 10 columns</p>\n</div>"
     },
     "execution_count": 64,
     "metadata": {},
     "output_type": "execute_result"
    }
   ],
   "source": [
    "X = pd.DataFrame(X, columns=df_transformed.columns[skb.get_support()])\n",
    "X"
   ],
   "metadata": {
    "collapsed": false,
    "pycharm": {
     "name": "#%%\n"
    }
   }
  },
  {
   "cell_type": "code",
   "execution_count": null,
   "outputs": [],
   "source": [],
   "metadata": {
    "collapsed": false,
    "pycharm": {
     "name": "#%%\n"
    }
   }
  }
 ],
 "metadata": {
  "kernelspec": {
   "display_name": "Python 3",
   "language": "python",
   "name": "python3"
  },
  "language_info": {
   "codemirror_mode": {
    "name": "ipython",
    "version": 2
   },
   "file_extension": ".py",
   "mimetype": "text/x-python",
   "name": "python",
   "nbconvert_exporter": "python",
   "pygments_lexer": "ipython2",
   "version": "2.7.6"
  }
 },
 "nbformat": 4,
 "nbformat_minor": 0
}