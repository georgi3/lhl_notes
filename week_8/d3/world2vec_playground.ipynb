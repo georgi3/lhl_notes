{
 "cells": [
  {
   "cell_type": "code",
   "execution_count": 3,
   "outputs": [],
   "source": [
    "import gensim\n",
    "from gensim.models import KeyedVectors"
   ],
   "metadata": {
    "collapsed": false,
    "pycharm": {
     "name": "#%%\n"
    }
   }
  },
  {
   "cell_type": "code",
   "execution_count": 5,
   "outputs": [],
   "source": [
    "model = KeyedVectors.load_word2vec_format('./data/GoogleNews-vectors-negative300.bin.gz', binary=True)"
   ],
   "metadata": {
    "collapsed": false,
    "pycharm": {
     "name": "#%%\n"
    }
   }
  },
  {
   "cell_type": "code",
   "execution_count": 6,
   "outputs": [],
   "source": [
    "# 3 million words * 300 features * 4bytes/feature = ~3.35GB"
   ],
   "metadata": {
    "collapsed": false,
    "pycharm": {
     "name": "#%%\n"
    }
   }
  },
  {
   "cell_type": "code",
   "execution_count": 7,
   "outputs": [
    {
     "data": {
      "text/plain": "array([ 3.06640625e-01,  6.83593750e-02, -1.60156250e-01,  1.19628906e-01,\n       -6.56127930e-03,  4.39453125e-03,  1.44531250e-01,  6.20117188e-02,\n        7.17773438e-02,  2.67333984e-02,  9.91210938e-02, -2.30712891e-02,\n        5.66406250e-02, -1.74804688e-01, -5.32226562e-02,  8.98437500e-02,\n        2.94921875e-01, -6.59179688e-02,  1.35742188e-01, -1.73828125e-01,\n        7.32421875e-02,  2.08007812e-01,  7.27539062e-02,  2.19726562e-01,\n       -5.02929688e-02, -1.15234375e-01, -1.80664062e-01, -4.29153442e-06,\n       -1.69921875e-01, -7.61718750e-02, -4.30297852e-03,  1.71875000e-01,\n        2.57812500e-01, -1.33789062e-01,  3.95507812e-02,  4.24194336e-03,\n       -2.80761719e-02, -1.54296875e-01,  1.76757812e-01,  6.68945312e-02,\n        2.71484375e-01, -1.43554688e-01,  4.02343750e-01, -1.19140625e-01,\n       -2.58789062e-02, -5.63964844e-02,  3.78417969e-02,  4.29687500e-02,\n        2.92968750e-02, -2.11181641e-02, -4.15039062e-02,  6.29882812e-02,\n       -1.90429688e-02, -6.10351562e-02, -1.66992188e-01,  1.05468750e-01,\n        4.40597534e-04, -1.81640625e-01,  1.90429688e-01,  6.98242188e-02,\n       -8.64257812e-02, -6.83593750e-02, -3.08593750e-01, -1.25000000e-01,\n       -1.67236328e-02, -1.03515625e-01, -2.59765625e-01,  2.29492188e-02,\n       -1.01074219e-01, -2.53295898e-03,  2.92968750e-02,  1.67968750e-01,\n       -1.64794922e-02, -2.53906250e-01, -1.81640625e-01, -1.24511719e-01,\n        9.61914062e-02,  9.42382812e-02,  1.46484375e-01,  1.94335938e-01,\n       -2.61718750e-01,  1.19140625e-01, -1.04003906e-01,  1.85546875e-02,\n        3.02734375e-02, -1.68945312e-01, -1.00585938e-01, -1.43554688e-01,\n        1.24511719e-01,  1.55029297e-02, -1.60156250e-01, -4.63867188e-02,\n       -8.64257812e-02, -1.51367188e-01, -2.11914062e-01,  3.93066406e-02,\n       -3.05175781e-03,  5.82885742e-03,  8.88671875e-02, -8.98437500e-02,\n       -6.68945312e-02,  2.24609375e-01, -1.20605469e-01,  3.95507812e-02,\n       -2.07031250e-01,  1.77734375e-01,  4.51660156e-03, -1.22558594e-01,\n        2.01171875e-01, -7.51953125e-02, -1.63085938e-01, -1.79687500e-01,\n       -2.35351562e-01, -2.81250000e-01,  3.28125000e-01,  6.59179688e-02,\n        1.35498047e-02, -6.25610352e-03, -1.88446045e-03, -5.17578125e-02,\n       -1.80664062e-01,  7.37304688e-02,  1.48437500e-01, -1.46484375e-01,\n       -1.96289062e-01, -8.30078125e-03, -1.02539062e-01, -1.27929688e-01,\n        1.44531250e-01,  1.84570312e-01, -2.34375000e-01,  1.87988281e-02,\n       -3.80859375e-02,  4.72656250e-01, -1.02050781e-01, -4.93164062e-02,\n        4.51660156e-02,  1.20605469e-01,  3.24707031e-02,  1.27929688e-01,\n       -4.76074219e-02, -2.83203125e-02,  1.32812500e-01, -1.03515625e-01,\n       -1.19140625e-01, -5.60760498e-04, -1.11816406e-01, -1.31835938e-01,\n        1.38671875e-01, -4.19921875e-02,  4.00390625e-02,  9.91210938e-02,\n       -1.20117188e-01, -4.63867188e-02, -2.62451172e-02,  7.86132812e-02,\n       -1.64062500e-01,  1.49414062e-01, -2.55859375e-01, -1.18164062e-01,\n       -4.32128906e-02,  2.55859375e-01,  1.79687500e-01, -9.22851562e-02,\n        8.10546875e-02, -4.05273438e-02, -3.02734375e-01, -1.06933594e-01,\n        7.03125000e-02, -2.61718750e-01, -1.70898438e-01,  1.08398438e-01,\n       -2.79296875e-01,  1.65039062e-01, -3.46679688e-02,  3.63281250e-01,\n       -1.48437500e-01, -7.08007812e-02, -8.39843750e-02,  5.37109375e-02,\n       -1.95312500e-01, -2.71484375e-01,  2.46582031e-02, -2.19726562e-01,\n       -2.18505859e-02,  4.66308594e-02, -1.08398438e-01,  9.13085938e-02,\n       -8.74023438e-02, -7.12890625e-02, -1.13281250e-01, -9.71679688e-02,\n        1.30004883e-02,  4.19921875e-02, -2.81250000e-01, -8.39843750e-02,\n       -1.14257812e-01, -1.68945312e-01, -1.76757812e-01, -3.20312500e-01,\n        2.96875000e-01,  1.50390625e-01, -2.09960938e-02,  1.65039062e-01,\n        9.42382812e-02,  9.37500000e-02, -2.96630859e-02, -1.19628906e-02,\n        2.73437500e-02, -2.81982422e-02, -1.23046875e-01,  3.75000000e-01,\n       -7.95898438e-02,  1.97265625e-01,  1.73828125e-01, -1.02050781e-01,\n        1.90429688e-01,  2.55859375e-01, -2.61718750e-01,  3.06396484e-02,\n       -5.51757812e-02,  1.66992188e-01, -1.69921875e-01, -1.43554688e-01,\n       -3.58886719e-02, -1.18652344e-01,  2.00195312e-01, -2.79296875e-01,\n        5.78613281e-02,  4.61425781e-02,  6.54296875e-02,  2.21679688e-01,\n       -3.00292969e-02, -2.81982422e-02,  1.74804688e-01, -7.56835938e-02,\n       -9.86328125e-02, -6.00585938e-02,  1.01928711e-02,  1.94335938e-01,\n        4.10156250e-02, -8.00781250e-02, -4.88281250e-02, -2.65625000e-01,\n       -1.54296875e-01,  7.76367188e-02, -4.19921875e-02,  1.85546875e-01,\n       -5.27343750e-02, -1.32812500e-01, -8.66699219e-03, -5.02929688e-02,\n        2.75390625e-01,  1.19628906e-01,  2.50000000e-01,  1.05957031e-01,\n        2.02636719e-02, -8.98437500e-02, -1.25000000e-01, -1.87500000e-01,\n        5.34667969e-02, -1.44531250e-01, -1.81640625e-01, -7.22656250e-02,\n        3.54003906e-02,  1.28906250e-01, -2.85644531e-02, -3.80859375e-01,\n       -1.03515625e-01, -6.93359375e-02,  1.39648438e-01,  1.19140625e-01,\n        2.27050781e-02,  9.61914062e-02, -8.64257812e-02,  1.39648438e-01,\n        3.20312500e-01, -1.84570312e-01,  8.59375000e-02, -3.51562500e-02,\n       -6.59179688e-02, -1.38671875e-01, -2.10937500e-01, -7.32421875e-02,\n       -2.71484375e-01,  1.83593750e-01, -9.81445312e-02,  6.07910156e-02,\n       -7.91015625e-02,  1.75781250e-01, -1.17187500e-01,  1.53320312e-01,\n        8.25195312e-02, -4.54101562e-02, -2.14843750e-01,  2.64892578e-02,\n        1.31835938e-01, -1.59912109e-02, -2.16796875e-01,  1.01562500e-01],\n      dtype=float32)"
     },
     "execution_count": 7,
     "metadata": {},
     "output_type": "execute_result"
    }
   ],
   "source": [
    "model['easy']"
   ],
   "metadata": {
    "collapsed": false,
    "pycharm": {
     "name": "#%%\n"
    }
   }
  },
  {
   "cell_type": "code",
   "execution_count": 8,
   "outputs": [
    {
     "data": {
      "text/plain": "[('gangs', 0.799038827419281),\n ('Bloods_gang', 0.6827352046966553),\n ('Sureno_gang', 0.6812685132026672),\n ('Norteño_gang', 0.6698073148727417),\n ('Sureño_gang', 0.6562394499778748),\n ('Gang', 0.6518276929855347),\n ('Crip_gang', 0.6434810757637024),\n ('gangsters', 0.6425430178642273),\n ('Norteno_gang', 0.640659749507904),\n ('reputed_gang', 0.6354027986526489)]"
     },
     "execution_count": 8,
     "metadata": {},
     "output_type": "execute_result"
    }
   ],
   "source": [
    "model.most_similar('gang')"
   ],
   "metadata": {
    "collapsed": false,
    "pycharm": {
     "name": "#%%\n"
    }
   }
  },
  {
   "cell_type": "code",
   "execution_count": 9,
   "outputs": [
    {
     "data": {
      "text/plain": "0.47783688"
     },
     "execution_count": 9,
     "metadata": {},
     "output_type": "execute_result"
    }
   ],
   "source": [
    "model.similarity('well', 'good')"
   ],
   "metadata": {
    "collapsed": false,
    "pycharm": {
     "name": "#%%\n"
    }
   }
  },
  {
   "cell_type": "code",
   "execution_count": 10,
   "outputs": [
    {
     "data": {
      "text/plain": "0.7190052"
     },
     "execution_count": 10,
     "metadata": {},
     "output_type": "execute_result"
    }
   ],
   "source": [
    "model.similarity('bad', 'good')"
   ],
   "metadata": {
    "collapsed": false,
    "pycharm": {
     "name": "#%%\n"
    }
   }
  },
  {
   "cell_type": "code",
   "execution_count": 11,
   "outputs": [
    {
     "data": {
      "text/plain": "[('queen', 0.7118192911148071),\n ('monarch', 0.6189674735069275),\n ('princess', 0.5902431011199951),\n ('crown_prince', 0.5499460697174072),\n ('prince', 0.5377321243286133),\n ('kings', 0.5236844420433044),\n ('Queen_Consort', 0.5235945582389832),\n ('queens', 0.5181134343147278),\n ('sultan', 0.5098593235015869),\n ('monarchy', 0.5087411403656006)]"
     },
     "execution_count": 11,
     "metadata": {},
     "output_type": "execute_result"
    }
   ],
   "source": [
    "model.most_similar(positive=['woman', 'king'], negative=['man'])"
   ],
   "metadata": {
    "collapsed": false,
    "pycharm": {
     "name": "#%%\n"
    }
   }
  },
  {
   "cell_type": "code",
   "execution_count": 12,
   "outputs": [
    {
     "data": {
      "text/plain": "[('woman', 0.6648584604263306),\n ('teenage_girl', 0.6552609801292419),\n ('boy', 0.6015933752059937),\n ('teenaged_girl', 0.5870813727378845),\n ('teen', 0.5734089612960815),\n ('mother', 0.5523939728736877),\n ('schoolgirl', 0.5487868189811707),\n ('toddler', 0.5480173826217651),\n ('girls', 0.5475257635116577),\n ('child', 0.5313142538070679)]"
     },
     "execution_count": 12,
     "metadata": {},
     "output_type": "execute_result"
    }
   ],
   "source": [
    "model.most_similar(positive=['mom', 'girl'], negative=['dad'])"
   ],
   "metadata": {
    "collapsed": false,
    "pycharm": {
     "name": "#%%\n"
    }
   }
  },
  {
   "cell_type": "code",
   "execution_count": 14,
   "outputs": [
    {
     "data": {
      "text/plain": "[('girl', 0.7002893090248108),\n ('teenage_girl', 0.6956712603569031),\n ('teenager', 0.6496806144714355),\n ('boy', 0.6162028312683105),\n ('newborn_baby', 0.5993791222572327),\n ('mother', 0.5845312476158142),\n ('pregnant', 0.5792096257209778),\n ('lady', 0.5773054361343384),\n ('sexually_assualted', 0.5736520290374756),\n ('collapse_Betsy_Sathers', 0.5680866241455078)]"
     },
     "execution_count": 14,
     "metadata": {},
     "output_type": "execute_result"
    }
   ],
   "source": [
    "model.most_similar(positive=['man', 'woman', 'pregnancy'])"
   ],
   "metadata": {
    "collapsed": false,
    "pycharm": {
     "name": "#%%\n"
    }
   }
  },
  {
   "cell_type": "code",
   "execution_count": 15,
   "outputs": [
    {
     "data": {
      "text/plain": "[('Paris', 0.490902304649353),\n ('french', 0.47619831562042236),\n ('jacques', 0.4652450978755951),\n ('elle', 0.4634602665901184),\n ('louis', 0.4616774618625641),\n ('Ne_pas', 0.4616312086582184),\n ('toronto', 0.45994314551353455),\n ('le_petit', 0.4592629373073578),\n ('Hôtel_de', 0.45633813738822937),\n ('marche', 0.4558878540992737)]"
     },
     "execution_count": 15,
     "metadata": {},
     "output_type": "execute_result"
    }
   ],
   "source": [
    "model.most_similar(positive=['france', 'paris'], negative=['spain'])"
   ],
   "metadata": {
    "collapsed": false,
    "pycharm": {
     "name": "#%%\n"
    }
   }
  },
  {
   "cell_type": "code",
   "execution_count": 17,
   "outputs": [
    {
     "data": {
      "text/plain": "[('daughter', 0.41385215520858765),\n ('father', 0.4006763994693756),\n ('son', 0.39039263129234314),\n ('aunt', 0.38316038250923157),\n ('maternal_grandmother', 0.378253310918808),\n ('stepmother', 0.37579309940338135),\n ('stepfather', 0.37096071243286133),\n ('grandmother', 0.3685411810874939),\n ('niece', 0.3631950914859772),\n ('daughters', 0.3575707674026489)]"
     },
     "execution_count": 17,
     "metadata": {},
     "output_type": "execute_result"
    }
   ],
   "source": [
    "model.most_similar(positive=['mother'], negative=['table', 'chair'])"
   ],
   "metadata": {
    "collapsed": false,
    "pycharm": {
     "name": "#%%\n"
    }
   }
  },
  {
   "cell_type": "code",
   "execution_count": 22,
   "outputs": [
    {
     "data": {
      "text/plain": "[('men', 0.767493724822998),\n ('Women', 0.7283449172973633),\n ('womens', 0.6786179542541504),\n ('girls', 0.6339040398597717),\n ('females', 0.6240420937538147),\n ('mothers', 0.6050933599472046),\n ('ladies', 0.5865179300308228),\n ('husbands', 0.5705341696739197),\n ('transwomen', 0.5697939991950989),\n ('Men', 0.5693342685699463)]"
     },
     "execution_count": 22,
     "metadata": {},
     "output_type": "execute_result"
    }
   ],
   "source": [
    "model.most_similar(positive=['women', 'women'])"
   ],
   "metadata": {
    "collapsed": false,
    "pycharm": {
     "name": "#%%\n"
    }
   }
  },
  {
   "cell_type": "code",
   "execution_count": 18,
   "outputs": [
    {
     "data": {
      "text/plain": "[('woman', 0.7664012908935547),\n ('boy', 0.6824870705604553),\n ('teenager', 0.6586930155754089),\n ('teenage_girl', 0.6147903203964233),\n ('girl', 0.5921714305877686),\n ('suspected_purse_snatcher', 0.5716364979743958),\n ('robber', 0.5585118532180786),\n ('Robbery_suspect', 0.5584409832954407),\n ('teen_ager', 0.5549196004867554),\n ('men', 0.5489763021469116)]"
     },
     "execution_count": 18,
     "metadata": {},
     "output_type": "execute_result"
    }
   ],
   "source": [
    "model.most_similar(positive=['man', 'man'])"
   ],
   "metadata": {
    "collapsed": false,
    "pycharm": {
     "name": "#%%\n"
    }
   }
  },
  {
   "cell_type": "code",
   "execution_count": 26,
   "outputs": [
    {
     "data": {
      "text/plain": "[('queen', 0.7118192911148071),\n ('monarch', 0.6189674735069275),\n ('princess', 0.5902431011199951),\n ('crown_prince', 0.5499460697174072),\n ('prince', 0.5377321243286133),\n ('kings', 0.5236844420433044),\n ('Queen_Consort', 0.5235945582389832),\n ('queens', 0.5181134343147278),\n ('sultan', 0.5098593235015869),\n ('monarchy', 0.5087411403656006)]"
     },
     "execution_count": 26,
     "metadata": {},
     "output_type": "execute_result"
    }
   ],
   "source": [
    "model.most_similar(positive=['king', 'woman'], negative=['man'])"
   ],
   "metadata": {
    "collapsed": false,
    "pycharm": {
     "name": "#%%\n"
    }
   }
  },
  {
   "cell_type": "code",
   "execution_count": null,
   "outputs": [],
   "source": [],
   "metadata": {
    "collapsed": false,
    "pycharm": {
     "name": "#%%\n"
    }
   }
  }
 ],
 "metadata": {
  "kernelspec": {
   "display_name": "Python 3",
   "language": "python",
   "name": "python3"
  },
  "language_info": {
   "codemirror_mode": {
    "name": "ipython",
    "version": 2
   },
   "file_extension": ".py",
   "mimetype": "text/x-python",
   "name": "python",
   "nbconvert_exporter": "python",
   "pygments_lexer": "ipython2",
   "version": "2.7.6"
  }
 },
 "nbformat": 4,
 "nbformat_minor": 0
}