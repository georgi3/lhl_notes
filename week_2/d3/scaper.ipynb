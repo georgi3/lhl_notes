{
 "cells": [
  {
   "cell_type": "code",
   "execution_count": 1,
   "id": "51efc984-ebcf-42fd-9d8c-0163c0989e00",
   "metadata": {
    "pycharm": {
     "name": "#%%\n"
    }
   },
   "outputs": [],
   "source": [
    "import pandas as pd\n",
    "import requests\n",
    "import lxml"
   ]
  },
  {
   "cell_type": "code",
   "execution_count": 2,
   "id": "625bbd72-0bc4-4760-b297-2b7304126e4f",
   "metadata": {
    "pycharm": {
     "name": "#%%\n"
    }
   },
   "outputs": [],
   "source": [
    "url = 'https://www.worldcoinindex.com/'\n",
    "crypto_url = requests.get(url)"
   ]
  },
  {
   "cell_type": "code",
   "execution_count": 3,
   "id": "2d8c1f33-15cf-4e35-ae44-e084c7a3095b",
   "metadata": {
    "pycharm": {
     "name": "#%%\n"
    }
   },
   "outputs": [],
   "source": [
    "body = crypto_url.text"
   ]
  },
  {
   "cell_type": "code",
   "execution_count": 4,
   "id": "052c71a9-18fa-44d0-833a-e561eb60f96d",
   "metadata": {
    "pycharm": {
     "name": "#%%\n"
    }
   },
   "outputs": [],
   "source": [
    "# print(body)"
   ]
  },
  {
   "cell_type": "code",
   "execution_count": 7,
   "id": "3271f8fc-ba23-4470-8ba7-bbe48c3be934",
   "metadata": {
    "pycharm": {
     "name": "#%%\n"
    }
   },
   "outputs": [
    {
     "name": "stdout",
     "output_type": "stream",
     "text": [
      "<class 'list'>\n",
      "1\n"
     ]
    }
   ],
   "source": [
    "crypto_data = pd.read_html(body)\n",
    "\n",
    "print(type(crypto_data))\n",
    "print(len(crypto_data))"
   ]
  },
  {
   "cell_type": "code",
   "execution_count": null,
   "id": "ba0ae824-6ff1-47a5-94fa-eccde528d5d7",
   "metadata": {
    "pycharm": {
     "name": "#%%\n"
    }
   },
   "outputs": [],
   "source": []
  }
 ],
 "metadata": {
  "kernelspec": {
   "display_name": "regular",
   "language": "python",
   "name": "regular"
  },
  "language_info": {
   "codemirror_mode": {
    "name": "ipython",
    "version": 3
   },
   "file_extension": ".py",
   "mimetype": "text/x-python",
   "name": "python",
   "nbconvert_exporter": "python",
   "pygments_lexer": "ipython3",
   "version": "3.9.12"
  }
 },
 "nbformat": 4,
 "nbformat_minor": 5
}