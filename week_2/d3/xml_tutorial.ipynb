{
 "cells": [
  {
   "cell_type": "code",
   "execution_count": 23,
   "id": "6360be95-7252-47d7-87bf-a4e3204baf30",
   "metadata": {},
   "outputs": [],
   "source": [
    "import xml.etree.ElementTree as ET\n",
    "import pandas as pd"
   ]
  },
  {
   "cell_type": "code",
   "execution_count": 24,
   "id": "683c6ada-82a3-4fb5-a34f-711caf4e2705",
   "metadata": {},
   "outputs": [],
   "source": [
    "tree = ET.parse('data.xml')"
   ]
  },
  {
   "cell_type": "code",
   "execution_count": 25,
   "id": "3cd005a9-896a-48ce-b8dd-567d81ecb05d",
   "metadata": {},
   "outputs": [
    {
     "data": {
      "text/plain": [
       "xml.etree.ElementTree.ElementTree"
      ]
     },
     "execution_count": 25,
     "metadata": {},
     "output_type": "execute_result"
    }
   ],
   "source": [
    "type(tree)"
   ]
  },
  {
   "cell_type": "code",
   "execution_count": 26,
   "id": "2fa009ce-d016-47db-9fe7-a43a6818ccce",
   "metadata": {},
   "outputs": [],
   "source": [
    "root = tree.getroot()"
   ]
  },
  {
   "cell_type": "code",
   "execution_count": 27,
   "id": "2fd5c3d4-3fcc-40ae-abc6-407509da39dd",
   "metadata": {},
   "outputs": [
    {
     "data": {
      "text/plain": [
       "<Element 'data' at 0x11fc97f90>"
      ]
     },
     "execution_count": 27,
     "metadata": {},
     "output_type": "execute_result"
    }
   ],
   "source": [
    "root"
   ]
  },
  {
   "cell_type": "code",
   "execution_count": 28,
   "id": "2763a295-7254-4473-a10e-fd45f7058184",
   "metadata": {},
   "outputs": [
    {
     "name": "stdout",
     "output_type": "stream",
     "text": [
      "data\n",
      "{}\n",
      "3\n"
     ]
    }
   ],
   "source": [
    "print(root.tag)\n",
    "print(root.attrib)\n",
    "print(len(root))"
   ]
  },
  {
   "cell_type": "code",
   "execution_count": 29,
   "id": "64458530-b32b-4378-abfc-dacef6d302cc",
   "metadata": {},
   "outputs": [],
   "source": [
    "# First child of the root\n",
    "country1 = root[0]\n",
    "# First child of the child\n",
    "rank = country1[0]"
   ]
  },
  {
   "cell_type": "code",
   "execution_count": 30,
   "id": "9906dcb0-bc5f-4170-975c-b3f7ce86f5ae",
   "metadata": {},
   "outputs": [
    {
     "name": "stdout",
     "output_type": "stream",
     "text": [
      "rank\n",
      "1\n",
      "{'name': 'Switzerland', 'direction': 'W'}\n"
     ]
    }
   ],
   "source": [
    "# What is the tag of the grandchild\n",
    "print(rank.tag)\n",
    "# What is the text inside this grandchild\n",
    "print(rank.text)\n",
    "# What are the attributes of last element?\n",
    "print(country1[4].attrib)"
   ]
  },
  {
   "cell_type": "code",
   "execution_count": 31,
   "id": "9d093b8d-8ca8-4549-a8fa-2c5bcafed3f5",
   "metadata": {},
   "outputs": [
    {
     "name": "stdout",
     "output_type": "stream",
     "text": [
      "Liechtenstein 1\n",
      "Singapore 4\n",
      "Panama 68\n"
     ]
    }
   ],
   "source": [
    "for country in root.findall('country'):\n",
    "    rank = country.find('rank').text\n",
    "    name = country.get('name')\n",
    "    print(name, rank)"
   ]
  },
  {
   "cell_type": "code",
   "execution_count": 32,
   "id": "c45561e2-b06a-4b90-a25d-8596447be969",
   "metadata": {},
   "outputs": [
    {
     "name": "stdout",
     "output_type": "stream",
     "text": [
      "{'name': 'Austria', 'direction': 'E'}\n",
      "{'name': 'Switzerland', 'direction': 'W'}\n",
      "{'name': 'Malaysia', 'direction': 'N'}\n",
      "{'name': 'Costa Rica', 'direction': 'W'}\n",
      "{'name': 'Colombia', 'direction': 'E'}\n"
     ]
    }
   ],
   "source": [
    "for neighbor in root.iter('neighbor'):\n",
    "    print(neighbor.attrib)"
   ]
  },
  {
   "cell_type": "code",
   "execution_count": 33,
   "id": "3304adbd-f30a-4ce6-ac83-a262b43a791c",
   "metadata": {},
   "outputs": [
    {
     "data": {
      "text/plain": [
       "[<Element 'neighbor' at 0x106d0d400>, <Element 'neighbor' at 0x11fc9e310>]"
      ]
     },
     "execution_count": 33,
     "metadata": {},
     "output_type": "execute_result"
    }
   ],
   "source": [
    "# Top-level elements\n",
    "root.findall(\".\")\n",
    "# All 'neighbor' grand-children of 'country' children of the top-level elements\n",
    "root.findall(\"./country/neighbor\")\n",
    "# elements with name='Singapore' that have a 'year' child\n",
    "root.findall(\".//year/..[@name='Singapore']\")\n",
    "# 'year' elements that are children of elements with name='Singapore'\n",
    "root.findall(\".//*[@name='Singapore']/year\")\n",
    "# All 'neighbor' elements that are the second child of their parent\n",
    "root.findall(\".//neighbor[2]\")"
   ]
  },
  {
   "cell_type": "markdown",
   "id": "0ca0e642-7639-4db1-993b-7bdce044d0f8",
   "metadata": {},
   "source": [
    "### Extract the name, rank, year and gdppc from the countries and create a Pandas DataFrame. Try to do it alone before checking the solution here."
   ]
  },
  {
   "cell_type": "code",
   "execution_count": 42,
   "id": "044b7655-fede-4be9-a77d-ad16b68b7803",
   "metadata": {},
   "outputs": [
    {
     "data": {
      "text/plain": [
       "{'name': [['Liechtenstein', 'Singapore', 'Panama']],\n",
       " 'rank': ['1', '4', '68'],\n",
       " 'year': ['2008', '2011', '2011'],\n",
       " 'gdppc': ['141100', '59900', '13600']}"
      ]
     },
     "execution_count": 42,
     "metadata": {},
     "output_type": "execute_result"
    }
   ],
   "source": [
    "my_dict = {'name': [[country.get('name') for country in root.findall('country')]],\n",
    "           'rank': [country[0].text for country in root.findall('country')],\n",
    "           'year': [country[1].text for country in root.findall('country')],\n",
    "           'gdppc': [country[2].text for country in root.findall('country')]}\n",
    "my_dict"
   ]
  },
  {
   "cell_type": "code",
   "execution_count": 37,
   "id": "9373aca9-e6cc-4779-85a6-000cf3a6bcee",
   "metadata": {},
   "outputs": [
    {
     "data": {
      "text/html": [
       "<div>\n",
       "<style scoped>\n",
       "    .dataframe tbody tr th:only-of-type {\n",
       "        vertical-align: middle;\n",
       "    }\n",
       "\n",
       "    .dataframe tbody tr th {\n",
       "        vertical-align: top;\n",
       "    }\n",
       "\n",
       "    .dataframe thead th {\n",
       "        text-align: right;\n",
       "    }\n",
       "</style>\n",
       "<table border=\"1\" class=\"dataframe\">\n",
       "  <thead>\n",
       "    <tr style=\"text-align: right;\">\n",
       "      <th></th>\n",
       "      <th>name</th>\n",
       "      <th>rank</th>\n",
       "      <th>year</th>\n",
       "      <th>gdppc</th>\n",
       "    </tr>\n",
       "  </thead>\n",
       "  <tbody>\n",
       "    <tr>\n",
       "      <th>0</th>\n",
       "      <td>Liechtenstein</td>\n",
       "      <td>1</td>\n",
       "      <td>2008</td>\n",
       "      <td>141100</td>\n",
       "    </tr>\n",
       "    <tr>\n",
       "      <th>1</th>\n",
       "      <td>Singapore</td>\n",
       "      <td>4</td>\n",
       "      <td>2011</td>\n",
       "      <td>59900</td>\n",
       "    </tr>\n",
       "    <tr>\n",
       "      <th>2</th>\n",
       "      <td>Panama</td>\n",
       "      <td>68</td>\n",
       "      <td>2011</td>\n",
       "      <td>13600</td>\n",
       "    </tr>\n",
       "  </tbody>\n",
       "</table>\n",
       "</div>"
      ],
      "text/plain": [
       "            name rank  year   gdppc\n",
       "0  Liechtenstein    1  2008  141100\n",
       "1      Singapore    4  2011   59900\n",
       "2         Panama   68  2011   13600"
      ]
     },
     "execution_count": 37,
     "metadata": {},
     "output_type": "execute_result"
    }
   ],
   "source": [
    "tree = ET.parse('data.xml')  # Load from file\n",
    "root = tree.getroot()\n",
    "\n",
    "my_dict = {'name': [],\n",
    "           'rank': [],\n",
    "           'year': [],\n",
    "           'gdppc': []}\n",
    "\n",
    "\n",
    "for country in root:\n",
    "    name_value = country.attrib['name']\n",
    "    my_dict['name'].append(name_value)\n",
    "\n",
    "    rank_value = country[0].text\n",
    "    my_dict['rank'].append(rank_value)\n",
    "\n",
    "    year_value = country[1].text\n",
    "    my_dict['year'].append(year_value)\n",
    "\n",
    "    gdppc_value = country[2].text\n",
    "    my_dict['gdppc'].append(gdppc_value)\n",
    "\n",
    "df = pd.DataFrame(my_dict) \n",
    "df"
   ]
  },
  {
   "cell_type": "code",
   "execution_count": null,
   "id": "2322c454-1232-4217-8060-2e3bc8819d56",
   "metadata": {},
   "outputs": [],
   "source": []
  }
 ],
 "metadata": {
  "kernelspec": {
   "display_name": "regular",
   "language": "python",
   "name": "regular"
  },
  "language_info": {
   "codemirror_mode": {
    "name": "ipython",
    "version": 3
   },
   "file_extension": ".py",
   "mimetype": "text/x-python",
   "name": "python",
   "nbconvert_exporter": "python",
   "pygments_lexer": "ipython3",
   "version": "3.9.12"
  }
 },
 "nbformat": 4,
 "nbformat_minor": 5
}
