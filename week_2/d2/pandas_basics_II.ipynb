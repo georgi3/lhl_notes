{
 "cells": [
  {
   "cell_type": "code",
   "execution_count": 1,
   "id": "99c8cdb0-5d54-45f4-9784-555b124e672f",
   "metadata": {},
   "outputs": [],
   "source": [
    "from pandas import DataFrame, Series\n",
    "import pandas as pd\n",
    "import numpy as np"
   ]
  },
  {
   "cell_type": "code",
   "execution_count": 7,
   "id": "99a9a566-24ea-460c-a6fa-359cd2d30579",
   "metadata": {},
   "outputs": [],
   "source": [
    "df = DataFrame({'one': pd.Series(np.random.randn(3), index=['a', 'b', 'c']),\n",
    "        'two': pd.Series(np.random.randn(4), index=['a', 'b', 'c', 'd']),\n",
    "        'three': pd.Series(np.random.randn(3), index=['b', 'c', 'd'])})"
   ]
  },
  {
   "cell_type": "code",
   "execution_count": 8,
   "id": "46ecdddd-8c17-40f4-a31e-859015228513",
   "metadata": {},
   "outputs": [
    {
     "data": {
      "text/html": [
       "<div>\n",
       "<style scoped>\n",
       "    .dataframe tbody tr th:only-of-type {\n",
       "        vertical-align: middle;\n",
       "    }\n",
       "\n",
       "    .dataframe tbody tr th {\n",
       "        vertical-align: top;\n",
       "    }\n",
       "\n",
       "    .dataframe thead th {\n",
       "        text-align: right;\n",
       "    }\n",
       "</style>\n",
       "<table border=\"1\" class=\"dataframe\">\n",
       "  <thead>\n",
       "    <tr style=\"text-align: right;\">\n",
       "      <th></th>\n",
       "      <th>one</th>\n",
       "      <th>two</th>\n",
       "      <th>three</th>\n",
       "    </tr>\n",
       "  </thead>\n",
       "  <tbody>\n",
       "    <tr>\n",
       "      <th>a</th>\n",
       "      <td>-1.277093</td>\n",
       "      <td>0.650654</td>\n",
       "      <td>NaN</td>\n",
       "    </tr>\n",
       "    <tr>\n",
       "      <th>b</th>\n",
       "      <td>0.222504</td>\n",
       "      <td>0.369018</td>\n",
       "      <td>-0.733026</td>\n",
       "    </tr>\n",
       "    <tr>\n",
       "      <th>c</th>\n",
       "      <td>0.807403</td>\n",
       "      <td>0.112715</td>\n",
       "      <td>1.017476</td>\n",
       "    </tr>\n",
       "    <tr>\n",
       "      <th>d</th>\n",
       "      <td>NaN</td>\n",
       "      <td>-0.691644</td>\n",
       "      <td>0.321444</td>\n",
       "    </tr>\n",
       "  </tbody>\n",
       "</table>\n",
       "</div>"
      ],
      "text/plain": [
       "        one       two     three\n",
       "a -1.277093  0.650654       NaN\n",
       "b  0.222504  0.369018 -0.733026\n",
       "c  0.807403  0.112715  1.017476\n",
       "d       NaN -0.691644  0.321444"
      ]
     },
     "execution_count": 8,
     "metadata": {},
     "output_type": "execute_result"
    }
   ],
   "source": [
    "df"
   ]
  },
  {
   "cell_type": "code",
   "execution_count": 4,
   "id": "0d44c4c4-30e6-4605-9ec5-f7a9d76eaeef",
   "metadata": {},
   "outputs": [],
   "source": [
    "df2 = df.copy()"
   ]
  },
  {
   "cell_type": "code",
   "execution_count": 5,
   "id": "5e563384-ea12-4b7f-9fdc-524ccb37bb76",
   "metadata": {},
   "outputs": [
    {
     "data": {
      "text/html": [
       "<div>\n",
       "<style scoped>\n",
       "    .dataframe tbody tr th:only-of-type {\n",
       "        vertical-align: middle;\n",
       "    }\n",
       "\n",
       "    .dataframe tbody tr th {\n",
       "        vertical-align: top;\n",
       "    }\n",
       "\n",
       "    .dataframe thead th {\n",
       "        text-align: right;\n",
       "    }\n",
       "</style>\n",
       "<table border=\"1\" class=\"dataframe\">\n",
       "  <thead>\n",
       "    <tr style=\"text-align: right;\">\n",
       "      <th></th>\n",
       "      <th>one</th>\n",
       "      <th>two</th>\n",
       "      <th>three</th>\n",
       "    </tr>\n",
       "  </thead>\n",
       "  <tbody>\n",
       "    <tr>\n",
       "      <th>a</th>\n",
       "      <td>False</td>\n",
       "      <td>False</td>\n",
       "      <td>False</td>\n",
       "    </tr>\n",
       "    <tr>\n",
       "      <th>b</th>\n",
       "      <td>False</td>\n",
       "      <td>False</td>\n",
       "      <td>False</td>\n",
       "    </tr>\n",
       "    <tr>\n",
       "      <th>c</th>\n",
       "      <td>False</td>\n",
       "      <td>False</td>\n",
       "      <td>False</td>\n",
       "    </tr>\n",
       "    <tr>\n",
       "      <th>d</th>\n",
       "      <td>False</td>\n",
       "      <td>False</td>\n",
       "      <td>False</td>\n",
       "    </tr>\n",
       "  </tbody>\n",
       "</table>\n",
       "</div>"
      ],
      "text/plain": [
       "     one    two  three\n",
       "a  False  False  False\n",
       "b  False  False  False\n",
       "c  False  False  False\n",
       "d  False  False  False"
      ]
     },
     "execution_count": 5,
     "metadata": {},
     "output_type": "execute_result"
    }
   ],
   "source": [
    "df.gt(df2)"
   ]
  },
  {
   "cell_type": "code",
   "execution_count": 6,
   "id": "aa85e8a7-4137-4b30-8e89-5fd196c130aa",
   "metadata": {},
   "outputs": [
    {
     "data": {
      "text/html": [
       "<div>\n",
       "<style scoped>\n",
       "    .dataframe tbody tr th:only-of-type {\n",
       "        vertical-align: middle;\n",
       "    }\n",
       "\n",
       "    .dataframe tbody tr th {\n",
       "        vertical-align: top;\n",
       "    }\n",
       "\n",
       "    .dataframe thead th {\n",
       "        text-align: right;\n",
       "    }\n",
       "</style>\n",
       "<table border=\"1\" class=\"dataframe\">\n",
       "  <thead>\n",
       "    <tr style=\"text-align: right;\">\n",
       "      <th></th>\n",
       "      <th>one</th>\n",
       "      <th>two</th>\n",
       "      <th>three</th>\n",
       "    </tr>\n",
       "  </thead>\n",
       "  <tbody>\n",
       "    <tr>\n",
       "      <th>a</th>\n",
       "      <td>False</td>\n",
       "      <td>False</td>\n",
       "      <td>True</td>\n",
       "    </tr>\n",
       "    <tr>\n",
       "      <th>b</th>\n",
       "      <td>False</td>\n",
       "      <td>False</td>\n",
       "      <td>False</td>\n",
       "    </tr>\n",
       "    <tr>\n",
       "      <th>c</th>\n",
       "      <td>False</td>\n",
       "      <td>False</td>\n",
       "      <td>False</td>\n",
       "    </tr>\n",
       "    <tr>\n",
       "      <th>d</th>\n",
       "      <td>True</td>\n",
       "      <td>False</td>\n",
       "      <td>False</td>\n",
       "    </tr>\n",
       "  </tbody>\n",
       "</table>\n",
       "</div>"
      ],
      "text/plain": [
       "     one    two  three\n",
       "a  False  False   True\n",
       "b  False  False  False\n",
       "c  False  False  False\n",
       "d   True  False  False"
      ]
     },
     "execution_count": 6,
     "metadata": {},
     "output_type": "execute_result"
    }
   ],
   "source": [
    "df2.ne(df)"
   ]
  },
  {
   "cell_type": "code",
   "execution_count": 10,
   "id": "b25ceade-f470-4c80-88ee-f22d2dae9258",
   "metadata": {},
   "outputs": [
    {
     "data": {
      "text/plain": [
       "one      False\n",
       "two      False\n",
       "three    False\n",
       "dtype: bool"
      ]
     },
     "execution_count": 10,
     "metadata": {},
     "output_type": "execute_result"
    }
   ],
   "source": [
    "(df > 0).all()"
   ]
  },
  {
   "cell_type": "code",
   "execution_count": 11,
   "id": "4f7b8186-7f64-418d-8162-a707978c5da5",
   "metadata": {},
   "outputs": [
    {
     "data": {
      "text/plain": [
       "one      True\n",
       "two      True\n",
       "three    True\n",
       "dtype: bool"
      ]
     },
     "execution_count": 11,
     "metadata": {},
     "output_type": "execute_result"
    }
   ],
   "source": [
    "(df > 0).any()"
   ]
  },
  {
   "cell_type": "code",
   "execution_count": 12,
   "id": "4f3c5b54-275b-4d6b-aa0b-1648dcaa843d",
   "metadata": {},
   "outputs": [
    {
     "data": {
      "text/plain": [
       "<bound method NDFrame.bool of 0    True\n",
       "dtype: bool>"
      ]
     },
     "execution_count": 12,
     "metadata": {},
     "output_type": "execute_result"
    }
   ],
   "source": [
    "Series([True]).bool"
   ]
  },
  {
   "cell_type": "code",
   "execution_count": 13,
   "id": "c62db91d-f45a-443d-ac50-3071c3424f73",
   "metadata": {},
   "outputs": [
    {
     "data": {
      "text/plain": [
       "<bound method NDFrame.bool of 0    False\n",
       "dtype: bool>"
      ]
     },
     "execution_count": 13,
     "metadata": {},
     "output_type": "execute_result"
    }
   ],
   "source": [
    "Series([False]).bool"
   ]
  },
  {
   "cell_type": "code",
   "execution_count": 15,
   "id": "ed38818c-d7c4-4ee2-8567-5cef1d49f8b8",
   "metadata": {},
   "outputs": [
    {
     "data": {
      "text/plain": [
       "<bound method NDFrame.bool of       0\n",
       "0  True>"
      ]
     },
     "execution_count": 15,
     "metadata": {},
     "output_type": "execute_result"
    }
   ],
   "source": [
    "DataFrame([[True]]).bool"
   ]
  },
  {
   "cell_type": "code",
   "execution_count": 17,
   "id": "ad8eeb81-46e1-4187-bbec-006f0a8b0bc5",
   "metadata": {},
   "outputs": [
    {
     "data": {
      "text/plain": [
       "<bound method NDFrame.bool of        0\n",
       "0  False>"
      ]
     },
     "execution_count": 17,
     "metadata": {},
     "output_type": "execute_result"
    }
   ],
   "source": [
    "DataFrame([[False]]).bool"
   ]
  },
  {
   "cell_type": "code",
   "execution_count": 18,
   "id": "20986953-fadf-46da-b843-ee10070cec95",
   "metadata": {},
   "outputs": [
    {
     "data": {
      "text/plain": [
       "0     True\n",
       "1    False\n",
       "2    False\n",
       "dtype: bool"
      ]
     },
     "execution_count": 18,
     "metadata": {},
     "output_type": "execute_result"
    }
   ],
   "source": [
    "Series(['foo', 'bar', 'baz']) == 'foo'"
   ]
  },
  {
   "cell_type": "code",
   "execution_count": 19,
   "id": "71a4fad9-6271-46f1-b8b0-ad760454a652",
   "metadata": {},
   "outputs": [
    {
     "data": {
      "text/plain": [
       "0     True\n",
       "1     True\n",
       "2    False\n",
       "dtype: bool"
      ]
     },
     "execution_count": 19,
     "metadata": {},
     "output_type": "execute_result"
    }
   ],
   "source": [
    "Series(['foo', 'bar', 'baz']) == pd.Index(['foo', 'bar', 'qux'])"
   ]
  },
  {
   "cell_type": "code",
   "execution_count": 20,
   "id": "bb1109ed-6346-471e-9430-bd86645f1d19",
   "metadata": {},
   "outputs": [
    {
     "ename": "ValueError",
     "evalue": "Can only compare identically-labeled Series objects",
     "output_type": "error",
     "traceback": [
      "\u001b[0;31m---------------------------------------------------------------------------\u001b[0m",
      "\u001b[0;31mValueError\u001b[0m                                Traceback (most recent call last)",
      "Input \u001b[0;32mIn [20]\u001b[0m, in \u001b[0;36m<cell line: 1>\u001b[0;34m()\u001b[0m\n\u001b[0;32m----> 1\u001b[0m \u001b[43mSeries\u001b[49m\u001b[43m(\u001b[49m\u001b[43m[\u001b[49m\u001b[38;5;124;43m'\u001b[39;49m\u001b[38;5;124;43mfoo\u001b[39;49m\u001b[38;5;124;43m'\u001b[39;49m\u001b[43m,\u001b[49m\u001b[43m \u001b[49m\u001b[38;5;124;43m'\u001b[39;49m\u001b[38;5;124;43mbar\u001b[39;49m\u001b[38;5;124;43m'\u001b[39;49m\u001b[43m,\u001b[49m\u001b[43m \u001b[49m\u001b[38;5;124;43m'\u001b[39;49m\u001b[38;5;124;43mbaz\u001b[39;49m\u001b[38;5;124;43m'\u001b[39;49m\u001b[43m]\u001b[49m\u001b[43m)\u001b[49m\u001b[43m \u001b[49m\u001b[38;5;241;43m==\u001b[39;49m\u001b[43m \u001b[49m\u001b[43mpd\u001b[49m\u001b[38;5;241;43m.\u001b[39;49m\u001b[43mSeries\u001b[49m\u001b[43m(\u001b[49m\u001b[43m[\u001b[49m\u001b[38;5;124;43m'\u001b[39;49m\u001b[38;5;124;43mfoo\u001b[39;49m\u001b[38;5;124;43m'\u001b[39;49m\u001b[43m,\u001b[49m\u001b[43m \u001b[49m\u001b[38;5;124;43m'\u001b[39;49m\u001b[38;5;124;43mbar\u001b[39;49m\u001b[38;5;124;43m'\u001b[39;49m\u001b[43m]\u001b[49m\u001b[43m)\u001b[49m\n",
      "File \u001b[0;32m/opt/homebrew/Caskroom/miniforge/base/envs/regular/lib/python3.9/site-packages/pandas/core/ops/common.py:70\u001b[0m, in \u001b[0;36m_unpack_zerodim_and_defer.<locals>.new_method\u001b[0;34m(self, other)\u001b[0m\n\u001b[1;32m     66\u001b[0m             \u001b[38;5;28;01mreturn\u001b[39;00m \u001b[38;5;28mNotImplemented\u001b[39m\n\u001b[1;32m     68\u001b[0m other \u001b[38;5;241m=\u001b[39m item_from_zerodim(other)\n\u001b[0;32m---> 70\u001b[0m \u001b[38;5;28;01mreturn\u001b[39;00m \u001b[43mmethod\u001b[49m\u001b[43m(\u001b[49m\u001b[38;5;28;43mself\u001b[39;49m\u001b[43m,\u001b[49m\u001b[43m \u001b[49m\u001b[43mother\u001b[49m\u001b[43m)\u001b[49m\n",
      "File \u001b[0;32m/opt/homebrew/Caskroom/miniforge/base/envs/regular/lib/python3.9/site-packages/pandas/core/arraylike.py:40\u001b[0m, in \u001b[0;36mOpsMixin.__eq__\u001b[0;34m(self, other)\u001b[0m\n\u001b[1;32m     38\u001b[0m \u001b[38;5;129m@unpack_zerodim_and_defer\u001b[39m(\u001b[38;5;124m\"\u001b[39m\u001b[38;5;124m__eq__\u001b[39m\u001b[38;5;124m\"\u001b[39m)\n\u001b[1;32m     39\u001b[0m \u001b[38;5;28;01mdef\u001b[39;00m \u001b[38;5;21m__eq__\u001b[39m(\u001b[38;5;28mself\u001b[39m, other):\n\u001b[0;32m---> 40\u001b[0m     \u001b[38;5;28;01mreturn\u001b[39;00m \u001b[38;5;28;43mself\u001b[39;49m\u001b[38;5;241;43m.\u001b[39;49m\u001b[43m_cmp_method\u001b[49m\u001b[43m(\u001b[49m\u001b[43mother\u001b[49m\u001b[43m,\u001b[49m\u001b[43m \u001b[49m\u001b[43moperator\u001b[49m\u001b[38;5;241;43m.\u001b[39;49m\u001b[43meq\u001b[49m\u001b[43m)\u001b[49m\n",
      "File \u001b[0;32m/opt/homebrew/Caskroom/miniforge/base/envs/regular/lib/python3.9/site-packages/pandas/core/series.py:5617\u001b[0m, in \u001b[0;36mSeries._cmp_method\u001b[0;34m(self, other, op)\u001b[0m\n\u001b[1;32m   5614\u001b[0m res_name \u001b[38;5;241m=\u001b[39m ops\u001b[38;5;241m.\u001b[39mget_op_result_name(\u001b[38;5;28mself\u001b[39m, other)\n\u001b[1;32m   5616\u001b[0m \u001b[38;5;28;01mif\u001b[39;00m \u001b[38;5;28misinstance\u001b[39m(other, Series) \u001b[38;5;129;01mand\u001b[39;00m \u001b[38;5;129;01mnot\u001b[39;00m \u001b[38;5;28mself\u001b[39m\u001b[38;5;241m.\u001b[39m_indexed_same(other):\n\u001b[0;32m-> 5617\u001b[0m     \u001b[38;5;28;01mraise\u001b[39;00m \u001b[38;5;167;01mValueError\u001b[39;00m(\u001b[38;5;124m\"\u001b[39m\u001b[38;5;124mCan only compare identically-labeled Series objects\u001b[39m\u001b[38;5;124m\"\u001b[39m)\n\u001b[1;32m   5619\u001b[0m lvalues \u001b[38;5;241m=\u001b[39m \u001b[38;5;28mself\u001b[39m\u001b[38;5;241m.\u001b[39m_values\n\u001b[1;32m   5620\u001b[0m rvalues \u001b[38;5;241m=\u001b[39m extract_array(other, extract_numpy\u001b[38;5;241m=\u001b[39m\u001b[38;5;28;01mTrue\u001b[39;00m, extract_range\u001b[38;5;241m=\u001b[39m\u001b[38;5;28;01mTrue\u001b[39;00m)\n",
      "\u001b[0;31mValueError\u001b[0m: Can only compare identically-labeled Series objects"
     ]
    }
   ],
   "source": [
    "Series(['foo', 'bar', 'baz']) == pd.Series(['foo', 'bar'])"
   ]
  },
  {
   "cell_type": "code",
   "execution_count": 21,
   "id": "b0d801d1-196a-42d6-af7d-897279d7ecb7",
   "metadata": {},
   "outputs": [
    {
     "data": {
      "text/plain": [
       "False"
      ]
     },
     "execution_count": 21,
     "metadata": {},
     "output_type": "execute_result"
    }
   ],
   "source": [
    "(df + df == df * 2).all().all()"
   ]
  },
  {
   "cell_type": "code",
   "execution_count": 22,
   "id": "fdb25f07-744b-46a2-8a46-8233386890b7",
   "metadata": {},
   "outputs": [
    {
     "data": {
      "text/plain": [
       "one      False\n",
       "two       True\n",
       "three    False\n",
       "dtype: bool"
      ]
     },
     "execution_count": 22,
     "metadata": {},
     "output_type": "execute_result"
    }
   ],
   "source": [
    "(df + df == df * 2).all()"
   ]
  },
  {
   "cell_type": "code",
   "execution_count": 25,
   "id": "47012586-d287-40ca-a965-959abec4d992",
   "metadata": {},
   "outputs": [
    {
     "data": {
      "text/html": [
       "<div>\n",
       "<style scoped>\n",
       "    .dataframe tbody tr th:only-of-type {\n",
       "        vertical-align: middle;\n",
       "    }\n",
       "\n",
       "    .dataframe tbody tr th {\n",
       "        vertical-align: top;\n",
       "    }\n",
       "\n",
       "    .dataframe thead th {\n",
       "        text-align: right;\n",
       "    }\n",
       "</style>\n",
       "<table border=\"1\" class=\"dataframe\">\n",
       "  <thead>\n",
       "    <tr style=\"text-align: right;\">\n",
       "      <th></th>\n",
       "      <th>one</th>\n",
       "      <th>two</th>\n",
       "      <th>three</th>\n",
       "    </tr>\n",
       "  </thead>\n",
       "  <tbody>\n",
       "    <tr>\n",
       "      <th>a</th>\n",
       "      <td>-1.277093</td>\n",
       "      <td>0.650654</td>\n",
       "      <td>NaN</td>\n",
       "    </tr>\n",
       "    <tr>\n",
       "      <th>b</th>\n",
       "      <td>0.222504</td>\n",
       "      <td>0.369018</td>\n",
       "      <td>-0.733026</td>\n",
       "    </tr>\n",
       "    <tr>\n",
       "      <th>c</th>\n",
       "      <td>0.807403</td>\n",
       "      <td>0.112715</td>\n",
       "      <td>1.017476</td>\n",
       "    </tr>\n",
       "    <tr>\n",
       "      <th>d</th>\n",
       "      <td>NaN</td>\n",
       "      <td>-0.691644</td>\n",
       "      <td>0.321444</td>\n",
       "    </tr>\n",
       "  </tbody>\n",
       "</table>\n",
       "</div>"
      ],
      "text/plain": [
       "        one       two     three\n",
       "a -1.277093  0.650654       NaN\n",
       "b  0.222504  0.369018 -0.733026\n",
       "c  0.807403  0.112715  1.017476\n",
       "d       NaN -0.691644  0.321444"
      ]
     },
     "execution_count": 25,
     "metadata": {},
     "output_type": "execute_result"
    }
   ],
   "source": [
    "df"
   ]
  },
  {
   "cell_type": "code",
   "execution_count": 26,
   "id": "75996a8f-7ac8-43c2-ae96-dae3b8f0279f",
   "metadata": {},
   "outputs": [
    {
     "data": {
      "text/html": [
       "<div>\n",
       "<style scoped>\n",
       "    .dataframe tbody tr th:only-of-type {\n",
       "        vertical-align: middle;\n",
       "    }\n",
       "\n",
       "    .dataframe tbody tr th {\n",
       "        vertical-align: top;\n",
       "    }\n",
       "\n",
       "    .dataframe thead th {\n",
       "        text-align: right;\n",
       "    }\n",
       "</style>\n",
       "<table border=\"1\" class=\"dataframe\">\n",
       "  <thead>\n",
       "    <tr style=\"text-align: right;\">\n",
       "      <th></th>\n",
       "      <th>one</th>\n",
       "      <th>two</th>\n",
       "      <th>three</th>\n",
       "    </tr>\n",
       "  </thead>\n",
       "  <tbody>\n",
       "    <tr>\n",
       "      <th>a</th>\n",
       "      <td>-2.554185</td>\n",
       "      <td>1.301307</td>\n",
       "      <td>NaN</td>\n",
       "    </tr>\n",
       "    <tr>\n",
       "      <th>b</th>\n",
       "      <td>0.445008</td>\n",
       "      <td>0.738036</td>\n",
       "      <td>-1.466053</td>\n",
       "    </tr>\n",
       "    <tr>\n",
       "      <th>c</th>\n",
       "      <td>1.614805</td>\n",
       "      <td>0.225430</td>\n",
       "      <td>2.034951</td>\n",
       "    </tr>\n",
       "    <tr>\n",
       "      <th>d</th>\n",
       "      <td>NaN</td>\n",
       "      <td>-1.383287</td>\n",
       "      <td>0.642887</td>\n",
       "    </tr>\n",
       "  </tbody>\n",
       "</table>\n",
       "</div>"
      ],
      "text/plain": [
       "        one       two     three\n",
       "a -2.554185  1.301307       NaN\n",
       "b  0.445008  0.738036 -1.466053\n",
       "c  1.614805  0.225430  2.034951\n",
       "d       NaN -1.383287  0.642887"
      ]
     },
     "execution_count": 26,
     "metadata": {},
     "output_type": "execute_result"
    }
   ],
   "source": [
    "df + df"
   ]
  },
  {
   "cell_type": "code",
   "execution_count": 27,
   "id": "b7467424-0ac0-47e0-b132-bddc49700fbc",
   "metadata": {},
   "outputs": [
    {
     "data": {
      "text/html": [
       "<div>\n",
       "<style scoped>\n",
       "    .dataframe tbody tr th:only-of-type {\n",
       "        vertical-align: middle;\n",
       "    }\n",
       "\n",
       "    .dataframe tbody tr th {\n",
       "        vertical-align: top;\n",
       "    }\n",
       "\n",
       "    .dataframe thead th {\n",
       "        text-align: right;\n",
       "    }\n",
       "</style>\n",
       "<table border=\"1\" class=\"dataframe\">\n",
       "  <thead>\n",
       "    <tr style=\"text-align: right;\">\n",
       "      <th></th>\n",
       "      <th>one</th>\n",
       "      <th>two</th>\n",
       "      <th>three</th>\n",
       "    </tr>\n",
       "  </thead>\n",
       "  <tbody>\n",
       "    <tr>\n",
       "      <th>a</th>\n",
       "      <td>-2.554185</td>\n",
       "      <td>1.301307</td>\n",
       "      <td>NaN</td>\n",
       "    </tr>\n",
       "    <tr>\n",
       "      <th>b</th>\n",
       "      <td>0.445008</td>\n",
       "      <td>0.738036</td>\n",
       "      <td>-1.466053</td>\n",
       "    </tr>\n",
       "    <tr>\n",
       "      <th>c</th>\n",
       "      <td>1.614805</td>\n",
       "      <td>0.225430</td>\n",
       "      <td>2.034951</td>\n",
       "    </tr>\n",
       "    <tr>\n",
       "      <th>d</th>\n",
       "      <td>NaN</td>\n",
       "      <td>-1.383287</td>\n",
       "      <td>0.642887</td>\n",
       "    </tr>\n",
       "  </tbody>\n",
       "</table>\n",
       "</div>"
      ],
      "text/plain": [
       "        one       two     three\n",
       "a -2.554185  1.301307       NaN\n",
       "b  0.445008  0.738036 -1.466053\n",
       "c  1.614805  0.225430  2.034951\n",
       "d       NaN -1.383287  0.642887"
      ]
     },
     "execution_count": 27,
     "metadata": {},
     "output_type": "execute_result"
    }
   ],
   "source": [
    "df * 2"
   ]
  },
  {
   "cell_type": "code",
   "execution_count": 29,
   "id": "eddc8f8b-fabe-4007-8463-4d493b2a259e",
   "metadata": {},
   "outputs": [
    {
     "data": {
      "text/html": [
       "<div>\n",
       "<style scoped>\n",
       "    .dataframe tbody tr th:only-of-type {\n",
       "        vertical-align: middle;\n",
       "    }\n",
       "\n",
       "    .dataframe tbody tr th {\n",
       "        vertical-align: top;\n",
       "    }\n",
       "\n",
       "    .dataframe thead th {\n",
       "        text-align: right;\n",
       "    }\n",
       "</style>\n",
       "<table border=\"1\" class=\"dataframe\">\n",
       "  <thead>\n",
       "    <tr style=\"text-align: right;\">\n",
       "      <th></th>\n",
       "      <th>one</th>\n",
       "      <th>two</th>\n",
       "      <th>three</th>\n",
       "    </tr>\n",
       "  </thead>\n",
       "  <tbody>\n",
       "    <tr>\n",
       "      <th>a</th>\n",
       "      <td>True</td>\n",
       "      <td>True</td>\n",
       "      <td>False</td>\n",
       "    </tr>\n",
       "    <tr>\n",
       "      <th>b</th>\n",
       "      <td>True</td>\n",
       "      <td>True</td>\n",
       "      <td>True</td>\n",
       "    </tr>\n",
       "    <tr>\n",
       "      <th>c</th>\n",
       "      <td>True</td>\n",
       "      <td>True</td>\n",
       "      <td>True</td>\n",
       "    </tr>\n",
       "    <tr>\n",
       "      <th>d</th>\n",
       "      <td>False</td>\n",
       "      <td>True</td>\n",
       "      <td>True</td>\n",
       "    </tr>\n",
       "  </tbody>\n",
       "</table>\n",
       "</div>"
      ],
      "text/plain": [
       "     one   two  three\n",
       "a   True  True  False\n",
       "b   True  True   True\n",
       "c   True  True   True\n",
       "d  False  True   True"
      ]
     },
     "execution_count": 29,
     "metadata": {},
     "output_type": "execute_result"
    }
   ],
   "source": [
    "df + df == df * 2"
   ]
  },
  {
   "cell_type": "code",
   "execution_count": 30,
   "id": "cdf0d0d1-0ec8-457d-a99f-8d9ae6afc189",
   "metadata": {},
   "outputs": [
    {
     "data": {
      "text/plain": [
       "(False, True)"
      ]
     },
     "execution_count": 30,
     "metadata": {},
     "output_type": "execute_result"
    }
   ],
   "source": [
    "np.nan == np.nan, np.nan is np.nan"
   ]
  },
  {
   "cell_type": "code",
   "execution_count": 31,
   "id": "f5c27361-0344-4371-8940-53e40de54a79",
   "metadata": {},
   "outputs": [
    {
     "data": {
      "text/plain": [
       "False"
      ]
     },
     "execution_count": 31,
     "metadata": {},
     "output_type": "execute_result"
    }
   ],
   "source": [
    "df + df is df * 2"
   ]
  },
  {
   "cell_type": "code",
   "execution_count": 32,
   "id": "02ba7e46-5702-4986-b0bb-86506dae763f",
   "metadata": {},
   "outputs": [
    {
     "data": {
      "text/plain": [
       "one     -0.082395\n",
       "two      0.110186\n",
       "three    0.201964\n",
       "dtype: float64"
      ]
     },
     "execution_count": 32,
     "metadata": {},
     "output_type": "execute_result"
    }
   ],
   "source": [
    "df.mean(axis=0)  # mean for COLUMNS"
   ]
  },
  {
   "cell_type": "code",
   "execution_count": 34,
   "id": "67a12bbf-e137-4a09-ba50-9c3316dc8292",
   "metadata": {},
   "outputs": [
    {
     "data": {
      "text/plain": [
       "a   -0.313219\n",
       "b   -0.047168\n",
       "c    0.645864\n",
       "d   -0.185100\n",
       "dtype: float64"
      ]
     },
     "execution_count": 34,
     "metadata": {},
     "output_type": "execute_result"
    }
   ],
   "source": [
    "df.mean(axis=1)  # mean for ROWS"
   ]
  },
  {
   "cell_type": "code",
   "execution_count": 38,
   "id": "8256ac26-5108-4273-8138-5049f9854436",
   "metadata": {},
   "outputs": [
    {
     "data": {
      "text/plain": [
       "one      1.0\n",
       "two      1.0\n",
       "three    1.0\n",
       "dtype: float64"
      ]
     },
     "execution_count": 38,
     "metadata": {},
     "output_type": "execute_result"
    }
   ],
   "source": [
    "ts_stand = (df - df.mean()) / df.std()\n",
    "ts_stand.std()"
   ]
  },
  {
   "cell_type": "code",
   "execution_count": 39,
   "id": "f3ba9ec1-064b-4426-ac96-c08da03aad99",
   "metadata": {},
   "outputs": [
    {
     "data": {
      "text/html": [
       "<div>\n",
       "<style scoped>\n",
       "    .dataframe tbody tr th:only-of-type {\n",
       "        vertical-align: middle;\n",
       "    }\n",
       "\n",
       "    .dataframe tbody tr th {\n",
       "        vertical-align: top;\n",
       "    }\n",
       "\n",
       "    .dataframe thead th {\n",
       "        text-align: right;\n",
       "    }\n",
       "</style>\n",
       "<table border=\"1\" class=\"dataframe\">\n",
       "  <thead>\n",
       "    <tr style=\"text-align: right;\">\n",
       "      <th></th>\n",
       "      <th>one</th>\n",
       "      <th>two</th>\n",
       "      <th>three</th>\n",
       "    </tr>\n",
       "  </thead>\n",
       "  <tbody>\n",
       "    <tr>\n",
       "      <th>count</th>\n",
       "      <td>3.000000</td>\n",
       "      <td>4.000000</td>\n",
       "      <td>3.000000</td>\n",
       "    </tr>\n",
       "    <tr>\n",
       "      <th>mean</th>\n",
       "      <td>-0.082395</td>\n",
       "      <td>0.110186</td>\n",
       "      <td>0.201964</td>\n",
       "    </tr>\n",
       "    <tr>\n",
       "      <th>std</th>\n",
       "      <td>1.075176</td>\n",
       "      <td>0.577938</td>\n",
       "      <td>0.881346</td>\n",
       "    </tr>\n",
       "    <tr>\n",
       "      <th>min</th>\n",
       "      <td>-1.277093</td>\n",
       "      <td>-0.691644</td>\n",
       "      <td>-0.733026</td>\n",
       "    </tr>\n",
       "    <tr>\n",
       "      <th>25%</th>\n",
       "      <td>-0.527294</td>\n",
       "      <td>-0.088375</td>\n",
       "      <td>-0.205791</td>\n",
       "    </tr>\n",
       "    <tr>\n",
       "      <th>50%</th>\n",
       "      <td>0.222504</td>\n",
       "      <td>0.240867</td>\n",
       "      <td>0.321444</td>\n",
       "    </tr>\n",
       "    <tr>\n",
       "      <th>75%</th>\n",
       "      <td>0.514953</td>\n",
       "      <td>0.439427</td>\n",
       "      <td>0.669460</td>\n",
       "    </tr>\n",
       "    <tr>\n",
       "      <th>max</th>\n",
       "      <td>0.807403</td>\n",
       "      <td>0.650654</td>\n",
       "      <td>1.017476</td>\n",
       "    </tr>\n",
       "  </tbody>\n",
       "</table>\n",
       "</div>"
      ],
      "text/plain": [
       "            one       two     three\n",
       "count  3.000000  4.000000  3.000000\n",
       "mean  -0.082395  0.110186  0.201964\n",
       "std    1.075176  0.577938  0.881346\n",
       "min   -1.277093 -0.691644 -0.733026\n",
       "25%   -0.527294 -0.088375 -0.205791\n",
       "50%    0.222504  0.240867  0.321444\n",
       "75%    0.514953  0.439427  0.669460\n",
       "max    0.807403  0.650654  1.017476"
      ]
     },
     "execution_count": 39,
     "metadata": {},
     "output_type": "execute_result"
    }
   ],
   "source": [
    "df.describe()"
   ]
  },
  {
   "cell_type": "code",
   "execution_count": 51,
   "id": "0c62ec08-cf66-4b90-899d-56d6666711a4",
   "metadata": {},
   "outputs": [],
   "source": [
    "ser = Series(np.random.randn(1000))"
   ]
  },
  {
   "cell_type": "code",
   "execution_count": 53,
   "id": "ebf5c2b5-7303-4d22-9006-4d1901de0011",
   "metadata": {},
   "outputs": [],
   "source": [
    "ser = ser[::2]"
   ]
  },
  {
   "cell_type": "code",
   "execution_count": 54,
   "id": "7029b2ca-8250-4ce1-8914-d95534651313",
   "metadata": {},
   "outputs": [
    {
     "data": {
      "text/plain": [
       "count    500.000000\n",
       "mean       0.023409\n",
       "std        0.998627\n",
       "min       -3.790956\n",
       "25%       -0.615364\n",
       "50%        0.053393\n",
       "75%        0.655347\n",
       "max        4.098017\n",
       "dtype: float64"
      ]
     },
     "execution_count": 54,
     "metadata": {},
     "output_type": "execute_result"
    }
   ],
   "source": [
    "ser.describe()"
   ]
  },
  {
   "cell_type": "code",
   "execution_count": 81,
   "id": "5b8e8387-b4ac-4629-aadd-a71fdab58034",
   "metadata": {},
   "outputs": [
    {
     "data": {
      "text/html": [
       "<div>\n",
       "<style scoped>\n",
       "    .dataframe tbody tr th:only-of-type {\n",
       "        vertical-align: middle;\n",
       "    }\n",
       "\n",
       "    .dataframe tbody tr th {\n",
       "        vertical-align: top;\n",
       "    }\n",
       "\n",
       "    .dataframe thead th {\n",
       "        text-align: right;\n",
       "    }\n",
       "</style>\n",
       "<table border=\"1\" class=\"dataframe\">\n",
       "  <thead>\n",
       "    <tr style=\"text-align: right;\">\n",
       "      <th></th>\n",
       "      <th>a</th>\n",
       "      <th>b</th>\n",
       "      <th>c</th>\n",
       "      <th>d</th>\n",
       "      <th>e</th>\n",
       "    </tr>\n",
       "  </thead>\n",
       "  <tbody>\n",
       "    <tr>\n",
       "      <th>0</th>\n",
       "      <td>0.327783</td>\n",
       "      <td>2.065493</td>\n",
       "      <td>0.242680</td>\n",
       "      <td>-0.640007</td>\n",
       "      <td>-0.769534</td>\n",
       "    </tr>\n",
       "    <tr>\n",
       "      <th>1</th>\n",
       "      <td>-0.164449</td>\n",
       "      <td>-0.903573</td>\n",
       "      <td>-1.256171</td>\n",
       "      <td>-0.323233</td>\n",
       "      <td>0.798978</td>\n",
       "    </tr>\n",
       "    <tr>\n",
       "      <th>2</th>\n",
       "      <td>-1.910295</td>\n",
       "      <td>-2.761255</td>\n",
       "      <td>-0.773868</td>\n",
       "      <td>0.828245</td>\n",
       "      <td>-0.429529</td>\n",
       "    </tr>\n",
       "    <tr>\n",
       "      <th>3</th>\n",
       "      <td>-0.067286</td>\n",
       "      <td>-0.421269</td>\n",
       "      <td>-0.399826</td>\n",
       "      <td>-0.141985</td>\n",
       "      <td>1.081017</td>\n",
       "    </tr>\n",
       "    <tr>\n",
       "      <th>4</th>\n",
       "      <td>-0.650025</td>\n",
       "      <td>0.761522</td>\n",
       "      <td>-0.656499</td>\n",
       "      <td>0.217339</td>\n",
       "      <td>1.760085</td>\n",
       "    </tr>\n",
       "    <tr>\n",
       "      <th>...</th>\n",
       "      <td>...</td>\n",
       "      <td>...</td>\n",
       "      <td>...</td>\n",
       "      <td>...</td>\n",
       "      <td>...</td>\n",
       "    </tr>\n",
       "    <tr>\n",
       "      <th>995</th>\n",
       "      <td>-1.072560</td>\n",
       "      <td>1.128751</td>\n",
       "      <td>-0.033726</td>\n",
       "      <td>-0.612766</td>\n",
       "      <td>0.208447</td>\n",
       "    </tr>\n",
       "    <tr>\n",
       "      <th>996</th>\n",
       "      <td>0.241751</td>\n",
       "      <td>-0.988915</td>\n",
       "      <td>0.881877</td>\n",
       "      <td>1.138933</td>\n",
       "      <td>0.090346</td>\n",
       "    </tr>\n",
       "    <tr>\n",
       "      <th>997</th>\n",
       "      <td>-0.360404</td>\n",
       "      <td>-1.038404</td>\n",
       "      <td>-1.519500</td>\n",
       "      <td>-2.274600</td>\n",
       "      <td>-0.459918</td>\n",
       "    </tr>\n",
       "    <tr>\n",
       "      <th>998</th>\n",
       "      <td>0.357776</td>\n",
       "      <td>0.717990</td>\n",
       "      <td>-0.086318</td>\n",
       "      <td>-0.664227</td>\n",
       "      <td>0.318632</td>\n",
       "    </tr>\n",
       "    <tr>\n",
       "      <th>999</th>\n",
       "      <td>-0.885713</td>\n",
       "      <td>-0.310424</td>\n",
       "      <td>-0.532757</td>\n",
       "      <td>-0.093758</td>\n",
       "      <td>-1.321046</td>\n",
       "    </tr>\n",
       "  </tbody>\n",
       "</table>\n",
       "<p>1000 rows × 5 columns</p>\n",
       "</div>"
      ],
      "text/plain": [
       "            a         b         c         d         e\n",
       "0    0.327783  2.065493  0.242680 -0.640007 -0.769534\n",
       "1   -0.164449 -0.903573 -1.256171 -0.323233  0.798978\n",
       "2   -1.910295 -2.761255 -0.773868  0.828245 -0.429529\n",
       "3   -0.067286 -0.421269 -0.399826 -0.141985  1.081017\n",
       "4   -0.650025  0.761522 -0.656499  0.217339  1.760085\n",
       "..        ...       ...       ...       ...       ...\n",
       "995 -1.072560  1.128751 -0.033726 -0.612766  0.208447\n",
       "996  0.241751 -0.988915  0.881877  1.138933  0.090346\n",
       "997 -0.360404 -1.038404 -1.519500 -2.274600 -0.459918\n",
       "998  0.357776  0.717990 -0.086318 -0.664227  0.318632\n",
       "999 -0.885713 -0.310424 -0.532757 -0.093758 -1.321046\n",
       "\n",
       "[1000 rows x 5 columns]"
      ]
     },
     "execution_count": 81,
     "metadata": {},
     "output_type": "execute_result"
    }
   ],
   "source": [
    "frame = pd.DataFrame(np.random.randn(1000, 5), columns=['a', 'b', 'c', 'd', 'e'])\n",
    "frame"
   ]
  },
  {
   "cell_type": "code",
   "execution_count": 82,
   "id": "f1d70877-afdb-4511-862e-f233e27b9a6a",
   "metadata": {},
   "outputs": [
    {
     "data": {
      "text/html": [
       "<div>\n",
       "<style scoped>\n",
       "    .dataframe tbody tr th:only-of-type {\n",
       "        vertical-align: middle;\n",
       "    }\n",
       "\n",
       "    .dataframe tbody tr th {\n",
       "        vertical-align: top;\n",
       "    }\n",
       "\n",
       "    .dataframe thead th {\n",
       "        text-align: right;\n",
       "    }\n",
       "</style>\n",
       "<table border=\"1\" class=\"dataframe\">\n",
       "  <thead>\n",
       "    <tr style=\"text-align: right;\">\n",
       "      <th></th>\n",
       "      <th>a</th>\n",
       "      <th>b</th>\n",
       "      <th>c</th>\n",
       "      <th>d</th>\n",
       "      <th>e</th>\n",
       "    </tr>\n",
       "  </thead>\n",
       "  <tbody>\n",
       "    <tr>\n",
       "      <th>0</th>\n",
       "      <td>NaN</td>\n",
       "      <td>NaN</td>\n",
       "      <td>NaN</td>\n",
       "      <td>NaN</td>\n",
       "      <td>NaN</td>\n",
       "    </tr>\n",
       "    <tr>\n",
       "      <th>1</th>\n",
       "      <td>-0.164449</td>\n",
       "      <td>-0.903573</td>\n",
       "      <td>-1.256171</td>\n",
       "      <td>-0.323233</td>\n",
       "      <td>0.798978</td>\n",
       "    </tr>\n",
       "    <tr>\n",
       "      <th>2</th>\n",
       "      <td>NaN</td>\n",
       "      <td>NaN</td>\n",
       "      <td>NaN</td>\n",
       "      <td>NaN</td>\n",
       "      <td>NaN</td>\n",
       "    </tr>\n",
       "    <tr>\n",
       "      <th>3</th>\n",
       "      <td>-0.067286</td>\n",
       "      <td>-0.421269</td>\n",
       "      <td>-0.399826</td>\n",
       "      <td>-0.141985</td>\n",
       "      <td>1.081017</td>\n",
       "    </tr>\n",
       "    <tr>\n",
       "      <th>4</th>\n",
       "      <td>NaN</td>\n",
       "      <td>NaN</td>\n",
       "      <td>NaN</td>\n",
       "      <td>NaN</td>\n",
       "      <td>NaN</td>\n",
       "    </tr>\n",
       "    <tr>\n",
       "      <th>...</th>\n",
       "      <td>...</td>\n",
       "      <td>...</td>\n",
       "      <td>...</td>\n",
       "      <td>...</td>\n",
       "      <td>...</td>\n",
       "    </tr>\n",
       "    <tr>\n",
       "      <th>995</th>\n",
       "      <td>-1.072560</td>\n",
       "      <td>1.128751</td>\n",
       "      <td>-0.033726</td>\n",
       "      <td>-0.612766</td>\n",
       "      <td>0.208447</td>\n",
       "    </tr>\n",
       "    <tr>\n",
       "      <th>996</th>\n",
       "      <td>NaN</td>\n",
       "      <td>NaN</td>\n",
       "      <td>NaN</td>\n",
       "      <td>NaN</td>\n",
       "      <td>NaN</td>\n",
       "    </tr>\n",
       "    <tr>\n",
       "      <th>997</th>\n",
       "      <td>-0.360404</td>\n",
       "      <td>-1.038404</td>\n",
       "      <td>-1.519500</td>\n",
       "      <td>-2.274600</td>\n",
       "      <td>-0.459918</td>\n",
       "    </tr>\n",
       "    <tr>\n",
       "      <th>998</th>\n",
       "      <td>NaN</td>\n",
       "      <td>NaN</td>\n",
       "      <td>NaN</td>\n",
       "      <td>NaN</td>\n",
       "      <td>NaN</td>\n",
       "    </tr>\n",
       "    <tr>\n",
       "      <th>999</th>\n",
       "      <td>-0.885713</td>\n",
       "      <td>-0.310424</td>\n",
       "      <td>-0.532757</td>\n",
       "      <td>-0.093758</td>\n",
       "      <td>-1.321046</td>\n",
       "    </tr>\n",
       "  </tbody>\n",
       "</table>\n",
       "<p>1000 rows × 5 columns</p>\n",
       "</div>"
      ],
      "text/plain": [
       "            a         b         c         d         e\n",
       "0         NaN       NaN       NaN       NaN       NaN\n",
       "1   -0.164449 -0.903573 -1.256171 -0.323233  0.798978\n",
       "2         NaN       NaN       NaN       NaN       NaN\n",
       "3   -0.067286 -0.421269 -0.399826 -0.141985  1.081017\n",
       "4         NaN       NaN       NaN       NaN       NaN\n",
       "..        ...       ...       ...       ...       ...\n",
       "995 -1.072560  1.128751 -0.033726 -0.612766  0.208447\n",
       "996       NaN       NaN       NaN       NaN       NaN\n",
       "997 -0.360404 -1.038404 -1.519500 -2.274600 -0.459918\n",
       "998       NaN       NaN       NaN       NaN       NaN\n",
       "999 -0.885713 -0.310424 -0.532757 -0.093758 -1.321046\n",
       "\n",
       "[1000 rows x 5 columns]"
      ]
     },
     "execution_count": 82,
     "metadata": {},
     "output_type": "execute_result"
    }
   ],
   "source": [
    "frame.iloc[::2] = np.nan\n",
    "frame"
   ]
  },
  {
   "cell_type": "code",
   "execution_count": 83,
   "id": "ae985574-0c2e-4f37-b973-91f5f2f9783d",
   "metadata": {},
   "outputs": [
    {
     "data": {
      "text/html": [
       "<div>\n",
       "<style scoped>\n",
       "    .dataframe tbody tr th:only-of-type {\n",
       "        vertical-align: middle;\n",
       "    }\n",
       "\n",
       "    .dataframe tbody tr th {\n",
       "        vertical-align: top;\n",
       "    }\n",
       "\n",
       "    .dataframe thead th {\n",
       "        text-align: right;\n",
       "    }\n",
       "</style>\n",
       "<table border=\"1\" class=\"dataframe\">\n",
       "  <thead>\n",
       "    <tr style=\"text-align: right;\">\n",
       "      <th></th>\n",
       "      <th>a</th>\n",
       "      <th>b</th>\n",
       "      <th>c</th>\n",
       "      <th>d</th>\n",
       "      <th>e</th>\n",
       "    </tr>\n",
       "  </thead>\n",
       "  <tbody>\n",
       "    <tr>\n",
       "      <th>count</th>\n",
       "      <td>500.000000</td>\n",
       "      <td>500.000000</td>\n",
       "      <td>500.000000</td>\n",
       "      <td>500.000000</td>\n",
       "      <td>500.000000</td>\n",
       "    </tr>\n",
       "    <tr>\n",
       "      <th>mean</th>\n",
       "      <td>-0.047574</td>\n",
       "      <td>0.037240</td>\n",
       "      <td>0.070558</td>\n",
       "      <td>-0.063887</td>\n",
       "      <td>0.031079</td>\n",
       "    </tr>\n",
       "    <tr>\n",
       "      <th>std</th>\n",
       "      <td>0.984716</td>\n",
       "      <td>1.019264</td>\n",
       "      <td>0.992142</td>\n",
       "      <td>1.008691</td>\n",
       "      <td>1.028068</td>\n",
       "    </tr>\n",
       "    <tr>\n",
       "      <th>min</th>\n",
       "      <td>-2.881592</td>\n",
       "      <td>-2.999257</td>\n",
       "      <td>-2.656253</td>\n",
       "      <td>-2.650771</td>\n",
       "      <td>-3.096010</td>\n",
       "    </tr>\n",
       "    <tr>\n",
       "      <th>25%</th>\n",
       "      <td>-0.718982</td>\n",
       "      <td>-0.618710</td>\n",
       "      <td>-0.568646</td>\n",
       "      <td>-0.818632</td>\n",
       "      <td>-0.636589</td>\n",
       "    </tr>\n",
       "    <tr>\n",
       "      <th>50%</th>\n",
       "      <td>-0.076383</td>\n",
       "      <td>0.027136</td>\n",
       "      <td>0.063906</td>\n",
       "      <td>-0.109400</td>\n",
       "      <td>0.086686</td>\n",
       "    </tr>\n",
       "    <tr>\n",
       "      <th>75%</th>\n",
       "      <td>0.606132</td>\n",
       "      <td>0.672818</td>\n",
       "      <td>0.793101</td>\n",
       "      <td>0.676393</td>\n",
       "      <td>0.696996</td>\n",
       "    </tr>\n",
       "    <tr>\n",
       "      <th>max</th>\n",
       "      <td>2.827577</td>\n",
       "      <td>3.718741</td>\n",
       "      <td>2.774847</td>\n",
       "      <td>2.776180</td>\n",
       "      <td>2.750195</td>\n",
       "    </tr>\n",
       "  </tbody>\n",
       "</table>\n",
       "</div>"
      ],
      "text/plain": [
       "                a           b           c           d           e\n",
       "count  500.000000  500.000000  500.000000  500.000000  500.000000\n",
       "mean    -0.047574    0.037240    0.070558   -0.063887    0.031079\n",
       "std      0.984716    1.019264    0.992142    1.008691    1.028068\n",
       "min     -2.881592   -2.999257   -2.656253   -2.650771   -3.096010\n",
       "25%     -0.718982   -0.618710   -0.568646   -0.818632   -0.636589\n",
       "50%     -0.076383    0.027136    0.063906   -0.109400    0.086686\n",
       "75%      0.606132    0.672818    0.793101    0.676393    0.696996\n",
       "max      2.827577    3.718741    2.774847    2.776180    2.750195"
      ]
     },
     "execution_count": 83,
     "metadata": {},
     "output_type": "execute_result"
    }
   ],
   "source": [
    "frame.describe()"
   ]
  },
  {
   "cell_type": "code",
   "execution_count": 84,
   "id": "5177d8cf-11a9-4c2b-8b59-94bab1b073ef",
   "metadata": {},
   "outputs": [],
   "source": [
    "s = pd.Series(['a', 'a', 'b', 'b', 'a', 'a', np.nan, 'c', 'd', 'a'])"
   ]
  },
  {
   "cell_type": "code",
   "execution_count": 85,
   "id": "7ab70a36-8953-4699-abca-f791f2722180",
   "metadata": {},
   "outputs": [
    {
     "data": {
      "text/plain": [
       "count     9\n",
       "unique    4\n",
       "top       a\n",
       "freq      5\n",
       "dtype: object"
      ]
     },
     "execution_count": 85,
     "metadata": {},
     "output_type": "execute_result"
    }
   ],
   "source": [
    "s.describe()"
   ]
  },
  {
   "cell_type": "code",
   "execution_count": 111,
   "id": "f8c90c28-196a-4319-b265-d0c71c526905",
   "metadata": {},
   "outputs": [
    {
     "data": {
      "text/plain": [
       "0   -0.890723\n",
       "1   -1.630657\n",
       "2   -0.133315\n",
       "3    0.952471\n",
       "4    0.118509\n",
       "dtype: float64"
      ]
     },
     "execution_count": 111,
     "metadata": {},
     "output_type": "execute_result"
    }
   ],
   "source": [
    "s1 = pd.Series(np.random.randn(5))\n",
    "s1"
   ]
  },
  {
   "cell_type": "code",
   "execution_count": 114,
   "id": "e7d4a5ed-d590-4af0-9fd4-3786ef76997a",
   "metadata": {},
   "outputs": [
    {
     "data": {
      "text/plain": [
       "1"
      ]
     },
     "execution_count": 114,
     "metadata": {},
     "output_type": "execute_result"
    }
   ],
   "source": [
    "s1.idxmin()"
   ]
  },
  {
   "cell_type": "code",
   "execution_count": 115,
   "id": "c5b0989b-053b-4bc4-a5d1-a5c40c418788",
   "metadata": {},
   "outputs": [
    {
     "data": {
      "text/plain": [
       "3"
      ]
     },
     "execution_count": 115,
     "metadata": {},
     "output_type": "execute_result"
    }
   ],
   "source": [
    "s1.idxmax()"
   ]
  },
  {
   "cell_type": "code",
   "execution_count": 116,
   "id": "17f84bc3-2646-4dbe-9e37-0e3cadda94b7",
   "metadata": {},
   "outputs": [
    {
     "data": {
      "text/html": [
       "<div>\n",
       "<style scoped>\n",
       "    .dataframe tbody tr th:only-of-type {\n",
       "        vertical-align: middle;\n",
       "    }\n",
       "\n",
       "    .dataframe tbody tr th {\n",
       "        vertical-align: top;\n",
       "    }\n",
       "\n",
       "    .dataframe thead th {\n",
       "        text-align: right;\n",
       "    }\n",
       "</style>\n",
       "<table border=\"1\" class=\"dataframe\">\n",
       "  <thead>\n",
       "    <tr style=\"text-align: right;\">\n",
       "      <th></th>\n",
       "      <th>A</th>\n",
       "      <th>B</th>\n",
       "      <th>C</th>\n",
       "    </tr>\n",
       "  </thead>\n",
       "  <tbody>\n",
       "    <tr>\n",
       "      <th>0</th>\n",
       "      <td>-0.517201</td>\n",
       "      <td>-1.137464</td>\n",
       "      <td>0.048101</td>\n",
       "    </tr>\n",
       "    <tr>\n",
       "      <th>1</th>\n",
       "      <td>-0.369530</td>\n",
       "      <td>0.185130</td>\n",
       "      <td>-0.331872</td>\n",
       "    </tr>\n",
       "    <tr>\n",
       "      <th>2</th>\n",
       "      <td>-0.800129</td>\n",
       "      <td>0.457021</td>\n",
       "      <td>0.721076</td>\n",
       "    </tr>\n",
       "    <tr>\n",
       "      <th>3</th>\n",
       "      <td>-2.229096</td>\n",
       "      <td>0.410158</td>\n",
       "      <td>0.591048</td>\n",
       "    </tr>\n",
       "    <tr>\n",
       "      <th>4</th>\n",
       "      <td>0.404710</td>\n",
       "      <td>0.362658</td>\n",
       "      <td>-0.814133</td>\n",
       "    </tr>\n",
       "  </tbody>\n",
       "</table>\n",
       "</div>"
      ],
      "text/plain": [
       "          A         B         C\n",
       "0 -0.517201 -1.137464  0.048101\n",
       "1 -0.369530  0.185130 -0.331872\n",
       "2 -0.800129  0.457021  0.721076\n",
       "3 -2.229096  0.410158  0.591048\n",
       "4  0.404710  0.362658 -0.814133"
      ]
     },
     "execution_count": 116,
     "metadata": {},
     "output_type": "execute_result"
    }
   ],
   "source": [
    "df1 = pd.DataFrame(np.random.randn(5, 3), columns=['A', 'B', 'C'])\n",
    "df1"
   ]
  },
  {
   "cell_type": "code",
   "execution_count": 117,
   "id": "209bece4-cec7-4a62-9423-d9555797c01b",
   "metadata": {},
   "outputs": [
    {
     "data": {
      "text/plain": [
       "(A    3\n",
       " B    0\n",
       " C    4\n",
       " dtype: int64,\n",
       " A    4\n",
       " B    2\n",
       " C    2\n",
       " dtype: int64)"
      ]
     },
     "execution_count": 117,
     "metadata": {},
     "output_type": "execute_result"
    }
   ],
   "source": [
    "df1.idxmin(axis=0), df1.idxmax(axis=0)"
   ]
  },
  {
   "cell_type": "code",
   "execution_count": 118,
   "id": "35494b36-97c3-4aa8-b1f7-38124ab2b2f2",
   "metadata": {},
   "outputs": [
    {
     "data": {
      "text/plain": [
       "(0    B\n",
       " 1    A\n",
       " 2    A\n",
       " 3    A\n",
       " 4    C\n",
       " dtype: object,\n",
       " 0    C\n",
       " 1    B\n",
       " 2    C\n",
       " 3    C\n",
       " 4    A\n",
       " dtype: object)"
      ]
     },
     "execution_count": 118,
     "metadata": {},
     "output_type": "execute_result"
    }
   ],
   "source": [
    "df1.idxmin(axis=1), df1.idxmax(axis=1)"
   ]
  },
  {
   "cell_type": "code",
   "execution_count": 123,
   "id": "da30901c-97ec-4fbe-8898-bf998a03b27e",
   "metadata": {},
   "outputs": [
    {
     "data": {
      "text/html": [
       "<div>\n",
       "<style scoped>\n",
       "    .dataframe tbody tr th:only-of-type {\n",
       "        vertical-align: middle;\n",
       "    }\n",
       "\n",
       "    .dataframe tbody tr th {\n",
       "        vertical-align: top;\n",
       "    }\n",
       "\n",
       "    .dataframe thead th {\n",
       "        text-align: right;\n",
       "    }\n",
       "</style>\n",
       "<table border=\"1\" class=\"dataframe\">\n",
       "  <thead>\n",
       "    <tr style=\"text-align: right;\">\n",
       "      <th></th>\n",
       "      <th>col_1</th>\n",
       "      <th>col_2</th>\n",
       "    </tr>\n",
       "  </thead>\n",
       "  <tbody>\n",
       "    <tr>\n",
       "      <th>a</th>\n",
       "      <td>-0.214619</td>\n",
       "      <td>-0.854709</td>\n",
       "    </tr>\n",
       "    <tr>\n",
       "      <th>b</th>\n",
       "      <td>-0.367464</td>\n",
       "      <td>-0.295961</td>\n",
       "    </tr>\n",
       "    <tr>\n",
       "      <th>c</th>\n",
       "      <td>0.028763</td>\n",
       "      <td>0.647605</td>\n",
       "    </tr>\n",
       "  </tbody>\n",
       "</table>\n",
       "</div>"
      ],
      "text/plain": [
       "      col_1     col_2\n",
       "a -0.214619 -0.854709\n",
       "b -0.367464 -0.295961\n",
       "c  0.028763  0.647605"
      ]
     },
     "execution_count": 123,
     "metadata": {},
     "output_type": "execute_result"
    }
   ],
   "source": [
    "df = pd.DataFrame({'col_1': np.random.randn(3),\n",
    "                     'col_2': np.random.randn(3)}, index=['a', 'b', 'c'])\n",
    "df"
   ]
  },
  {
   "cell_type": "code",
   "execution_count": 124,
   "id": "414fe382-fa9a-439c-aaa0-b34f897cb682",
   "metadata": {},
   "outputs": [
    {
     "name": "stdout",
     "output_type": "stream",
     "text": [
      "col_1\n",
      "col_2\n"
     ]
    }
   ],
   "source": [
    "for col in df:\n",
    "    print(col)"
   ]
  },
  {
   "cell_type": "code",
   "execution_count": 127,
   "id": "d5e3c847-b216-42f6-ab54-2f537fa103a7",
   "metadata": {},
   "outputs": [
    {
     "name": "stdout",
     "output_type": "stream",
     "text": [
      "a   -0.214619\n",
      "b   -0.367464\n",
      "c    0.028763\n",
      "Name: col_1, dtype: float64\n",
      "a   -0.854709\n",
      "b   -0.295961\n",
      "c    0.647605\n",
      "Name: col_2, dtype: float64\n"
     ]
    }
   ],
   "source": [
    "for col, row in df.items():\n",
    "    print(row)"
   ]
  },
  {
   "cell_type": "code",
   "execution_count": 128,
   "id": "f4ff812f-f9af-4caa-a39b-8135df01950e",
   "metadata": {},
   "outputs": [
    {
     "name": "stdout",
     "output_type": "stream",
     "text": [
      "('a', col_1   -0.214619\n",
      "col_2   -0.854709\n",
      "Name: a, dtype: float64)\n",
      "('b', col_1   -0.367464\n",
      "col_2   -0.295961\n",
      "Name: b, dtype: float64)\n",
      "('c', col_1    0.028763\n",
      "col_2    0.647605\n",
      "Name: c, dtype: float64)\n"
     ]
    }
   ],
   "source": [
    "for row in df.iterrows():\n",
    "    print(row)"
   ]
  },
  {
   "cell_type": "code",
   "execution_count": 130,
   "id": "0c3f7dc5-6237-4ad3-bec2-9de58e959222",
   "metadata": {},
   "outputs": [
    {
     "name": "stdout",
     "output_type": "stream",
     "text": [
      "Pandas(Index='a', col_1=-0.21461942523844593, col_2=-0.8547087798100554)\n",
      "Pandas(Index='b', col_1=-0.3674638685401909, col_2=-0.2959608507815676)\n",
      "Pandas(Index='c', col_1=0.028762863183936456, col_2=0.6476047038371452)\n"
     ]
    }
   ],
   "source": [
    "for t in df.itertuples():\n",
    "    print(t)"
   ]
  },
  {
   "cell_type": "code",
   "execution_count": null,
   "id": "2661c789-a139-463a-b716-44678ed4d31e",
   "metadata": {},
   "outputs": [],
   "source": []
  }
 ],
 "metadata": {
  "kernelspec": {
   "display_name": "regular",
   "language": "python",
   "name": "regular"
  },
  "language_info": {
   "codemirror_mode": {
    "name": "ipython",
    "version": 3
   },
   "file_extension": ".py",
   "mimetype": "text/x-python",
   "name": "python",
   "nbconvert_exporter": "python",
   "pygments_lexer": "ipython3",
   "version": "3.9.12"
  }
 },
 "nbformat": 4,
 "nbformat_minor": 5
}
