{
 "cells": [
  {
   "cell_type": "code",
   "execution_count": 1,
   "outputs": [],
   "source": [
    "# https://www.datacamp.com/tutorial/recommender-systems-python"
   ],
   "metadata": {
    "collapsed": false,
    "pycharm": {
     "name": "#%%\n"
    }
   }
  },
  {
   "cell_type": "code",
   "execution_count": 2,
   "outputs": [],
   "source": [
    "import pandas as pd\n",
    "import matplotlib.pyplot as plt"
   ],
   "metadata": {
    "collapsed": false,
    "pycharm": {
     "name": "#%%\n"
    }
   }
  },
  {
   "cell_type": "code",
   "execution_count": 3,
   "outputs": [],
   "source": [
    "fname = 'data/archive/movies_metadata.csv'"
   ],
   "metadata": {
    "collapsed": false,
    "pycharm": {
     "name": "#%%\n"
    }
   }
  },
  {
   "cell_type": "code",
   "execution_count": 4,
   "outputs": [],
   "source": [
    "metadata = pd.read_csv(fname, low_memory=False)"
   ],
   "metadata": {
    "collapsed": false,
    "pycharm": {
     "name": "#%%\n"
    }
   }
  },
  {
   "cell_type": "code",
   "execution_count": 5,
   "outputs": [
    {
     "data": {
      "text/plain": "   adult                              belongs_to_collection    budget  \\\n0  False  {'id': 10194, 'name': 'Toy Story Collection', ...  30000000   \n1  False                                                NaN  65000000   \n2  False  {'id': 119050, 'name': 'Grumpy Old Men Collect...         0   \n3  False                                                NaN  16000000   \n4  False  {'id': 96871, 'name': 'Father of the Bride Col...         0   \n5  False                                                NaN  60000000   \n6  False                                                NaN  58000000   \n7  False                                                NaN         0   \n8  False                                                NaN  35000000   \n9  False  {'id': 645, 'name': 'James Bond Collection', '...  58000000   \n\n                                              genres  \\\n0  [{'id': 16, 'name': 'Animation'}, {'id': 35, '...   \n1  [{'id': 12, 'name': 'Adventure'}, {'id': 14, '...   \n2  [{'id': 10749, 'name': 'Romance'}, {'id': 35, ...   \n3  [{'id': 35, 'name': 'Comedy'}, {'id': 18, 'nam...   \n4                     [{'id': 35, 'name': 'Comedy'}]   \n5  [{'id': 28, 'name': 'Action'}, {'id': 80, 'nam...   \n6  [{'id': 35, 'name': 'Comedy'}, {'id': 10749, '...   \n7  [{'id': 28, 'name': 'Action'}, {'id': 12, 'nam...   \n8  [{'id': 28, 'name': 'Action'}, {'id': 12, 'nam...   \n9  [{'id': 12, 'name': 'Adventure'}, {'id': 28, '...   \n\n                                       homepage     id    imdb_id  \\\n0          http://toystory.disney.com/toy-story    862  tt0114709   \n1                                           NaN   8844  tt0113497   \n2                                           NaN  15602  tt0113228   \n3                                           NaN  31357  tt0114885   \n4                                           NaN  11862  tt0113041   \n5                                           NaN    949  tt0113277   \n6                                           NaN  11860  tt0114319   \n7                                           NaN  45325  tt0112302   \n8                                           NaN   9091  tt0114576   \n9  http://www.mgm.com/view/movie/757/Goldeneye/    710  tt0113189   \n\n  original_language               original_title  \\\n0                en                    Toy Story   \n1                en                      Jumanji   \n2                en             Grumpier Old Men   \n3                en            Waiting to Exhale   \n4                en  Father of the Bride Part II   \n5                en                         Heat   \n6                en                      Sabrina   \n7                en                 Tom and Huck   \n8                en                 Sudden Death   \n9                en                    GoldenEye   \n\n                                            overview  ... release_date  \\\n0  Led by Woody, Andy's toys live happily in his ...  ...   1995-10-30   \n1  When siblings Judy and Peter discover an encha...  ...   1995-12-15   \n2  A family wedding reignites the ancient feud be...  ...   1995-12-22   \n3  Cheated on, mistreated and stepped on, the wom...  ...   1995-12-22   \n4  Just when George Banks has recovered from his ...  ...   1995-02-10   \n5  Obsessive master thief, Neil McCauley leads a ...  ...   1995-12-15   \n6  An ugly duckling having undergone a remarkable...  ...   1995-12-15   \n7  A mischievous young boy, Tom Sawyer, witnesses...  ...   1995-12-22   \n8  International action superstar Jean Claude Van...  ...   1995-12-22   \n9  James Bond must unmask the mysterious head of ...  ...   1995-11-16   \n\n       revenue runtime                                   spoken_languages  \\\n0  373554033.0    81.0           [{'iso_639_1': 'en', 'name': 'English'}]   \n1  262797249.0   104.0  [{'iso_639_1': 'en', 'name': 'English'}, {'iso...   \n2          0.0   101.0           [{'iso_639_1': 'en', 'name': 'English'}]   \n3   81452156.0   127.0           [{'iso_639_1': 'en', 'name': 'English'}]   \n4   76578911.0   106.0           [{'iso_639_1': 'en', 'name': 'English'}]   \n5  187436818.0   170.0  [{'iso_639_1': 'en', 'name': 'English'}, {'iso...   \n6          0.0   127.0  [{'iso_639_1': 'fr', 'name': 'Français'}, {'is...   \n7          0.0    97.0  [{'iso_639_1': 'en', 'name': 'English'}, {'iso...   \n8   64350171.0   106.0           [{'iso_639_1': 'en', 'name': 'English'}]   \n9  352194034.0   130.0  [{'iso_639_1': 'en', 'name': 'English'}, {'iso...   \n\n     status                                            tagline  \\\n0  Released                                                NaN   \n1  Released          Roll the dice and unleash the excitement!   \n2  Released  Still Yelling. Still Fighting. Still Ready for...   \n3  Released  Friends are the people who let you be yourself...   \n4  Released  Just When His World Is Back To Normal... He's ...   \n5  Released                           A Los Angeles Crime Saga   \n6  Released  You are cordially invited to the most surprisi...   \n7  Released                             The Original Bad Boys.   \n8  Released                         Terror goes into overtime.   \n9  Released               No limits. No fears. No substitutes.   \n\n                         title  video vote_average vote_count  \n0                    Toy Story  False          7.7     5415.0  \n1                      Jumanji  False          6.9     2413.0  \n2             Grumpier Old Men  False          6.5       92.0  \n3            Waiting to Exhale  False          6.1       34.0  \n4  Father of the Bride Part II  False          5.7      173.0  \n5                         Heat  False          7.7     1886.0  \n6                      Sabrina  False          6.2      141.0  \n7                 Tom and Huck  False          5.4       45.0  \n8                 Sudden Death  False          5.5      174.0  \n9                    GoldenEye  False          6.6     1194.0  \n\n[10 rows x 24 columns]",
      "text/html": "<div>\n<style scoped>\n    .dataframe tbody tr th:only-of-type {\n        vertical-align: middle;\n    }\n\n    .dataframe tbody tr th {\n        vertical-align: top;\n    }\n\n    .dataframe thead th {\n        text-align: right;\n    }\n</style>\n<table border=\"1\" class=\"dataframe\">\n  <thead>\n    <tr style=\"text-align: right;\">\n      <th></th>\n      <th>adult</th>\n      <th>belongs_to_collection</th>\n      <th>budget</th>\n      <th>genres</th>\n      <th>homepage</th>\n      <th>id</th>\n      <th>imdb_id</th>\n      <th>original_language</th>\n      <th>original_title</th>\n      <th>overview</th>\n      <th>...</th>\n      <th>release_date</th>\n      <th>revenue</th>\n      <th>runtime</th>\n      <th>spoken_languages</th>\n      <th>status</th>\n      <th>tagline</th>\n      <th>title</th>\n      <th>video</th>\n      <th>vote_average</th>\n      <th>vote_count</th>\n    </tr>\n  </thead>\n  <tbody>\n    <tr>\n      <th>0</th>\n      <td>False</td>\n      <td>{'id': 10194, 'name': 'Toy Story Collection', ...</td>\n      <td>30000000</td>\n      <td>[{'id': 16, 'name': 'Animation'}, {'id': 35, '...</td>\n      <td>http://toystory.disney.com/toy-story</td>\n      <td>862</td>\n      <td>tt0114709</td>\n      <td>en</td>\n      <td>Toy Story</td>\n      <td>Led by Woody, Andy's toys live happily in his ...</td>\n      <td>...</td>\n      <td>1995-10-30</td>\n      <td>373554033.0</td>\n      <td>81.0</td>\n      <td>[{'iso_639_1': 'en', 'name': 'English'}]</td>\n      <td>Released</td>\n      <td>NaN</td>\n      <td>Toy Story</td>\n      <td>False</td>\n      <td>7.7</td>\n      <td>5415.0</td>\n    </tr>\n    <tr>\n      <th>1</th>\n      <td>False</td>\n      <td>NaN</td>\n      <td>65000000</td>\n      <td>[{'id': 12, 'name': 'Adventure'}, {'id': 14, '...</td>\n      <td>NaN</td>\n      <td>8844</td>\n      <td>tt0113497</td>\n      <td>en</td>\n      <td>Jumanji</td>\n      <td>When siblings Judy and Peter discover an encha...</td>\n      <td>...</td>\n      <td>1995-12-15</td>\n      <td>262797249.0</td>\n      <td>104.0</td>\n      <td>[{'iso_639_1': 'en', 'name': 'English'}, {'iso...</td>\n      <td>Released</td>\n      <td>Roll the dice and unleash the excitement!</td>\n      <td>Jumanji</td>\n      <td>False</td>\n      <td>6.9</td>\n      <td>2413.0</td>\n    </tr>\n    <tr>\n      <th>2</th>\n      <td>False</td>\n      <td>{'id': 119050, 'name': 'Grumpy Old Men Collect...</td>\n      <td>0</td>\n      <td>[{'id': 10749, 'name': 'Romance'}, {'id': 35, ...</td>\n      <td>NaN</td>\n      <td>15602</td>\n      <td>tt0113228</td>\n      <td>en</td>\n      <td>Grumpier Old Men</td>\n      <td>A family wedding reignites the ancient feud be...</td>\n      <td>...</td>\n      <td>1995-12-22</td>\n      <td>0.0</td>\n      <td>101.0</td>\n      <td>[{'iso_639_1': 'en', 'name': 'English'}]</td>\n      <td>Released</td>\n      <td>Still Yelling. Still Fighting. Still Ready for...</td>\n      <td>Grumpier Old Men</td>\n      <td>False</td>\n      <td>6.5</td>\n      <td>92.0</td>\n    </tr>\n    <tr>\n      <th>3</th>\n      <td>False</td>\n      <td>NaN</td>\n      <td>16000000</td>\n      <td>[{'id': 35, 'name': 'Comedy'}, {'id': 18, 'nam...</td>\n      <td>NaN</td>\n      <td>31357</td>\n      <td>tt0114885</td>\n      <td>en</td>\n      <td>Waiting to Exhale</td>\n      <td>Cheated on, mistreated and stepped on, the wom...</td>\n      <td>...</td>\n      <td>1995-12-22</td>\n      <td>81452156.0</td>\n      <td>127.0</td>\n      <td>[{'iso_639_1': 'en', 'name': 'English'}]</td>\n      <td>Released</td>\n      <td>Friends are the people who let you be yourself...</td>\n      <td>Waiting to Exhale</td>\n      <td>False</td>\n      <td>6.1</td>\n      <td>34.0</td>\n    </tr>\n    <tr>\n      <th>4</th>\n      <td>False</td>\n      <td>{'id': 96871, 'name': 'Father of the Bride Col...</td>\n      <td>0</td>\n      <td>[{'id': 35, 'name': 'Comedy'}]</td>\n      <td>NaN</td>\n      <td>11862</td>\n      <td>tt0113041</td>\n      <td>en</td>\n      <td>Father of the Bride Part II</td>\n      <td>Just when George Banks has recovered from his ...</td>\n      <td>...</td>\n      <td>1995-02-10</td>\n      <td>76578911.0</td>\n      <td>106.0</td>\n      <td>[{'iso_639_1': 'en', 'name': 'English'}]</td>\n      <td>Released</td>\n      <td>Just When His World Is Back To Normal... He's ...</td>\n      <td>Father of the Bride Part II</td>\n      <td>False</td>\n      <td>5.7</td>\n      <td>173.0</td>\n    </tr>\n    <tr>\n      <th>5</th>\n      <td>False</td>\n      <td>NaN</td>\n      <td>60000000</td>\n      <td>[{'id': 28, 'name': 'Action'}, {'id': 80, 'nam...</td>\n      <td>NaN</td>\n      <td>949</td>\n      <td>tt0113277</td>\n      <td>en</td>\n      <td>Heat</td>\n      <td>Obsessive master thief, Neil McCauley leads a ...</td>\n      <td>...</td>\n      <td>1995-12-15</td>\n      <td>187436818.0</td>\n      <td>170.0</td>\n      <td>[{'iso_639_1': 'en', 'name': 'English'}, {'iso...</td>\n      <td>Released</td>\n      <td>A Los Angeles Crime Saga</td>\n      <td>Heat</td>\n      <td>False</td>\n      <td>7.7</td>\n      <td>1886.0</td>\n    </tr>\n    <tr>\n      <th>6</th>\n      <td>False</td>\n      <td>NaN</td>\n      <td>58000000</td>\n      <td>[{'id': 35, 'name': 'Comedy'}, {'id': 10749, '...</td>\n      <td>NaN</td>\n      <td>11860</td>\n      <td>tt0114319</td>\n      <td>en</td>\n      <td>Sabrina</td>\n      <td>An ugly duckling having undergone a remarkable...</td>\n      <td>...</td>\n      <td>1995-12-15</td>\n      <td>0.0</td>\n      <td>127.0</td>\n      <td>[{'iso_639_1': 'fr', 'name': 'Français'}, {'is...</td>\n      <td>Released</td>\n      <td>You are cordially invited to the most surprisi...</td>\n      <td>Sabrina</td>\n      <td>False</td>\n      <td>6.2</td>\n      <td>141.0</td>\n    </tr>\n    <tr>\n      <th>7</th>\n      <td>False</td>\n      <td>NaN</td>\n      <td>0</td>\n      <td>[{'id': 28, 'name': 'Action'}, {'id': 12, 'nam...</td>\n      <td>NaN</td>\n      <td>45325</td>\n      <td>tt0112302</td>\n      <td>en</td>\n      <td>Tom and Huck</td>\n      <td>A mischievous young boy, Tom Sawyer, witnesses...</td>\n      <td>...</td>\n      <td>1995-12-22</td>\n      <td>0.0</td>\n      <td>97.0</td>\n      <td>[{'iso_639_1': 'en', 'name': 'English'}, {'iso...</td>\n      <td>Released</td>\n      <td>The Original Bad Boys.</td>\n      <td>Tom and Huck</td>\n      <td>False</td>\n      <td>5.4</td>\n      <td>45.0</td>\n    </tr>\n    <tr>\n      <th>8</th>\n      <td>False</td>\n      <td>NaN</td>\n      <td>35000000</td>\n      <td>[{'id': 28, 'name': 'Action'}, {'id': 12, 'nam...</td>\n      <td>NaN</td>\n      <td>9091</td>\n      <td>tt0114576</td>\n      <td>en</td>\n      <td>Sudden Death</td>\n      <td>International action superstar Jean Claude Van...</td>\n      <td>...</td>\n      <td>1995-12-22</td>\n      <td>64350171.0</td>\n      <td>106.0</td>\n      <td>[{'iso_639_1': 'en', 'name': 'English'}]</td>\n      <td>Released</td>\n      <td>Terror goes into overtime.</td>\n      <td>Sudden Death</td>\n      <td>False</td>\n      <td>5.5</td>\n      <td>174.0</td>\n    </tr>\n    <tr>\n      <th>9</th>\n      <td>False</td>\n      <td>{'id': 645, 'name': 'James Bond Collection', '...</td>\n      <td>58000000</td>\n      <td>[{'id': 12, 'name': 'Adventure'}, {'id': 28, '...</td>\n      <td>http://www.mgm.com/view/movie/757/Goldeneye/</td>\n      <td>710</td>\n      <td>tt0113189</td>\n      <td>en</td>\n      <td>GoldenEye</td>\n      <td>James Bond must unmask the mysterious head of ...</td>\n      <td>...</td>\n      <td>1995-11-16</td>\n      <td>352194034.0</td>\n      <td>130.0</td>\n      <td>[{'iso_639_1': 'en', 'name': 'English'}, {'iso...</td>\n      <td>Released</td>\n      <td>No limits. No fears. No substitutes.</td>\n      <td>GoldenEye</td>\n      <td>False</td>\n      <td>6.6</td>\n      <td>1194.0</td>\n    </tr>\n  </tbody>\n</table>\n<p>10 rows × 24 columns</p>\n</div>"
     },
     "execution_count": 5,
     "metadata": {},
     "output_type": "execute_result"
    }
   ],
   "source": [
    "metadata.head(10)"
   ],
   "metadata": {
    "collapsed": false,
    "pycharm": {
     "name": "#%%\n"
    }
   }
  },
  {
   "cell_type": "code",
   "execution_count": 6,
   "outputs": [],
   "source": [
    "C = metadata['vote_average'].mean()"
   ],
   "metadata": {
    "collapsed": false,
    "pycharm": {
     "name": "#%%\n"
    }
   }
  },
  {
   "cell_type": "code",
   "execution_count": 7,
   "outputs": [
    {
     "name": "stdout",
     "output_type": "stream",
     "text": [
      "160.0\n"
     ]
    }
   ],
   "source": [
    "# Calculate the minimum number of votes required to be in the chart, m\n",
    "m = metadata['vote_count'].quantile(0.90)\n",
    "print(m)"
   ],
   "metadata": {
    "collapsed": false,
    "pycharm": {
     "name": "#%%\n"
    }
   }
  },
  {
   "cell_type": "code",
   "execution_count": 8,
   "outputs": [
    {
     "data": {
      "text/plain": "(0.0, 200.0)"
     },
     "execution_count": 8,
     "metadata": {},
     "output_type": "execute_result"
    },
    {
     "data": {
      "text/plain": "<Figure size 1008x576 with 1 Axes>",
      "image/png": "[encoded data removed]"
     },
     "metadata": {
      "needs_background": "light"
     },
     "output_type": "display_data"
    }
   ],
   "source": [
    "plt.figure(figsize=(14, 8))\n",
    "metadata['vote_count'].hist(bins=2000)\n",
    "plt.xlim(0, 200)"
   ],
   "metadata": {
    "collapsed": false,
    "pycharm": {
     "name": "#%%\n"
    }
   }
  },
  {
   "cell_type": "code",
   "execution_count": 9,
   "outputs": [
    {
     "data": {
      "text/plain": "(4555, 24)"
     },
     "execution_count": 9,
     "metadata": {},
     "output_type": "execute_result"
    }
   ],
   "source": [
    "# Filter out all qualified movies into a new DataFrame\n",
    "q_movies = metadata.copy().loc[metadata['vote_count'] >= m]\n",
    "q_movies.shape"
   ],
   "metadata": {
    "collapsed": false,
    "pycharm": {
     "name": "#%%\n"
    }
   }
  },
  {
   "cell_type": "code",
   "execution_count": 10,
   "outputs": [
    {
     "data": {
      "text/plain": "(45466, 24)"
     },
     "execution_count": 10,
     "metadata": {},
     "output_type": "execute_result"
    }
   ],
   "source": [
    "metadata.shape"
   ],
   "metadata": {
    "collapsed": false,
    "pycharm": {
     "name": "#%%\n"
    }
   }
  },
  {
   "cell_type": "code",
   "execution_count": 11,
   "outputs": [],
   "source": [
    "# Function that computes the weighted rating of each movie\n",
    "def weighted_rating(x, m=m, C=C):\n",
    "    v = x['vote_count']\n",
    "    R = x['vote_average']\n",
    "    # Calculation based on the IMDB formula\n",
    "    return (v/(v+m) * R) + (m/(m+v) * C)"
   ],
   "metadata": {
    "collapsed": false,
    "pycharm": {
     "name": "#%%\n"
    }
   }
  },
  {
   "cell_type": "code",
   "execution_count": 12,
   "outputs": [],
   "source": [
    "# Define a new feature 'score' and calculate its value with `weighted_rating()`\n",
    "q_movies['score'] = q_movies.apply(weighted_rating, axis=1)"
   ],
   "metadata": {
    "collapsed": false,
    "pycharm": {
     "name": "#%%\n"
    }
   }
  },
  {
   "cell_type": "code",
   "execution_count": 13,
   "outputs": [
    {
     "data": {
      "text/plain": "                                 title  vote_count  vote_average     score\n314           The Shawshank Redemption      8358.0           8.5  8.445869\n834                      The Godfather      6024.0           8.5  8.425439\n10309      Dilwale Dulhania Le Jayenge       661.0           9.1  8.421453\n12481                  The Dark Knight     12269.0           8.3  8.265477\n2843                        Fight Club      9678.0           8.3  8.256385\n292                       Pulp Fiction      8670.0           8.3  8.251406\n522                   Schindler's List      4436.0           8.3  8.206639\n23673                         Whiplash      4376.0           8.3  8.205404\n5481                     Spirited Away      3968.0           8.3  8.196055\n2211                 Life Is Beautiful      3643.0           8.3  8.187171\n1178            The Godfather: Part II      3418.0           8.3  8.180076\n1152   One Flew Over the Cuckoo's Nest      3001.0           8.3  8.164256\n351                       Forrest Gump      8147.0           8.2  8.150272\n1154           The Empire Strikes Back      5998.0           8.2  8.132919\n1176                            Psycho      2405.0           8.3  8.132715\n18465                 The Intouchables      5410.0           8.2  8.125837\n40251                       Your Name.      1030.0           8.5  8.112532\n289             Leon: The Professional      4293.0           8.2  8.107234\n3030                    The Green Mile      4166.0           8.2  8.104511\n1170                        GoodFellas      3211.0           8.2  8.077459",
      "text/html": "<div>\n<style scoped>\n    .dataframe tbody tr th:only-of-type {\n        vertical-align: middle;\n    }\n\n    .dataframe tbody tr th {\n        vertical-align: top;\n    }\n\n    .dataframe thead th {\n        text-align: right;\n    }\n</style>\n<table border=\"1\" class=\"dataframe\">\n  <thead>\n    <tr style=\"text-align: right;\">\n      <th></th>\n      <th>title</th>\n      <th>vote_count</th>\n      <th>vote_average</th>\n      <th>score</th>\n    </tr>\n  </thead>\n  <tbody>\n    <tr>\n      <th>314</th>\n      <td>The Shawshank Redemption</td>\n      <td>8358.0</td>\n      <td>8.5</td>\n      <td>8.445869</td>\n    </tr>\n    <tr>\n      <th>834</th>\n      <td>The Godfather</td>\n      <td>6024.0</td>\n      <td>8.5</td>\n      <td>8.425439</td>\n    </tr>\n    <tr>\n      <th>10309</th>\n      <td>Dilwale Dulhania Le Jayenge</td>\n      <td>661.0</td>\n      <td>9.1</td>\n      <td>8.421453</td>\n    </tr>\n    <tr>\n      <th>12481</th>\n      <td>The Dark Knight</td>\n      <td>12269.0</td>\n      <td>8.3</td>\n      <td>8.265477</td>\n    </tr>\n    <tr>\n      <th>2843</th>\n      <td>Fight Club</td>\n      <td>9678.0</td>\n      <td>8.3</td>\n      <td>8.256385</td>\n    </tr>\n    <tr>\n      <th>292</th>\n      <td>Pulp Fiction</td>\n      <td>8670.0</td>\n      <td>8.3</td>\n      <td>8.251406</td>\n    </tr>\n    <tr>\n      <th>522</th>\n      <td>Schindler's List</td>\n      <td>4436.0</td>\n      <td>8.3</td>\n      <td>8.206639</td>\n    </tr>\n    <tr>\n      <th>23673</th>\n      <td>Whiplash</td>\n      <td>4376.0</td>\n      <td>8.3</td>\n      <td>8.205404</td>\n    </tr>\n    <tr>\n      <th>5481</th>\n      <td>Spirited Away</td>\n      <td>3968.0</td>\n      <td>8.3</td>\n      <td>8.196055</td>\n    </tr>\n    <tr>\n      <th>2211</th>\n      <td>Life Is Beautiful</td>\n      <td>3643.0</td>\n      <td>8.3</td>\n      <td>8.187171</td>\n    </tr>\n    <tr>\n      <th>1178</th>\n      <td>The Godfather: Part II</td>\n      <td>3418.0</td>\n      <td>8.3</td>\n      <td>8.180076</td>\n    </tr>\n    <tr>\n      <th>1152</th>\n      <td>One Flew Over the Cuckoo's Nest</td>\n      <td>3001.0</td>\n      <td>8.3</td>\n      <td>8.164256</td>\n    </tr>\n    <tr>\n      <th>351</th>\n      <td>Forrest Gump</td>\n      <td>8147.0</td>\n      <td>8.2</td>\n      <td>8.150272</td>\n    </tr>\n    <tr>\n      <th>1154</th>\n      <td>The Empire Strikes Back</td>\n      <td>5998.0</td>\n      <td>8.2</td>\n      <td>8.132919</td>\n    </tr>\n    <tr>\n      <th>1176</th>\n      <td>Psycho</td>\n      <td>2405.0</td>\n      <td>8.3</td>\n      <td>8.132715</td>\n    </tr>\n    <tr>\n      <th>18465</th>\n      <td>The Intouchables</td>\n      <td>5410.0</td>\n      <td>8.2</td>\n      <td>8.125837</td>\n    </tr>\n    <tr>\n      <th>40251</th>\n      <td>Your Name.</td>\n      <td>1030.0</td>\n      <td>8.5</td>\n      <td>8.112532</td>\n    </tr>\n    <tr>\n      <th>289</th>\n      <td>Leon: The Professional</td>\n      <td>4293.0</td>\n      <td>8.2</td>\n      <td>8.107234</td>\n    </tr>\n    <tr>\n      <th>3030</th>\n      <td>The Green Mile</td>\n      <td>4166.0</td>\n      <td>8.2</td>\n      <td>8.104511</td>\n    </tr>\n    <tr>\n      <th>1170</th>\n      <td>GoodFellas</td>\n      <td>3211.0</td>\n      <td>8.2</td>\n      <td>8.077459</td>\n    </tr>\n  </tbody>\n</table>\n</div>"
     },
     "execution_count": 13,
     "metadata": {},
     "output_type": "execute_result"
    }
   ],
   "source": [
    "#Sort movies based on score calculated above\n",
    "q_movies = q_movies.sort_values('score', ascending=False)\n",
    "\n",
    "#Print the top 15 movies\n",
    "# SIMILAR TO TOP 250 IMDB\n",
    "q_movies[['title', 'vote_count', 'vote_average', 'score']].head(20)"
   ],
   "metadata": {
    "collapsed": false,
    "pycharm": {
     "name": "#%%\n"
    }
   }
  },
  {
   "cell_type": "markdown",
   "source": [
    "## Content-Based Recommender"
   ],
   "metadata": {
    "collapsed": false,
    "pycharm": {
     "name": "#%% md\n"
    }
   }
  },
  {
   "cell_type": "code",
   "execution_count": 14,
   "outputs": [
    {
     "data": {
      "text/plain": "0    Led by Woody, Andy's toys live happily in his ...\n1    When siblings Judy and Peter discover an encha...\n2    A family wedding reignites the ancient feud be...\n3    Cheated on, mistreated and stepped on, the wom...\n4    Just when George Banks has recovered from his ...\nName: overview, dtype: object"
     },
     "execution_count": 14,
     "metadata": {},
     "output_type": "execute_result"
    }
   ],
   "source": [
    "#Print plot overviews of the first 5 movies.\n",
    "metadata['overview'].head()"
   ],
   "metadata": {
    "collapsed": false,
    "pycharm": {
     "name": "#%%\n"
    }
   }
  },
  {
   "cell_type": "code",
   "execution_count": 15,
   "outputs": [
    {
     "data": {
      "text/plain": "(45466, 75827)"
     },
     "execution_count": 15,
     "metadata": {},
     "output_type": "execute_result"
    }
   ],
   "source": [
    "#Import TfIdfVectorizer from scikit-learn\n",
    "from sklearn.feature_extraction.text import TfidfVectorizer\n",
    "\n",
    "#Define a TF-IDF Vectorizer Object. Remove all english stop words such as 'the', 'a'\n",
    "tfidf = TfidfVectorizer(stop_words='english')\n",
    "\n",
    "#Replace NaN with an empty string\n",
    "metadata['overview'] = metadata['overview'].fillna('')\n",
    "\n",
    "#Construct the required TF-IDF matrix by fitting and transforming the data\n",
    "tfidf_matrix = tfidf.fit_transform(metadata['overview'])\n",
    "\n",
    "#Output the shape of tfidf_matrix\n",
    "tfidf_matrix.shape"
   ],
   "metadata": {
    "collapsed": false,
    "pycharm": {
     "name": "#%%\n"
    }
   }
  },
  {
   "cell_type": "code",
   "execution_count": 16,
   "outputs": [
    {
     "name": "stderr",
     "output_type": "stream",
     "text": [
      "/opt/homebrew/Caskroom/miniforge/base/envs/regular/lib/python3.9/site-packages/sklearn/utils/deprecation.py:87: FutureWarning: Function get_feature_names is deprecated; get_feature_names is deprecated in 1.0 and will be removed in 1.2. Please use get_feature_names_out instead.\n",
      "  warnings.warn(msg, category=FutureWarning)\n"
     ]
    },
    {
     "data": {
      "text/plain": "['avails',\n 'avaks',\n 'avalanche',\n 'avalanches',\n 'avallone',\n 'avalon',\n 'avant',\n 'avanthika',\n 'avanti',\n 'avaracious']"
     },
     "execution_count": 16,
     "metadata": {},
     "output_type": "execute_result"
    }
   ],
   "source": [
    "#Array mapping from feature integer indices to feature name.\n",
    "tfidf.get_feature_names()[5000:5010]"
   ],
   "metadata": {
    "collapsed": false,
    "pycharm": {
     "name": "#%%\n"
    }
   }
  },
  {
   "cell_type": "code",
   "execution_count": 17,
   "outputs": [],
   "source": [
    "# Import linear_kernel\n",
    "from sklearn.metrics.pairwise import linear_kernel\n",
    "\n",
    "# Compute the cosine similarity matrix\n",
    "cosine_sim = linear_kernel(tfidf_matrix, tfidf_matrix)"
   ],
   "metadata": {
    "collapsed": false,
    "pycharm": {
     "name": "#%%\n"
    }
   }
  },
  {
   "cell_type": "code",
   "execution_count": 18,
   "outputs": [
    {
     "data": {
      "text/plain": "(45466, 45466)"
     },
     "execution_count": 18,
     "metadata": {},
     "output_type": "execute_result"
    }
   ],
   "source": [
    "cosine_sim.shape"
   ],
   "metadata": {
    "collapsed": false,
    "pycharm": {
     "name": "#%%\n"
    }
   }
  },
  {
   "cell_type": "code",
   "execution_count": 19,
   "outputs": [
    {
     "data": {
      "text/plain": "array([0.01504121, 1.        , 0.04681953, ..., 0.        , 0.02198641,\n       0.00929411])"
     },
     "execution_count": 19,
     "metadata": {},
     "output_type": "execute_result"
    }
   ],
   "source": [
    "cosine_sim[1]"
   ],
   "metadata": {
    "collapsed": false,
    "pycharm": {
     "name": "#%%\n"
    }
   }
  },
  {
   "cell_type": "code",
   "execution_count": 20,
   "outputs": [],
   "source": [
    "indices = pd.Series(metadata.index, index=metadata['title']).drop_duplicates()"
   ],
   "metadata": {
    "collapsed": false,
    "pycharm": {
     "name": "#%%\n"
    }
   }
  },
  {
   "cell_type": "code",
   "execution_count": 21,
   "outputs": [
    {
     "data": {
      "text/plain": "title\nToy Story                          0\nJumanji                            1\nGrumpier Old Men                   2\nWaiting to Exhale                  3\nFather of the Bride Part II        4\n                               ...  \nSubdue                         45461\nCentury of Birthing            45462\nBetrayal                       45463\nSatan Triumphant               45464\nQueerama                       45465\nLength: 45466, dtype: int64"
     },
     "execution_count": 21,
     "metadata": {},
     "output_type": "execute_result"
    }
   ],
   "source": [
    "indices"
   ],
   "metadata": {
    "collapsed": false,
    "pycharm": {
     "name": "#%%\n"
    }
   }
  },
  {
   "cell_type": "code",
   "execution_count": 22,
   "outputs": [],
   "source": [
    "# Function that takes in movie title as input and outputs most similar movies\n",
    "def get_recommendations(title, cosine_sim=cosine_sim):\n",
    "    # Get the index of the movie that matches the title\n",
    "    idx = indices[title]\n",
    "\n",
    "    # Get the pairwsie similarity scores of all movies with that movie\n",
    "    sim_scores = list(enumerate(cosine_sim[idx]))\n",
    "\n",
    "    # Sort the movies based on the similarity scores\n",
    "    sim_scores = sorted(sim_scores, key=lambda x: x[1], reverse=True)\n",
    "\n",
    "    # Get the scores of the 10 most similar movies\n",
    "    sim_scores = sim_scores[1:11]\n",
    "\n",
    "    # Get the movie indices\n",
    "    movie_indices = [i[0] for i in sim_scores]\n",
    "\n",
    "    # Return the top 10 most similar movies\n",
    "    return metadata['title'].iloc[movie_indices]"
   ],
   "metadata": {
    "collapsed": false,
    "pycharm": {
     "name": "#%%\n"
    }
   }
  },
  {
   "cell_type": "code",
   "execution_count": 23,
   "outputs": [
    {
     "data": {
      "text/plain": "12481                                      The Dark Knight\n150                                         Batman Forever\n1328                                        Batman Returns\n15511                           Batman: Under the Red Hood\n585                                                 Batman\n21194    Batman Unmasked: The Psychology of the Dark Kn...\n9230                    Batman Beyond: Return of the Joker\n18035                                     Batman: Year One\n19792              Batman: The Dark Knight Returns, Part 1\n3095                          Batman: Mask of the Phantasm\nName: title, dtype: object"
     },
     "execution_count": 23,
     "metadata": {},
     "output_type": "execute_result"
    }
   ],
   "source": [
    "get_recommendations('The Dark Knight Rises')"
   ],
   "metadata": {
    "collapsed": false,
    "pycharm": {
     "name": "#%%\n"
    }
   }
  },
  {
   "cell_type": "code",
   "execution_count": 24,
   "outputs": [
    {
     "data": {
      "text/plain": "1178               The Godfather: Part II\n44030    The Godfather Trilogy: 1972-1990\n1914              The Godfather: Part III\n23126                          Blood Ties\n11297                    Household Saints\n34717                   Start Liquidation\n10821                            Election\n38030            A Mother Should Be Loved\n17729                   Short Sharp Shock\n26293                  Beck 28 - Familjen\nName: title, dtype: object"
     },
     "execution_count": 24,
     "metadata": {},
     "output_type": "execute_result"
    }
   ],
   "source": [
    "get_recommendations('The Godfather')"
   ],
   "metadata": {
    "collapsed": false,
    "pycharm": {
     "name": "#%%\n"
    }
   }
  },
  {
   "cell_type": "code",
   "execution_count": 25,
   "outputs": [],
   "source": [
    "# Load keywords and credits\n",
    "credits = pd.read_csv('data/archive/credits.csv')\n",
    "keywords = pd.read_csv('data/archive/keywords.csv')\n",
    "\n",
    "# Remove rows with bad IDs.\n",
    "metadata = metadata.drop([19730, 29503, 35587])\n",
    "\n",
    "# Convert IDs to int. Required for merging\n",
    "keywords['id'] = keywords['id'].astype('int')\n",
    "credits['id'] = credits['id'].astype('int')\n",
    "metadata['id'] = metadata['id'].astype('int')\n",
    "\n",
    "# Merge keywords and credits into your main metadata dataframe\n",
    "metadata = metadata.merge(credits, on='id')\n",
    "metadata = metadata.merge(keywords, on='id')"
   ],
   "metadata": {
    "collapsed": false,
    "pycharm": {
     "name": "#%%\n"
    }
   }
  },
  {
   "cell_type": "code",
   "execution_count": 26,
   "outputs": [
    {
     "data": {
      "text/plain": "       adult                              belongs_to_collection    budget  \\\n0      False  {'id': 10194, 'name': 'Toy Story Collection', ...  30000000   \n1      False                                                NaN  65000000   \n2      False  {'id': 119050, 'name': 'Grumpy Old Men Collect...         0   \n3      False                                                NaN  16000000   \n4      False  {'id': 96871, 'name': 'Father of the Bride Col...         0   \n...      ...                                                ...       ...   \n46623  False                                                NaN         0   \n46624  False                                                NaN         0   \n46625  False                                                NaN         0   \n46626  False                                                NaN         0   \n46627  False                                                NaN         0   \n\n                                                  genres  \\\n0      [{'id': 16, 'name': 'Animation'}, {'id': 35, '...   \n1      [{'id': 12, 'name': 'Adventure'}, {'id': 14, '...   \n2      [{'id': 10749, 'name': 'Romance'}, {'id': 35, ...   \n3      [{'id': 35, 'name': 'Comedy'}, {'id': 18, 'nam...   \n4                         [{'id': 35, 'name': 'Comedy'}]   \n...                                                  ...   \n46623  [{'id': 18, 'name': 'Drama'}, {'id': 10751, 'n...   \n46624                      [{'id': 18, 'name': 'Drama'}]   \n46625  [{'id': 28, 'name': 'Action'}, {'id': 18, 'nam...   \n46626                                                 []   \n46627                                                 []   \n\n                                   homepage      id    imdb_id  \\\n0      http://toystory.disney.com/toy-story     862  tt0114709   \n1                                       NaN    8844  tt0113497   \n2                                       NaN   15602  tt0113228   \n3                                       NaN   31357  tt0114885   \n4                                       NaN   11862  tt0113041   \n...                                     ...     ...        ...   \n46623  http://www.imdb.com/title/tt6209470/  439050  tt6209470   \n46624                                   NaN  111109  tt2028550   \n46625                                   NaN   67758  tt0303758   \n46626                                   NaN  227506  tt0008536   \n46627                                   NaN  461257  tt6980792   \n\n      original_language               original_title  \\\n0                    en                    Toy Story   \n1                    en                      Jumanji   \n2                    en             Grumpier Old Men   \n3                    en            Waiting to Exhale   \n4                    en  Father of the Bride Part II   \n...                 ...                          ...   \n46623                fa                      رگ خواب   \n46624                tl          Siglo ng Pagluluwal   \n46625                en                     Betrayal   \n46626                en          Satana likuyushchiy   \n46627                en                     Queerama   \n\n                                                overview  ...  \\\n0      Led by Woody, Andy's toys live happily in his ...  ...   \n1      When siblings Judy and Peter discover an encha...  ...   \n2      A family wedding reignites the ancient feud be...  ...   \n3      Cheated on, mistreated and stepped on, the wom...  ...   \n4      Just when George Banks has recovered from his ...  ...   \n...                                                  ...  ...   \n46623        Rising and falling between a man and woman.  ...   \n46624  An artist struggles to finish his work while a...  ...   \n46625  When one of her hits goes wrong, a professiona...  ...   \n46626  In a small town live two brothers, one a minis...  ...   \n46627  50 years after decriminalisation of homosexual...  ...   \n\n                                        spoken_languages    status  \\\n0               [{'iso_639_1': 'en', 'name': 'English'}]  Released   \n1      [{'iso_639_1': 'en', 'name': 'English'}, {'iso...  Released   \n2               [{'iso_639_1': 'en', 'name': 'English'}]  Released   \n3               [{'iso_639_1': 'en', 'name': 'English'}]  Released   \n4               [{'iso_639_1': 'en', 'name': 'English'}]  Released   \n...                                                  ...       ...   \n46623             [{'iso_639_1': 'fa', 'name': 'فارسی'}]  Released   \n46624                  [{'iso_639_1': 'tl', 'name': ''}]  Released   \n46625           [{'iso_639_1': 'en', 'name': 'English'}]  Released   \n46626                                                 []  Released   \n46627           [{'iso_639_1': 'en', 'name': 'English'}]  Released   \n\n                                                 tagline  \\\n0                                                    NaN   \n1              Roll the dice and unleash the excitement!   \n2      Still Yelling. Still Fighting. Still Ready for...   \n3      Friends are the people who let you be yourself...   \n4      Just When His World Is Back To Normal... He's ...   \n...                                                  ...   \n46623         Rising and falling between a man and woman   \n46624                                                NaN   \n46625                             A deadly game of wits.   \n46626                                                NaN   \n46627                                                NaN   \n\n                             title  video  vote_average  vote_count  \\\n0                        Toy Story  False           7.7      5415.0   \n1                          Jumanji  False           6.9      2413.0   \n2                 Grumpier Old Men  False           6.5        92.0   \n3                Waiting to Exhale  False           6.1        34.0   \n4      Father of the Bride Part II  False           5.7       173.0   \n...                            ...    ...           ...         ...   \n46623                       Subdue  False           4.0         1.0   \n46624          Century of Birthing  False           9.0         3.0   \n46625                     Betrayal  False           3.8         6.0   \n46626             Satan Triumphant  False           0.0         0.0   \n46627                     Queerama  False           0.0         0.0   \n\n                                                    cast  \\\n0      [{'cast_id': 14, 'character': 'Woody (voice)',...   \n1      [{'cast_id': 1, 'character': 'Alan Parrish', '...   \n2      [{'cast_id': 2, 'character': 'Max Goldman', 'c...   \n3      [{'cast_id': 1, 'character': \"Savannah 'Vannah...   \n4      [{'cast_id': 1, 'character': 'George Banks', '...   \n...                                                  ...   \n46623  [{'cast_id': 0, 'character': '', 'credit_id': ...   \n46624  [{'cast_id': 1002, 'character': 'Sister Angela...   \n46625  [{'cast_id': 6, 'character': 'Emily Shaw', 'cr...   \n46626  [{'cast_id': 2, 'character': '', 'credit_id': ...   \n46627                                                 []   \n\n                                                    crew  \\\n0      [{'credit_id': '52fe4284c3a36847f8024f49', 'de...   \n1      [{'credit_id': '52fe44bfc3a36847f80a7cd1', 'de...   \n2      [{'credit_id': '52fe466a9251416c75077a89', 'de...   \n3      [{'credit_id': '52fe44779251416c91011acb', 'de...   \n4      [{'credit_id': '52fe44959251416c75039ed7', 'de...   \n...                                                  ...   \n46623  [{'credit_id': '5894a97d925141426c00818c', 'de...   \n46624  [{'credit_id': '52fe4af1c3a36847f81e9b15', 'de...   \n46625  [{'credit_id': '52fe4776c3a368484e0c8387', 'de...   \n46626  [{'credit_id': '533bccebc3a36844cf0011a7', 'de...   \n46627  [{'credit_id': '593e676c92514105b702e68e', 'de...   \n\n                                                keywords  \n0      [{'id': 931, 'name': 'jealousy'}, {'id': 4290,...  \n1      [{'id': 10090, 'name': 'board game'}, {'id': 1...  \n2      [{'id': 1495, 'name': 'fishing'}, {'id': 12392...  \n3      [{'id': 818, 'name': 'based on novel'}, {'id':...  \n4      [{'id': 1009, 'name': 'baby'}, {'id': 1599, 'n...  \n...                                                  ...  \n46623             [{'id': 10703, 'name': 'tragic love'}]  \n46624  [{'id': 2679, 'name': 'artist'}, {'id': 14531,...  \n46625                                                 []  \n46626                                                 []  \n46627                                                 []  \n\n[46628 rows x 27 columns]",
      "text/html": "<div>\n<style scoped>\n    .dataframe tbody tr th:only-of-type {\n        vertical-align: middle;\n    }\n\n    .dataframe tbody tr th {\n        vertical-align: top;\n    }\n\n    .dataframe thead th {\n        text-align: right;\n    }\n</style>\n<table border=\"1\" class=\"dataframe\">\n  <thead>\n    <tr style=\"text-align: right;\">\n      <th></th>\n      <th>adult</th>\n      <th>belongs_to_collection</th>\n      <th>budget</th>\n      <th>genres</th>\n      <th>homepage</th>\n      <th>id</th>\n      <th>imdb_id</th>\n      <th>original_language</th>\n      <th>original_title</th>\n      <th>overview</th>\n      <th>...</th>\n      <th>spoken_languages</th>\n      <th>status</th>\n      <th>tagline</th>\n      <th>title</th>\n      <th>video</th>\n      <th>vote_average</th>\n      <th>vote_count</th>\n      <th>cast</th>\n      <th>crew</th>\n      <th>keywords</th>\n    </tr>\n  </thead>\n  <tbody>\n    <tr>\n      <th>0</th>\n      <td>False</td>\n      <td>{'id': 10194, 'name': 'Toy Story Collection', ...</td>\n      <td>30000000</td>\n      <td>[{'id': 16, 'name': 'Animation'}, {'id': 35, '...</td>\n      <td>http://toystory.disney.com/toy-story</td>\n      <td>862</td>\n      <td>tt0114709</td>\n      <td>en</td>\n      <td>Toy Story</td>\n      <td>Led by Woody, Andy's toys live happily in his ...</td>\n      <td>...</td>\n      <td>[{'iso_639_1': 'en', 'name': 'English'}]</td>\n      <td>Released</td>\n      <td>NaN</td>\n      <td>Toy Story</td>\n      <td>False</td>\n      <td>7.7</td>\n      <td>5415.0</td>\n      <td>[{'cast_id': 14, 'character': 'Woody (voice)',...</td>\n      <td>[{'credit_id': '52fe4284c3a36847f8024f49', 'de...</td>\n      <td>[{'id': 931, 'name': 'jealousy'}, {'id': 4290,...</td>\n    </tr>\n    <tr>\n      <th>1</th>\n      <td>False</td>\n      <td>NaN</td>\n      <td>65000000</td>\n      <td>[{'id': 12, 'name': 'Adventure'}, {'id': 14, '...</td>\n      <td>NaN</td>\n      <td>8844</td>\n      <td>tt0113497</td>\n      <td>en</td>\n      <td>Jumanji</td>\n      <td>When siblings Judy and Peter discover an encha...</td>\n      <td>...</td>\n      <td>[{'iso_639_1': 'en', 'name': 'English'}, {'iso...</td>\n      <td>Released</td>\n      <td>Roll the dice and unleash the excitement!</td>\n      <td>Jumanji</td>\n      <td>False</td>\n      <td>6.9</td>\n      <td>2413.0</td>\n      <td>[{'cast_id': 1, 'character': 'Alan Parrish', '...</td>\n      <td>[{'credit_id': '52fe44bfc3a36847f80a7cd1', 'de...</td>\n      <td>[{'id': 10090, 'name': 'board game'}, {'id': 1...</td>\n    </tr>\n    <tr>\n      <th>2</th>\n      <td>False</td>\n      <td>{'id': 119050, 'name': 'Grumpy Old Men Collect...</td>\n      <td>0</td>\n      <td>[{'id': 10749, 'name': 'Romance'}, {'id': 35, ...</td>\n      <td>NaN</td>\n      <td>15602</td>\n      <td>tt0113228</td>\n      <td>en</td>\n      <td>Grumpier Old Men</td>\n      <td>A family wedding reignites the ancient feud be...</td>\n      <td>...</td>\n      <td>[{'iso_639_1': 'en', 'name': 'English'}]</td>\n      <td>Released</td>\n      <td>Still Yelling. Still Fighting. Still Ready for...</td>\n      <td>Grumpier Old Men</td>\n      <td>False</td>\n      <td>6.5</td>\n      <td>92.0</td>\n      <td>[{'cast_id': 2, 'character': 'Max Goldman', 'c...</td>\n      <td>[{'credit_id': '52fe466a9251416c75077a89', 'de...</td>\n      <td>[{'id': 1495, 'name': 'fishing'}, {'id': 12392...</td>\n    </tr>\n    <tr>\n      <th>3</th>\n      <td>False</td>\n      <td>NaN</td>\n      <td>16000000</td>\n      <td>[{'id': 35, 'name': 'Comedy'}, {'id': 18, 'nam...</td>\n      <td>NaN</td>\n      <td>31357</td>\n      <td>tt0114885</td>\n      <td>en</td>\n      <td>Waiting to Exhale</td>\n      <td>Cheated on, mistreated and stepped on, the wom...</td>\n      <td>...</td>\n      <td>[{'iso_639_1': 'en', 'name': 'English'}]</td>\n      <td>Released</td>\n      <td>Friends are the people who let you be yourself...</td>\n      <td>Waiting to Exhale</td>\n      <td>False</td>\n      <td>6.1</td>\n      <td>34.0</td>\n      <td>[{'cast_id': 1, 'character': \"Savannah 'Vannah...</td>\n      <td>[{'credit_id': '52fe44779251416c91011acb', 'de...</td>\n      <td>[{'id': 818, 'name': 'based on novel'}, {'id':...</td>\n    </tr>\n    <tr>\n      <th>4</th>\n      <td>False</td>\n      <td>{'id': 96871, 'name': 'Father of the Bride Col...</td>\n      <td>0</td>\n      <td>[{'id': 35, 'name': 'Comedy'}]</td>\n      <td>NaN</td>\n      <td>11862</td>\n      <td>tt0113041</td>\n      <td>en</td>\n      <td>Father of the Bride Part II</td>\n      <td>Just when George Banks has recovered from his ...</td>\n      <td>...</td>\n      <td>[{'iso_639_1': 'en', 'name': 'English'}]</td>\n      <td>Released</td>\n      <td>Just When His World Is Back To Normal... He's ...</td>\n      <td>Father of the Bride Part II</td>\n      <td>False</td>\n      <td>5.7</td>\n      <td>173.0</td>\n      <td>[{'cast_id': 1, 'character': 'George Banks', '...</td>\n      <td>[{'credit_id': '52fe44959251416c75039ed7', 'de...</td>\n      <td>[{'id': 1009, 'name': 'baby'}, {'id': 1599, 'n...</td>\n    </tr>\n    <tr>\n      <th>...</th>\n      <td>...</td>\n      <td>...</td>\n      <td>...</td>\n      <td>...</td>\n      <td>...</td>\n      <td>...</td>\n      <td>...</td>\n      <td>...</td>\n      <td>...</td>\n      <td>...</td>\n      <td>...</td>\n      <td>...</td>\n      <td>...</td>\n      <td>...</td>\n      <td>...</td>\n      <td>...</td>\n      <td>...</td>\n      <td>...</td>\n      <td>...</td>\n      <td>...</td>\n      <td>...</td>\n    </tr>\n    <tr>\n      <th>46623</th>\n      <td>False</td>\n      <td>NaN</td>\n      <td>0</td>\n      <td>[{'id': 18, 'name': 'Drama'}, {'id': 10751, 'n...</td>\n      <td>http://www.imdb.com/title/tt6209470/</td>\n      <td>439050</td>\n      <td>tt6209470</td>\n      <td>fa</td>\n      <td>رگ خواب</td>\n      <td>Rising and falling between a man and woman.</td>\n      <td>...</td>\n      <td>[{'iso_639_1': 'fa', 'name': 'فارسی'}]</td>\n      <td>Released</td>\n      <td>Rising and falling between a man and woman</td>\n      <td>Subdue</td>\n      <td>False</td>\n      <td>4.0</td>\n      <td>1.0</td>\n      <td>[{'cast_id': 0, 'character': '', 'credit_id': ...</td>\n      <td>[{'credit_id': '5894a97d925141426c00818c', 'de...</td>\n      <td>[{'id': 10703, 'name': 'tragic love'}]</td>\n    </tr>\n    <tr>\n      <th>46624</th>\n      <td>False</td>\n      <td>NaN</td>\n      <td>0</td>\n      <td>[{'id': 18, 'name': 'Drama'}]</td>\n      <td>NaN</td>\n      <td>111109</td>\n      <td>tt2028550</td>\n      <td>tl</td>\n      <td>Siglo ng Pagluluwal</td>\n      <td>An artist struggles to finish his work while a...</td>\n      <td>...</td>\n      <td>[{'iso_639_1': 'tl', 'name': ''}]</td>\n      <td>Released</td>\n      <td>NaN</td>\n      <td>Century of Birthing</td>\n      <td>False</td>\n      <td>9.0</td>\n      <td>3.0</td>\n      <td>[{'cast_id': 1002, 'character': 'Sister Angela...</td>\n      <td>[{'credit_id': '52fe4af1c3a36847f81e9b15', 'de...</td>\n      <td>[{'id': 2679, 'name': 'artist'}, {'id': 14531,...</td>\n    </tr>\n    <tr>\n      <th>46625</th>\n      <td>False</td>\n      <td>NaN</td>\n      <td>0</td>\n      <td>[{'id': 28, 'name': 'Action'}, {'id': 18, 'nam...</td>\n      <td>NaN</td>\n      <td>67758</td>\n      <td>tt0303758</td>\n      <td>en</td>\n      <td>Betrayal</td>\n      <td>When one of her hits goes wrong, a professiona...</td>\n      <td>...</td>\n      <td>[{'iso_639_1': 'en', 'name': 'English'}]</td>\n      <td>Released</td>\n      <td>A deadly game of wits.</td>\n      <td>Betrayal</td>\n      <td>False</td>\n      <td>3.8</td>\n      <td>6.0</td>\n      <td>[{'cast_id': 6, 'character': 'Emily Shaw', 'cr...</td>\n      <td>[{'credit_id': '52fe4776c3a368484e0c8387', 'de...</td>\n      <td>[]</td>\n    </tr>\n    <tr>\n      <th>46626</th>\n      <td>False</td>\n      <td>NaN</td>\n      <td>0</td>\n      <td>[]</td>\n      <td>NaN</td>\n      <td>227506</td>\n      <td>tt0008536</td>\n      <td>en</td>\n      <td>Satana likuyushchiy</td>\n      <td>In a small town live two brothers, one a minis...</td>\n      <td>...</td>\n      <td>[]</td>\n      <td>Released</td>\n      <td>NaN</td>\n      <td>Satan Triumphant</td>\n      <td>False</td>\n      <td>0.0</td>\n      <td>0.0</td>\n      <td>[{'cast_id': 2, 'character': '', 'credit_id': ...</td>\n      <td>[{'credit_id': '533bccebc3a36844cf0011a7', 'de...</td>\n      <td>[]</td>\n    </tr>\n    <tr>\n      <th>46627</th>\n      <td>False</td>\n      <td>NaN</td>\n      <td>0</td>\n      <td>[]</td>\n      <td>NaN</td>\n      <td>461257</td>\n      <td>tt6980792</td>\n      <td>en</td>\n      <td>Queerama</td>\n      <td>50 years after decriminalisation of homosexual...</td>\n      <td>...</td>\n      <td>[{'iso_639_1': 'en', 'name': 'English'}]</td>\n      <td>Released</td>\n      <td>NaN</td>\n      <td>Queerama</td>\n      <td>False</td>\n      <td>0.0</td>\n      <td>0.0</td>\n      <td>[]</td>\n      <td>[{'credit_id': '593e676c92514105b702e68e', 'de...</td>\n      <td>[]</td>\n    </tr>\n  </tbody>\n</table>\n<p>46628 rows × 27 columns</p>\n</div>"
     },
     "execution_count": 26,
     "metadata": {},
     "output_type": "execute_result"
    }
   ],
   "source": [
    "metadata"
   ],
   "metadata": {
    "collapsed": false,
    "pycharm": {
     "name": "#%%\n"
    }
   }
  },
  {
   "cell_type": "code",
   "execution_count": 27,
   "outputs": [],
   "source": [
    "# Parse the stringified features into their corresponding python objects\n",
    "from ast import literal_eval\n",
    "\n",
    "features = ['cast', 'crew', 'keywords', 'genres']\n",
    "for feature in features:\n",
    "    metadata[feature] = metadata[feature].apply(literal_eval)"
   ],
   "metadata": {
    "collapsed": false,
    "pycharm": {
     "name": "#%%\n"
    }
   }
  },
  {
   "cell_type": "code",
   "execution_count": 28,
   "outputs": [],
   "source": [
    "# Import Numpy\n",
    "import numpy as np"
   ],
   "metadata": {
    "collapsed": false,
    "pycharm": {
     "name": "#%%\n"
    }
   }
  },
  {
   "cell_type": "code",
   "execution_count": 29,
   "outputs": [],
   "source": [
    "def get_director(x):\n",
    "    for i in x:\n",
    "        if i['job'] == 'Director':\n",
    "            return i['name']\n",
    "    return np.nan"
   ],
   "metadata": {
    "collapsed": false,
    "pycharm": {
     "name": "#%%\n"
    }
   }
  },
  {
   "cell_type": "code",
   "execution_count": 30,
   "outputs": [],
   "source": [
    "def get_list(x):\n",
    "    if isinstance(x, list):\n",
    "        names = [i['name'] for i in x]\n",
    "        #Check if more than 3 elements exist. If yes, return only first three. If no, return entire list.\n",
    "        if len(names) > 3:\n",
    "            names = names[:3]\n",
    "        return names\n",
    "\n",
    "    #Return empty list in case of missing/malformed data\n",
    "    return []"
   ],
   "metadata": {
    "collapsed": false,
    "pycharm": {
     "name": "#%%\n"
    }
   }
  },
  {
   "cell_type": "code",
   "execution_count": 31,
   "outputs": [],
   "source": [
    "# Define new director, cast, genres and keywords features that are in a suitable form.\n",
    "metadata['director'] = metadata['crew'].apply(get_director)\n",
    "\n",
    "features = ['cast', 'keywords', 'genres']\n",
    "for feature in features:\n",
    "    metadata[feature] = metadata[feature].apply(get_list)"
   ],
   "metadata": {
    "collapsed": false,
    "pycharm": {
     "name": "#%%\n"
    }
   }
  },
  {
   "cell_type": "code",
   "execution_count": 32,
   "outputs": [
    {
     "data": {
      "text/plain": "              title                                            cast  \\\n0         Toy Story             [Tom Hanks, Tim Allen, Don Rickles]   \n1           Jumanji  [Robin Williams, Jonathan Hyde, Kirsten Dunst]   \n2  Grumpier Old Men      [Walter Matthau, Jack Lemmon, Ann-Margret]   \n\n        director                                           keywords  \\\n0  John Lasseter                               [jealousy, toy, boy]   \n1   Joe Johnston  [board game, disappearance, based on children'...   \n2  Howard Deutch       [fishing, best friend, duringcreditsstinger]   \n\n                         genres  \n0   [Animation, Comedy, Family]  \n1  [Adventure, Fantasy, Family]  \n2             [Romance, Comedy]  ",
      "text/html": "<div>\n<style scoped>\n    .dataframe tbody tr th:only-of-type {\n        vertical-align: middle;\n    }\n\n    .dataframe tbody tr th {\n        vertical-align: top;\n    }\n\n    .dataframe thead th {\n        text-align: right;\n    }\n</style>\n<table border=\"1\" class=\"dataframe\">\n  <thead>\n    <tr style=\"text-align: right;\">\n      <th></th>\n      <th>title</th>\n      <th>cast</th>\n      <th>director</th>\n      <th>keywords</th>\n      <th>genres</th>\n    </tr>\n  </thead>\n  <tbody>\n    <tr>\n      <th>0</th>\n      <td>Toy Story</td>\n      <td>[Tom Hanks, Tim Allen, Don Rickles]</td>\n      <td>John Lasseter</td>\n      <td>[jealousy, toy, boy]</td>\n      <td>[Animation, Comedy, Family]</td>\n    </tr>\n    <tr>\n      <th>1</th>\n      <td>Jumanji</td>\n      <td>[Robin Williams, Jonathan Hyde, Kirsten Dunst]</td>\n      <td>Joe Johnston</td>\n      <td>[board game, disappearance, based on children'...</td>\n      <td>[Adventure, Fantasy, Family]</td>\n    </tr>\n    <tr>\n      <th>2</th>\n      <td>Grumpier Old Men</td>\n      <td>[Walter Matthau, Jack Lemmon, Ann-Margret]</td>\n      <td>Howard Deutch</td>\n      <td>[fishing, best friend, duringcreditsstinger]</td>\n      <td>[Romance, Comedy]</td>\n    </tr>\n  </tbody>\n</table>\n</div>"
     },
     "execution_count": 32,
     "metadata": {},
     "output_type": "execute_result"
    }
   ],
   "source": [
    "# Print the new features of the first 3 films\n",
    "metadata[['title', 'cast', 'director', 'keywords', 'genres']].head(3)"
   ],
   "metadata": {
    "collapsed": false,
    "pycharm": {
     "name": "#%%\n"
    }
   }
  },
  {
   "cell_type": "code",
   "execution_count": 33,
   "outputs": [],
   "source": [
    "# Function to convert all strings to lower case and strip names of spaces\n",
    "def clean_data(x):\n",
    "    if isinstance(x, list):\n",
    "        return [str.lower(i.replace(\" \", \"\")) for i in x]\n",
    "    else:\n",
    "        #Check if director exists. If not, return empty string\n",
    "        if isinstance(x, str):\n",
    "            return str.lower(x.replace(\" \", \"\"))\n",
    "        else:\n",
    "            return ''"
   ],
   "metadata": {
    "collapsed": false,
    "pycharm": {
     "name": "#%%\n"
    }
   }
  },
  {
   "cell_type": "code",
   "execution_count": 34,
   "outputs": [],
   "source": [
    "# Apply clean_data function to your features.\n",
    "features = ['cast', 'keywords', 'director', 'genres']\n",
    "\n",
    "for feature in features:\n",
    "    metadata[feature] = metadata[feature].apply(clean_data)"
   ],
   "metadata": {
    "collapsed": false,
    "pycharm": {
     "name": "#%%\n"
    }
   }
  },
  {
   "cell_type": "code",
   "execution_count": 35,
   "outputs": [],
   "source": [
    "def create_soup(x):\n",
    "    return ' '.join(x['keywords']) + ' ' + ' '.join(x['cast']) + ' ' + x['director'] + ' ' + ' '.join(x['genres'])"
   ],
   "metadata": {
    "collapsed": false,
    "pycharm": {
     "name": "#%%\n"
    }
   }
  },
  {
   "cell_type": "code",
   "execution_count": 36,
   "outputs": [],
   "source": [
    "# Create a new soup feature\n",
    "metadata['soup'] = metadata.apply(create_soup, axis=1)"
   ],
   "metadata": {
    "collapsed": false,
    "pycharm": {
     "name": "#%%\n"
    }
   }
  },
  {
   "cell_type": "code",
   "execution_count": 37,
   "outputs": [
    {
     "data": {
      "text/plain": "                                                soup\n0  jealousy toy boy tomhanks timallen donrickles ...\n1  boardgame disappearance basedonchildren'sbook ...",
      "text/html": "<div>\n<style scoped>\n    .dataframe tbody tr th:only-of-type {\n        vertical-align: middle;\n    }\n\n    .dataframe tbody tr th {\n        vertical-align: top;\n    }\n\n    .dataframe thead th {\n        text-align: right;\n    }\n</style>\n<table border=\"1\" class=\"dataframe\">\n  <thead>\n    <tr style=\"text-align: right;\">\n      <th></th>\n      <th>soup</th>\n    </tr>\n  </thead>\n  <tbody>\n    <tr>\n      <th>0</th>\n      <td>jealousy toy boy tomhanks timallen donrickles ...</td>\n    </tr>\n    <tr>\n      <th>1</th>\n      <td>boardgame disappearance basedonchildren'sbook ...</td>\n    </tr>\n  </tbody>\n</table>\n</div>"
     },
     "execution_count": 37,
     "metadata": {},
     "output_type": "execute_result"
    }
   ],
   "source": [
    "metadata[['soup']].head(2)"
   ],
   "metadata": {
    "collapsed": false,
    "pycharm": {
     "name": "#%%\n"
    }
   }
  },
  {
   "cell_type": "code",
   "execution_count": 38,
   "outputs": [],
   "source": [
    "# Import CountVectorizer and create the count matrix\n",
    "from sklearn.feature_extraction.text import CountVectorizer\n",
    "\n",
    "count = CountVectorizer(stop_words='english')\n",
    "count_matrix = count.fit_transform(metadata['soup'])"
   ],
   "metadata": {
    "collapsed": false,
    "pycharm": {
     "name": "#%%\n"
    }
   }
  },
  {
   "cell_type": "code",
   "execution_count": 39,
   "outputs": [
    {
     "data": {
      "text/plain": "(46628, 73881)"
     },
     "execution_count": 39,
     "metadata": {},
     "output_type": "execute_result"
    }
   ],
   "source": [
    "count_matrix.shape"
   ],
   "metadata": {
    "collapsed": false,
    "pycharm": {
     "name": "#%%\n"
    }
   }
  },
  {
   "cell_type": "code",
   "execution_count": 40,
   "outputs": [],
   "source": [
    "# Compute the Cosine Similarity matrix based on the count_matrix\n",
    "from sklearn.metrics.pairwise import cosine_similarity\n",
    "\n",
    "cosine_sim2 = cosine_similarity(count_matrix, count_matrix)"
   ],
   "metadata": {
    "collapsed": false,
    "pycharm": {
     "name": "#%%\n"
    }
   }
  },
  {
   "cell_type": "code",
   "execution_count": 41,
   "outputs": [],
   "source": [
    "# Reset index of your main DataFrame and construct reverse mapping as before\n",
    "metadata = metadata.reset_index()\n",
    "indices = pd.Series(metadata.index, index=metadata['title'])"
   ],
   "metadata": {
    "collapsed": false,
    "pycharm": {
     "name": "#%%\n"
    }
   }
  },
  {
   "cell_type": "code",
   "execution_count": 42,
   "outputs": [
    {
     "data": {
      "text/plain": "12589      The Dark Knight\n10210        Batman Begins\n9311                Shiner\n9874       Amongst Friends\n7772              Mitchell\n516      Romeo Is Bleeding\n11463         The Prestige\n24090            Quicksand\n25038             Deadfall\n41063                 Sara\nName: title, dtype: object"
     },
     "execution_count": 42,
     "metadata": {},
     "output_type": "execute_result"
    }
   ],
   "source": [
    "get_recommendations('The Dark Knight Rises', cosine_sim2)"
   ],
   "metadata": {
    "collapsed": false,
    "pycharm": {
     "name": "#%%\n"
    }
   }
  },
  {
   "cell_type": "code",
   "execution_count": 43,
   "outputs": [
    {
     "data": {
      "text/plain": "1934            The Godfather: Part III\n1199             The Godfather: Part II\n15609                   The Rain People\n18940                         Last Exit\n34488                              Rege\n35802            Manuscripts Don't Burn\n35803            Manuscripts Don't Burn\n8001     The Night of the Following Day\n18261                 The Son of No One\n28683            In the Name of the Law\nName: title, dtype: object"
     },
     "execution_count": 43,
     "metadata": {},
     "output_type": "execute_result"
    }
   ],
   "source": [
    "get_recommendations('The Godfather', cosine_sim2)"
   ],
   "metadata": {
    "collapsed": false,
    "pycharm": {
     "name": "#%%\n"
    }
   }
  },
  {
   "cell_type": "code",
   "execution_count": null,
   "outputs": [],
   "source": [],
   "metadata": {
    "collapsed": false,
    "pycharm": {
     "name": "#%%\n"
    }
   }
  }
 ],
 "metadata": {
  "kernelspec": {
   "display_name": "Python 3",
   "language": "python",
   "name": "python3"
  },
  "language_info": {
   "codemirror_mode": {
    "name": "ipython",
    "version": 2
   },
   "file_extension": ".py",
   "mimetype": "text/x-python",
   "name": "python",
   "nbconvert_exporter": "python",
   "pygments_lexer": "ipython2",
   "version": "2.7.6"
  }
 },
 "nbformat": 4,
 "nbformat_minor": 0
}